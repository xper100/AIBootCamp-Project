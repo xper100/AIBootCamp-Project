{
  "nbformat": 4,
  "nbformat_minor": 0,
  "metadata": {
    "accelerator": "GPU",
    "colab": {
      "name": "[section4-Project] 다중감정분석을 통한 심리파악",
      "provenance": [],
      "collapsed_sections": [],
      "toc_visible": true,
      "mount_file_id": "1EqVWgwwkORjsRicajJwwI8LpgmKHi-oD",
      "authorship_tag": "ABX9TyORFOc4lGovmrfM8fqURwBF",
      "include_colab_link": true
    },
    "kernelspec": {
      "display_name": "Python 3",
      "name": "python3"
    },
    "language_info": {
      "name": "python"
    }
  },
  "cells": [
    {
      "cell_type": "markdown",
      "metadata": {
        "id": "view-in-github",
        "colab_type": "text"
      },
      "source": [
        "<a href=\"https://colab.research.google.com/github/xper100/AIBootCamp-Project/blob/master/%5Bsection4_Project%5D_%EB%8B%A4%EC%A4%91%EA%B0%90%EC%A0%95%EB%B6%84%EC%84%9D%EC%9D%84_%ED%86%B5%ED%95%9C_%EC%8B%AC%EB%A6%AC%ED%8C%8C%EC%95%85.ipynb\" target=\"_parent\"><img src=\"https://colab.research.google.com/assets/colab-badge.svg\" alt=\"Open In Colab\"/></a>"
      ]
    },
    {
      "cell_type": "markdown",
      "metadata": {
        "id": "k2VS0tQPFscd"
      },
      "source": [
        "\n",
        "# 목적\n",
        "\n",
        "- **최종목적**: \n",
        "\n",
        "  다중감정분류를 활용한 맞춤 서비스 및 제품 추천 서비스 개발\n",
        "\n",
        "- **이번 프로젝트의 목적**:\n",
        "\n",
        "  최종목적의 첫 단계인 세그먼트작업 수행\n",
        "\n",
        "\n",
        "# 동기부여\n",
        "\n",
        "현대인의 있어서 우울증과 같은 정신질환들이 점차 심각해지는 것을 볼 수 있음\n",
        "\n",
        "하지만, 정신질환에 대한 인식이 안좋아 심리상담을 통해 치료를 받지 못하는 경우가 많음\n",
        "\n",
        "대화를 통해 현대인의 정신건강을 증진시킬 수 있는 방안을 찾고자 함"
      ]
    },
    {
      "cell_type": "markdown",
      "metadata": {
        "id": "WupXdeypJhvx"
      },
      "source": [
        "# 프로젝트 활용방안\n",
        "\n",
        "  - 대화를 통한 스트레스 지수, 우울증 지수 등의 정신감정을 받아 위험성을 인지하는데 도울 수 있음 (헬스케어 관련 서비스)\n",
        "\n",
        "  - 정신질환 유무를 쉽게 판단하여 질환으로서 받아들이고 치료를 받을 수 있게 도움\n",
        "\n",
        "  - 상담이 어려운 사람에게는 심리안정에 도움이 될 수 있는 제품 추천 (티, 운동, 음식 등)\n",
        "\n"
      ]
    },
    {
      "cell_type": "markdown",
      "metadata": {
        "id": "ql599uNclmBy"
      },
      "source": [
        "# 데이터 설명\n",
        "\n",
        "1. 약 28만개의 데이터를 가지고 있으며 데이터마다 1~4개의 사람문장을 가지고 있으며 각각 시스템의 응답을 포함함\n",
        "\n",
        "2. 총 6개의 감정대분류 **`기쁨, 당황, 분노, 불안, 상처, 슬픔`**을 가짐\n",
        "\n",
        "3. 프로젝트에서는 감정대분류와 사람문장1만을 써서 분류모델에 쓰임\n",
        "\n"
      ]
    },
    {
      "cell_type": "markdown",
      "metadata": {
        "id": "Hq0YCSoUUfu-"
      },
      "source": [
        "# 데이터 업로드"
      ]
    },
    {
      "cell_type": "code",
      "metadata": {
        "id": "E_meW5WnzxQC"
      },
      "source": [
        "import re\n",
        "import string\n",
        "\n",
        "import numpy as np\n",
        "import pandas as pd\n",
        "import seaborn as sns\n",
        "import matplotlib.pyplot as plt"
      ],
      "execution_count": 1,
      "outputs": []
    },
    {
      "cell_type": "code",
      "metadata": {
        "colab": {
          "base_uri": "https://localhost:8080/",
          "height": 204
        },
        "id": "ln2R9W-sUQxr",
        "outputId": "9761d90d-aa93-4695-8e4b-b857e4ed4231"
      },
      "source": [
        "def import_data(path = 'GD'):\n",
        "  # Local GPU \n",
        "  if path == 'Local':\n",
        "    path_train = './section4-project/감성대화/Training/감성대화말뭉치(최종데이터)_Training/감성대화말뭉치(최종데이터)_Training.xlsx'\n",
        "    path_val = './section4-project/감성대화/Validation/감성대화말뭉치(최종데이터)_Validation/감성대화말뭉치(최종데이터)_Validation.xlsx'\n",
        "  elif path == 'GD':\n",
        "    # Google Drive\n",
        "    path_train = '/content/drive/MyDrive/Colab Notebooks/AI부트캠프/Section 4/section4 - Project/말뭉치들/감성대화말뭉치(최종데이터)_Training.xlsx'\n",
        "    path_val = '/content/drive/MyDrive/Colab Notebooks/AI부트캠프/Section 4/section4 - Project/말뭉치들/감성대화말뭉치(최종데이터)_Validation.xlsx'\n",
        "\n",
        "\n",
        "  val = pd.read_excel(path_val)\n",
        "  train = pd.read_excel(path_train, sheet_name='287319')\n",
        "\n",
        "  # delete unnecessary columns\n",
        "  del_col = ['번호','신체질환','시스템응답1','시스템응답2','시스템응답3','사람문장3','사람문장4']\n",
        "  val.drop(del_col, axis = 1, inplace = True)\n",
        "  train.drop(del_col, axis = 1, inplace = True)\n",
        "  return val, train\n",
        "val, train = import_data(path = 'GD')  \n",
        "val.head()"
      ],
      "execution_count": 2,
      "outputs": [
        {
          "output_type": "execute_result",
          "data": {
            "text/html": [
              "<div>\n",
              "<style scoped>\n",
              "    .dataframe tbody tr th:only-of-type {\n",
              "        vertical-align: middle;\n",
              "    }\n",
              "\n",
              "    .dataframe tbody tr th {\n",
              "        vertical-align: top;\n",
              "    }\n",
              "\n",
              "    .dataframe thead th {\n",
              "        text-align: right;\n",
              "    }\n",
              "</style>\n",
              "<table border=\"1\" class=\"dataframe\">\n",
              "  <thead>\n",
              "    <tr style=\"text-align: right;\">\n",
              "      <th></th>\n",
              "      <th>연령</th>\n",
              "      <th>성별</th>\n",
              "      <th>상황키워드</th>\n",
              "      <th>감정_대분류</th>\n",
              "      <th>감정_소분류</th>\n",
              "      <th>사람문장1</th>\n",
              "      <th>사람문장2</th>\n",
              "      <th>시스템응답4</th>\n",
              "    </tr>\n",
              "  </thead>\n",
              "  <tbody>\n",
              "    <tr>\n",
              "      <th>0</th>\n",
              "      <td>청년</td>\n",
              "      <td>여성</td>\n",
              "      <td>진로, 취업, 직장</td>\n",
              "      <td>분노</td>\n",
              "      <td>툴툴대는</td>\n",
              "      <td>요즘 부모님과 많이 부딪혀.</td>\n",
              "      <td>난 하고 싶은 일이 있는데 부모님은 안정적인 일만 하라고 하셔. 내 마음대로 하지도...</td>\n",
              "      <td>NaN</td>\n",
              "    </tr>\n",
              "    <tr>\n",
              "      <th>1</th>\n",
              "      <td>청소년</td>\n",
              "      <td>남성</td>\n",
              "      <td>가족관계</td>\n",
              "      <td>슬픔</td>\n",
              "      <td>비통한</td>\n",
              "      <td>엄마가 결국 집을 나갔어. 너무 너무 슬퍼.</td>\n",
              "      <td>엄마도 엄마만의 인생이 있을 테니 가지 말라고 할 수가 없었어. 그래서 더 마음이 ...</td>\n",
              "      <td>NaN</td>\n",
              "    </tr>\n",
              "    <tr>\n",
              "      <th>2</th>\n",
              "      <td>청소년</td>\n",
              "      <td>남성</td>\n",
              "      <td>학교폭력/따돌림</td>\n",
              "      <td>불안</td>\n",
              "      <td>조심스러운</td>\n",
              "      <td>학교에서 한 친구를 괴롭히는 무리에게 그만하라고 했어.</td>\n",
              "      <td>그런데 말을 하고 난 후 나도 괴롭힐까 봐 불안했어.</td>\n",
              "      <td>NaN</td>\n",
              "    </tr>\n",
              "    <tr>\n",
              "      <th>3</th>\n",
              "      <td>청년</td>\n",
              "      <td>남성</td>\n",
              "      <td>진로, 취업, 직장</td>\n",
              "      <td>당황</td>\n",
              "      <td>죄책감의</td>\n",
              "      <td>이번에 팀장님이 간단한 조사 업무를 부탁하셨는데 내가 잘못 처리했어. 너무 절망적이야.</td>\n",
              "      <td>곧 있으면 인턴에서 정규직 전환 평가가 있는데 안 좋을 것 같아.</td>\n",
              "      <td>NaN</td>\n",
              "    </tr>\n",
              "    <tr>\n",
              "      <th>4</th>\n",
              "      <td>중년</td>\n",
              "      <td>여성</td>\n",
              "      <td>재정, 은퇴, 노후준비</td>\n",
              "      <td>분노</td>\n",
              "      <td>노여워하는</td>\n",
              "      <td>남편이 이혼할 때 위자료를 주지 않으려고 변호사를 고용했어.</td>\n",
              "      <td>어떻게 그럴 수가 있지? 너무 화가 나.</td>\n",
              "      <td>NaN</td>\n",
              "    </tr>\n",
              "  </tbody>\n",
              "</table>\n",
              "</div>"
            ],
            "text/plain": [
              "    연령  성별  ...                                              사람문장2 시스템응답4\n",
              "0   청년  여성  ...  난 하고 싶은 일이 있는데 부모님은 안정적인 일만 하라고 하셔. 내 마음대로 하지도...    NaN\n",
              "1  청소년  남성  ...  엄마도 엄마만의 인생이 있을 테니 가지 말라고 할 수가 없었어. 그래서 더 마음이 ...    NaN\n",
              "2  청소년  남성  ...                      그런데 말을 하고 난 후 나도 괴롭힐까 봐 불안했어.    NaN\n",
              "3   청년  남성  ...               곧 있으면 인턴에서 정규직 전환 평가가 있는데 안 좋을 것 같아.    NaN\n",
              "4   중년  여성  ...                             어떻게 그럴 수가 있지? 너무 화가 나.    NaN\n",
              "\n",
              "[5 rows x 8 columns]"
            ]
          },
          "metadata": {
            "tags": []
          },
          "execution_count": 2
        }
      ]
    },
    {
      "cell_type": "code",
      "metadata": {
        "colab": {
          "base_uri": "https://localhost:8080/",
          "height": 306
        },
        "id": "zVL_KbH1XKN3",
        "outputId": "6c8ad003-0d7b-4962-c8c2-7efb19137ff2"
      },
      "source": [
        "train.head()"
      ],
      "execution_count": 3,
      "outputs": [
        {
          "output_type": "execute_result",
          "data": {
            "text/html": [
              "<div>\n",
              "<style scoped>\n",
              "    .dataframe tbody tr th:only-of-type {\n",
              "        vertical-align: middle;\n",
              "    }\n",
              "\n",
              "    .dataframe tbody tr th {\n",
              "        vertical-align: top;\n",
              "    }\n",
              "\n",
              "    .dataframe thead th {\n",
              "        text-align: right;\n",
              "    }\n",
              "</style>\n",
              "<table border=\"1\" class=\"dataframe\">\n",
              "  <thead>\n",
              "    <tr style=\"text-align: right;\">\n",
              "      <th></th>\n",
              "      <th>연령</th>\n",
              "      <th>성별</th>\n",
              "      <th>상황키워드</th>\n",
              "      <th>감정_대분류</th>\n",
              "      <th>감정_소분류</th>\n",
              "      <th>사람문장1</th>\n",
              "      <th>사람문장2</th>\n",
              "      <th>시스템응답4</th>\n",
              "    </tr>\n",
              "  </thead>\n",
              "  <tbody>\n",
              "    <tr>\n",
              "      <th>0</th>\n",
              "      <td>청년</td>\n",
              "      <td>남성</td>\n",
              "      <td>연애, 결혼, 출산</td>\n",
              "      <td>기쁨</td>\n",
              "      <td>신이 난</td>\n",
              "      <td>아내가 드디어 출산하게 되어서 정말 신이 나.</td>\n",
              "      <td>아 지금 정말 신이 나.</td>\n",
              "      <td>NaN</td>\n",
              "    </tr>\n",
              "    <tr>\n",
              "      <th>1</th>\n",
              "      <td>노년</td>\n",
              "      <td>남성</td>\n",
              "      <td>건강, 죽음</td>\n",
              "      <td>불안</td>\n",
              "      <td>스트레스 받는</td>\n",
              "      <td>당뇨랑 합병증 때문에 먹어야 할 약이 열 가지가 넘어가니까 스트레스야.</td>\n",
              "      <td>건강할 때 관리 좀 잘할걸 하는 생각이 들더라고.</td>\n",
              "      <td>NaN</td>\n",
              "    </tr>\n",
              "    <tr>\n",
              "      <th>2</th>\n",
              "      <td>청소년</td>\n",
              "      <td>여성</td>\n",
              "      <td>학업 및 진로</td>\n",
              "      <td>당황</td>\n",
              "      <td>당황</td>\n",
              "      <td>고등학교에 올라오니 중학교 때보다 수업이 갑자기 어려워져서 당황스러워.</td>\n",
              "      <td>아직 학기 초인데 내가 수업에 잘 따라갈 수 있을지 걱정돼.</td>\n",
              "      <td>열심히 해서 좋은 결과가 있었으면 좋겠어요.</td>\n",
              "    </tr>\n",
              "    <tr>\n",
              "      <th>3</th>\n",
              "      <td>노년</td>\n",
              "      <td>남성</td>\n",
              "      <td>재정</td>\n",
              "      <td>기쁨</td>\n",
              "      <td>신이 난</td>\n",
              "      <td>재취업이 돼서 받게 된 첫 월급으로 온 가족이 외식을 할 예정이야. 너무 행복해.</td>\n",
              "      <td>퇴직 후 다시는 돈을 못 벌 줄 알았는데 이렇게 월급으로 가족에게 맛있는 밥을 살 ...</td>\n",
              "      <td>NaN</td>\n",
              "    </tr>\n",
              "    <tr>\n",
              "      <th>4</th>\n",
              "      <td>노년</td>\n",
              "      <td>여성</td>\n",
              "      <td>재정</td>\n",
              "      <td>기쁨</td>\n",
              "      <td>안도</td>\n",
              "      <td>빚을 드디어 다 갚게 되어서 이제야 안도감이 들어.</td>\n",
              "      <td>빚도 다 갚았으니 당분간은 아무 생각도 안 하며 살고 싶어.</td>\n",
              "      <td>NaN</td>\n",
              "    </tr>\n",
              "  </tbody>\n",
              "</table>\n",
              "</div>"
            ],
            "text/plain": [
              "    연령  ...                    시스템응답4\n",
              "0   청년  ...                       NaN\n",
              "1   노년  ...                       NaN\n",
              "2  청소년  ...  열심히 해서 좋은 결과가 있었으면 좋겠어요.\n",
              "3   노년  ...                       NaN\n",
              "4   노년  ...                       NaN\n",
              "\n",
              "[5 rows x 8 columns]"
            ]
          },
          "metadata": {
            "tags": []
          },
          "execution_count": 3
        }
      ]
    },
    {
      "cell_type": "code",
      "metadata": {
        "colab": {
          "base_uri": "https://localhost:8080/"
        },
        "id": "i7bbDKrRngSx",
        "outputId": "c76e4d67-5f4f-4098-d151-a1a498a071fa"
      },
      "source": [
        "print('클래스:')\n",
        "print('감정대분류: {0}\\n감정소분류: {1}'.format(train['감정_대분류'].nunique(), train['감정_소분류'].nunique()))\n",
        "print('--------------------------')\n",
        "print('성비: \\n{0}'.format(round( train['성별'].value_counts()/len(train), 4)))\n",
        "print('--------------------------')\n",
        "print('연령대: \\n{0}'.format(round( train['연령'].value_counts()/len(train), 4)))"
      ],
      "execution_count": 4,
      "outputs": [
        {
          "output_type": "stream",
          "text": [
            "클래스:\n",
            "감정대분류: 8\n",
            "감정소분류: 58\n",
            "--------------------------\n",
            "성비: \n",
            "여성    0.5558\n",
            "남성    0.4442\n",
            "Name: 성별, dtype: float64\n",
            "--------------------------\n",
            "연령대: \n",
            "청년     0.3059\n",
            "중년     0.2663\n",
            "노년     0.2483\n",
            "청소년    0.1795\n",
            "Name: 연령, dtype: float64\n"
          ],
          "name": "stdout"
        }
      ]
    },
    {
      "cell_type": "code",
      "metadata": {
        "id": "VFeXhfRy4J91"
      },
      "source": [
        "# import getpass\n",
        "# import os\n",
        "\n",
        "# password = getpass.getpass()\n",
        "\n",
        "# command1 = \"sudo -S apt-get install -y fonts-nanum\" # 나눔폰트 다운\n",
        "# os.system('echo %s | %s' % (password, command1))\n",
        "\n",
        "# command2 = \"sudo -S fc-cache -fv\" \n",
        "# os.system('echo %s | %s' % (password, command2))\n",
        "\n"
      ],
      "execution_count": 5,
      "outputs": []
    },
    {
      "cell_type": "code",
      "metadata": {
        "id": "I5e5pCDo2rq5"
      },
      "source": [
        "# # 한글깨짐현상\n",
        "# !echo Wndbs9526! | sudo -S apt-get install -y fonts-nanum\n",
        "# !echo Wndbs9526! | sudo -S fc-cache -fv\n",
        "!sudo apt-get install -y fonts-nanum\n",
        "!sudo fc-cache -fv\n",
        "!rm ~/.cache/matplotlib -rf\n",
        "\n",
        "\n",
        "#### Reference: https://teddylee777.github.io/colab/colab-korean"
      ],
      "execution_count": null,
      "outputs": []
    },
    {
      "cell_type": "code",
      "metadata": {
        "id": "x7o9Zwwrz5Sf"
      },
      "source": [
        "# 한글세팅\n",
        "plt.rc(\"font\", family=\"NanumBarunGothic\" ) \n",
        "sns.set(font=\"NanumBarunGothic\", \n",
        "        rc={\"axes.unicode_minus\":False}, \n",
        "        style = \"darkgrid\",\n",
        "        font_scale = 1.5)\n",
        "\n",
        "# 시각화\n",
        "ax = sns.catplot(\n",
        "      data = train, kind = 'count',\n",
        "      x = '연령', hue = '성별', \n",
        "      order = ['청소년', '청년', '중년', '노년'],\n",
        "      height = 6, aspect = 1.2\n",
        "     )\n",
        "ax.despine(left=True)\n",
        "ax.set_axis_labels('','데이터 갯수(Count)')\n",
        "ax.set(title = '연령별 성비')"
      ],
      "execution_count": null,
      "outputs": []
    },
    {
      "cell_type": "markdown",
      "metadata": {
        "id": "XEZx3OCM9YQa"
      },
      "source": [
        "# 데이터 전처리 (SOYNLP)\n",
        "\n",
        "## Download soynlp, konlpy, Mecap"
      ]
    },
    {
      "cell_type": "code",
      "metadata": {
        "id": "ricA30nz9XmG"
      },
      "source": [
        "!pip3 install soynlp\n",
        "!pip3 install konlpy"
      ],
      "execution_count": null,
      "outputs": []
    },
    {
      "cell_type": "code",
      "metadata": {
        "id": "MFXGPlKWbrRb"
      },
      "source": [
        "# Mecab git clone (Colab)\n",
        "!git clone https://github.com/SOMJANG/Mecab-ko-for-Google-Colab.git"
      ],
      "execution_count": null,
      "outputs": []
    },
    {
      "cell_type": "code",
      "metadata": {
        "id": "JpVTw5waCgrH"
      },
      "source": [
        "cd Mecab-ko-for-Google-Colab"
      ],
      "execution_count": null,
      "outputs": []
    },
    {
      "cell_type": "code",
      "metadata": {
        "id": "45C5PMTPCfC3"
      },
      "source": [
        "!bash install_mecab-ko_on_colab190912.sh"
      ],
      "execution_count": null,
      "outputs": []
    },
    {
      "cell_type": "code",
      "metadata": {
        "id": "N4VUbZuur2cx"
      },
      "source": [
        "# cd section4-project/"
      ],
      "execution_count": 29,
      "outputs": []
    },
    {
      "cell_type": "code",
      "metadata": {
        "colab": {
          "base_uri": "https://localhost:8080/"
        },
        "id": "8j0ndSm_tWaF",
        "outputId": "a084507c-de82-4cc3-df11-8e988ffbd50d"
      },
      "source": [
        "# # Local connection\n",
        "# !git clone https://bitbucket.org/eunjeon/mecab-python-0.996.git\n",
        "# cd mecab-python-0.996\n",
        "!pip install mecab-python3 \n"
      ],
      "execution_count": 30,
      "outputs": [
        {
          "output_type": "stream",
          "text": [
            "Requirement already satisfied: mecab-python3 in /usr/local/lib/python3.7/dist-packages (1.0.4)\n"
          ],
          "name": "stdout"
        }
      ]
    },
    {
      "cell_type": "markdown",
      "metadata": {
        "id": "ONClXAKhkOTq"
      },
      "source": [
        "### 형태소 분류"
      ]
    },
    {
      "cell_type": "code",
      "metadata": {
        "colab": {
          "base_uri": "https://localhost:8080/"
        },
        "id": "yhQ3ZeFIZyQ7",
        "outputId": "840f5e69-2170-4f8b-e489-d76b7f1de263"
      },
      "source": [
        "# 한글만 남기기\n",
        "def only_words(text):\n",
        "  regex = '[^가-힣+]' # 한글만\n",
        "  #  한글 정규식\n",
        "  text = re.sub('\\u2028','',text) # 유니코드 에러 없애기\n",
        "  text = re.sub(regex,'',text)\n",
        "  return text\n",
        "\n",
        "train['사람문장1'] = train['사람문장1'].apply(only_words)\n",
        "train['사람문장1'].head()"
      ],
      "execution_count": 31,
      "outputs": [
        {
          "output_type": "execute_result",
          "data": {
            "text/plain": [
              "0                 아내가드디어출산하게되어서정말신이나\n",
              "1      당뇨랑합병증때문에먹어야할약이열가지가넘어가니까스트레스야\n",
              "2    고등학교에올라오니중학교때보다수업이갑자기어려워져서당황스러워\n",
              "3    재취업이돼서받게된첫월급으로온가족이외식을할예정이야너무행복해\n",
              "4               빚을드디어다갚게되어서이제야안도감이들어\n",
              "Name: 사람문장1, dtype: object"
            ]
          },
          "metadata": {
            "tags": []
          },
          "execution_count": 31
        }
      ]
    },
    {
      "cell_type": "markdown",
      "metadata": {
        "id": "56JsnSDBylDY"
      },
      "source": [
        "#### Mecab()"
      ]
    },
    {
      "cell_type": "code",
      "metadata": {
        "colab": {
          "base_uri": "https://localhost:8080/"
        },
        "id": "kHS2WBRZ9cnl",
        "outputId": "dac9bae5-9570-4697-a3a1-76f0e7e38cba"
      },
      "source": [
        "# 형태소 분류하기\n",
        "from konlpy.tag import Mecab\n",
        "mecab = Mecab()\n",
        "\n",
        "tokens = []\n",
        "\n",
        "for doc in range(len(train['사람문장1'])):\n",
        "  doc_tokens = mecab.morphs(train['사람문장1'][doc])\n",
        "  tokens.append(doc_tokens)\n",
        "\n",
        "train['morphs'] = tokens\n",
        "train['morphs'].head()  "
      ],
      "execution_count": 32,
      "outputs": [
        {
          "output_type": "execute_result",
          "data": {
            "text/plain": [
              "0             [아내, 가, 드디어, 출산, 하, 게, 되, 어서, 정말, 신, 이나]\n",
              "1    [당뇨, 랑, 합병증, 때문, 에, 먹, 어야, 할, 약, 이, 열, 가지, 가, ...\n",
              "2    [고등학교, 에, 올라오, 니, 중학교, 때, 보다, 수업, 이, 갑자기, 어려워져...\n",
              "3    [재취업, 이, 돼서, 받, 게, 된, 첫, 월급, 으로, 온, 가족, 이, 외식,...\n",
              "4       [빚, 을, 드디어, 다, 갚, 게, 되, 어서, 이제야, 안도감, 이, 들, 어]\n",
              "Name: morphs, dtype: object"
            ]
          },
          "metadata": {
            "tags": []
          },
          "execution_count": 32
        }
      ]
    },
    {
      "cell_type": "markdown",
      "metadata": {
        "id": "8Wdjs9CoqcPW"
      },
      "source": [
        "## 불용어 처리\n",
        "\n",
        "출처: \n",
        "\n",
        "https://wikidocs.net/22530\n",
        "\n",
        "https://www.ranks.nl/stopwords/korean\n",
        "\n",
        "추가: ['걔','잘','걍','한','하다']\n"
      ]
    },
    {
      "cell_type": "code",
      "metadata": {
        "colab": {
          "base_uri": "https://localhost:8080/"
        },
        "id": "ofb2ANwZrZaS",
        "outputId": "1433f28b-d4e0-4c88-ddf3-572de8d0daa7"
      },
      "source": [
        "# 불용어 리스트 불러오기\n",
        "path_stopwords = '/content/drive/MyDrive/Colab Notebooks/AI부트캠프/Section 4/section4 - Project/korean_stopword.txt'\n",
        "stopwords = pd.read_csv(path_stopwords, sep= ',', encoding = 'utf-8', header = None)\n",
        "\n",
        "# 컬럼명 정한 후 리스트로 변환\n",
        "stopwords.columns = ['stopword']\n",
        "stopwords_list = stopwords['stopword'].to_list()\n",
        "print(stopwords_list)"
      ],
      "execution_count": 33,
      "outputs": [
        {
          "output_type": "stream",
          "text": [
            "['아', '휴', '아이구', '아이쿠', '아이고', '어', '나', '우리', '저희', '따라', '의해', '을', '를', '에', '의', '가', '으로', '로', '에게', '뿐이다', '의거하여', '근거하여', '입각하여', '기준으로', '예하면', '예를 들면', '예를 들자면', '저', '소인', '소생', '저희', '지말고', '하지마', '하지마라', '다른', '물론', '또한', '그리고', '비길수 없다', '해서는 안된다', '뿐만 아니라', '만이 아니다', '만은 아니다', '막론하고', '관계없이', '그치지 않다', '그러나', '그런데', '하지만', '든간에', '논하지 않다', '따지지 않다', '설사', '비록', '더라도', '아니면', '만 못하다', '하는 편이 낫다', '불문하고', '향하여', '향해서', '향하다', '쪽으로', '틈타', '이용하여', '타다', '오르다', '제외하고', '이 외에', '이 밖에', '하여야', '비로소', '한다면 몰라도', '외에도', '이곳', '여기', '부터', '기점으로', '따라서', '할 생각이다', '하려고하다', '이리하여', '그리하여', '그렇게 함으로써', '하지만', '일때', '할때', '앞에서', '중에서', '보는데서', '으로써', '로써', '까지', '해야한다', '일것이다', '반드시', '할줄알다', '할수있다', '할수있어', '임에 틀림없다', '한다면', '등', '등등', '제', '겨우', '단지', '다만', '할뿐', '딩동', '댕그', '대해서', '대하여', '대하면', '훨씬', '얼마나', '얼마만큼', '얼마큼', '남짓', '여', '얼마간', '약간', '다소', '좀', '조금', '다수', '몇', '얼마', '지만', '하물며', '또한', '그러나', '그렇지만', '하지만', '이외에도', '대해 말하자면', '뿐이다', '다음에', '반대로', '반대로 말하자면', '이와 반대로', '바꾸어서 말하면', '바꾸어서 한다면', '만약', '그렇지않으면', '까악', '툭', '딱', '삐걱거리다', '보드득', '비걱거리다', '꽈당', '응당', '해야한다', '에 가서', '각', '각각', '여러분', '각종', '각자', '제각기', '하도록하다', '와', '과', '그러므로', '그래서', '고로', '한 까닭에', '하기 때문에', '거니와', '이지만', '대하여', '관하여', '관한', '과연', '실로', '아니나다를가', '생각한대로', '진짜로', '한적이있다', '하곤하였다', '하', '하하', '허허', '아하', '거바', '와', '오', '왜', '어째서', '무엇때문에', '어찌', '하겠는가', '무슨', '어디', '어느곳', '더군다나', '하물며', '더욱이는', '어느때', '언제', '야', '이봐', '어이', '여보시오', '흐흐', '흥', '휴', '헉헉', '헐떡헐떡', '영차', '여차', '어기여차', '끙끙', '아야', '앗', '아야', '콸콸', '졸졸', '좍좍', '뚝뚝', '주룩주룩', '솨', '우르르', '그래도', '또', '그리고', '바꾸어말하면', '바꾸어말하자면', '혹은', '혹시', '답다', '및', '그에 따르는', '때가 되어', '즉', '지든지', '설령', '가령', '하더라도', '할지라도', '일지라도', '지든지', '몇', '거의', '하마터면', '인젠', '이젠', '된바에야', '된이상', '만큼\\t어찌됏든', '그위에', '게다가', '점에서 보아', '비추어 보아', '고려하면', '하게될것이다', '일것이다', '비교적', '좀', '보다더', '비하면', '시키다', '하게하다', '할만하다', '의해서', '연이서', '이어서', '잇따라', '뒤따라', '뒤이어', '결국', '의지하여', '기대여', '통하여', '자마자', '더욱더', '불구하고', '얼마든지', '마음대로', '주저하지 않고', '곧', '즉시', '바로', '당장', '하자마자', '밖에 안된다', '하면된다', '그래', '그렇지', '요컨대', '다시 말하자면', '바꿔 말하면', '즉', '구체적으로', '말하자면', '시작하여', '시초에', '이상', '허', '헉', '허걱', '바와같이', '해도좋다', '해도된다', '게다가', '더구나', '하물며', '와르르', '팍', '퍽', '펄렁', '동안', '이래', '하고있었다', '이었다', '에서', '로부터', '까지', '예하면', '했어요', '해요', '함께', '같이', '더불어', '마저', '마저도', '양자', '모두', '습니다', '가까스로', '하려고하다', '즈음하여', '다른', '다른 방면으로', '해봐요', '습니까', '했어요', '말할것도 없고', '무릎쓰고', '개의치않고', '하는것만 못하다', '하는것이 낫다', '매', '매번', '들', '모', '어느것', '어느', '로써', '갖고말하자면', '어디', '어느쪽', '어느것', '어느해', '어느 년도', '라 해도', '언젠가', '어떤것', '어느것', '저기', '저쪽', '저것', '그때', '그럼', '그러면', '요만한걸', '그래', '그때', '저것만큼', '그저', '이르기까지', '할 줄 안다', '할 힘이 있다', '너', '너희', '당신', '어찌', '설마', '차라리', '할지언정', '할지라도', '할망정', '할지언정', '구토하다', '게우다', '토하다', '메쓰겁다', '옆사람', '퉤', '쳇', '의거하여', '근거하여', '의해', '따라', '힘입어', '그', '다음', '버금', '두번째로', '기타', '첫번째로', '나머지는', '그중에서', '견지에서', '형식으로 쓰여', '입장에서', '위해서', '단지', '의해되다', '하도록시키다', '뿐만아니라', '반대로', '전후', '전자', '앞의것', '잠시', '잠깐', '하면서', '그렇지만', '다음에', '그러한즉', '그런즉', '남들', '아무거나', '어찌하든지', '같다', '비슷하다', '예컨대', '이럴정도로', '어떻게', '만약', '만일', '위에서 서술한바와같이', '인 듯하다', '하지 않는다면', '만약에', '무엇', '무슨', '어느', '어떤', '아래윗', '조차', '한데', '그럼에도 불구하고', '여전히', '심지어', '까지도', '조차도', '하지 않도록', '않기 위하여', '때', '시각', '무렵', '시간', '동안', '어때', '어떠한', '하여금', '네', '예', '우선', '누구', '누가 알겠는가', '아무도', '줄은모른다', '줄은 몰랏다', '하는 김에', '겸사겸사', '하는바', '그런 까닭에', '한 이유는', '그러니', '그러니까', '때문에', '그', '너희', '그들', '너희들', '타인', '것', '것들', '너', '위하여', '공동으로', '동시에', '하기 위하여', '어찌하여', '무엇때문에', '붕붕', '윙윙', '나', '우리', '엉엉', '휘익', '윙윙', '오호', '아하', '어쨋든', '만 못하다\\t하기보다는', '차라리', '하는 편이 낫다', '흐흐', '놀라다', '상대적으로 말하자면', '마치', '아니라면', '쉿', '그렇지 않으면', '그렇지 않다면', '안 그러면', '아니었다면', '하든지', '아니면', '이라면', '좋아', '알았어', '하는것도', '그만이다', '어쩔수 없다', '하나', '일', '일반적으로', '일단', '한켠으로는', '오자마자', '이렇게되면', '이와같다면', '전부', '한마디', '한항목', '근거로', '하기에', '아울러', '하지 않도록', '않기 위해서', '이르기까지', '이 되다', '로 인하여', '까닭으로', '이유만으로', '이로 인하여', '그래서', '이 때문에', '그러므로', '그런 까닭에', '알 수 있다', '결론을 낼 수 있다', '으로 인하여', '있다', '어떤것', '관계가 있다', '관련이 있다', '연관되다', '어떤것들', '에 대해', '이리하여', '그리하여', '여부', '하기보다는', '하느니', '하면 할수록', '운운', '이러이러하다', '하구나', '하도다', '다시말하면', '다음으로', '에 있다', '에 달려 있다', '우리', '우리들', '오히려', '하기는한데', '어떻게', '어떻해', '어찌됏어', '어때', '어째서', '본대로', '자', '이', '이쪽', '여기', '이것', '이번', '이렇게말하자면', '이런', '이러한', '이와 같은', '요만큼', '요만한 것', '얼마 안 되는 것', '이만큼', '이 정도의', '이렇게 많은 것', '이와 같다', '이때', '이렇구나', '것과 같이', '끼익', '삐걱', '따위', '와 같은 사람들', '부류의 사람들', '왜냐하면', '중의하나', '오직', '오로지', '에 한하다', '하기만 하면', '도착하다', '까지 미치다', '도달하다', '정도에 이르다', '할 지경이다', '결과에 이르다', '관해서는', '여러분', '하고 있다', '한 후', '혼자', '자기', '자기집', '자신', '우에 종합한것과같이', '총적으로 보면', '총적으로 말하면', '총적으로', '대로 하다', '으로서', '참', '그만이다', '할 따름이다', '쿵', '탕탕', '쾅쾅', '둥둥', '봐', '봐라', '아이야', '아니', '와아', '응', '아이', '참나', '년', '월', '일', '령', '영', '일', '이', '삼', '사', '오', '육', '륙', '칠', '팔', '구', '이천육', '이천칠', '이천팔', '이천구', '하나', '둘', '셋', '넷', '다섯', '여섯', '일곱', '여덟', '아홉', '령', '영', '는', '고', '너무', '도', '은', '걔', '들', '잘', '걍', '한', '하다']\n"
          ],
          "name": "stdout"
        }
      ]
    },
    {
      "cell_type": "code",
      "metadata": {
        "colab": {
          "base_uri": "https://localhost:8080/"
        },
        "id": "bVqynWR6qeCZ",
        "outputId": "6172dda4-9cfc-423e-d37b-0d0c86dcab40"
      },
      "source": [
        "# 불용어 처리하고 토큰컬럼 추가\n",
        "tokens = []\n",
        "\n",
        "for doc in train['morphs']:\n",
        "    \n",
        "    doc_tokens = []\n",
        "    \n",
        "    for token in doc: \n",
        "        if token not in stopwords_list:\n",
        "            doc_tokens.append(token)\n",
        "   \n",
        "    tokens.append(doc_tokens)\n",
        "train['token'] = tokens\n",
        "train['token'].head()"
      ],
      "execution_count": 34,
      "outputs": [
        {
          "output_type": "execute_result",
          "data": {
            "text/plain": [
              "0                   [아내, 드디어, 출산, 게, 되, 어서, 정말, 신, 이나]\n",
              "1    [당뇨, 랑, 합병증, 때문, 먹, 어야, 할, 약, 열, 가지, 넘어가, 니까, ...\n",
              "2     [고등학교, 올라오, 니, 중학교, 보다, 수업, 갑자기, 어려워져서, 당황, 스러워]\n",
              "3    [재취업, 돼서, 받, 게, 된, 첫, 월급, 온, 가족, 외식, 할, 예정, 이야...\n",
              "4                   [빚, 드디어, 다, 갚, 게, 되, 어서, 이제야, 안도감]\n",
              "Name: token, dtype: object"
            ]
          },
          "metadata": {
            "tags": []
          },
          "execution_count": 34
        }
      ]
    },
    {
      "cell_type": "markdown",
      "metadata": {
        "id": "yK9OR-OxnCug"
      },
      "source": [
        "## 토근 시각화\n",
        "\n",
        "- Top 10 토큰을 프린트 합니다.\n",
        "- 토큰의 수, 빈도 순위, 존재 문서 수, 비율 등 정보를 계산합니다.\n",
        "- 토큰 순위에 따른 퍼센트 누적 분포 그래프를 시각화합니다.\n",
        "\n",
        "\n",
        "### 1. Top 10의 단어들"
      ]
    },
    {
      "cell_type": "code",
      "metadata": {
        "colab": {
          "base_uri": "https://localhost:8080/"
        },
        "id": "G14zptD0nCby",
        "outputId": "956b6e08-44fe-45a8-a7bb-0977101fafd2"
      },
      "source": [
        "# Top 10의 단어들\n",
        "from collections import Counter\n",
        "\n",
        "# Counter 객체는 리스트요소의 값과 요소의 갯수를 카운트 하여 저장하고 있습니다.\n",
        "# 카운터 객체는 .update 메소드로 계속 업데이트 가능합니다.\n",
        "word_counts = Counter()\n",
        "\n",
        "# 토큰화된 각 리뷰 리스트를 카운터 객체에 업데이트 합니다. \n",
        "train['token'].apply(lambda x: word_counts.update(x))\n",
        "\n",
        "# 가장 많이 존재하는 단어 순으로 10개를 나열합니다\n",
        "word_counts.most_common(30)"
      ],
      "execution_count": 35,
      "outputs": [
        {
          "output_type": "execute_result",
          "data": {
            "text/plain": [
              "[('는데', 8873),\n",
              " ('내', 7769),\n",
              " ('친구', 7436),\n",
              " ('있', 6319),\n",
              " ('해', 6312),\n",
              " ('했', 5804),\n",
              " ('지', 5634),\n",
              " ('게', 5507),\n",
              " ('같', 4539),\n",
              " ('없', 3805),\n",
              " ('었', 3491),\n",
              " ('안', 3475),\n",
              " ('좋', 3376),\n",
              " ('않', 3227),\n",
              " ('해서', 3105),\n",
              " ('만', 2716),\n",
              " ('받', 2629),\n",
              " ('되', 2626),\n",
              " ('어서', 2568),\n",
              " ('았', 2484),\n",
              " ('사람', 2457),\n",
              " ('보', 2341),\n",
              " ('다', 2325),\n",
              " ('회사', 2271),\n",
              " ('아서', 2259),\n",
              " ('오늘', 2241),\n",
              " ('요즘', 2208),\n",
              " ('기', 2204),\n",
              " ('말', 2182),\n",
              " ('님', 2096)]"
            ]
          },
          "metadata": {
            "tags": []
          },
          "execution_count": 35
        }
      ]
    },
    {
      "cell_type": "code",
      "metadata": {
        "id": "EBlCsSF51SSJ"
      },
      "source": [
        "# 토큰화된 단어들의 비율측정\n",
        "def word_count(docs):\n",
        "    \"\"\" 토큰화된 문서들을 입력받아 토큰을 카운트 하고 관련된 속성을 가진 데이터프레임을 리턴합니다.\n",
        "    Args:\n",
        "        docs (series or list): 토큰화된 문서가 들어있는 list\n",
        "    Returns:\n",
        "        list: Dataframe\n",
        "    \"\"\"\n",
        "    # 전체 코퍼스에서 단어 빈도 카운트\n",
        "    word_counts = Counter()\n",
        "\n",
        "    # 단어가 존재하는 문서의 빈도 카운트, 단어가 한 번 이상 존재하면 +1\n",
        "    word_in_docs = Counter()\n",
        "\n",
        "    # 전체 문서의 갯수\n",
        "    total_docs = len(docs)\n",
        "\n",
        "    for doc in docs:\n",
        "        word_counts.update(doc)\n",
        "        word_in_docs.update(set(doc))\n",
        "\n",
        "    temp = zip(word_counts.keys(), word_counts.values())\n",
        "\n",
        "    wc = pd.DataFrame(temp, columns = ['word', 'count'])\n",
        "\n",
        "    # 단어의 순위\n",
        "    # method='first': 같은 값의 경우 먼저나온 요소를 우선\n",
        "    wc['rank'] = wc['count'].rank(method='first', ascending=False)\n",
        "    total = wc['count'].sum()\n",
        "\n",
        "    # 코퍼스 내 단어의 비율\n",
        "    wc['percent'] = wc['count'].apply(lambda x: x / total)\n",
        "\n",
        "    wc = wc.sort_values(by='rank')\n",
        " \n",
        "    # 누적 비율\n",
        "    # cumsum() : cumulative sum\n",
        "    wc['cul_percent'] = wc['percent'].cumsum()\n",
        "\n",
        "    temp2 = zip(word_in_docs.keys(), word_in_docs.values())\n",
        "    ac = pd.DataFrame(temp2, columns=['word', 'word_in_docs'])\n",
        "    wc = ac.merge(wc, on='word')\n",
        "    \n",
        "    # 전체 문서 중 존재하는 비율\n",
        "    wc['word_in_docs_percent'] = wc['word_in_docs'].apply(lambda x: x / total_docs)\n",
        "\n",
        "    return wc.sort_values(by='rank')"
      ],
      "execution_count": 36,
      "outputs": []
    },
    {
      "cell_type": "code",
      "metadata": {
        "colab": {
          "base_uri": "https://localhost:8080/",
          "height": 669
        },
        "id": "ABUVN6ly8yfB",
        "outputId": "58b90e70-45d2-477f-af86-540d072dd809"
      },
      "source": [
        "wc = word_count(train['token'])\n",
        "wc.head(20)"
      ],
      "execution_count": 37,
      "outputs": [
        {
          "output_type": "execute_result",
          "data": {
            "text/html": [
              "<div>\n",
              "<style scoped>\n",
              "    .dataframe tbody tr th:only-of-type {\n",
              "        vertical-align: middle;\n",
              "    }\n",
              "\n",
              "    .dataframe tbody tr th {\n",
              "        vertical-align: top;\n",
              "    }\n",
              "\n",
              "    .dataframe thead th {\n",
              "        text-align: right;\n",
              "    }\n",
              "</style>\n",
              "<table border=\"1\" class=\"dataframe\">\n",
              "  <thead>\n",
              "    <tr style=\"text-align: right;\">\n",
              "      <th></th>\n",
              "      <th>word</th>\n",
              "      <th>word_in_docs</th>\n",
              "      <th>count</th>\n",
              "      <th>rank</th>\n",
              "      <th>percent</th>\n",
              "      <th>cul_percent</th>\n",
              "      <th>word_in_docs_percent</th>\n",
              "    </tr>\n",
              "  </thead>\n",
              "  <tbody>\n",
              "    <tr>\n",
              "      <th>87</th>\n",
              "      <td>는데</td>\n",
              "      <td>8717</td>\n",
              "      <td>8873</td>\n",
              "      <td>1.0</td>\n",
              "      <td>0.021123</td>\n",
              "      <td>0.021123</td>\n",
              "      <td>0.213239</td>\n",
              "    </tr>\n",
              "    <tr>\n",
              "      <th>65</th>\n",
              "      <td>내</td>\n",
              "      <td>7243</td>\n",
              "      <td>7769</td>\n",
              "      <td>2.0</td>\n",
              "      <td>0.018495</td>\n",
              "      <td>0.039618</td>\n",
              "      <td>0.177181</td>\n",
              "    </tr>\n",
              "    <tr>\n",
              "      <th>92</th>\n",
              "      <td>친구</td>\n",
              "      <td>6734</td>\n",
              "      <td>7436</td>\n",
              "      <td>3.0</td>\n",
              "      <td>0.017702</td>\n",
              "      <td>0.057321</td>\n",
              "      <td>0.164730</td>\n",
              "    </tr>\n",
              "    <tr>\n",
              "      <th>63</th>\n",
              "      <td>있</td>\n",
              "      <td>5961</td>\n",
              "      <td>6319</td>\n",
              "      <td>4.0</td>\n",
              "      <td>0.015043</td>\n",
              "      <td>0.072364</td>\n",
              "      <td>0.145821</td>\n",
              "    </tr>\n",
              "    <tr>\n",
              "      <th>32</th>\n",
              "      <td>해</td>\n",
              "      <td>6017</td>\n",
              "      <td>6312</td>\n",
              "      <td>5.0</td>\n",
              "      <td>0.015027</td>\n",
              "      <td>0.087391</td>\n",
              "      <td>0.147190</td>\n",
              "    </tr>\n",
              "    <tr>\n",
              "      <th>84</th>\n",
              "      <td>했</td>\n",
              "      <td>5416</td>\n",
              "      <td>5804</td>\n",
              "      <td>6.0</td>\n",
              "      <td>0.013817</td>\n",
              "      <td>0.101208</td>\n",
              "      <td>0.132489</td>\n",
              "    </tr>\n",
              "    <tr>\n",
              "      <th>91</th>\n",
              "      <td>지</td>\n",
              "      <td>5322</td>\n",
              "      <td>5634</td>\n",
              "      <td>7.0</td>\n",
              "      <td>0.013412</td>\n",
              "      <td>0.114620</td>\n",
              "      <td>0.130189</td>\n",
              "    </tr>\n",
              "    <tr>\n",
              "      <th>7</th>\n",
              "      <td>게</td>\n",
              "      <td>5168</td>\n",
              "      <td>5507</td>\n",
              "      <td>8.0</td>\n",
              "      <td>0.013110</td>\n",
              "      <td>0.127730</td>\n",
              "      <td>0.126422</td>\n",
              "    </tr>\n",
              "    <tr>\n",
              "      <th>182</th>\n",
              "      <td>같</td>\n",
              "      <td>4431</td>\n",
              "      <td>4539</td>\n",
              "      <td>9.0</td>\n",
              "      <td>0.010806</td>\n",
              "      <td>0.138536</td>\n",
              "      <td>0.108393</td>\n",
              "    </tr>\n",
              "    <tr>\n",
              "      <th>208</th>\n",
              "      <td>없</td>\n",
              "      <td>3629</td>\n",
              "      <td>3805</td>\n",
              "      <td>10.0</td>\n",
              "      <td>0.009058</td>\n",
              "      <td>0.147594</td>\n",
              "      <td>0.088774</td>\n",
              "    </tr>\n",
              "    <tr>\n",
              "      <th>69</th>\n",
              "      <td>었</td>\n",
              "      <td>3353</td>\n",
              "      <td>3491</td>\n",
              "      <td>11.0</td>\n",
              "      <td>0.008311</td>\n",
              "      <td>0.155905</td>\n",
              "      <td>0.082023</td>\n",
              "    </tr>\n",
              "    <tr>\n",
              "      <th>100</th>\n",
              "      <td>안</td>\n",
              "      <td>3370</td>\n",
              "      <td>3475</td>\n",
              "      <td>12.0</td>\n",
              "      <td>0.008273</td>\n",
              "      <td>0.164178</td>\n",
              "      <td>0.082438</td>\n",
              "    </tr>\n",
              "    <tr>\n",
              "      <th>118</th>\n",
              "      <td>좋</td>\n",
              "      <td>3225</td>\n",
              "      <td>3376</td>\n",
              "      <td>13.0</td>\n",
              "      <td>0.008037</td>\n",
              "      <td>0.172215</td>\n",
              "      <td>0.078891</td>\n",
              "    </tr>\n",
              "    <tr>\n",
              "      <th>82</th>\n",
              "      <td>않</td>\n",
              "      <td>3166</td>\n",
              "      <td>3227</td>\n",
              "      <td>14.0</td>\n",
              "      <td>0.007682</td>\n",
              "      <td>0.179897</td>\n",
              "      <td>0.077448</td>\n",
              "    </tr>\n",
              "    <tr>\n",
              "      <th>120</th>\n",
              "      <td>해서</td>\n",
              "      <td>3050</td>\n",
              "      <td>3105</td>\n",
              "      <td>15.0</td>\n",
              "      <td>0.007392</td>\n",
              "      <td>0.187289</td>\n",
              "      <td>0.074610</td>\n",
              "    </tr>\n",
              "    <tr>\n",
              "      <th>56</th>\n",
              "      <td>만</td>\n",
              "      <td>2601</td>\n",
              "      <td>2716</td>\n",
              "      <td>16.0</td>\n",
              "      <td>0.006466</td>\n",
              "      <td>0.193755</td>\n",
              "      <td>0.063627</td>\n",
              "    </tr>\n",
              "    <tr>\n",
              "      <th>44</th>\n",
              "      <td>받</td>\n",
              "      <td>2544</td>\n",
              "      <td>2629</td>\n",
              "      <td>17.0</td>\n",
              "      <td>0.006259</td>\n",
              "      <td>0.200013</td>\n",
              "      <td>0.062232</td>\n",
              "    </tr>\n",
              "    <tr>\n",
              "      <th>3</th>\n",
              "      <td>되</td>\n",
              "      <td>2517</td>\n",
              "      <td>2626</td>\n",
              "      <td>18.0</td>\n",
              "      <td>0.006252</td>\n",
              "      <td>0.206265</td>\n",
              "      <td>0.061572</td>\n",
              "    </tr>\n",
              "    <tr>\n",
              "      <th>0</th>\n",
              "      <td>어서</td>\n",
              "      <td>2512</td>\n",
              "      <td>2568</td>\n",
              "      <td>19.0</td>\n",
              "      <td>0.006113</td>\n",
              "      <td>0.212378</td>\n",
              "      <td>0.061450</td>\n",
              "    </tr>\n",
              "    <tr>\n",
              "      <th>210</th>\n",
              "      <td>았</td>\n",
              "      <td>2417</td>\n",
              "      <td>2484</td>\n",
              "      <td>20.0</td>\n",
              "      <td>0.005913</td>\n",
              "      <td>0.218292</td>\n",
              "      <td>0.059126</td>\n",
              "    </tr>\n",
              "  </tbody>\n",
              "</table>\n",
              "</div>"
            ],
            "text/plain": [
              "    word  word_in_docs  count  ...   percent  cul_percent  word_in_docs_percent\n",
              "87    는데          8717   8873  ...  0.021123     0.021123              0.213239\n",
              "65     내          7243   7769  ...  0.018495     0.039618              0.177181\n",
              "92    친구          6734   7436  ...  0.017702     0.057321              0.164730\n",
              "63     있          5961   6319  ...  0.015043     0.072364              0.145821\n",
              "32     해          6017   6312  ...  0.015027     0.087391              0.147190\n",
              "84     했          5416   5804  ...  0.013817     0.101208              0.132489\n",
              "91     지          5322   5634  ...  0.013412     0.114620              0.130189\n",
              "7      게          5168   5507  ...  0.013110     0.127730              0.126422\n",
              "182    같          4431   4539  ...  0.010806     0.138536              0.108393\n",
              "208    없          3629   3805  ...  0.009058     0.147594              0.088774\n",
              "69     었          3353   3491  ...  0.008311     0.155905              0.082023\n",
              "100    안          3370   3475  ...  0.008273     0.164178              0.082438\n",
              "118    좋          3225   3376  ...  0.008037     0.172215              0.078891\n",
              "82     않          3166   3227  ...  0.007682     0.179897              0.077448\n",
              "120   해서          3050   3105  ...  0.007392     0.187289              0.074610\n",
              "56     만          2601   2716  ...  0.006466     0.193755              0.063627\n",
              "44     받          2544   2629  ...  0.006259     0.200013              0.062232\n",
              "3      되          2517   2626  ...  0.006252     0.206265              0.061572\n",
              "0     어서          2512   2568  ...  0.006113     0.212378              0.061450\n",
              "210    았          2417   2484  ...  0.005913     0.218292              0.059126\n",
              "\n",
              "[20 rows x 7 columns]"
            ]
          },
          "metadata": {
            "tags": []
          },
          "execution_count": 37
        }
      ]
    },
    {
      "cell_type": "code",
      "metadata": {
        "colab": {
          "base_uri": "https://localhost:8080/",
          "height": 315
        },
        "id": "PUYFe3pLG-zV",
        "outputId": "45747684-b6bc-49c1-c7ae-c5e3160ac8b2"
      },
      "source": [
        "import seaborn as sns\n",
        "\n",
        "sns.lineplot(x = 'rank', y = 'cul_percent', data = wc)"
      ],
      "execution_count": 38,
      "outputs": [
        {
          "output_type": "execute_result",
          "data": {
            "text/plain": [
              "<matplotlib.axes._subplots.AxesSubplot at 0x7f794aa5b390>"
            ]
          },
          "metadata": {
            "tags": []
          },
          "execution_count": 38
        },
        {
          "output_type": "display_data",
          "data": {
            "image/png": "[encoded data removed]",
            "text/plain": [
              "<Figure size 432x288 with 1 Axes>"
            ]
          },
          "metadata": {
            "tags": []
          }
        }
      ]
    },
    {
      "cell_type": "markdown",
      "metadata": {
        "id": "Wnq3GIT1wpvZ"
      },
      "source": [
        "## Word2Vec VS FastText"
      ]
    },
    {
      "cell_type": "markdown",
      "metadata": {
        "id": "T7gPajDPmOSP"
      },
      "source": [
        "### 1. Word2Vec"
      ]
    },
    {
      "cell_type": "code",
      "metadata": {
        "id": "DMyAxAL1mR72"
      },
      "source": [
        "from gensim.models import Word2Vec as w2v\n",
        "\n",
        "# 유니크한 단어 갯수\n",
        "max_features = wc['word'].nunique()\n",
        "vector_size = 100\n",
        "\n",
        "# Word2Vec 훈련\n",
        "w2v_model = w2v(sentences=train['token'], size = vector_size, window = 2, min_count=50, workers = 4, iter = 100, sg=1)"
      ],
      "execution_count": 39,
      "outputs": []
    },
    {
      "cell_type": "code",
      "metadata": {
        "colab": {
          "base_uri": "https://localhost:8080/"
        },
        "id": "mYIJzFqpdn_U",
        "outputId": "b9583690-5574-4ad7-94c5-4a09da5baf15"
      },
      "source": [
        "# 완성된 임베딩 매트릭스의 크기 확인\n",
        "w2v_model.wv.vectors.shape"
      ],
      "execution_count": 40,
      "outputs": [
        {
          "output_type": "execute_result",
          "data": {
            "text/plain": [
              "(1001, 100)"
            ]
          },
          "metadata": {
            "tags": []
          },
          "execution_count": 40
        }
      ]
    },
    {
      "cell_type": "code",
      "metadata": {
        "colab": {
          "base_uri": "https://localhost:8080/"
        },
        "id": "V-h5fz-iepj7",
        "outputId": "faacfad1-7e80-431d-c7e5-7f935408a1b3"
      },
      "source": [
        "print(w2v_model.wv.most_similar('학교'))"
      ],
      "execution_count": 41,
      "outputs": [
        {
          "output_type": "stream",
          "text": [
            "[('대학교', 0.5397993326187134), ('전학', 0.5202388763427734), ('폭력', 0.4895731508731842), ('반', 0.4730961322784424), ('대학', 0.47270825505256653), ('따돌림', 0.4555169343948364), ('선생', 0.4503727853298187), ('가해자', 0.4263954758644104), ('고등학교', 0.42186665534973145), ('학생', 0.4193178713321686)]\n"
          ],
          "name": "stdout"
        }
      ]
    },
    {
      "cell_type": "markdown",
      "metadata": {
        "id": "DBrawL93wbr9"
      },
      "source": [
        "### 2. Fasttext"
      ]
    },
    {
      "cell_type": "code",
      "metadata": {
        "colab": {
          "base_uri": "https://localhost:8080/"
        },
        "id": "vbv1A1f3wbLd",
        "outputId": "ebb1039d-81fc-40ec-bf57-46b092aeb6d6"
      },
      "source": [
        "from gensim.models.fasttext import FastText\n",
        "\n",
        "fasttext_model = FastText(train['token'], size=100, workers=4, sg=1, iter=2, word_ngrams=5)\n",
        "# 모델 저장\n",
        "fasttext_model.save('fasttext.model')\n",
        "saved_fasttext = FastText.load('fasttext.model')\n",
        "\n",
        "print(saved_fasttext.wv.most_similar('학교'))"
      ],
      "execution_count": 42,
      "outputs": [
        {
          "output_type": "stream",
          "text": [
            "[('폭력', 0.8607462048530579), ('반', 0.8574807643890381), ('괴롭힘', 0.8367255926132202), ('왕따', 0.827160120010376), ('전학', 0.8261736631393433), ('따돌림', 0.8256490230560303), ('신고', 0.8179529905319214), ('가해자', 0.8165575265884399), ('위원회', 0.8083986043930054), ('중학교', 0.8078899383544922)]\n"
          ],
          "name": "stdout"
        }
      ]
    },
    {
      "cell_type": "markdown",
      "metadata": {
        "id": "vY8SPkt3ubfu"
      },
      "source": [
        "## Pre-trained Fasttext\n",
        "\n",
        "출처: https://fasttext.cc/docs/en/crawl-vectors.html\n"
      ]
    },
    {
      "cell_type": "code",
      "metadata": {
        "colab": {
          "base_uri": "https://localhost:8080/"
        },
        "id": "YAcyFwLhzJj_",
        "outputId": "a3df4ecc-0d83-4c29-d301-4d1e77f26bf1"
      },
      "source": [
        "!git clone https://github.com/facebookresearch/fastText.git"
      ],
      "execution_count": 43,
      "outputs": [
        {
          "output_type": "stream",
          "text": [
            "Cloning into 'fastText'...\n",
            "remote: Enumerating objects: 3854, done.\u001b[K\n",
            "remote: Total 3854 (delta 0), reused 0 (delta 0), pack-reused 3854\u001b[K\n",
            "Receiving objects: 100% (3854/3854), 8.22 MiB | 16.23 MiB/s, done.\n",
            "Resolving deltas: 100% (2417/2417), done.\n"
          ],
          "name": "stdout"
        }
      ]
    },
    {
      "cell_type": "code",
      "metadata": {
        "colab": {
          "base_uri": "https://localhost:8080/"
        },
        "id": "sxW90Y1HzRK1",
        "outputId": "4c3a7dfb-ac83-45d1-82b7-08f60b764df3"
      },
      "source": [
        "!pip install fastText"
      ],
      "execution_count": 44,
      "outputs": [
        {
          "output_type": "stream",
          "text": [
            "Collecting fastText\n",
            "\u001b[?25l  Downloading https://files.pythonhosted.org/packages/f8/85/e2b368ab6d3528827b147fdb814f8189acc981a4bc2f99ab894650e05c40/fasttext-0.9.2.tar.gz (68kB)\n",
            "\r\u001b[K     |████▊                           | 10kB 14.0MB/s eta 0:00:01\r\u001b[K     |█████████▌                      | 20kB 20.1MB/s eta 0:00:01\r\u001b[K     |██████████████▎                 | 30kB 23.5MB/s eta 0:00:01\r\u001b[K     |███████████████████             | 40kB 26.4MB/s eta 0:00:01\r\u001b[K     |███████████████████████▉        | 51kB 16.1MB/s eta 0:00:01\r\u001b[K     |████████████████████████████▋   | 61kB 13.3MB/s eta 0:00:01\r\u001b[K     |████████████████████████████████| 71kB 6.0MB/s \n",
            "\u001b[?25hRequirement already satisfied: pybind11>=2.2 in /usr/local/lib/python3.7/dist-packages (from fastText) (2.6.2)\n",
            "Requirement already satisfied: setuptools>=0.7.0 in /usr/local/lib/python3.7/dist-packages (from fastText) (57.0.0)\n",
            "Requirement already satisfied: numpy in /usr/local/lib/python3.7/dist-packages (from fastText) (1.19.5)\n",
            "Building wheels for collected packages: fastText\n",
            "  Building wheel for fastText (setup.py) ... \u001b[?25l\u001b[?25hdone\n",
            "  Created wheel for fastText: filename=fasttext-0.9.2-cp37-cp37m-linux_x86_64.whl size=3093665 sha256=33dbe9317bc1074034f9f1d52607511c08db0a0c814159e640cbc42c97a1253f\n",
            "  Stored in directory: /root/.cache/pip/wheels/98/ba/7f/b154944a1cf5a8cee91c154b75231136cc3a3321ab0e30f592\n",
            "Successfully built fastText\n",
            "Installing collected packages: fastText\n",
            "Successfully installed fastText-0.9.2\n"
          ],
          "name": "stdout"
        }
      ]
    },
    {
      "cell_type": "markdown",
      "metadata": {
        "id": "W9x0bAkcU41z"
      },
      "source": [
        "- 경로설정"
      ]
    },
    {
      "cell_type": "code",
      "metadata": {
        "colab": {
          "base_uri": "https://localhost:8080/"
        },
        "id": "RM3hrYTiU0hJ",
        "outputId": "50e3294e-8274-4c9a-a35d-36fc046bbd97"
      },
      "source": [
        "ls"
      ],
      "execution_count": 45,
      "outputs": [
        {
          "output_type": "stream",
          "text": [
            "\u001b[0m\u001b[01;34mfastText\u001b[0m/       install_mecab-ko_on_colab190912.sh         README.md\n",
            "fasttext.model  install_mecab-ko_on_colab_light_210108.sh\n",
            "\u001b[01;34mimages\u001b[0m/         LICENSE\n"
          ],
          "name": "stdout"
        }
      ]
    },
    {
      "cell_type": "code",
      "metadata": {
        "colab": {
          "base_uri": "https://localhost:8080/"
        },
        "id": "2wvCQ7-5U2rS",
        "outputId": "e9ede682-2ce2-49e3-a171-e071c0227c36"
      },
      "source": [
        "cd content/drive/MyDrive"
      ],
      "execution_count": 46,
      "outputs": [
        {
          "output_type": "stream",
          "text": [
            "[Errno 2] No such file or directory: 'content/drive/MyDrive'\n",
            "/content/Mecab-ko-for-Google-Colab/Mecab-ko-for-Google-Colab\n"
          ],
          "name": "stdout"
        }
      ]
    },
    {
      "cell_type": "code",
      "metadata": {
        "id": "NbNJ5aXAuv0Q"
      },
      "source": [
        "# import fasttext\n",
        "# import fasttext.util\n",
        "# from gensim import models\n",
        "\n",
        "# ko_ftmodel = fasttext.load_model('cc.ko.300.bin')\n",
        "# # ko_model = models.fasttext.load_facebook_model('cc.ko.300.bin.gz')\n",
        "\n",
        "# from gensim import models\n",
        "\n",
        "# ko_model = models.fasttext.load_facebook_model('cc.ko.300.bin')\n"
      ],
      "execution_count": 47,
      "outputs": []
    },
    {
      "cell_type": "markdown",
      "metadata": {
        "id": "UhlSAizF86vV"
      },
      "source": [
        "# 모델링\n",
        "\n",
        "LSTM모델을 사용하고 총 3가지의 다른 방식을 사용할 것이다.\n",
        "\n",
        "1. LSTM(Word2Vec)\n",
        "\n",
        "2. LSTM(FastText)\n",
        "\n",
        "3. LSTM(FastText with Attention)"
      ]
    },
    {
      "cell_type": "code",
      "metadata": {
        "id": "Fead6-2AGObV"
      },
      "source": [
        "import pandas as pd\n",
        "import numpy as np\n",
        "import tensorflow as tf\n",
        "import matplotlib.pyplot as plt\n",
        "import seaborn as sns\n",
        "\n",
        "from sklearn.model_selection import train_test_split\n",
        "from sklearn.preprocessing import LabelEncoder\n",
        "from keras.preprocessing.sequence import pad_sequences\n",
        "from keras.models import Model, Sequential\n",
        "from keras.layers import LSTM, Activation, Dense, Dropout, Input, Embedding, GRU, Flatten, BatchNormalization,Attention\n",
        "from keras.optimizers import RMSprop\n",
        "from keras.preprocessing.text import Tokenizer\n",
        "from keras.preprocessing import sequence\n",
        "from keras.callbacks import EarlyStopping\n",
        "%matplotlib inline\n",
        "\n",
        "np.random.seed(42)\n",
        "tf.random.set_seed(42)"
      ],
      "execution_count": 48,
      "outputs": []
    },
    {
      "cell_type": "code",
      "metadata": {
        "colab": {
          "base_uri": "https://localhost:8080/"
        },
        "id": "njH4ac6ES9FO",
        "outputId": "768aba52-6f14-4a1a-d108-4ea368787882"
      },
      "source": [
        "# 띄어쓰기의 존재로 다른 클래스로 인식 \n",
        "train['감정_대분류'] = train['감정_대분류'].apply(lambda x: x.strip())\n",
        "train['감정_소분류'] = train['감정_소분류'].apply(lambda x: x.strip())\n",
        "\n",
        "# 감정 대분류와 소분류 클래스 나누기\n",
        "large_label = train['감정_대분류']\n",
        "small_label = train['감정_소분류']\n",
        "large_label.unique() "
      ],
      "execution_count": 49,
      "outputs": [
        {
          "output_type": "execute_result",
          "data": {
            "text/plain": [
              "array(['기쁨', '불안', '당황', '슬픔', '분노', '상처'], dtype=object)"
            ]
          },
          "metadata": {
            "tags": []
          },
          "execution_count": 49
        }
      ]
    },
    {
      "cell_type": "code",
      "metadata": {
        "colab": {
          "base_uri": "https://localhost:8080/"
        },
        "id": "slnBbIm3SrHo",
        "outputId": "dc81a1a5-d370-4fc0-e15b-85caa7bab7db"
      },
      "source": [
        "# Label Encoding - 감정대분류 (8)\n",
        "encoder = LabelEncoder()\n",
        "large_label_encoded = encoder.fit_transform(large_label)\n",
        "large_label_encoded\n"
      ],
      "execution_count": 50,
      "outputs": [
        {
          "output_type": "execute_result",
          "data": {
            "text/plain": [
              "array([0, 3, 1, ..., 5, 0, 3])"
            ]
          },
          "metadata": {
            "tags": []
          },
          "execution_count": 50
        }
      ]
    },
    {
      "cell_type": "code",
      "metadata": {
        "colab": {
          "base_uri": "https://localhost:8080/"
        },
        "id": "W0A_wta8SKRv",
        "outputId": "502afd2a-7482-4979-9093-7fd0bebd3c97"
      },
      "source": [
        "# 인코딩된 값들 확인\n",
        "encoder_mapping = dict(zip(encoder.classes_, encoder.transform(encoder.classes_)))\n",
        "encoder_mapping"
      ],
      "execution_count": 51,
      "outputs": [
        {
          "output_type": "execute_result",
          "data": {
            "text/plain": [
              "{'기쁨': 0, '당황': 1, '분노': 2, '불안': 3, '상처': 4, '슬픔': 5}"
            ]
          },
          "metadata": {
            "tags": []
          },
          "execution_count": 51
        }
      ]
    },
    {
      "cell_type": "markdown",
      "metadata": {
        "id": "WvOrOo8tk35V"
      },
      "source": [
        "## 모델학습 및 텍스트 분류\n",
        "\n",
        "- Train, Test 20%의 비율료 설정\n",
        "- Tokenizer(num_words = 1000)\n",
        "- pad_sequence의 maxlen = 300\n",
        "- 학습파라미터 조정 (batch_size, epochs, validation_split)\n",
        "- 평가(accuracy)"
      ]
    },
    {
      "cell_type": "markdown",
      "metadata": {
        "id": "ImfU1RV2RSlJ"
      },
      "source": [
        "### 토큰환 한 데이터를 벡터값으로 변환하기"
      ]
    },
    {
      "cell_type": "code",
      "metadata": {
        "id": "_cju9a8Pg3Gd"
      },
      "source": [
        "# 토큰화하기\n",
        "features = train['token']\n",
        "\n",
        "tokenizer = Tokenizer(num_words=1000)\n",
        "tokenizer.fit_on_texts(features)"
      ],
      "execution_count": 53,
      "outputs": []
    },
    {
      "cell_type": "code",
      "metadata": {
        "colab": {
          "base_uri": "https://localhost:8080/"
        },
        "id": "m2QKfLssl3hQ",
        "outputId": "633c3a2b-3499-48ee-a1fb-35e978f82a29"
      },
      "source": [
        "# sequence 형태로 전환\n",
        "tokenized_feature = tokenizer.texts_to_sequences(features)\n",
        "\n",
        "max_len = max(len(sent) for sent in tokenized_feature)\n",
        "print(max_len)"
      ],
      "execution_count": 54,
      "outputs": [
        {
          "output_type": "stream",
          "text": [
            "37\n"
          ],
          "name": "stdout"
        }
      ]
    },
    {
      "cell_type": "code",
      "metadata": {
        "id": "oI_EeVkQmN1A"
      },
      "source": [
        "# train, test 데이터 분리 (20% test)\n",
        "X_train_encoded, X_test_encoded, y_train, y_test = train_test_split(tokenized_feature, large_label_encoded, test_size = 0.2, random_state = 1214)"
      ],
      "execution_count": 58,
      "outputs": []
    },
    {
      "cell_type": "code",
      "metadata": {
        "id": "zrO4im3znGcc"
      },
      "source": [
        "# pad_sequences\n",
        "## Train\n",
        "X_train_sequence=pad_sequences(X_train_encoded, maxlen=400, padding='post')\n",
        "y_train=np.array(y_train)\n",
        "\n",
        "## Test\n",
        "X_test_sequence=pad_sequences(X_test_encoded, maxlen=400, padding='post')\n",
        "y_test=np.array(y_test)"
      ],
      "execution_count": 59,
      "outputs": []
    },
    {
      "cell_type": "code",
      "metadata": {
        "colab": {
          "base_uri": "https://localhost:8080/"
        },
        "id": "fg3uETNBnY6B",
        "outputId": "b0b06c48-a7ef-491e-e010-c7fc4f9b3d54"
      },
      "source": [
        "vocab_size = len(tokenizer.word_index) + 1\n",
        "tokenizer.word_index.items()"
      ],
      "execution_count": 60,
      "outputs": [
        {
          "output_type": "execute_result",
          "data": {
            "text/plain": [
              "dict_items([('는데', 1), ('내', 2), ('친구', 3), ('있', 4), ('해', 5), ('했', 6), ('지', 7), ('게', 8), ('같', 9), ('없', 10), ('었', 11), ('안', 12), ('좋', 13), ('않', 14), ('해서', 15), ('만', 16), ('받', 17), ('되', 18), ('어서', 19), ('았', 20), ('사람', 21), ('보', 22), ('다', 23), ('회사', 24), ('아서', 25), ('오늘', 26), ('요즘', 27), ('기', 28), ('말', 29), ('님', 30), ('겠', 31), ('던', 32), ('돈', 33), ('정말', 34), ('다고', 35), ('면', 36), ('거', 37), ('할', 38), ('걱정', 39), ('스러워', 40), ('싶', 41), ('아내', 42), ('주', 43), ('때문', 44), ('건강', 45), ('수', 46), ('한테', 47), ('생각', 48), ('남편', 49), ('힘들', 50), ('니', 51), ('못', 52), ('결혼', 53), ('라고', 54), ('많이', 55), ('서', 56), ('직장', 57), ('집', 58), ('기분', 59), ('돼', 60), ('마음', 61), ('학교', 62), ('아들', 63), ('적', 64), ('많', 65), ('모르', 66), ('엄마', 67), ('당황', 68), ('준비', 69), ('해야', 70), ('슬퍼', 71), ('먹', 72), ('불안', 73), ('랑', 74), ('남자', 75), ('나이', 76), ('자식', 77), ('짜증', 78), ('화가', 79), ('살', 80), ('이제', 81), ('부모', 82), ('가족', 83), ('자꾸', 84), ('알', 85), ('더', 86), ('취업', 87), ('데', 88), ('인데', 89), ('이나', 90), ('걸', 91), ('난', 92), ('다는', 93), ('날', 94), ('대', 95), ('여자', 96), ('인', 97), ('딸', 98), ('노후', 99), ('싫', 100), ('보다', 101), ('지금', 102), ('병원', 103), ('애', 104), ('은퇴', 105), ('전', 106), ('공부', 107), ('갑자기', 108), ('기뻐', 109), ('다니', 110), ('몸', 111), ('면서', 112), ('됐', 113), ('은데', 114), ('어제', 115), ('아빠', 116), ('아직', 117), ('줄', 118), ('죽', 119), ('더니', 120), ('스트레스', 121), ('속상해', 122), ('상사', 123), ('업무', 124), ('니까', 125), ('연락', 126), ('화', 127), ('달', 128), ('라', 129), ('다가', 130), ('시험', 131), ('계속', 132), ('아무', 133), ('할지', 134), ('만나', 135), ('왔', 136), ('선생', 137), ('중', 138), ('성적', 139), ('된', 140), ('병', 141), ('남', 142), ('는지', 143), ('려고', 144), ('갔', 145), ('으면', 146), ('직원', 147), ('열심히', 148), ('당하', 149), ('줬', 150), ('후회', 151), ('이랑', 152), ('십', 153), ('고민', 154), ('봤', 155), ('혼란', 156), ('동료', 157), ('믿', 158), ('후', 159), ('큰', 160), ('한심', 161), ('마다', 162), ('앞', 163), ('뭐', 164), ('해도', 165), ('대학', 166), ('항상', 167), ('동생', 168), ('못하', 169), ('생활', 170), ('이렇게', 171), ('스럽', 172), ('매일', 173), ('따돌림', 174), ('셨', 175), ('얘기', 176), ('문제', 177), ('상처', 178), ('잘못', 179), ('면접', 180), ('억울', 181), ('검진', 182), ('관계', 183), ('다행', 184), ('우울해', 185), ('라는', 186), ('돼서', 187), ('맞', 188), ('실망', 189), ('을까', 190), ('없이', 191), ('질', 192), ('났', 193), ('셔서', 194), ('충격', 195), ('술', 196), ('친한', 197), ('시', 198), ('아프', 199), ('나가', 200), ('버렸', 201), ('연애', 202), ('주변', 203), ('폭력', 204), ('더라', 205), ('께', 206), ('눈물', 207), ('결과', 208), ('운동', 209), ('두려워', 210), ('이야기', 211), ('한다고', 212), ('드디어', 213), ('세상', 214), ('자고', 215), ('반', 216), ('의사', 217), ('곳', 218), ('사실', 219), ('더라고', 220), ('괴로워', 221), ('나왔', 222), ('쓰', 223), ('놓', 224), ('두', 225), ('원', 226), ('내일', 227), ('러', 228), ('언니', 229), ('수술', 230), ('위해', 231), ('으니', 232), ('괴롭히', 233), ('당했', 234), ('실수', 235), ('생겼', 236), ('느낌', 237), ('대해', 238), ('시작', 239), ('치료', 240), ('암', 241), ('합격', 242), ('코로나', 243), ('무시', 244), ('번', 245), ('길', 246), ('될', 247), ('와서', 248), ('오래', 249), ('여행', 250), ('신경', 251), ('노인', 252), ('아파', 253), ('미안', 254), ('아주', 255), ('전화', 256), ('외로워', 257), ('진짜', 258), ('진로', 259), ('행복', 260), ('승진', 261), ('프로젝트', 262), ('점점', 263), ('사이', 264), ('조심', 265), ('동기', 266), ('대화', 267), ('벌써', 268), ('젊', 269), ('줘서', 270), ('보내', 271), ('모임', 272), ('냐고', 273), ('감사', 274), ('답답', 275), ('귀찮', 276), ('며', 277), ('모습', 278), ('듣', 279), ('원비', 280), ('지내', 281), ('필요', 282), ('할머니', 283), ('빨리', 284), ('건', 285), ('입원', 286), ('관리', 287), ('아픈', 288), ('나와', 289), ('을지', 290), ('처음', 291), ('출산', 292), ('요새', 293), ('투자', 294), ('도와', 295), ('께서', 296), ('사업', 297), ('초조', 298), ('늦', 299), ('슬프', 300), ('떨어졌', 301), ('놀', 302), ('모아', 303), ('거든', 304), ('가지', 305), ('싸웠', 306), ('상황', 307), ('자금', 308), ('새로운', 309), ('자주', 310), ('예전', 311), ('질환', 312), ('내게', 313), ('걸까', 314), ('재정', 315), ('나오', 316), ('옆집', 317), ('처럼', 318), ('스러웠', 319), ('이혼', 320), ('주식', 321), ('아파서', 322), ('못했', 323), ('다시', 324), ('드', 325), ('어야', 326), ('크', 327), ('신', 328), ('였', 329), ('관심', 330), ('씨', 331), ('당혹', 332), ('편안', 333), ('최근', 334), ('먼저', 335), ('생일', 336), ('보여', 337), ('갈', 338), ('고생', 339), ('빌려', 340), ('물', 341), ('느껴', 342), ('이유', 343), ('우울', 344), ('팀장', 345), ('취직', 346), ('약', 347), ('나와서', 348), ('꿈', 349), ('별로', 350), ('몰래', 351), ('준', 352), ('김', 353), ('벌', 354), ('사랑', 355), ('밥', 356), ('선물', 357), ('입사', 358), ('늙', 359), ('당뇨', 360), ('약속', 361), ('형', 362), ('부장', 363), ('부끄러워', 364), ('임신', 365), ('가난', 366), ('인지', 367), ('출근', 368), ('늘', 369), ('부서', 370), ('낳', 371), ('졌', 372), ('느껴져', 373), ('도움', 374), ('만성', 375), ('꼭', 376), ('뒤', 377), ('상태', 378), ('제대로', 379), ('싸우', 380), ('소리', 381), ('신입', 382), ('무서워', 383), ('노인정', 384), ('지원', 385), ('새로', 386), ('어떡', 387), ('용돈', 388), ('바람', 389), ('사장', 390), ('며칠', 391), ('부족', 392), ('그냥', 393), ('느라', 394), ('오랜만', 395), ('져서', 396), ('넘', 397), ('명', 398), ('노력', 399), ('그런', 400), ('질투', 401), ('부부', 402), ('아침', 403), ('구역', 404), ('만족', 405), ('건지', 406), ('어도', 407), ('엔', 408), ('자리', 409), ('불편', 410), ('당한', 411), ('그만두', 412), ('배신', 413), ('모든', 414), ('사고', 415), ('냈', 416), ('제일', 417), ('그러', 418), ('퇴근', 419), ('해고', 420), ('감', 421), ('성공', 422), ('보험', 423), ('째', 424), ('야근', 425), ('갚', 426), ('당해서', 427), ('정도', 428), ('혈압', 429), ('셔', 430), ('화나', 431), ('들어가', 432), ('가장', 433), ('선배', 434), ('못해서', 435), ('결혼식', 436), ('소식', 437), ('온', 438), ('사귀', 439), ('잔소리', 440), ('챙겨', 441), ('음식', 442), ('손자', 443), ('발표', 444), ('하루', 445), ('차', 446), ('볼', 447), ('담배', 448), ('애인', 449), ('평소', 450), ('옆', 451), ('아무것', 452), ('주말', 453), ('라서', 454), ('인생', 455), ('찾', 456), ('보고', 457), ('거짓말', 458), ('감정', 459), ('머리', 460), ('마비', 461), ('만들', 462), ('걸렸', 463), ('간', 464), ('둔', 465), ('퇴직', 466), ('기대', 467), ('끝', 468), ('빼', 469), ('본', 470), ('보이', 471), ('라도', 472), ('그렇게', 473), ('만났', 474), ('재산', 475), ('경제', 476), ('입', 477), ('눈치', 478), ('끊', 479), ('연금', 480), ('외롭', 481), ('고립', 482), ('얼굴', 483), ('자랑', 484), ('시키', 485), ('큰일', 486), ('한다는', 487), ('삶', 488), ('스러운', 489), ('어려워', 490), ('대인', 491), ('잠', 492), ('혐오', 493), ('가해자', 494), ('대학교', 495), ('돌아가', 496), ('죄책감', 497), ('대로', 498), ('여유', 499), ('밖에', 500), ('성가셔', 501), ('척', 502), ('할까', 503), ('평생', 504), ('높', 505), ('환멸', 506), ('매우', 507), ('누나', 508), ('자녀', 509), ('막막', 510), ('쉬', 511), ('중요', 512), ('못한', 513), ('비교', 514), ('이해', 515), ('속상하', 516), ('대한', 517), ('만큼', 518), ('그런지', 519), ('가게', 520), ('뭘', 521), ('쉽', 522), ('옷', 523), ('올해', 524), ('검사', 525), ('회의', 526), ('기업', 527), ('퇴사', 528), ('방', 529), ('욕', 530), ('힘든', 531), ('울', 532), ('사원', 533), ('속', 534), ('그동안', 535), ('팀', 536), ('후배', 537), ('다녀왔', 538), ('엄청', 539), ('상담', 540), ('눈', 541), ('치매', 542), ('손', 543), ('월급', 544), ('학원', 545), ('잃', 546), ('동네', 547), ('팀원', 548), ('배신감', 549), ('떨어져서', 550), ('사기', 551), ('친하', 552), ('괴롭힘', 553), ('맡', 554), ('기쁘', 555), ('몰랐', 556), ('서로', 557), ('집안', 558), ('생겨서', 559), ('아기', 560), ('행동', 561), ('졸업', 562), ('샀', 563), ('다며', 564), ('심하', 565), ('떠나', 566), ('힘', 567), ('오빠', 568), ('져', 569), ('나빠', 570), ('계획', 571), ('따돌리', 572), ('처리', 573), ('놀랐', 574), ('몰라', 575), ('전혀', 576), ('죽음', 577), ('실패', 578), ('아버지', 579), ('과장', 580), ('점수', 581), ('허리', 582), ('비', 583), ('덕분', 584), ('어렵', 585), ('치료비', 586), ('회식', 587), ('고등학교', 588), ('고백', 589), ('분', 590), ('퇴원', 591), ('빚', 592), ('창피', 593), ('거절', 594), ('아무리', 595), ('대출', 596), ('멀', 597), ('생기', 598), ('물건', 599), ('씩', 600), ('래', 601), ('이러', 602), ('열', 603), ('이후', 604), ('마시', 605), ('나갔', 606), ('진단', 607), ('인사', 608), ('잡', 609), ('낮', 610), ('괜찮', 611), ('부담', 612), ('수업', 613), ('교통사고', 614), ('피곤', 615), ('포기', 616), ('맨날', 617), ('버려진', 618), ('작', 619), ('이사', 620), ('그랬', 621), ('떨어지', 622), ('퇴직금', 623), ('아닌', 624), ('끼리', 625), ('타', 626), ('뿐', 627), ('오랫동안', 628), ('성', 629), ('일찍', 630), ('왕따', 631), ('인간', 632), ('한지', 633), ('괜히', 634), ('손주', 635), ('든', 636), ('갖', 637), ('만날', 638), ('밖', 639), ('가끔', 640), ('세', 641), ('우울증', 642), ('항암', 643), ('서운', 644), ('배', 645), ('오해', 646), ('생활비', 647), ('지인', 648), ('성격', 649), ('칭찬', 650), ('텐데', 651), ('사정', 652), ('아닌데', 653), ('반대', 654), ('너무나', 655), ('부하', 656), ('못해', 657), ('근데', 658), ('인가', 659), ('정리', 660), ('라니', 661), ('비통', 662), ('진', 663), ('다리', 664), ('신나', 665), ('느긋', 666), ('시선', 667), ('진행', 668), ('소문', 669), ('기다리', 670), ('첫', 671), ('말씀', 672), ('사과', 673), ('했었', 674), ('밤', 675), ('희생', 676), ('넣', 677), ('박', 678), ('도록', 679), ('대신', 680), ('스스로', 681), ('줘', 682), ('치', 683), ('힘드', 684), ('등산', 685), ('불', 686), ('그렇', 687), ('걸린', 688), ('그럴', 689), ('어려운', 690), ('해졌', 691), ('저축', 692), ('아도', 693), ('다가오', 694), ('떠났', 695), ('의견', 696), ('그게', 697), ('봐서', 698), ('할까봐', 699), ('버려서', 700), ('해결', 701), ('통보', 702), ('게임', 703), ('명절', 704), ('헤어지', 705), ('걸려서', 706), ('며느리', 707), ('어쩌', 708), ('마련', 709), ('신뢰', 710), ('이야', 711), ('주위', 712), ('능력', 713), ('만난', 714), ('장', 715), ('동창', 716), ('영양제', 717), ('정신', 718), ('들어왔', 719), ('공무원', 720), ('헤어졌', 721), ('새', 722), ('부탁', 723), ('서류', 724), ('이직', 725), ('부러워', 726), ('된다고', 727), ('챙기', 728), ('험담', 729), ('탈락', 730), ('싸워서', 731), ('가입', 732), ('생', 733), ('으면서', 734), ('백', 735), ('여러', 736), ('분위기', 737), ('형편', 738), ('저번', 739), ('무릎', 740), ('이게', 741), ('아픈데', 742), ('소개', 743), ('일부러', 744), ('으니까', 745), ('그만', 746), ('당첨', 747), ('갱년기', 748), ('축하', 749), ('해져', 750), ('친했', 751), ('선택', 752), ('편', 753), ('수술비', 754), ('숙제', 755), ('쓰여', 756), ('직업', 757), ('결정', 758), ('시켜', 759), ('점심', 760), ('집안일', 761), ('나쁜', 762), ('순간', 763), ('친척', 764), ('버리', 765), ('건데', 766), ('하고', 767), ('어머니', 768), ('분명', 769), ('은행', 770), ('찾아오', 771), ('과제', 772), ('수학', 773), ('판정', 774), ('편해', 775), ('뻔', 776), ('아무래도', 777), ('요양원', 778), ('저녁', 779), ('취소', 780), ('신고', 781), ('편하', 782), ('실적', 783), ('오랜', 784), ('쓸쓸', 785), ('안심', 786), ('걸리', 787), ('미래', 788), ('통장', 789), ('바쁘', 790), ('산', 791), ('오르', 792), ('키우', 793), ('휴가', 794), ('꾸준히', 795), ('긴', 796), ('적금', 797), ('일어나', 798), ('흥분', 799), ('써', 800), ('근무', 801), ('진학', 802), ('긴장', 803), ('시기', 804), ('붙', 805), ('와이프', 806), ('보여서', 807), ('생겨', 808), ('으러', 809), ('아르바이트', 810), ('피해', 811), ('소개팅', 812), ('기억', 813), ('이럴', 814), ('동호회', 815), ('전학', 816), ('열등', 817), ('알려', 818), ('병문안', 819), ('강요', 820), ('요구', 821), ('좋아하', 822), ('미리', 823), ('커', 824), ('려', 825), ('올랐', 826), ('주일', 827), ('심해', 828), ('어릴', 829), ('부동산', 830), ('앓', 831), ('일자리', 832), ('혼', 833), ('올', 834), ('려니', 835), ('겪', 836), ('앞두', 837), ('무척', 838), ('연봉', 839), ('혼났', 840), ('좌절감', 841), ('얻', 842), ('될까봐', 843), ('내년', 844), ('들어오', 845), ('그걸', 846), ('발령', 847), ('딸아이', 848), ('집중', 849), ('노년', 850), ('도대체', 851), ('모른', 852), ('다행히', 853), ('부끄러웠', 854), ('실', 855), ('비싼', 856), ('고마워', 857), ('가슴', 858), ('대리', 859), ('인해', 860), ('학생', 861), ('최종', 862), ('체력', 863), ('뭔가', 864), ('대하', 865), ('기간', 866), ('바라', 867), ('계약', 868), ('풀', 869), ('녀석', 870), ('부끄럽', 871), ('듯', 872), ('점', 873), ('지네', 874), ('롭', 875), ('단', 876), ('심장', 877), ('복지', 878), ('친해', 879), ('정년퇴직', 880), ('가정', 881), ('두렵', 882), ('어울리', 883), ('썼', 884), ('좌절', 885), ('미치', 886), ('나중', 887), ('무리', 888), ('의심', 889), ('심해서', 890), ('탓', 891), ('구하', 892), ('사춘기', 893), ('아끼', 894), ('길래', 895), ('제출', 896), ('사회', 897), ('원하', 898), ('될지', 899), ('못할', 900), ('난다', 901), ('누가', 902), ('으려고', 903), ('악화', 904), ('걷', 905), ('군', 906), ('떨어져', 907), ('무섭', 908), ('어떻', 909), ('청소', 910), ('황당', 911), ('폐암', 912), ('쳤', 913), ('수치', 914), ('종일', 915), ('중년', 916), ('슬펐', 917), ('유산', 918), ('꼴', 919), ('일까', 920), ('관절염', 921), ('유학', 922), ('섭섭', 923), ('들어온', 924), ('느끼', 925), ('반애', 926), ('비해', 927), ('안정', 928), ('지각', 929), ('안달', 930), ('전공', 931), ('별', 932), ('다네', 933), ('의식', 934), ('아무런', 935), ('앉', 936), ('수능', 937), ('될까', 938), ('올라서', 939), ('영감', 940), ('다르', 941), ('끝나', 942), ('화장실', 943), ('려면', 944), ('던데', 945), ('취약', 946), ('피우', 947), ('효과', 948), ('뿌듯', 949), ('완치', 950), ('슬픈', 951), ('드렸', 952), ('회의감', 953), ('작년', 954), ('준다고', 955), ('부럽', 956), ('보험금', 957), ('취급', 958), ('데이트', 959), ('피하', 960), ('비밀', 961), ('관련', 962), ('성과', 963), ('땅', 964), ('발견', 965), ('함', 966), ('심한', 967), ('힘든데', 968), ('는다고', 969), ('시켰', 970), ('간암', 971), ('월세', 972), ('대비', 973), ('나온', 974), ('아파트', 975), ('봐야', 976), ('괴롭', 977), ('시어머니', 978), ('지방', 979), ('웃', 980), ('거래처', 981), ('더군', 982), ('굉장히', 983), ('대회', 984), ('쓰러졌', 985), ('배우', 986), ('한대', 987), ('태도', 988), ('급하', 989), ('우연히', 990), ('알아보', 991), ('지나', 992), ('가진', 993), ('낙담', 994), ('뉴스', 995), ('출장', 996), ('주인', 997), ('가방', 998), ('추천', 999), ('확인', 1000), ('체육', 1001), ('비싸', 1002), ('위암', 1003), ('털어놓', 1004), ('갈수록', 1005), ('환자', 1006), ('프러포즈', 1007), ('어려워서', 1008), ('완전', 1009), ('가능', 1010), ('때렸', 1011), ('여기저기', 1012), ('다퉜', 1013), ('쓸', 1014), ('분노', 1015), ('비참', 1016), ('모은', 1017), ('적응', 1018), ('죄송', 1019), ('장사', 1020), ('마지막', 1021), ('똑같', 1022), ('막상', 1023), ('다쳤', 1024), ('문자', 1025), ('집사람', 1026), ('사진', 1027), ('된다', 1028), ('걸려', 1029), ('란', 1030), ('시절', 1031), ('대답', 1032), ('지갑', 1033), ('나올', 1034), ('담임', 1035), ('서러워', 1036), ('육아', 1037), ('맘', 1038), ('부르', 1039), ('완전히', 1040), ('자격증', 1041), ('어쩔', 1042), ('은지', 1043), ('합병증', 1044), ('이제야', 1045), ('시골', 1046), ('산책', 1047), ('해져서', 1048), ('간호사', 1049), ('드리', 1050), ('응원', 1051), ('잃어버렸', 1052), ('마을', 1053), ('누워', 1054), ('할아버지', 1055), ('보냈', 1056), ('본인', 1057), ('비웃', 1058), ('영어', 1059), ('비용', 1060), ('사무실', 1061), ('몰라서', 1062), ('다녔', 1063), ('여서', 1064), ('지긋지긋', 1065), ('난리', 1066), ('채', 1067), ('어이없', 1068), ('권유', 1069), ('정년', 1070), ('달리', 1071), ('버스', 1072), ('깨', 1073), ('기뻤', 1074), ('미루', 1075), ('따돌려', 1076), ('친절', 1077), ('채용', 1078), ('허락', 1079), ('다닐', 1080), ('감기', 1081), ('써서', 1082), ('컴퓨터', 1083), ('생긴', 1084), ('기회', 1085), ('짓', 1086), ('심해져서', 1087), ('어렸', 1088), ('그녀', 1089), ('아이디어', 1090), ('이름', 1091), ('자료', 1092), ('허무', 1093), ('개월', 1094), ('지난주', 1095), ('교수', 1096), ('혼내', 1097), ('빠지', 1098), ('의지', 1099), ('바빠서', 1100), ('괴롭혔', 1101), ('때리', 1102), ('디스크', 1103), ('문', 1104), ('상', 1105), ('수록', 1106), ('천식', 1107), ('개', 1108), ('다녀서', 1109), ('미워', 1110), ('원래', 1111), ('꺼내', 1112), ('초라', 1113), ('다투', 1114), ('쳐다보', 1115), ('현실', 1116), ('건가', 1117), ('라며', 1118), ('나름', 1119), ('즐기', 1120), ('돌보', 1121), ('지시', 1122), ('으라고', 1123), ('이력서', 1124), ('조별', 1125), ('엄청나', 1126), ('따로', 1127), ('어린', 1128), ('들어갔', 1129), ('손해', 1130), ('나라', 1131), ('조절', 1132), ('멀리', 1133), ('센터', 1134), ('버', 1135), ('끝내', 1136), ('해외', 1137), ('직', 1138), ('부분', 1139), ('운영', 1140), ('깜짝', 1141), ('부리', 1142), ('카드', 1143), ('반응', 1144), ('평가', 1145), ('관', 1146), ('나쁘', 1147), ('경로당', 1148), ('절대', 1149), ('고맙', 1150), ('회장', 1151), ('방법', 1152), ('반장', 1153), ('식단', 1154), ('막', 1155), ('바뀌', 1156), ('대표', 1157), ('말다툼', 1158), ('악의', 1159), ('외식', 1160), ('내성', 1161), ('살아가', 1162), ('유지', 1163), ('신청', 1164), ('줘야', 1165), ('식품', 1166), ('위', 1167), ('하루하루', 1168), ('명예퇴직', 1169), ('싸움', 1170), ('상대', 1171), ('데리', 1172), ('헬스', 1173), ('핸드폰', 1174), ('까봐', 1175), ('책', 1176), ('조급', 1177), ('요양', 1178), ('숨', 1179), ('당뇨병', 1180), ('나갈', 1181), ('시댁', 1182), ('괴롭힌', 1183), ('시켜서', 1184), ('넉넉', 1185), ('마무리', 1186), ('은근히', 1187), ('장난', 1188), ('어려울', 1189), ('정상', 1190), ('활동', 1191), ('낫', 1192), ('찍', 1193), ('차이', 1194), ('사귄', 1195), ('이미', 1196), ('뒷바라지', 1197), ('다면', 1198), ('맛있', 1199), ('감당', 1200), ('살아왔', 1201), ('재미', 1202), ('피웠', 1203), ('손녀', 1204), ('교육', 1205), ('지치', 1206), ('병실', 1207), ('화해', 1208), ('보태', 1209), ('성적표', 1210), ('겁', 1211), ('기침', 1212), ('지쳐', 1213), ('예민', 1214), ('척하', 1215), ('든든', 1216), ('자살', 1217), ('질문', 1218), ('꽤', 1219), ('관절', 1220), ('방금', 1221), ('매달', 1222), ('대체', 1223), ('차별', 1224), ('냄새', 1225), ('최고', 1226), ('아닐까', 1227), ('사용', 1228), ('위로', 1229), ('인정', 1230), ('버린', 1231), ('잦', 1232), ('무조건', 1233), ('올라', 1234), ('외출', 1235), ('고지혈증', 1236), ('느꼈', 1237), ('희망', 1238), ('곁', 1239), ('뽑', 1240), ('잊', 1241), ('물어봐서', 1242), ('개인', 1243), ('당해', 1244), ('취미', 1245), ('작성', 1246), ('지난', 1247), ('펀드', 1248), ('몹시', 1249), ('움직이', 1250), ('간다고', 1251), ('무', 1252), ('성가시', 1253), ('내장', 1254), ('치밀', 1255), ('툴툴', 1256), ('그대로', 1257), ('신혼', 1258), ('말기', 1259), ('강아지', 1260), ('피', 1261), ('심각', 1262), ('왠지', 1263), ('식사', 1264), ('기쁜', 1265), ('누군가', 1266), ('확신', 1267), ('옛날', 1268), ('땐', 1269), ('커서', 1270), ('퇴', 1271), ('탈모', 1272), ('불러', 1273), ('체중', 1274), ('백만', 1275), ('지하철', 1276), ('도저히', 1277), ('마흔', 1278), ('망쳤', 1279), ('다녀', 1280), ('정작', 1281), ('이용', 1282), ('내용', 1283), ('내내', 1284), ('숨기', 1285), ('복권', 1286), ('놀라', 1287), ('떨려', 1288), ('당할', 1289), ('환갑', 1290), ('어다', 1291), ('지났', 1292), ('주사', 1293), ('거나', 1294), ('독립', 1295), ('방어', 1296), ('경력', 1297), ('아플', 1298), ('수입', 1299), ('라면', 1300), ('가격', 1301), ('구나', 1302), ('부끄러운', 1303), ('적성', 1304), ('투나', 1305), ('잖아', 1306), ('회복', 1307), ('군대', 1308), ('그것', 1309), ('최', 1310), ('묻', 1311), ('낸', 1312), ('학기', 1313), ('해야할까', 1314), ('맛', 1315), ('절망', 1316), ('즐겁', 1317), ('추석', 1318), ('담당', 1319), ('예정', 1320), ('다이어트', 1321), ('기계', 1322), ('거래', 1323), ('불쌍', 1324), ('미칠', 1325), ('거리', 1326), ('재', 1327), ('입시', 1328), ('동창회', 1329), ('들으니', 1330), ('정기', 1331), ('지적', 1332), ('폭행', 1333), ('간섭', 1334), ('사소', 1335), ('당할까봐', 1336), ('솔직히', 1337), ('온몸', 1338), ('온종일', 1339), ('들어와서', 1340), ('아닌지', 1341), ('혼나', 1342), ('되게', 1343), ('지병', 1344), ('표정', 1345), ('지난번', 1346), ('따돌렸', 1347), ('학업', 1348), ('쇼핑', 1349), ('빠져', 1350), ('괴롭혀', 1351), ('불합격', 1352), ('무서워서', 1353), ('제안', 1354), ('노트', 1355), ('우', 1356), ('날짜', 1357), ('대서', 1358), ('언제나', 1359), ('시대', 1360), ('올려', 1361), ('신랑', 1362), ('어색', 1363), ('등급', 1364), ('고서', 1365), ('신대', 1366), ('백수', 1367), ('부정', 1368), ('친정', 1369), ('어깨', 1370), ('요청', 1371), ('괴롭혀서', 1372), ('보고서', 1373), ('고기', 1374), ('역시', 1375), ('장기', 1376), ('글쎄', 1377), ('려는', 1378), ('재미있', 1379), ('스러워서', 1380), ('니깐', 1381), ('중학교', 1382), ('동아리', 1383), ('지키', 1384), ('책임', 1385), ('운전', 1386), ('입학', 1387), ('해진', 1388), ('슬슬', 1389), ('통해', 1390), ('발', 1391), ('지출', 1392), ('다면서', 1393), ('궁금', 1394), ('어차피', 1395), ('일구', 1396), ('고등학생', 1397), ('통', 1398), ('하늘', 1399), ('민망', 1400), ('직접', 1401), ('또래', 1402), ('수익', 1403), ('자는', 1404), ('돌아오', 1405), ('믿기', 1406), ('영화', 1407), ('이전', 1408), ('기획', 1409), ('위험', 1410), ('열받', 1411), ('불우', 1412), ('지경', 1413), ('던지', 1414), ('줄어들', 1415), ('한참', 1416), ('굴', 1417), ('태어나', 1418), ('재촉', 1419), ('달래', 1420), ('려는데', 1421), ('생각나', 1422), ('정보', 1423), ('량', 1424), ('에겐', 1425), ('식', 1426), ('용기', 1427), ('청년', 1428), ('짝', 1429), ('어쩌면', 1430), ('짐', 1431), ('기사', 1432), ('압박', 1433), ('모으', 1434), ('새벽', 1435), ('간호', 1436), ('비슷', 1437), ('충분', 1438), ('증상', 1439), ('초기', 1440), ('마감', 1441), ('아팠', 1442), ('쓸모없', 1443), ('고통', 1444), ('대출금', 1445), ('학과', 1446), ('상의', 1447), ('덜', 1448), ('바람피우', 1449), ('커피', 1450), ('인정받', 1451), ('답', 1452), ('안도', 1453), ('싫어하', 1454), ('닫', 1455), ('써야', 1456), ('한잔', 1457), ('식당', 1458), ('경찰', 1459), ('놈', 1460), ('원망', 1461), ('중간고사', 1462), ('막내', 1463), ('아까', 1464), ('이대로', 1465), ('시킨', 1466), ('통화', 1467), ('바', 1468), ('만드', 1469), ('한번', 1470), ('사수', 1471), ('이별', 1472), ('신체', 1473), ('여태', 1474), ('함부로', 1475), ('노래', 1476), ('날아갈', 1477), ('위한', 1478), ('엉망', 1479), ('재발', 1480), ('직무', 1481), ('약값', 1482), ('장례식', 1483), ('의미', 1484), ('쪄서', 1485), ('부인', 1486), ('텔레비전', 1487), ('얼른', 1488), ('소용', 1489), ('자니', 1490), ('그런가', 1491), ('심부름', 1492), ('다쳐서', 1493), ('갑작스럽', 1494), ('금방', 1495), ('시장', 1496), ('존재', 1497), ('지낼', 1498), ('종종', 1499), ('무서운', 1500), ('명품', 1501), ('외모', 1502), ('덕', 1503), ('망했', 1504), ('빠져서', 1505), ('불만', 1506), ('달라서', 1507), ('이걸', 1508), ('모자라', 1509), ('사내', 1510), ('기한', 1511), ('방학', 1512), ('모았', 1513), ('정하', 1514), ('따', 1515), ('쯤', 1516), ('도박', 1517), ('떨리', 1518), ('보낼', 1519), ('처지', 1520), ('기력', 1521), ('고향', 1522), ('알아주', 1523), ('로또', 1524), ('경기', 1525), ('보너스', 1526), ('과거', 1527), ('폭위', 1528), ('목표', 1529), ('필기', 1530), ('무사히', 1531), ('라네', 1532), ('참여', 1533), ('뺏', 1534), ('된다는', 1535), ('계산', 1536), ('배려', 1537), ('심정', 1538), ('예상', 1539), ('화목', 1540), ('볼까', 1541), ('다는데', 1542), ('자라', 1543), ('통증', 1544), ('전교', 1545), ('낼', 1546), ('장례식장', 1547), ('학년', 1548), ('유방암', 1549), ('산부인과', 1550), ('이것저것', 1551), ('기운', 1552), ('쓴', 1553), ('서럽', 1554), ('진급', 1555), ('신세', 1556), ('파티', 1557), ('금액', 1558), ('슬퍼서', 1559), ('참석', 1560), ('어른', 1561), ('풀리', 1562), ('자전거', 1563), ('신경질', 1564), ('고객', 1565), ('지속', 1566), ('나눠', 1567), ('권고사직', 1568), ('외로운', 1569), ('외국', 1570), ('냐는', 1571), ('계', 1572), ('지나가', 1573), ('차려', 1574), ('갔다왔', 1575), ('구박', 1576), ('다가가', 1577), ('에다', 1578), ('투병', 1579), ('쪽', 1580), ('한숨', 1581), ('들어갈', 1582), ('설레', 1583), ('시도', 1584), ('목격', 1585), ('잘난', 1586), ('세대', 1587), ('방문', 1588), ('물어봐', 1589), ('재테크', 1590), ('기말고사', 1591), ('권', 1592), ('해외여행', 1593), ('잘렸', 1594), ('바보', 1595), ('조건', 1596), ('내려가', 1597), ('처벌', 1598), ('경험', 1599), ('신장', 1600), ('냐며', 1601), ('화내', 1602), ('성가신', 1603), ('한다니', 1604), ('빌리', 1605), ('쓰러져서', 1606), ('인원', 1607), ('가져가', 1608), ('물려주', 1609), ('소용없', 1610), ('파혼', 1611), ('치가', 1612), ('솔직', 1613), ('바꾸', 1614), ('이거', 1615), ('도전', 1616), ('부쩍', 1617), ('어찌나', 1618), ('금연', 1619), ('존경', 1620), ('사라졌', 1621), ('느껴져서', 1622), ('원서', 1623), ('넘어가', 1624), ('재취업', 1625), ('급식', 1626), ('복잡', 1627), ('이기', 1628), ('열등감', 1629), ('소외', 1630), ('일상', 1631), ('반복', 1632), ('독감', 1633), ('코앞', 1634), ('통하', 1635), ('대상', 1636), ('커닝', 1637), ('예약', 1638), ('까먹', 1639), ('익숙', 1640), ('음', 1641), ('부', 1642), ('서울', 1643), ('시력', 1644), ('빌린', 1645), ('보증', 1646), ('노', 1647), ('경우', 1648), ('까', 1649), ('과외', 1650), ('휴직', 1651), ('수학여행', 1652), ('단체', 1653), ('갔었', 1654), ('구매', 1655), ('돌', 1656), ('현장', 1657), ('도착', 1658), ('이동', 1659), ('서른', 1660), ('청혼', 1661), ('다녀야', 1662), ('질병', 1663), ('나빠져서', 1664), ('창업', 1665), ('한가', 1666), ('한다', 1667), ('주택', 1668), ('둘째', 1669), ('는다는', 1670), ('귀', 1671), ('소홀', 1672), ('역겨워', 1673), ('상대방', 1674), ('한결', 1675), ('날렸', 1676), ('김부장', 1677), ('이리', 1678), ('마스크', 1679), ('편히', 1680), ('생길', 1681), ('시비', 1682), ('아줌마', 1683), ('맞벌이', 1684), ('짝사랑', 1685), ('으셔서', 1686), ('식구', 1687), ('사회생활', 1688), ('시부모', 1689), ('구조', 1690), ('맡기', 1691), ('키워', 1692), ('끼', 1693), ('질까봐', 1694), ('은가', 1695), ('헤어진', 1696), ('밤새', 1697), ('해내', 1698), ('지난달', 1699), ('복수', 1700), ('편해졌', 1701), ('조언', 1702), ('양보', 1703), ('제도', 1704), ('자퇴', 1705), ('실력', 1706), ('로워', 1707), ('매출', 1708), ('편지', 1709), ('잔뜩', 1710), ('습관', 1711), ('뇌', 1712), ('억지로', 1713), ('현재', 1714), ('씁쓸', 1715), ('들켰', 1716), ('재혼', 1717), ('요리', 1718), ('장애', 1719), ('모아서', 1720), ('신발', 1721), ('심란', 1722), ('살아온', 1723), ('급여', 1724), ('부끄러워서', 1725), ('젊은이', 1726), ('그만뒀', 1727), ('핀잔', 1728), ('조정', 1729), ('떨', 1730), ('중소기업', 1731), ('헤어져서', 1732), ('퇴학', 1733), ('들어간', 1734), ('초대', 1735), ('지낸', 1736), ('마셨', 1737), ('어젯밤', 1738), ('불행', 1739), ('심해졌', 1740), ('일정', 1741), ('올리', 1742), ('외로웠', 1743), ('등록금', 1744), ('즐거워', 1745), ('속상한', 1746), ('계시', 1747), ('속상했', 1748), ('인슐린', 1749), ('와도', 1750), ('교실', 1751), ('지냈', 1752), ('푼', 1753), ('뇌졸중', 1754), ('중학생', 1755), ('임', 1756), ('인상', 1757), ('아파도', 1758), ('버릴', 1759), ('고치', 1760), ('모이', 1761), ('정', 1762), ('룸메이트', 1763), ('방송', 1764), ('결혼기념일', 1765), ('에게서', 1766), ('홀로', 1767), ('영업', 1768), ('진심', 1769), ('봐도', 1770), ('어려움', 1771), ('쓰이', 1772), ('태어났', 1773), ('닮', 1774), ('자산', 1775), ('똑같이', 1776), ('사망', 1777), ('금융', 1778), ('일등', 1779), ('골프', 1780), ('요실금', 1781), ('종양', 1782), ('진지', 1783), ('이성', 1784), ('줄이', 1785), ('보였', 1786), ('틈', 1787), ('쳐서', 1788), ('절교', 1789), ('처방', 1790), ('피해자', 1791), ('중간', 1792), ('티브이', 1793), ('근처', 1794), ('벗어나', 1795), ('병간호', 1796), ('충분히', 1797), ('한편', 1798), ('날씨', 1799), ('지겨워', 1800), ('놀리', 1801), ('곤란', 1802), ('정부', 1803), ('서화가', 1804), ('얘', 1805), ('이웃', 1806), ('먼', 1807), ('봉사', 1808), ('마누라', 1809), ('인턴', 1810), ('방해', 1811), ('전염병', 1812), ('싸운', 1813), ('어려워져서', 1814), ('빌려간', 1815), ('바꿔', 1816), ('환경', 1817), ('전환', 1818), ('빌렸', 1819), ('중반', 1820), ('번호', 1821), ('확실히', 1822), ('잠적', 1823), ('실기', 1824), ('듯이', 1825), ('술자리', 1826), ('다녀오', 1827), ('편한', 1828), ('확실', 1829), ('학', 1830), ('인터넷', 1831), ('골다공증', 1832), ('고마운', 1833), ('읽', 1834), ('군데', 1835), ('늘어나', 1836), ('소통', 1837), ('막내딸', 1838), ('감동', 1839), ('국어', 1840), ('떨어진', 1841), ('이자', 1842), ('뛰', 1843), ('률', 1844), ('온다고', 1845), ('에선', 1846), ('도중', 1847), ('부자', 1848), ('깊', 1849), ('작업', 1850), ('빠졌', 1851), ('제때', 1852), ('나빠졌', 1853), ('징계', 1854), ('취해서', 1855), ('반찬', 1856), ('천만', 1857), ('대충', 1858), ('훔쳐', 1859), ('연예인', 1860), ('찾아와', 1861), ('병상', 1862), ('정규직', 1863), ('외톨이', 1864), ('한두', 1865), ('집값', 1866), ('당분간', 1867), ('된대', 1868), ('가만히', 1869), ('놔서', 1870), ('자존', 1871), ('대학원', 1872), ('빠듯', 1873), ('핑계', 1874), ('욕심', 1875), ('바라보', 1876), ('안도감', 1877), ('진료', 1878), ('무능', 1879), ('다닌', 1880), ('뭔지', 1881), ('다지', 1882), ('노트북', 1883), ('만든', 1884), ('잔치', 1885), ('예쁜', 1886), ('업체', 1887), ('급한', 1888), ('전세', 1889), ('서글퍼', 1890), ('부도', 1891), ('든지', 1892), ('아예', 1893), ('키', 1894), ('상했', 1895), ('소중', 1896), ('목돈', 1897), ('조직', 1898), ('으셔', 1899), ('축구', 1900), ('최선', 1901), ('부양', 1902), ('도둑', 1903), ('이민', 1904), ('초등', 1905), ('잤', 1906), ('표현', 1907), ('메시지', 1908), ('넘어졌', 1909), ('위원회', 1910), ('찾아와서', 1911), ('꺼려', 1912), ('거기', 1913), ('천천히', 1914), ('들내', 1915), ('소외감', 1916), ('불쾌', 1917), ('불려', 1918), ('유명', 1919), ('나아지', 1920), ('윗집', 1921), ('버림', 1922), ('착한', 1923), ('쌓여', 1924), ('지원금', 1925), ('카페', 1926), ('대놓고', 1927), ('곤', 1928), ('끔찍', 1929), ('멀쩡', 1930), ('단절', 1931), ('분명히', 1932), ('싸', 1933), ('지역', 1934), ('자부', 1935), ('성희롱', 1936), ('고집', 1937), ('키웠', 1938), ('임원', 1939), ('모양', 1940), ('목소리', 1941), ('더욱', 1942), ('생계', 1943), ('실까봐', 1944), ('총각', 1945), ('연차', 1946), ('보장', 1947), ('돌아왔', 1948), ('는군', 1949), ('인기', 1950), ('대단', 1951), ('가까워', 1952), ('모의고사', 1953), ('사표', 1954), ('거부', 1955), ('매년', 1956), ('시끄럽', 1957), ('가질', 1958), ('다니까', 1959), ('요즈음', 1960), ('비난', 1961), ('음식점', 1962), ('과목', 1963), ('아닌가', 1964), ('설명', 1965), ('미워하', 1966), ('안타까워', 1967), ('마라톤', 1968), ('혼날', 1969), ('따라가', 1970), ('버티', 1971), ('보람', 1972), ('유일', 1973), ('나누', 1974), ('모른다는', 1975), ('만기', 1976), ('대학생', 1977), ('아저씨', 1978), ('마땅', 1979), ('내시경', 1980), ('큰딸', 1981), ('아무렇', 1982), ('조마조마', 1983), ('그림', 1984), ('실직', 1985), ('구먼', 1986), ('새롭', 1987), ('과정', 1988), ('상견례', 1989), ('주문', 1990), ('으시', 1991), ('달라', 1992), ('나서', 1993), ('성화', 1994), ('만만', 1995), ('막히', 1996), ('예쁘', 1997), ('둬서', 1998), ('음악', 1999), ('쉴', 2000), ('소심', 2001), ('사촌', 2002), ('사건', 2003), ('도통', 2004), ('완벽', 2005), ('세월', 2006), ('회비', 2007), ('정말로', 2008), ('내주', 2009), ('서먹', 2010), ('그리', 2011), ('예방', 2012), ('문화', 2013), ('고혈압', 2014), ('심근', 2015), ('경색', 2016), ('았었', 2017), ('벌이', 2018), ('맡겼', 2019), ('병문', 2020), ('허전', 2021), ('금전', 2022), ('들어도', 2023), ('마주치', 2024), ('준대', 2025), ('교육비', 2026), ('부당', 2027), ('더러', 2028), ('살림', 2029), ('상품', 2030), ('자괴감', 2031), ('내신', 2032), ('난감', 2033), ('따르', 2034), ('배우자', 2035), ('다툼', 2036), ('공고', 2037), ('명의', 2038), ('컸', 2039), ('발생', 2040), ('동반', 2041), ('바닥', 2042), ('예정일', 2043), ('자유', 2044), ('잔고', 2045), ('어머님', 2046), ('짧', 2047), ('후련', 2048), ('뜻대로', 2049), ('기술', 2050), ('망치', 2051), ('못할까봐', 2052), ('수행평가', 2053), ('부려', 2054), ('들으면', 2055), ('우승', 2056), ('도망갔', 2057), ('할텐데', 2058), ('일어났', 2059), ('라는데', 2060), ('쏟', 2061), ('어요', 2062), ('버려', 2063), ('명단', 2064), ('코', 2065), ('조용', 2066), ('쌓이', 2067), ('국민', 2068), ('빠르', 2069), ('치킨', 2070), ('바이러스', 2071), ('밉', 2072), ('꾼', 2073), ('알려준', 2074), ('고시', 2075), ('탔', 2076), ('끝난', 2077), ('앞날', 2078), ('위축', 2079), ('들킬까봐', 2080), ('전체', 2081), ('쓰러지', 2082), ('착잡', 2083), ('무언가', 2084), ('아들놈', 2085), ('옮기', 2086), ('가볍', 2087), ('공감', 2088), ('맡겨', 2089), ('달째', 2090), ('답장', 2091), ('눈앞', 2092), ('뚱뚱', 2093), ('아쉬워', 2094), ('분야', 2095), ('피운', 2096), ('별거', 2097), ('건물', 2098), ('조용히', 2099), ('대장암', 2100), ('정했', 2101), ('녹내장', 2102), ('예의', 2103), ('밝', 2104), ('외로워서', 2105), ('약해', 2106), ('통해서', 2107), ('안마', 2108), ('부질없', 2109), ('밀려', 2110), ('주가', 2111), ('폐지', 2112), ('시한부', 2113), ('선고', 2114), ('사라져서', 2115), ('전형', 2116), ('휴대폰', 2117), ('겁나', 2118), ('당연', 2119), ('믿음', 2120), ('안쓰러워', 2121), ('저런', 2122), ('가까운', 2123), ('예비', 2124), ('스터디', 2125), ('죄', 2126), ('뱃살', 2127), ('갈지', 2128), ('가져갔', 2129), ('짜', 2130), ('가졌', 2131), ('놀러갔', 2132), ('산다고', 2133), ('취해', 2134), ('마셔서', 2135), ('장래', 2136), ('통과', 2137), ('주동자', 2138), ('아이돌', 2139), ('상상', 2140), ('기부', 2141), ('재활', 2142), ('할수록', 2143), ('이건', 2144), ('도망', 2145), ('잘사', 2146), ('가족력', 2147), ('돌렸', 2148), ('내놓', 2149), ('외', 2150), ('그리워', 2151), ('재수', 2152), ('넘어져서', 2153), ('수군거리', 2154), ('자존심', 2155), ('피부', 2156), ('아껴', 2157), ('연인', 2158), ('로운', 2159), ('초', 2160), ('으려니', 2161), ('여름휴가', 2162), ('신난다', 2163), ('대접', 2164), ('책상', 2165), ('반려', 2166), ('단계', 2167), ('형제', 2168), ('어쩜', 2169), ('단짝', 2170), ('마트', 2171), ('돌봐', 2172), ('이만저만', 2173), ('경찰서', 2174), ('구해', 2175), ('심심', 2176), ('사사건건', 2177), ('면목', 2178), ('사귈', 2179), ('심해져', 2180), ('당연히', 2181), ('여동생', 2182), ('간병', 2183), ('바쁜', 2184), ('찌', 2185), ('바빠', 2186), ('과일', 2187), ('입원비', 2188), ('좋아해서', 2189), ('영향', 2190), ('동성애자', 2191), ('제주', 2192), ('미팅', 2193), ('접', 2194), ('변화', 2195), ('내기', 2196), ('외박', 2197), ('댁', 2198), ('혼수', 2199), ('불황', 2200), ('학창', 2201), ('일방', 2202), ('카톡', 2203), ('구입', 2204), ('간대', 2205), ('때려서', 2206), ('후임', 2207), ('동갑', 2208), ('프레젠테이션', 2209), ('아쉽', 2210), ('보인다고', 2211), ('싸워', 2212), ('장례', 2213), ('조만간', 2214), ('비하', 2215), ('떠난', 2216), ('참견', 2217), ('시달리', 2218), ('한약', 2219), ('신용', 2220), ('몸살', 2221), ('단순', 2222), ('의도', 2223), ('무산', 2224), ('기특', 2225), ('고마웠', 2226), ('키운', 2227), ('비상금', 2228), ('무료', 2229), ('차였', 2230), ('혹시나', 2231), ('치우', 2232), ('데생각', 2233), ('빼놓', 2234), ('티', 2235), ('인연', 2236), ('반말', 2237), ('멋진', 2238), ('불러서', 2239), ('조기', 2240), ('계약직', 2241), ('지쳐서', 2242), ('재밌', 2243), ('조', 2244), ('반항', 2245), ('지목', 2246), ('늦잠', 2247), ('오전', 2248), ('다퉈서', 2249), ('내외', 2250), ('돌림', 2251), ('처분', 2252), ('노인회', 2253), ('알리', 2254), ('폐', 2255), ('공모전', 2256), ('성실', 2257), ('모여', 2258), ('장면', 2259), ('고독', 2260), ('학점', 2261), ('거울', 2262), ('남동생', 2263), ('맞춰', 2264), ('비리', 2265), ('여성', 2266), ('생명', 2267), ('수험', 2268), ('잡히', 2269), ('학비', 2270), ('반갑', 2271), ('발목', 2272), ('배드민턴', 2273), ('아마', 2274), ('뼈', 2275), ('용', 2276), ('했을까', 2277), ('후반', 2278), ('컨디션', 2279), ('장소', 2280), ('수정', 2281), ('주민', 2282), ('고장', 2283), ('불구', 2284), ('선거', 2285), ('출신', 2286), ('계단', 2287), ('내방', 2288), ('스러울', 2289), ('진정', 2290), ('쉬운', 2291), ('한국', 2292), ('맞추', 2293), ('교무실', 2294), ('폐렴', 2295), ('어느새', 2296), ('지르', 2297), ('조사', 2298), ('독촉', 2299), ('회', 2300), ('도망가', 2301), ('답안지', 2302), ('집착', 2303), ('드니', 2304), ('각지', 2305), ('으라는', 2306), ('꾸준', 2307), ('결심', 2308), ('제외', 2309), ('해낼', 2310), ('미술', 2311), ('공원', 2312), ('찾아왔', 2313), ('가르쳐', 2314), ('어려웠', 2315), ('쓸데없', 2316), ('라더니', 2317), ('특별히', 2318), ('수시', 2319), ('정시', 2320), ('걸릴까', 2321), ('구직', 2322), ('낯', 2323), ('부려서', 2324), ('약한', 2325), ('견딜', 2326), ('직전', 2327), ('라면서', 2328), ('금리', 2329), ('이루', 2330), ('미혼', 2331), ('놀려서', 2332), ('한테서', 2333), ('유행', 2334), ('기다렸', 2335), ('지쳤', 2336), ('트집', 2337), ('잔', 2338), ('펑펑', 2339), ('나간', 2340), ('질렀', 2341), ('유독', 2342), ('택시', 2343), ('이놈', 2344), ('간수', 2345), ('데려왔', 2346), ('일부', 2347), ('기다려', 2348), ('을수록', 2349), ('치과', 2350), ('폭락', 2351), ('끊겼', 2352), ('여름', 2353), ('지켜', 2354), ('대책', 2355), ('의료', 2356), ('떠넘기', 2357), ('판매', 2358), ('지금껏', 2359), ('떨어질까봐', 2360), ('여간', 2361), ('지급', 2362), ('외로움', 2363), ('간식', 2364), ('옳', 2365), ('위기', 2366), ('씻', 2367), ('저질렀', 2368), ('스펙', 2369), ('일어날', 2370), ('존중', 2371), ('믿음직', 2372), ('병들', 2373), ('내편이', 2374), ('멈추', 2375), ('문서', 2376), ('미국', 2377), ('책임지', 2378), ('용서', 2379), ('정체', 2380), ('자취', 2381), ('떼', 2382), ('면담', 2383), ('모욕', 2384), ('내렸', 2385), ('지향', 2386), ('소홀히', 2387), ('수영', 2388), ('거실', 2389), ('밀리', 2390), ('이곳저곳', 2391), ('구했', 2392), ('서원', 2393), ('근육', 2394), ('넘겨', 2395), ('학습', 2396), ('아냐', 2397), ('아부', 2398), ('마냥', 2399), ('고용', 2400), ('염세', 2401), ('으며', 2402), ('깜깜', 2403), ('하필', 2404), ('떨어질', 2405), ('래서', 2406), ('살날', 2407), ('사라지', 2408), ('로서', 2409), ('기미', 2410), ('성인', 2411), ('이틀', 2412), ('끝낼', 2413), ('납부', 2414), ('광고', 2415), ('뜨', 2416), ('손가락', 2417), ('느라고', 2418), ('약하', 2419), ('애교', 2420), ('투정', 2421), ('값', 2422), ('훔쳤', 2423), ('담보', 2424), ('어딜', 2425), ('속상해서', 2426), ('놓여', 2427), ('심해진', 2428), ('걸어서', 2429), ('걸로', 2430), ('뇌출혈', 2431), ('내지', 2432), ('달하', 2433), ('놀림', 2434), ('틀렸', 2435), ('이벤트', 2436), ('쪘', 2437), ('제자리', 2438), ('겠어', 2439), ('재택근무', 2440), ('결제', 2441), ('재능', 2442), ('오를', 2443), ('파일', 2444), ('저러', 2445), ('찾아보', 2446), ('소원', 2447), ('예뻐', 2448), ('지켜보', 2449), ('성가', 2450), ('버릇', 2451), ('느껴서', 2452), ('암투병', 2453), ('쫓기', 2454), ('했는데도', 2455), ('기뻐서', 2456), ('연습', 2457), ('데려가', 2458), ('홈', 2459), ('미뤄', 2460), ('행사', 2461), ('너무너무', 2462), ('무기력', 2463), ('평균', 2464), ('툭하면', 2465), ('인척', 2466), ('특히', 2467), ('혈당', 2468), ('격려', 2469), ('들어와', 2470), ('학자금', 2471), ('놀려', 2472), ('휠체어', 2473), ('들켜', 2474), ('케이크', 2475), ('공기', 2476), ('겉', 2477), ('벗', 2478), ('다던', 2479), ('좋아해', 2480), ('전달', 2481), ('기복', 2482), ('변경', 2483), ('상하', 2484), ('온대', 2485), ('태어난', 2486), ('치료제', 2487), ('밀려서', 2488), ('손실', 2489), ('내심', 2490), ('구할', 2491), ('빌려갔', 2492), ('캠핑', 2493), ('보약', 2494), ('떠날', 2495), ('분해', 2496), ('전증', 2497), ('려던', 2498), ('감축', 2499), ('견디', 2500), ('프로그램', 2501), ('려니까', 2502), ('지겹', 2503), ('성사', 2504), ('렸', 2505), ('물려받', 2506), ('나빠서', 2507), ('방귀', 2508), ('당당', 2509), ('식탁', 2510), ('종합', 2511), ('해질', 2512), ('귀농', 2513), ('앞둔', 2514), ('협박', 2515), ('시험지', 2516), ('열리', 2517), ('교회', 2518), ('속이', 2519), ('절대로', 2520), ('이겨', 2521), ('거려서', 2522), ('계셔서', 2523), ('놨', 2524), ('방향', 2525), ('틀', 2526), ('기기', 2527), ('올렸', 2528), ('줍', 2529), ('휴일', 2530), ('날까봐', 2531), ('쌀쌀맞', 2532), ('역질', 2533), ('매사', 2534), ('뻔뻔', 2535), ('불면증', 2536), ('요통', 2537), ('한다며', 2538), ('조카', 2539), ('제발', 2540), ('차례', 2541), ('떠들', 2542), ('안부', 2543), ('괘씸', 2544), ('흘리', 2545), ('별일', 2546), ('잃어버린', 2547), ('으려', 2548), ('좀처럼', 2549), ('범인', 2550), ('주고받', 2551), ('침대', 2552), ('편애', 2553), ('드라마', 2554), ('기초', 2555), ('공장', 2556), ('바쁜데', 2557), ('가을', 2558), ('직속', 2559), ('사별', 2560), ('동업', 2561), ('우유', 2562), ('난다고', 2563), ('보이스', 2564), ('피싱', 2565), ('슬픔', 2566), ('현금', 2567), ('청약', 2568), ('차인데', 2569), ('첫날', 2570), ('으론', 2571), ('다녀온', 2572), ('꺼냈', 2573), ('어버이날', 2574), ('거려', 2575), ('몰라주', 2576), ('한창', 2577), ('외근', 2578), ('어야지', 2579), ('빈', 2580), ('즐거운', 2581), ('시네', 2582), ('양가', 2583), ('잠들', 2584), ('동시', 2585), ('온갖', 2586), ('맞이', 2587), ('돌려', 2588), ('가로채', 2589), ('공채', 2590), ('보험료', 2591), ('강제', 2592), ('얄미워', 2593), ('허망', 2594), ('법', 2595), ('연말', 2596), ('욕하', 2597), ('당한다는', 2598), ('정책', 2599), ('대할', 2600), ('화장품', 2601), ('살아갈', 2602), ('데려다', 2603), ('채팅', 2604), ('살리', 2605), ('뒤늦', 2606), ('다닌다고', 2607), ('강의', 2608), ('맺', 2609), ('외제', 2610), ('쓰레기', 2611), ('으신', 2612), ('서비스', 2613), ('다가와', 2614), ('가수', 2615), ('밀린', 2616), ('인해서', 2617), ('해온', 2618), ('올라오', 2619), ('머리카락', 2620), ('도시', 2621), ('신문', 2622), ('발언', 2623), ('입양', 2624), ('려나', 2625), ('놀렸', 2626), ('물가', 2627), ('차렸', 2628), ('문과', 2629), ('생리', 2630), ('포함', 2631), ('증', 2632), ('개발', 2633), ('틀린', 2634), ('억', 2635), ('이식', 2636), ('원했', 2637), ('망해버렸', 2638), ('병동', 2639), ('농사', 2640), ('길거리', 2641), ('말래', 2642), ('따뜻', 2643), ('피워서', 2644), ('브랜드', 2645), ('부러워서', 2646), ('의자', 2647), ('한동안', 2648), ('미리미리', 2649), ('실장', 2650), ('가져오', 2651), ('자체', 2652), ('모시', 2653), ('얘길', 2654), ('건네', 2655), ('트', 2656), ('기념', 2657), ('급격히', 2658), ('이상황', 2659), ('고과', 2660), ('고양이', 2661), ('불륜', 2662), ('가져', 2663), ('꾸', 2664), ('국가', 2665), ('서글프', 2666), ('하도', 2667), ('영상', 2668), ('교사', 2669), ('협상', 2670), ('그만둬야', 2671), ('냐', 2672), ('는구먼', 2673), ('망하', 2674), ('지저분', 2675), ('싸울', 2676), ('인제', 2677), ('간다', 2678), ('일억', 2679), ('토할', 2680), ('볼일', 2681), ('요법', 2682), ('차도', 2683), ('눈치채', 2684), ('대박', 2685), ('보상', 2686), ('박사장', 2687), ('몸무게', 2688), ('노망', 2689), ('탐내', 2690), ('내편은', 2691), ('통지', 2692), ('이등', 2693), ('완성', 2694), ('원인', 2695), ('터져', 2696), ('프로', 2697), ('이겨낼', 2698), ('투석', 2699), ('다정', 2700), ('이겼', 2701), ('인공', 2702), ('신규', 2703), ('착하', 2704), ('투명', 2705), ('선수', 2706), ('무거워', 2707), ('주눅', 2708), ('탈', 2709), ('느껴졌', 2710), ('형편없', 2711), ('밀렸', 2712), ('했으면', 2713), ('응급실', 2714), ('헛살', 2715), ('대나', 2716), ('잘릴', 2717), ('특별', 2718), ('약해서', 2719), ('진작', 2720), ('방식', 2721), ('문득', 2722), ('몰', 2723), ('모여서', 2724), ('출퇴근', 2725), ('아등바등', 2726), ('파', 2727), ('등록', 2728), ('낭비', 2729), ('닦달', 2730), ('고소', 2731), ('이라도', 2732), ('걱정거리', 2733), ('돌아다니', 2734), ('돌려주', 2735), ('호전', 2736), ('좁', 2737), ('날려', 2738), ('평온', 2739), ('들리', 2740), ('착각', 2741), ('약사', 2742), ('곗돈', 2743), ('매주', 2744), ('애정', 2745), ('살짝', 2746), ('타지', 2747), ('외면', 2748), ('하교', 2749), ('배치', 2750), ('이간질', 2751), ('다친', 2752), ('당선', 2753), ('선임', 2754), ('차장', 2755), ('해화', 2756), ('기준', 2757), ('보낸', 2758), ('학부모', 2759), ('톡', 2760), ('성장', 2761), ('가계', 2762), ('대장', 2763), ('교제', 2764), ('콜레스테롤', 2765), ('산다는', 2766), ('빵', 2767), ('화풀이', 2768), ('이날', 2769), ('정해야', 2770), ('백화점', 2771), ('비염', 2772), ('커플', 2773), ('독서실', 2774), ('발전', 2775), ('재미없', 2776), ('허약', 2777), ('은사', 2778), ('온통', 2779), ('변기', 2780), ('례식', 2781), ('스마트폰', 2782), ('어떠', 2783), ('가까이', 2784), ('사놓', 2785), ('불안감', 2786), ('깨달', 2787), ('마쳤', 2788), ('후유증', 2789), ('날까', 2790), ('공허', 2791), ('틀니', 2792), ('지불', 2793), ('선뜻', 2794), ('고자', 2795), ('줄어드', 2796), ('공기업', 2797), ('주제', 2798), ('술집', 2799), ('여생', 2800), ('하찮', 2801), ('꾸짖', 2802), ('푹', 2803), ('사온', 2804), ('과로', 2805), ('신부', 2806), ('늦둥이', 2807), ('슬퍼하', 2808), ('목', 2809), ('비행기', 2810), ('난처', 2811), ('빌릴', 2812), ('소화', 2813), ('계실', 2814), ('막대', 2815), ('약점', 2816), ('첫째', 2817), ('괴로워서', 2818), ('옮긴', 2819), ('그건', 2820), ('남겨진', 2821), ('깎', 2822), ('복용', 2823), ('희망퇴직', 2824), ('병세', 2825), ('뒀', 2826), ('시술', 2827), ('이익', 2828), ('아나', 2829), ('뇌종양', 2830), ('지루', 2831), ('이끌', 2832), ('내친', 2833), ('추가', 2834), ('전남편', 2835), ('하소연', 2836), ('벗어날', 2837), ('졸업식', 2838), ('괴로운', 2839), ('날피', 2840), ('시킬', 2841), ('갈등', 2842), ('나눴', 2843), ('두려운', 2844), ('세계', 2845), ('소음', 2846), ('유부남', 2847), ('놨는데', 2848), ('정산', 2849), ('털', 2850), ('뛰어나', 2851), ('슈퍼', 2852), ('키울', 2853), ('걸릴', 2854), ('요', 2855), ('직급', 2856), ('경쟁사', 2857), ('된다니', 2858), ('마음먹', 2859), ('위내시경', 2860), ('전원주택', 2861), ('올라가', 2862), ('몽땅', 2863), ('금', 2864), ('불량', 2865), ('꼼짝', 2866), ('장학금', 2867), ('승인', 2868), ('의문', 2869), ('절', 2870), ('예금', 2871), ('갈까봐', 2872), ('화려', 2873), ('배달', 2874), ('망해서', 2875), ('대들', 2876), ('이모', 2877), ('에스', 2878), ('온라인', 2879), ('가벼운', 2880), ('섰', 2881), ('쓰러진', 2882), ('분담', 2883), ('느냐고', 2884), ('댔', 2885), ('넘기', 2886), ('절친', 2887), ('연기', 2888), ('꿈꾸', 2889), ('내게는', 2890), ('목적', 2891), ('완주', 2892), ('대우', 2893), ('서울대', 2894), ('달라졌', 2895), ('만지', 2896), ('울적', 2897), ('대해야', 2898), ('헛소문', 2899), ('요번', 2900), ('담', 2901), ('합리', 2902), ('구속', 2903), ('교과서', 2904), ('민간', 2905), ('임금', 2906), ('편의점', 2907), ('막내아들', 2908), ('기구', 2909), ('끝냈', 2910), ('후면', 2911), ('풀려서', 2912), ('끊겨서', 2913), ('가출', 2914), ('동성애', 2915), ('회원', 2916), ('뒤처지', 2917), ('때려', 2918), ('제시', 2919), ('결혼식장', 2920), ('때린', 2921), ('이제껏', 2922), ('도시락', 2923), ('후남편', 2924), ('감시', 2925), ('출근길', 2926), ('굽', 2927), ('시켜야', 2928), ('무거운', 2929), ('수령', 2930), ('사직서', 2931), ('굳이', 2932), ('어려운데', 2933), ('부턴가', 2934), ('합격자', 2935), ('날아가', 2936), ('관두', 2937), ('검', 2938), ('모처럼', 2939), ('단어', 2940), ('무너지', 2941), ('타박', 2942), ('경비', 2943), ('표', 2944), ('철수', 2945), ('비타민', 2946), ('앞서', 2947), ('장난감', 2948), ('마음껏', 2949), ('접근', 2950), ('설거지', 2951), ('서화', 2952), ('거슬려', 2953), ('내차', 2954), ('준다는', 2955), ('노약', 2956), ('자석', 2957), ('체', 2958), ('친해진', 2959), ('지긋지긋하', 2960), ('변하', 2961), ('누명', 2962), ('인한', 2963), ('속마음', 2964), ('세금', 2965), ('확', 2966), ('경쟁', 2967), ('내버렸', 2968), ('입대', 2969), ('가발', 2970), ('겨울', 2971), ('입장', 2972), ('결재', 2973), ('막혀', 2974), ('부러졌', 2975), ('비만', 2976), ('날리', 2977), ('전문', 2978), ('홍삼', 2979), ('아무데', 2980), ('최대한', 2981), ('빼앗', 2982), ('증거', 2983), ('나타나', 2984), ('염려', 2985), ('탄', 2986), ('양', 2987), ('취하', 2988), ('시원', 2989), ('떠올라', 2990), ('음주운전', 2991), ('기뻐하', 2992), ('청첩장', 2993), ('낚시', 2994), ('건망증', 2995), ('박과장', 2996), ('아래', 2997), ('적극', 2998), ('처남', 2999), ('돌리', 3000), ('혼주', 3001), ('못한다고', 3002), ('일까봐', 3003), ('태풍', 3004), ('남겨', 3005), ('괴롭힐', 3006), ('달라진', 3007), ('한시름', 3008), ('주도', 3009), ('폐업', 3010), ('황', 3011), ('등수', 3012), ('두려움', 3013), ('알코올', 3014), ('어휴', 3015), ('틀려서', 3016), ('자율', 3017), ('말투', 3018), ('재수없', 3019), ('상해', 3020), ('숨겼', 3021), ('가사', 3022), ('부유', 3023), ('밝히', 3024), ('망쳐서', 3025), ('자연', 3026), ('간단', 3027), ('참담', 3028), ('성별', 3029), ('사위', 3030), ('끊긴', 3031), ('아닐지', 3032), ('미련', 3033), ('뒷말', 3034), ('는데다', 3035), ('올까봐', 3036), ('정밀', 3037), ('연속', 3038), ('피로', 3039), ('불평', 3040), ('늘어놓', 3041), ('거동', 3042), ('충돌', 3043), ('징그럽', 3044), ('난동', 3045), ('학벌', 3046), ('옮겼', 3047), ('권고', 3048), ('옛', 3049), ('채소', 3050), ('퍼센트', 3051), ('한대서', 3052), ('무서웠', 3053), ('가져다', 3054), ('다짜고짜', 3055), ('트라우마', 3056), ('일흔', 3057), ('퇴임', 3058), ('접촉', 3059), ('시세', 3060), ('중풍', 3061), ('마주', 3062), ('나빴', 3063), ('파산', 3064), ('데려와서', 3065), ('잊어버렸', 3066), ('굶', 3067), ('제한', 3068), ('알아들', 3069), ('상위', 3070), ('떠넘겨서', 3071), ('공평', 3072), ('돌아갈', 3073), ('혜택', 3074), ('권하', 3075), ('폭언', 3076), ('웃음', 3077), ('돌아보', 3078), ('가리', 3079), ('는커녕', 3080), ('인맥', 3081), ('낙하산', 3082), ('차린', 3083), ('여겨', 3084), ('환멸감', 3085), ('빠진', 3086), ('펴', 3087), ('자동차', 3088), ('불렀', 3089), ('화분', 3090), ('달성', 3091), ('가져왔', 3092), ('차질', 3093), ('으래', 3094), ('뒷담화', 3095), ('저지르', 3096), ('멋있', 3097), ('거짓', 3098), ('다더라', 3099), ('뒤통수', 3100), ('간경', 3101), ('성질', 3102), ('깜빡', 3103), ('화장', 3104), ('지지', 3105), ('나눌', 3106), ('상당히', 3107), ('넓', 3108), ('살갑', 3109), ('걸어도', 3110), ('어르신', 3111), ('가져야', 3112), ('액수', 3113), ('놀러오', 3114), ('기념일', 3115), ('커지', 3116), ('가득', 3117), ('일일이', 3118), ('워크숍', 3119), ('고작', 3120), ('간병인', 3121), ('심사', 3122), ('폭발', 3123), ('움직일', 3124), ('정해', 3125), ('성과급', 3126), ('졸', 3127), ('어린애', 3128), ('헌신', 3129), ('미세먼지', 3130), ('중단', 3131), ('제의', 3132), ('만남', 3133), ('방치', 3134), ('관해', 3135), ('태어날', 3136), ('돕', 3137), ('목숨', 3138), ('기관지염', 3139), ('기능', 3140), ('옷차림', 3141), ('시국', 3142), ('품', 3143), ('는구나', 3144), ('벌리', 3145), ('의대', 3146), ('보증금', 3147), ('그랬을까', 3148), ('규칙', 3149), ('턱없이', 3150), ('보통', 3151), ('엊그제', 3152), ('수행', 3153), ('가깝', 3154), ('전세금', 3155), ('급히', 3156), ('홀가분', 3157), ('흥미', 3158), ('떠', 3159), ('꺼', 3160), ('자영업', 3161), ('오류', 3162), ('순위', 3163), ('어려서', 3164), ('소문나', 3165), ('잘나', 3166), ('손님', 3167), ('텅', 3168), ('지나쳤', 3169), ('내편', 3170), ('자며', 3171), ('마셔', 3172), ('작가', 3173), ('노름', 3174), ('넘어져', 3175), ('은커녕', 3176), ('오토바이', 3177), ('몰라도', 3178), ('떠나가', 3179), ('소변', 3180), ('최악', 3181), ('충당', 3182), ('멈춰', 3183), ('복학', 3184), ('하래', 3185), ('문병', 3186), ('대처', 3187), ('따돌린', 3188), ('조원', 3189), ('면허', 3190), ('깨끗', 3191), ('도무지', 3192), ('썩', 3193), ('장모님', 3194), ('애쓰', 3195), ('치질', 3196), ('미쳐', 3197), ('어려워하', 3198), ('과실', 3199), ('그럴까봐', 3200), ('숨겨', 3201), ('그분', 3202), ('채택', 3203), ('후원', 3204), ('실감', 3205), ('망가진', 3206), ('아깝', 3207), ('라니까', 3208), ('진상', 3209), ('임용', 3210), ('친해질', 3211), ('호스피스', 3212), ('혹', 3213), ('부러우', 3214), ('임종', 3215), ('나온다고', 3216), ('설계사', 3217), ('낙', 3218), ('세입자', 3219), ('시스템', 3220), ('잦아졌', 3221), ('지켜야', 3222), ('아주머니', 3223), ('잡혀', 3224), ('챙겨야', 3225), ('못난', 3226), ('신기', 3227), ('간경변증', 3228), ('마신', 3229), ('들키', 3230), ('말리', 3231), ('등교', 3232), ('다더니', 3233), ('나올지', 3234), ('예식장', 3235), ('대중교통', 3236), ('허탈', 3237), ('시누이', 3238), ('보호자', 3239), ('영정', 3240), ('중독', 3241), ('연루', 3242), ('지나치', 3243), ('들켜서', 3244), ('야간', 3245), ('찾아갔', 3246), ('직장인', 3247), ('머릿속', 3248), ('여태껏', 3249), ('훔치', 3250), ('노릇', 3251), ('어린데', 3252), ('터놓', 3253), ('필라테스', 3254), ('맘대로', 3255), ('끝났', 3256), ('스타', 3257), ('모였', 3258), ('훔쳐간', 3259), ('약국', 3260), ('감격', 3261), ('질까', 3262), ('시집', 3263), ('반년', 3264), ('찢', 3265), ('뽑혔', 3266), ('정답', 3267), ('다치', 3268), ('정직', 3269), ('못자', 3270), ('해지', 3271), ('안타깝', 3272), ('는대', 3273), ('적자', 3274), ('다툰', 3275), ('예물', 3276), ('남성', 3277), ('성추행', 3278), ('전날', 3279), ('부작용', 3280), ('으로부터', 3281), ('백혈병', 3282), ('동거', 3283), ('꾀병', 3284), ('수상', 3285), ('저혈압', 3286), ('피워', 3287), ('끓여', 3288), ('자세', 3289), ('유', 3290), ('튜버', 3291), ('놀이공원', 3292), ('나올까봐', 3293), ('해안', 3294), ('친', 3295), ('내손', 3296), ('붙잡', 3297), ('주머니', 3298), ('기본', 3299), ('끝날', 3300), ('그토록', 3301), ('교류', 3302), ('피했', 3303), ('별것', 3304), ('끌', 3305), ('제품', 3306), ('과중', 3307), ('망설여', 3308), ('어울려', 3309), ('돌아와', 3310), ('욱', 3311), ('해야지', 3312), ('놀림거리', 3313), ('자네', 3314), ('수준', 3315), ('떠넘겨', 3316), ('세우', 3317), ('스무', 3318), ('바다', 3319), ('맛없', 3320), ('보조', 3321), ('마주쳤', 3322), ('바뀐', 3323), ('췌장암', 3324), ('휴학', 3325), ('덮', 3326), ('입상', 3327), ('불리', 3328), ('고정', 3329), ('서러운데', 3330), ('모아뒀', 3331), ('편해서', 3332), ('가망', 3333), ('방관', 3334), ('쏙', 3335), ('수당', 3336), ('새엄마', 3337), ('작품', 3338), ('이중', 3339), ('못살', 3340), ('내려갔', 3341), ('조롱', 3342), ('합의', 3343), ('자원', 3344), ('턱', 3345), ('자란', 3346), ('먹여', 3347), ('깨어나', 3348), ('지기가', 3349), ('서랍', 3350), ('들어줄', 3351), ('쓰레기통', 3352), ('삼촌', 3353), ('그만큼', 3354), ('푸', 3355), ('우린', 3356), ('돼지', 3357), ('영원히', 3358), ('철', 3359), ('만사', 3360), ('수급', 3361), ('가로챘', 3362), ('효율', 3363), ('투성이', 3364), ('몸매', 3365), ('말싸움', 3366), ('명예', 3367), ('상관없', 3368), ('악성', 3369), ('냉장고', 3370), ('증세', 3371), ('제자', 3372), ('끊임없이', 3373), ('그만둘', 3374), ('때로', 3375), ('개선', 3376), ('살아오', 3377), ('지도', 3378), ('조퇴', 3379), ('당일', 3380), ('놓이', 3381), ('깼', 3382), ('넘어갔', 3383), ('된다면', 3384), ('카카오톡', 3385), ('메신저', 3386), ('콘서트', 3387), ('먹이', 3388), ('미움', 3389), ('한쪽', 3390), ('무겁', 3391), ('가려', 3392), ('꾸중', 3393), ('간질', 3394), ('검토', 3395), ('웨딩', 3396), ('슬퍼져', 3397), ('부상', 3398), ('부렸', 3399), ('성형', 3400), ('위급', 3401), ('비켜', 3402), ('으셨', 3403), ('토막', 3404), ('대부분', 3405), ('와중', 3406), ('유튜브', 3407), ('더라면', 3408), ('교내', 3409), ('어리', 3410), ('놀러왔', 3411), ('역할', 3412), ('노리', 3413), ('해줘서', 3414), ('경매', 3415), ('감각', 3416), ('졸업반', 3417), ('물리', 3418), ('계주', 3419), ('흡연', 3420), ('진절머리', 3421), ('벌레', 3422), ('활력', 3423), ('소개서', 3424), ('급', 3425), ('담사', 3426), ('바랐', 3427), ('살까', 3428), ('는다', 3429), ('고는', 3430), ('고장나', 3431), ('배워야', 3432), ('물려줄', 3433), ('대기', 3434), ('깁스', 3435), ('침침', 3436), ('꼬투리', 3437), ('지기', 3438), ('울증', 3439), ('제주도', 3440), ('택배', 3441), ('내려오', 3442), ('드릴', 3443), ('소극', 3444), ('결핵', 3445), ('횡령', 3446), ('동업자', 3447), ('외도', 3448), ('말썽', 3449), ('농담', 3450), ('산후', 3451), ('상가', 3452), ('멍청', 3453), ('해버려서', 3454), ('기도', 3455), ('신다고', 3456), ('하나하나', 3457), ('리', 3458), ('전이', 3459), ('과자', 3460), ('캄캄', 3461), ('공개', 3462), ('전해들', 3463), ('직종', 3464), ('속도', 3465), ('범위', 3466), ('해버렸', 3467), ('독서', 3468), ('발작', 3469), ('플란트', 3470), ('으나', 3471), ('는가', 3472), ('망가뜨렸', 3473), ('물러나', 3474), ('쓰려', 3475), ('받아들일', 3476), ('섞', 3477), ('고마워서', 3478), ('급해', 3479), ('음성', 3480), ('에이', 3481), ('자취방', 3482), ('원해', 3483), ('놔두', 3484), ('배정', 3485), ('꾸지람', 3486), ('체육복', 3487), ('정지', 3488), ('답안', 3489), ('모인', 3490), ('네트워크', 3491), ('아버님', 3492), ('어떨', 3493), ('아들딸', 3494), ('한걸', 3495), ('깜빡하', 3496), ('선', 3497), ('인하', 3498), ('온다', 3499), ('미', 3500), ('알레르기', 3501), ('내리', 3502), ('한다니까', 3503), ('틀림없', 3504), ('뀌', 3505), ('이룰', 3506), ('삭감', 3507), ('치이', 3508), ('땅값', 3509), ('생길까봐', 3510), ('이르', 3511), ('내탓이', 3512), ('매니저', 3513), ('노여워', 3514), ('병치레', 3515), ('가식', 3516), ('래나', 3517), ('날아갔', 3518), ('화재', 3519), ('겉도', 3520), ('주장', 3521), ('조르', 3522), ('때려치우', 3523), ('떠올라서', 3524), ('폐경', 3525), ('풍족', 3526), ('접수', 3527), ('날씬', 3528), ('위층', 3529), ('주저앉', 3530), ('외로울', 3531), ('질책', 3532), ('산더미', 3533), ('관해서', 3534), ('입덧', 3535), ('전해', 3536), ('든다고', 3537), ('유출', 3538), ('절약', 3539), ('버렸으면', 3540), ('다신', 3541), ('상여금', 3542), ('시합', 3543), ('사항', 3544), ('버거워', 3545), ('누락', 3546), ('생산', 3547), ('해방', 3548), ('워낙', 3549), ('서서히', 3550), ('엄살', 3551), ('지나갔', 3552), ('장가', 3553), ('정신없', 3554), ('전내', 3555), ('식장', 3556), ('쑤시', 3557), ('딸내미', 3558), ('율', 3559), ('눈치보', 3560), ('뒷담', 3561), ('그날', 3562), ('외톨', 3563), ('수십', 3564), ('걸려도', 3565), ('긁', 3566), ('느려', 3567), ('확진', 3568), ('휴식', 3569), ('지식', 3570), ('앞집', 3571), ('경제력', 3572), ('절반', 3573), ('구역질', 3574), ('정정', 3575), ('여력', 3576), ('유능', 3577), ('언성', 3578), ('돌아와서', 3579), ('시계', 3580), ('지방대', 3581), ('겸', 3582), ('다닌지', 3583), ('운명', 3584), ('학대', 3585), ('당구', 3586), ('실까', 3587), ('늙은이', 3588), ('더라니까', 3589), ('버릴까봐', 3590), ('굳', 3591), ('승낙', 3592), ('소문난', 3593), ('아요', 3594), ('올라와', 3595), ('빈곤', 3596), ('심리', 3597), ('임기', 3598), ('인스턴트', 3599), ('모른다고', 3600), ('재무', 3601), ('쏟아부', 3602), ('과하', 3603), ('야단', 3604), ('즙', 3605), ('노안', 3606), ('헷갈려', 3607), ('다더군', 3608), ('순', 3609), ('더듬', 3610), ('평판', 3611), ('소득', 3612), ('퍼트리', 3613), ('받아들이', 3614), ('따라잡', 3615), ('느낄', 3616), ('담당자', 3617), ('반겨', 3618), ('관뒀', 3619), ('헤어져', 3620), ('실제', 3621), ('독거', 3622), ('마이너스', 3623), ('실망감', 3624), ('인력', 3625), ('충원', 3626), ('보도', 3627), ('범죄', 3628), ('돌려받', 3629), ('월요일', 3630), ('켜', 3631), ('물어볼', 3632), ('동년배', 3633), ('끼워', 3634), ('기숙사', 3635), ('들어올', 3636), ('상무', 3637), ('운', 3638), ('기저귀', 3639), ('체육관', 3640), ('뺨', 3641), ('날보고', 3642), ('모를', 3643), ('해코지', 3644), ('예순', 3645), ('느니', 3646), ('연장', 3647), ('근', 3648), ('욕설', 3649), ('해해', 3650), ('막혀서', 3651), ('어쩌다', 3652), ('손잡', 3653), ('강사', 3654), ('맡겨서', 3655), ('주사기', 3656), ('즐거웠', 3657), ('신났', 3658), ('액', 3659), ('공동', 3660), ('텃세', 3661), ('일진', 3662), ('그만둘까', 3663), ('동의', 3664), ('만점', 3665), ('고급', 3666), ('뮤지컬', 3667), ('기억력', 3668), ('꼼꼼', 3669), ('빈털터리', 3670), ('압류', 3671), ('불화', 3672), ('놀이', 3673), ('보단', 3674), ('늘렸', 3675), ('방역', 3676), ('도망쳤', 3677), ('약해져서', 3678), ('현관', 3679), ('깨어날', 3680), ('연', 3681), ('죽이', 3682), ('근력', 3683), ('챙겨줘', 3684), ('고쳐', 3685), ('한꺼번에', 3686), ('빨개졌', 3687), ('줄까', 3688), ('생일날', 3689), ('징그러워', 3690), ('바닥나', 3691), ('따돌릴', 3692), ('끼니', 3693), ('스타일', 3694), ('부잣집', 3695), ('문제집', 3696), ('바깥', 3697), ('사채', 3698), ('조치', 3699), ('떠나보내', 3700), ('이룬', 3701), ('세웠', 3702), ('빈혈', 3703), ('정치', 3704), ('말대꾸', 3705), ('치르', 3706), ('인수인계', 3707), ('가라앉', 3708), ('권태기', 3709), ('정성껏', 3710), ('증후군', 3711), ('도술', 3712), ('심장병', 3713), ('무심', 3714), ('전역', 3715), ('위염', 3716), ('괜한', 3717), ('대견', 3718), ('훌륭', 3719), ('질러서', 3720), ('설계', 3721), ('편찮', 3722), ('저렇', 3723), ('계셔', 3724), ('쓰여서', 3725), ('갑작', 3726), ('축', 3727), ('연수', 3728), ('바빴', 3729), ('계획서', 3730), ('출발', 3731), ('들여다보', 3732), ('아가씨', 3733), ('체질', 3734), ('엄청난', 3735), ('호감', 3736), ('스러워져', 3737), ('버틸', 3738), ('극복', 3739), ('저렇게', 3740), ('빠짐없이', 3741), ('맞춰서', 3742), ('수월', 3743), ('쉰', 3744), ('죄다', 3745), ('오후', 3746), ('납품', 3747), ('스카우트', 3748), ('구해야', 3749), ('촬영', 3750), ('접어들', 3751), ('눈물나', 3752), ('혼날까', 3753), ('소수자', 3754), ('통쾌', 3755), ('견', 3756), ('해봐도', 3757), ('상냥', 3758), ('무급', 3759), ('줄지', 3760), ('틀어박혀', 3761), ('이과', 3762), ('큰일날', 3763), ('친해서', 3764), ('로워서', 3765), ('마실', 3766), ('넘겼', 3767), ('빼먹', 3768), ('떨려서', 3769), ('가부장', 3770), ('내전', 3771), ('피아노', 3772), ('큰아이', 3773), ('암울', 3774), ('석', 3775), ('주름', 3776), ('즐길', 3777), ('살아갈지', 3778), ('스러웠어', 3779), ('끼어들', 3780), ('제약', 3781), ('쓸모', 3782), ('본다고', 3783), ('언행', 3784), ('허세', 3785), ('주의', 3786), ('낯설', 3787), ('찼', 3788), ('응대', 3789), ('청할', 3790), ('심했', 3791), ('드려야', 3792), ('꼴등', 3793), ('변변', 3794), ('볼펜', 3795), ('뛰어난', 3796), ('신혼집', 3797), ('은근', 3798), ('본가', 3799), ('외부', 3800), ('챙겼', 3801), ('위자료', 3802), ('정신없이', 3803), ('문신', 3804), ('내줘서', 3805), ('이걸로', 3806), ('수면', 3807), ('나빠져', 3808), ('처가', 3809), ('이따금', 3810), ('낙방', 3811), ('는다니', 3812), ('숨겨서', 3813), ('지켜서', 3814), ('협심증', 3815), ('갈까', 3816), ('모델', 3817), ('소견', 3818), ('기피', 3819), ('물혹', 3820), ('동영상', 3821), ('꼬박꼬박', 3822), ('쌍둥이', 3823), ('견제', 3824), ('이길', 3825), ('쥐', 3826), ('정확히', 3827), ('그램', 3828), ('호텔', 3829), ('대사', 3830), ('바꿔서', 3831), ('극단', 3832), ('그거', 3833), ('해다', 3834), ('소리치', 3835), ('팔리', 3836), ('돈벌이', 3837), ('식이', 3838), ('총무', 3839), ('달라지', 3840), ('나아질', 3841), ('간절', 3842), ('치마', 3843), ('정장', 3844), ('유급', 3845), ('반영', 3846), ('실내', 3847), ('구두', 3848), ('다루', 3849), ('뒷전', 3850), ('원만', 3851), ('못할까', 3852), ('된다며', 3853), ('인사이동', 3854), ('그만둔', 3855), ('긍정', 3856), ('턱걸이', 3857), ('간일', 3858), ('모을', 3859), ('서러워서', 3860), ('기립성', 3861), ('네요', 3862), ('잘생긴', 3863), ('위태', 3864), ('났었', 3865), ('비해서', 3866), ('경과', 3867), ('야구', 3868), ('전기', 3869), ('미처', 3870), ('도와줘', 3871), ('오지', 3872), ('한텐', 3873), ('퍼뜨리', 3874), ('쓰러져', 3875), ('나을', 3876), ('센', 3877), ('소일거리', 3878), ('별다른', 3879), ('금요일', 3880), ('퇴근길', 3881), ('공격', 3882), ('가담', 3883), ('계신', 3884), ('부서장', 3885), ('공유', 3886), ('한나', 3887), ('명문', 3888), ('교복', 3889), ('치러', 3890), ('당할지', 3891), ('유난', 3892), ('괴로워하', 3893), ('보복', 3894), ('매력', 3895), ('들어갈수록', 3896), ('덩달', 3897), ('어나', 3898), ('올려서', 3899), ('전하', 3900), ('따라다니', 3901), ('뒤지', 3902), ('뭘까', 3903), ('판', 3904), ('꽃다발', 3905), ('손목', 3906), ('대꾸', 3907), ('찾아가', 3908), ('놀이터', 3909), ('기다려야', 3910), ('볼지', 3911), ('왕', 3912), ('겉돌', 3913), ('누군지', 3914), ('멍', 3915), ('맡긴', 3916), ('평', 3917), ('반지', 3918), ('두려워서', 3919), ('잔병치레', 3920), ('도원', 3921), ('저항', 3922), ('내일모레', 3923), ('디자인', 3924), ('강도', 3925), ('가잠', 3926), ('할땐', 3927), ('산업', 3928), ('겠지', 3929), ('산후조리원', 3930), ('소송', 3931), ('지연', 3932), ('가계부', 3933), ('슬퍼지', 3934), ('자궁', 3935), ('쏘', 3936), ('무뚝뚝', 3937), ('드라이브', 3938), ('정학', 3939), ('운동장', 3940), ('골절', 3941), ('예고', 3942), ('이어지', 3943), ('처', 3944), ('전원', 3945), ('헤어', 3946), ('다녀와서', 3947), ('는다면', 3948), ('오진', 3949), ('넘쳐', 3950), ('증언', 3951), ('십년지기', 3952), ('고민거리', 3953), ('원금', 3954), ('거야', 3955), ('하객', 3956), ('공간', 3957), ('지난해', 3958), ('배울', 3959), ('근심', 3960), ('갑갑', 3961), ('차리', 3962), ('식습관', 3963), ('공경', 3964), ('이렇', 3965), ('부를', 3966), ('중환자실', 3967), ('영영', 3968), ('놀랍', 3969), ('간이식', 3970), ('쟤', 3971), ('올린', 3972), ('대소변', 3973), ('영희', 3974), ('수술실', 3975), ('완쾌', 3976), ('매월', 3977), ('곧바로', 3978), ('쟁이', 3979), ('적적', 3980), ('엘리베이터', 3981), ('버튼', 3982), ('배고프', 3983), ('비실', 3984), ('메일', 3985), ('망쳐', 3986), ('복귀', 3987), ('데려오', 3988), ('들려서', 3989), ('준다는데', 3990), ('께선', 3991), ('놀이동산', 3992), ('종목', 3993), ('비위', 3994), ('단벌', 3995), ('신사', 3996), ('더럽', 3997), ('체크', 3998), ('가르치', 3999), ('되찾', 4000), ('염려증', 4001), ('대형', 4002), ('한계', 4003), ('때릴', 4004), ('위장', 4005), ('느리', 4006), ('방지', 4007), ('해둔', 4008), ('힘든지', 4009), ('잘리', 4010), ('예산', 4011), ('단칸방', 4012), ('지원서', 4013), ('갑', 4014), ('크리스마스', 4015), ('부린다고', 4016), ('구급차', 4017), ('소릴', 4018), ('제거', 4019), ('잡아먹', 4020), ('안과', 4021), ('쪽지', 4022), ('일지', 4023), ('전문가', 4024), ('일어난', 4025), ('었었', 4026), ('망칠', 4027), ('정한', 4028), ('임대', 4029), ('어느덧', 4030), ('싼', 4031), ('괴롭힐까봐', 4032), ('실려갔', 4033), ('알렸', 4034), ('새워', 4035), ('라지만', 4036), ('클럽', 4037), ('선정', 4038), ('망한', 4039), ('진도', 4040), ('토익', 4041), ('실업', 4042), ('들킨', 4043), ('낯선', 4044), ('속여', 4045), ('터지', 4046), ('아흔', 4047), ('퍼붓', 4048), ('난데', 4049), ('천', 4050), ('못정', 4051), ('난청', 4052), ('폈', 4053), ('바꿨', 4054), ('으려나', 4055), ('퇴직자', 4056), ('뺏기', 4057), ('요가', 4058), ('결항', 4059), ('가만두', 4060), ('동서', 4061), ('아따', 4062), ('거두', 4063), ('제멋대로', 4064), ('내색', 4065), ('올수록', 4066), ('심부', 4067), ('동성', 4068), ('후집', 4069), ('엠티', 4070), ('내쫓', 4071), ('터무니없이', 4072), ('떡', 4073), ('차갑', 4074), ('예단', 4075), ('우습', 4076), ('체계', 4077), ('불공평', 4078), ('스킨십', 4079), ('출가', 4080), ('꼴찌', 4081), ('주선', 4082), ('받아들여', 4083), ('학급', 4084), ('미대', 4085), ('든다', 4086), ('골', 4087), ('어떨지', 4088), ('복도', 4089), ('내려', 4090), ('구토', 4091), ('해뒀', 4092), ('자랐', 4093), ('도리어', 4094), ('오디션', 4095), ('심', 4096), ('참으로', 4097), ('들려', 4098), ('능률', 4099), ('허가', 4100), ('일으키', 4101), ('권위', 4102), ('할거', 4103), ('오줌', 4104), ('벅차', 4105), ('외국인', 4106), ('뺐', 4107), ('유치', 4108), ('상쾌', 4109), ('도우미', 4110), ('노크', 4111), ('활발', 4112), ('부딪혀', 4113), ('부위', 4114), ('더워서', 4115), ('처량', 4116), ('넘어질', 4117), ('소셜', 4118), ('완벽히', 4119), ('규모', 4120), ('걸음', 4121), ('주방', 4122), ('죄지', 4123), ('저금통', 4124), ('어두워서', 4125), ('소파', 4126), ('뵐', 4127), ('영순', 4128), ('취한', 4129), ('모자', 4130), ('대입', 4131), ('밥상', 4132), ('준비물', 4133), ('판단', 4134), ('이웃집', 4135), ('졸라서', 4136), ('이래서', 4137), ('주부', 4138), ('몇몇', 4139), ('따라야', 4140), ('도화', 4141), ('마취', 4142), ('경향', 4143), ('평일', 4144), ('드레스', 4145), ('들어야', 4146), ('남기', 4147), ('동물', 4148), ('쌓였', 4149), ('엉뚱', 4150), ('합의금', 4151), ('기쁨', 4152), ('확정', 4153), ('퍼뜨렸', 4154), ('미친', 4155), ('올릴', 4156), ('소아암', 4157), ('해라', 4158), ('따라갈', 4159), ('한다는데', 4160), ('내연', 4161), ('제대', 4162), ('목욕탕', 4163), ('망신', 4164), ('일기', 4165), ('챙길', 4166), ('고칠', 4167), ('심상', 4168), ('거지', 4169), ('빼앗겼', 4170), ('공휴일', 4171), ('땀', 4172), ('흘려서', 4173), ('샤워', 4174), ('마찰', 4175), ('꾸리', 4176), ('양말', 4177), ('최신', 4178), ('대수롭', 4179), ('연구', 4180), ('돈다', 4181), ('트러블', 4182), ('주어진', 4183), ('한평생', 4184), ('변했', 4185), ('어려워졌', 4186), ('배워', 4187), ('이뤄', 4188), ('축복', 4189), ('철저히', 4190), ('무인도', 4191), ('고발', 4192), ('방광염', 4193), ('챙긴', 4194), ('부진', 4195), ('떠오르', 4196), ('체험', 4197), ('찬', 4198), ('저리', 4199), ('했어도', 4200), ('열렸', 4201), ('깨졌', 4202), ('창고', 4203), ('매정', 4204), ('금상', 4205), ('위협', 4206), ('냐면서', 4207), ('식욕', 4208), ('가시', 4209), ('악한', 4210), ('채널', 4211), ('텃밭', 4212), ('멸시', 4213), ('실컷', 4214), ('종업원', 4215), ('밑', 4216), ('뜸', 4217), ('언짢', 4218), ('접어드', 4219), ('감옥', 4220), ('통금', 4221), ('프로게이머', 4222), ('문제없', 4223), ('건강히', 4224), ('뜬', 4225), ('칸', 4226), ('큰형', 4227), ('든다는', 4228), ('까진', 4229), ('귀가', 4230), ('장염', 4231), ('경비원', 4232), ('가내', 4233), ('이미지', 4234), ('침', 4235), ('불려갔', 4236), ('소비', 4237), ('부지런히', 4238), ('내약', 4239), ('채우', 4240), ('층간', 4241), ('괴로웠', 4242), ('만났었', 4243), ('매달리', 4244), ('일거리', 4245), ('젊음', 4246), ('치워', 4247), ('닿', 4248), ('다녀도', 4249), ('게이트볼', 4250), ('주목', 4251), ('쌀', 4252), ('살걸', 4253), ('필통', 4254), ('낡', 4255), ('준다던', 4256), ('열정', 4257), ('해산물', 4258), ('주로', 4259), ('놀러가', 4260), ('노래방', 4261), ('불임', 4262), ('소리지르', 4263), ('재판', 4264), ('병마', 4265), ('간절히', 4266), ('안마기', 4267), ('제술', 4268), ('강화', 4269), ('그나마', 4270), ('올라와서', 4271), ('꿨', 4272), ('말렸', 4273), ('모범', 4274), ('원해서', 4275), ('재료', 4276), ('안절부절', 4277), ('어땠을까', 4278), ('어지럽', 4279), ('트레스', 4280), ('따지', 4281), ('어지러워서', 4282), ('대했', 4283), ('무력', 4284), ('데뷔', 4285), ('보조제', 4286), ('뻐근', 4287), ('여직', 4288), ('미역국', 4289), ('다던데', 4290), ('과도', 4291), ('성정', 4292), ('체성', 4293), ('배웠', 4294), ('아랫집', 4295), ('선글라스', 4296), ('몫', 4297), ('그린', 4298), ('침체', 4299), ('미흡', 4300), ('대가', 4301), ('띄', 4302), ('메뉴', 4303), ('시달려서', 4304), ('와준', 4305), ('아쉬웠', 4306), ('다녀올', 4307), ('된다니까', 4308), ('누굴', 4309), ('성실히', 4310), ('이럴까', 4311), ('주간', 4312), ('정색', 4313), ('소문내', 4314), ('이래라저래라', 4315), ('자사', 4316), ('탁구', 4317), ('성전환', 4318), ('날려서', 4319), ('툭툭', 4320), ('류머티즘', 4321), ('어라', 4322), ('와야', 4323), ('수막염', 4324), ('편두통', 4325), ('아껴서', 4326), ('방관자', 4327), ('말없이', 4328), ('제일가', 4329), ('잊어버리', 4330), ('혈변', 4331), ('높이', 4332), ('분배', 4333), ('복', 4334), ('짜리', 4335), ('꾸미', 4336), ('해놨', 4337), ('들고나', 4338), ('월급날', 4339), ('번거로워', 4340), ('돌려서', 4341), ('기관지', 4342), ('흥청망청', 4343), ('혈액', 4344), ('몰려', 4345), ('쌓인', 4346), ('하반기', 4347), ('했으니', 4348), ('유리', 4349), ('채점', 4350), ('신데', 4351), ('주년', 4352), ('유럽', 4353), ('폐질환', 4354), ('달라져', 4355), ('손찌검', 4356), ('경조사', 4357), ('생겨도', 4358), ('종교', 4359), ('수다', 4360), ('욕했', 4361), ('초등학생', 4362), ('국내', 4363), ('뽀뽀', 4364), ('피드백', 4365), ('식은땀', 4366), ('헤어진지', 4367), ('손바닥', 4368), ('사후', 4369), ('부러웠', 4370), ('평화', 4371), ('질투심', 4372), ('측정', 4373), ('후원금', 4374), ('이지나', 4375), ('장난치', 4376), ('소름', 4377), ('이세상', 4378), ('경치', 4379), ('시끄러워서', 4380), ('변호사', 4381), ('수중', 4382), ('뜻', 4383), ('보살펴', 4384), ('최저', 4385), ('진찰', 4386), ('아토피', 4387), ('자극', 4388), ('마땅히', 4389), ('급성', 4390), ('괴로울', 4391), ('고대', 4392), ('층', 4393), ('걸어가', 4394), ('분하', 4395), ('전망', 4396), ('아마도', 4397), ('시달려', 4398), ('승승장구', 4399), ('야유회', 4400), ('여행가', 4401), ('유부녀', 4402), ('골치', 4403), ('근속', 4404), ('더운', 4405), ('들어내', 4406), ('아파지', 4407), ('가정폭력', 4408), ('야식', 4409), ('뻔히', 4410), ('대상자', 4411), ('다닌대', 4412), ('시어머님', 4413), ('매점', 4414), ('바지', 4415), ('요샌', 4416), ('두려웠', 4417), ('성향', 4418), ('낯가림', 4419), ('꼬여', 4420), ('친목', 4421), ('얻어먹', 4422), ('어려우', 4423), ('뚜렷', 4424), ('커갈수록', 4425), ('뒤처진', 4426), ('축가', 4427), ('참가', 4428), ('불친절', 4429), ('바르', 4430), ('팀워크', 4431), ('탕', 4432), ('미운', 4433), ('이달', 4434), ('상심', 4435), ('정당', 4436), ('화낼', 4437), ('비아', 4438), ('찬성', 4439), ('고지식', 4440), ('눈빛', 4441), ('시끄러워', 4442), ('신약', 4443), ('가스', 4444), ('승무원', 4445), ('차림', 4446), ('퇴식', 4447), ('업', 4448), ('시아버지', 4449), ('털어놨', 4450), ('떴', 4451), ('여러모로', 4452), ('차여서', 4453), ('찝찝', 4454), ('올바른', 4455), ('저금', 4456), ('흡연자', 4457), ('달라져서', 4458), ('터', 4459), ('자제', 4460), ('본곳', 4461), ('휘두르', 4462), ('그걸로', 4463), ('잠자', 4464), ('호흡기', 4465), ('장거리', 4466), ('보살필', 4467), ('실지', 4468), ('트림', 4469), ('경쟁자', 4470), ('찾아올까', 4471), ('충고', 4472), ('기밀', 4473), ('차마', 4474), ('흔쾌히', 4475), ('할멈', 4476), ('쓰러질', 4477), ('나인데', 4478), ('지방간', 4479), ('향상', 4480), ('아플까', 4481), ('감염', 4482), ('퇴행', 4483), ('장수', 4484), ('소질', 4485), ('놀랬', 4486), ('는다네', 4487), ('노년기', 4488), ('돼도', 4489), ('웃음거리', 4490), ('번다고', 4491), ('단속', 4492), ('못나', 4493), ('상관', 4494), ('불법', 4495), ('치여서', 4496), ('간염', 4497), ('빨래', 4498), ('중식', 4499), ('살길', 4500), ('노고', 4501), ('주차', 4502), ('점검', 4503), ('전동', 4504), ('미용실', 4505), ('건성', 4506), ('번듯', 4507), ('옮', 4508), ('노부부', 4509), ('전담', 4510), ('밀치', 4511), ('졸랐', 4512), ('상속', 4513), ('알려질까', 4514), ('고르', 4515), ('찾아올', 4516), ('찾아뵙', 4517), ('다양', 4518), ('기암', 4519), ('사야', 4520), ('한게', 4521), ('보청기', 4522), ('청춘', 4523), ('깨우', 4524), ('꿇', 4525), ('흉', 4526), ('연락처', 4527), ('서방', 4528), ('지어서', 4529), ('연령', 4530), ('갔다온', 4531), ('내아', 4532), ('가져간', 4533), ('물품', 4534), ('약물', 4535), ('뜸해', 4536), ('주먹', 4537), ('남겼', 4538), ('공사', 4539), ('구해서', 4540), ('예쁨', 4541), ('바쳤', 4542), ('회계사', 4543), ('경시대회', 4544), ('화났', 4545), ('벽', 4546), ('착취', 4547), ('짝꿍', 4548), ('시집보내', 4549), ('틀려', 4550), ('유전자', 4551), ('수고', 4552), ('소풍', 4553), ('점원', 4554), ('파킨슨병', 4555), ('터무니없', 4556), ('토', 4557), ('나온다', 4558), ('운해', 4559), ('귀촌', 4560), ('홧김', 4561), ('망친', 4562), ('귀여운', 4563), ('끊기', 4564), ('살집', 4565), ('어쩐지', 4566), ('면박', 4567), ('적당히', 4568), ('이러다', 4569), ('기에', 4570), ('니다', 4571), ('깔끔', 4572), ('보유', 4573), ('보채', 4574), ('극도', 4575), ('큰소리', 4576), ('자국', 4577), ('단다', 4578), ('유난히', 4579), ('가뜩이나', 4580), ('나타났', 4581), ('잃어버려서', 4582), ('나빠진', 4583), ('놔야', 4584), ('용품', 4585), ('약해졌', 4586), ('달리기', 4587), ('커플링', 4588), ('알아듣', 4589), ('폭식', 4590), ('알려줘', 4591), ('흐뭇', 4592), ('연세', 4593), ('정확', 4594), ('음직', 4595), ('과학', 4596), ('찢어질', 4597), ('뺏겼', 4598), ('패혈증', 4599), ('다닌다는', 4600), ('깨지', 4601), ('가짜', 4602), ('맥주', 4603), ('써버려서', 4604), ('산지', 4605), ('볼까봐', 4606), ('찜질방', 4607), ('이석', 4608), ('구석구석', 4609), ('들였', 4610), ('놓쳐서', 4611), ('병가', 4612), ('깜박', 4613), ('게으르', 4614), ('순조', 4615), ('실태', 4616), ('창문', 4617), ('소속', 4618), ('독신', 4619), ('고사하고', 4620), ('가져와서', 4621), ('수습', 4622), ('예뻐해서', 4623), ('안중', 4624), ('무례', 4625), ('서다', 4626), ('대뜸', 4627), ('살찌', 4628), ('한다면서', 4629), ('키스', 4630), ('칠까봐', 4631), ('망설이', 4632), ('어딘가', 4633), ('텅비', 4634), ('경영', 4635), ('시험관', 4636), ('어울릴', 4637), ('공식', 4638), ('반가웠', 4639), ('반납', 4640), ('양다리', 4641), ('틀리', 4642), ('실험', 4643), ('나잇살', 4644), ('이래도', 4645), ('그럴까', 4646), ('놔', 4647), ('기쁠', 4648), ('가정부', 4649), ('정거장', 4650), ('옮겨', 4651), ('숨긴', 4652), ('나날', 4653), ('홍수', 4654), ('말문', 4655), ('머리숱', 4656), ('동결', 4657), ('어늘', 4658), ('위선', 4659), ('칠까', 4660), ('가두', 4661), ('안경', 4662), ('정신과', 4663), ('지화', 4664), ('귀병', 4665), ('설득', 4666), ('당할까', 4667), ('내흉', 4668), ('좋아할', 4669), ('관리자', 4670), ('김할머니', 4671), ('크기', 4672), ('모금', 4673), ('관리사', 4674), ('움큼', 4675), ('정반대', 4676), ('왔었', 4677), ('내려서', 4678), ('추운', 4679), ('만화', 4680), ('간다는', 4681), ('폐결핵', 4682), ('맡길', 4683), ('우수', 4684), ('중심', 4685), ('낼까봐', 4686), ('최신형', 4687), ('명확', 4688), ('마주쳐서', 4689), ('딱지', 4690), ('순식간', 4691), ('모욕감', 4692), ('부러운', 4693), ('쳐다봐서', 4694), ('자르', 4695), ('수리비', 4696), ('잡일', 4697), ('기존', 4698), ('휴지', 4699), ('피피티', 4700), ('들연', 4701), ('밟', 4702), ('연휴', 4703), ('맞췄', 4704), ('내밀', 4705), ('거들떠', 4706), ('근사', 4707), ('향해', 4708), ('어기', 4709), ('눈뜨', 4710), ('내진', 4711), ('늘어났', 4712), ('티격태격', 4713), ('접종', 4714), ('의원', 4715), ('입맛', 4716), ('준다', 4717), ('비웠', 4718), ('새로이', 4719), ('거꾸로', 4720), ('친동생', 4721), ('오가', 4722), ('실제로', 4723), ('구한', 4724), ('해줘도', 4725), ('부축', 4726), ('돌때', 4727), ('숨겨야', 4728), ('길가', 4729), ('옥상', 4730), ('밀쳐', 4731), ('다쳐', 4732), ('내조', 4733), ('가질까', 4734), ('거둘', 4735), ('완료', 4736), ('금이', 4737), ('박힌', 4738), ('춤', 4739), ('져야', 4740), ('인신공격', 4741), ('존재감', 4742), ('줘야해', 4743), ('놓인', 4744), ('회사채', 4745), ('구질구질', 4746), ('옛말', 4747), ('뇌경색', 4748), ('베풀', 4749), ('하굣길', 4750), ('뒤쳐지', 4751), ('기술직', 4752), ('햄버거', 4753), ('적어지', 4754), ('고사', 4755), ('불치병', 4756), ('나았', 4757), ('똑똑', 4758), ('끄', 4759), ('넘치', 4760), ('설정', 4761), ('버럭', 4762), ('응급', 4763), ('먹먹', 4764), ('당한다고', 4765), ('눈감', 4766), ('서속', 4767), ('어긋나', 4768), ('결과물', 4769), ('부정맥', 4770), ('사돈댁', 4771), ('지수', 4772), ('개운', 4773), ('오른', 4774), ('꺼리', 4775), ('다망', 4776), ('수년', 4777), ('취득', 4778), ('잔액', 4779), ('성인병', 4780), ('베꼈', 4781), ('선언', 4782), ('뒷이야기', 4783), ('실명', 4784), ('볶', 4785), ('기일', 4786), ('꽉', 4787), ('추억', 4788), ('어쩌다가', 4789), ('더러워서', 4790), ('버겁', 4791), ('호들갑', 4792), ('나원', 4793), ('일머리', 4794), ('화낸', 4795), ('뜬금없이', 4796), ('낙심', 4797), ('임산부', 4798), ('언쟁', 4799), ('가벼워', 4800), ('접관', 4801), ('천만다행', 4802), ('쫓겨날', 4803), ('핵심', 4804), ('유쾌', 4805), ('환불', 4806), ('경고', 4807), ('눌렀', 4808), ('트레이너', 4809), ('터졌', 4810), ('인색', 4811), ('성가셔서', 4812), ('엄격', 4813), ('사신', 4814), ('다가왔', 4815), ('공지', 4816), ('올라왔', 4817), ('맴돌', 4818), ('멋지', 4819), ('이루어지', 4820), ('떠올랐', 4821), ('더화', 4822), ('지켜볼', 4823), ('노래자랑', 4824), ('모질', 4825), ('아팠으면', 4826), ('모집', 4827), ('연극', 4828), ('비오', 4829), ('화난다', 4830), ('갑상선', 4831), ('한국사', 4832), ('역사', 4833), ('김치', 4834), ('도덕', 4835), ('현', 4836), ('원피스', 4837), ('부고', 4838), ('누워서', 4839), ('전기세', 4840), ('시급', 4841), ('학력', 4842), ('어려워져', 4843), ('들여서', 4844), ('기어코', 4845), ('족구', 4846), ('져서인지', 4847), ('중국', 4848), ('부도나', 4849), ('진다는', 4850), ('캐나다', 4851), ('할걸', 4852), ('쳐다봐', 4853), ('결석', 4854), ('캐묻', 4855), ('해치', 4856), ('서슴없이', 4857), ('사업체', 4858), ('집사', 4859), ('답변', 4860), ('알아봐', 4861), ('멋대로', 4862), ('사생활', 4863), ('힘내', 4864), ('한달전', 4865), ('따를', 4866), ('에어컨', 4867), ('들통', 4868), ('극심', 4869), ('전쟁', 4870), ('뒹굴', 4871), ('제안서', 4872), ('시설', 4873), ('동', 4874), ('길고양이', 4875), ('못써', 4876), ('그곳', 4877), ('꿀', 4878), ('편해진', 4879), ('셀', 4880), ('챙겨서', 4881), ('기증자', 4882), ('프랜차이즈', 4883), ('위아래', 4884), ('냉전', 4885), ('밀', 4886), ('쪽방', 4887), ('납골당', 4888), ('땄', 4889), ('으려는', 4890), ('부산', 4891), ('구워', 4892), ('조깅', 4893), ('장가가', 4894), ('막말', 4895), ('돌봐야', 4896), ('숨쉬기', 4897), ('의논', 4898), ('내려와', 4899), ('삐졌', 4900), ('양복', 4901), ('기증', 4902), ('석류', 4903), ('취향', 4904), ('왔다갔다', 4905), ('씀씀이', 4906), ('해둘', 4907), ('마구', 4908), ('음료수', 4909), ('강아지똥', 4910), ('흘렸', 4911), ('축제', 4912), ('노여워하', 4913), ('오락가락', 4914), ('마', 4915), ('해했', 4916), ('시내', 4917), ('치고', 4918), ('다시피', 4919), ('져도', 4920), ('여의치', 4921), ('실종', 4922), ('해당', 4923), ('어처구니', 4924), ('아다', 4925), ('기재', 4926), ('주네', 4927), ('뺑소니', 4928), ('상환', 4929), ('앞당기', 4930), ('양육비', 4931), ('뵈', 4932), ('나나', 4933), ('딱히', 4934), ('야호', 4935), ('증오', 4936), ('팔려서', 4937), ('놓인다', 4938), ('그놈', 4939), ('떠나갔', 4940), ('자면', 4941), ('민폐', 4942), ('나대', 4943), ('복습', 4944), ('상담원', 4945), ('혼난', 4946), ('캠프', 4947), ('기름진', 4948), ('보수', 4949), ('즐겨', 4950), ('날지', 4951), ('필름', 4952), ('멀리서', 4953), ('숨겨놨', 4954), ('보답', 4955), ('뱃속', 4956), ('여든', 4957), ('낄', 4958), ('혀', 4959), ('박람회', 4960), ('빠져야', 4961), ('지친', 4962), ('들으려', 4963), ('당직', 4964), ('악취', 4965), ('결근', 4966), ('지장', 4967), ('매형', 4968), ('숙취', 4969), ('커녕', 4970), ('코골이', 4971), ('주웠', 4972), ('실례', 4973), ('바꿀', 4974), ('진다고', 4975), ('무단결근', 4976), ('부딪히', 4977), ('전원생활', 4978), ('재력', 4979), ('주전', 4980), ('라곤', 4981), ('사수가', 4982), ('부지런', 4983), ('난일', 4984), ('적막', 4985), ('튼튼', 4986), ('흰머리', 4987), ('지켜봐야', 4988), ('야한', 4989), ('만년', 4990), ('파악', 4991), ('언젠데', 4992), ('실습', 4993), ('필수', 4994), ('발휘', 4995), ('계발', 4996), ('밭', 4997), ('공', 4998), ('독차지', 4999), ('번돈으로', 5000), ('태산', 5001), ('쑤셔', 5002), ('이웃들이', 5003), ('웬', 5004), ('격리', 5005), ('밥맛', 5006), ('느낀', 5007), ('불량자', 5008), ('냥', 5009), ('꼬이', 5010), ('놀랄', 5011), ('둘러보', 5012), ('헬스클럽', 5013), ('꽃', 5014), ('원한', 5015), ('쓴다고', 5016), ('야뇨증', 5017), ('여겨서', 5018), ('책임질', 5019), ('과로사', 5020), ('씹', 5021), ('툴툴거렸', 5022), ('모아도', 5023), ('편입', 5024), ('말수', 5025), ('그이', 5026), ('안일', 5027), ('양식', 5028), ('몰려와', 5029), ('몰려오', 5030), ('짚', 5031), ('이온', 5032), ('웃긴', 5033), ('수많', 5034), ('고령', 5035), ('막힌다', 5036), ('남긴', 5037), ('황망', 5038), ('잠수', 5039), ('잇몸', 5040), ('품절', 5041), ('고화', 5042), ('호르몬', 5043), ('내려와서', 5044), ('실은', 5045), ('부끄러워졌', 5046), ('닦', 5047), ('흉보', 5048), ('빨라', 5049), ('기러기', 5050), ('넘어지', 5051), ('수영장', 5052), ('속아', 5053), ('전립선', 5054), ('떠올리', 5055), ('처참', 5056), ('못사', 5057), ('퍼졌', 5058), ('퇴물', 5059), ('우려', 5060), ('속상', 5061), ('보여야', 5062), ('선명', 5063), ('유전병', 5064), ('밤새워서', 5065), ('골목', 5066), ('노여움', 5067), ('속물', 5068), ('아쉬움', 5069), ('준다니', 5070), ('치아', 5071), ('뺏어가', 5072), ('공사장', 5073), ('단골손님', 5074), ('출전', 5075), ('서안', 5076), ('급해져', 5077), ('미뤄야', 5078), ('합병', 5079), ('지나쳐서', 5080), ('깜빡깜빡', 5081), ('병행', 5082), ('간만에', 5083), ('무덤', 5084), ('음식물', 5085), ('유전', 5086), ('걸렸었', 5087), ('양치질', 5088), ('따끔', 5089), ('깔', 5090), ('챙겨왔', 5091), ('서툴', 5092), ('인복', 5093), ('딴', 5094), ('탕진', 5095), ('무서워하', 5096), ('경력직', 5097), ('이명', 5098), ('해져버렸', 5099), ('설', 5100), ('연배', 5101), ('양로원', 5102), ('출석', 5103), ('봄', 5104), ('인센티브', 5105), ('나무라', 5106), ('자도', 5107), ('내버려', 5108), ('도울', 5109), ('괜스레', 5110), ('국', 5111), ('후우', 5112), ('죽마고우', 5113), ('자동', 5114), ('타부', 5115), ('달려가', 5116), ('화병', 5117), ('교환', 5118), ('비전', 5119), ('배경', 5120), ('못한다는', 5121), ('쏟아졌', 5122), ('데위', 5123), ('잠가', 5124), ('두둑이', 5125), ('설립', 5126), ('못가', 5127), ('악착같이', 5128), ('튀', 5129), ('고독사', 5130), ('사지', 5131), ('노동', 5132), ('곤두서', 5133), ('관심없', 5134), ('오른다고', 5135), ('생길까', 5136), ('돌아가실', 5137), ('어리석', 5138), ('결혼반지', 5139), ('빵집', 5140), ('추태', 5141), ('세끼', 5142), ('사치', 5143), ('생신', 5144), ('샌가', 5145), ('걸릴지', 5146), ('참외', 5147), ('끼치', 5148), ('방과', 5149), ('트로트', 5150), ('아침밥', 5151), ('외국어', 5152), ('해줘', 5153), ('절제', 5154), ('장모', 5155), ('모자란', 5156), ('따라준', 5157), ('더나', 5158), ('낙서', 5159), ('커져서', 5160), ('재직', 5161), ('인수', 5162), ('후기', 5163), ('살려', 5164), ('특정', 5165), ('과식', 5166), ('점차', 5167), ('투', 5168), ('비대', 5169), ('립스틱', 5170), ('글', 5171), ('재단', 5172), ('안면', 5173), ('언급', 5174), ('갑작스러운', 5175), ('자던', 5176), ('조리', 5177), ('버텨', 5178), ('연고', 5179), ('마늘', 5180), ('닥치', 5181), ('이만기', 5182), ('비아냥대', 5183), ('일반', 5184), ('자격지심', 5185), ('쫓아다니', 5186), ('솜씨', 5187), ('호흡', 5188), ('마음놓', 5189), ('팔순', 5190), ('지극정성', 5191), ('상관없이', 5192), ('끌려가', 5193), ('착실', 5194), ('내줬', 5195), ('종류', 5196), ('서툴러서', 5197), ('해서인지', 5198), ('문턱', 5199), ('돌이켜', 5200), ('험한', 5201), ('눈시울', 5202), ('잔심부름', 5203), ('버려져', 5204), ('파견', 5205), ('절차', 5206), ('중도', 5207), ('엄하', 5208), ('미쳐서', 5209), ('보인다는', 5210), ('체하', 5211), ('다를', 5212), ('기절', 5213), ('감수', 5214), ('헷갈리', 5215), ('려다가', 5216), ('구경', 5217), ('꼬박', 5218), ('첫날밤', 5219), ('부치', 5220), ('암담', 5221), ('는다니까', 5222), ('깨워서', 5223), ('다가올', 5224), ('강한', 5225), ('넥타이', 5226), ('차지', 5227), ('돋보기안경', 5228), ('말려서', 5229), ('헤어질', 5230), ('상식', 5231), ('원룸', 5232), ('잘려', 5233), ('돈독', 5234), ('극구', 5235), ('입금', 5236), ('고모', 5237), ('연도', 5238), ('갑작스레', 5239), ('은근슬쩍', 5240), ('체해서', 5241), ('주기', 5242), ('입히', 5243), ('바닥났', 5244), ('대판', 5245), ('붙임', 5246), ('모아야', 5247), ('언론', 5248), ('생색', 5249), ('이안나', 5250), ('포즈', 5251), ('회화', 5252), ('태블릿', 5253), ('주려', 5254), ('실에', 5255), ('망쳐버렸', 5256), ('덩어리', 5257), ('한다네', 5258), ('말동무', 5259), ('온전히', 5260), ('투기', 5261), ('도망치', 5262), ('나려', 5263), ('확대', 5264), ('상한', 5265), ('다짐', 5266), ('그간', 5267), ('알려졌', 5268), ('직후', 5269), ('이겨냈', 5270), ('진액', 5271), ('돌연사', 5272), ('유세', 5273), ('베끼', 5274), ('칠순', 5275), ('순산', 5276), ('딸애', 5277), ('느껴질', 5278), ('항의', 5279), ('촌스럽', 5280), ('사돈', 5281), ('멀쩡히', 5282), ('얼어붙', 5283), ('조각', 5284), ('넘긴', 5285), ('병든', 5286), ('귀엽', 5287), ('한통', 5288), ('맞춤법', 5289), ('는데요', 5290), ('어금니', 5291), ('애써', 5292), ('급전', 5293), ('마음속', 5294), ('아까워하', 5295), ('잦아지', 5296), ('불쌍히', 5297), ('놀란', 5298), ('부서원', 5299), ('외할머니', 5300), ('의료진', 5301), ('헤프', 5302), ('부러져서', 5303), ('민원', 5304), ('욕해', 5305), ('무턱대고', 5306), ('졌으면', 5307), ('졸이', 5308), ('낙이', 5309), ('만두', 5310), ('무단', 5311), ('만한', 5312), ('산모', 5313), ('영수증', 5314), ('맞춘', 5315), ('해서라도', 5316), ('무난', 5317), ('효자', 5318), ('힘없', 5319), ('뒷모습', 5320), ('진정한', 5321), ('느린', 5322), ('못된', 5323), ('해명', 5324), ('내대', 5325), ('엄두', 5326), ('내가', 5327), ('희', 5328), ('둔해', 5329), ('현기증', 5330), ('공항', 5331), ('비서', 5332), ('떠날까', 5333), ('구월', 5334), ('동떨어진', 5335), ('패스트푸드', 5336), ('부끄럼', 5337), ('철없', 5338), ('관념', 5339), ('전념', 5340), ('훈계', 5341), ('흐르', 5342), ('쓰였', 5343), ('씌우', 5344), ('임시', 5345), ('걸으면', 5346), ('이마', 5347), ('고파서', 5348), ('교체', 5349), ('저려서', 5350), ('특강', 5351), ('정성', 5352), ('친정집', 5353), ('가져서', 5354), ('까다로운', 5355), ('삿', 5356), ('으려면', 5357), ('지만은', 5358), ('아픔', 5359), ('돌아갔', 5360), ('살찐', 5361), ('계곡', 5362), ('약한데', 5363), ('조바심', 5364), ('아낌없이', 5365), ('살맛', 5366), ('창', 5367), ('한답시고', 5368), ('슬퍼졌', 5369), ('뒤집', 5370), ('말라', 5371), ('떠서', 5372), ('주임', 5373), ('서정', 5374), ('이란', 5375), ('속인', 5376), ('오래오래', 5377), ('나머지', 5378), ('작정', 5379), ('서여', 5380), ('서열', 5381), ('탈해', 5382), ('복부', 5383), ('장만', 5384), ('도우', 5385), ('테', 5386), ('쌓여서', 5387), ('반기', 5388), ('도비', 5389), ('싸늘', 5390), ('상반기', 5391), ('질러', 5392), ('갔다오', 5393), ('외상', 5394), ('개념', 5395), ('이뻐', 5396), ('우유부단', 5397), ('부끄러워하', 5398), ('문학', 5399), ('단점', 5400), ('에세이', 5401), ('돌린', 5402), ('식수', 5403), ('빈손', 5404), ('연하', 5405), ('내것', 5406), ('잊히', 5407), ('구걸', 5408), ('한건데', 5409), ('다칠', 5410), ('서학', 5411), ('해냈', 5412), ('고장난', 5413), ('안락사', 5414), ('치매증', 5415), ('이외', 5416), ('반가워', 5417), ('보낼까', 5418), ('찜찜', 5419), ('짠해', 5420), ('빌려줄', 5421), ('사교', 5422), ('순서', 5423), ('자는데', 5424), ('헛산', 5425), ('갈일', 5426), ('보내왔', 5427), ('절당', 5428), ('피로감', 5429), ('틱', 5430), ('같아질', 5431), ('공짜', 5432), ('편했', 5433), ('들어간다고', 5434), ('그릇', 5435), ('박주', 5436), ('공황', 5437), ('지정', 5438), ('빠질', 5439), ('내부', 5440), ('볼품없', 5441), ('만료', 5442), ('마킹', 5443), ('갖추', 5444), ('마케팅', 5445), ('건너', 5446), ('달병', 5447), ('핑', 5448), ('마주친', 5449), ('갑작스러워서', 5450), ('서부터', 5451), ('담배꽁초', 5452), ('왜냐면', 5453), ('느냐는', 5454), ('경영학', 5455), ('사진관', 5456), ('갈라놓', 5457), ('들어온다고', 5458), ('대놓', 5459), ('의외', 5460), ('도저', 5461), ('위치', 5462), ('산악', 5463), ('위독', 5464), ('몸조리', 5465), ('들으려고', 5466), ('수지', 5467), ('지팡이', 5468), ('속한', 5469), ('망가뜨려', 5470), ('칼퇴근', 5471), ('사둔', 5472), ('심이', 5473), ('정해서', 5474), ('자부심', 5475), ('알파벳', 5476), ('사려', 5477), ('깨닫', 5478), ('회의실', 5479), ('두통', 5480), ('다퉈', 5481), ('폰', 5482), ('프리랜서', 5483), ('쥐구멍', 5484), ('걸린다', 5485), ('옮겨졌', 5486), ('행색', 5487), ('엑스레이', 5488), ('겉모습', 5489), ('분만', 5490), ('초반', 5491), ('펼치', 5492), ('아무튼', 5493), ('해난', 5494), ('결리', 5495), ('수석', 5496), ('사우나', 5497), ('놨더라', 5498), ('사칭', 5499), ('수수료', 5500), ('배속', 5501), ('치부', 5502), ('뱉', 5503), ('던져', 5504), ('잘랐', 5505), ('보류', 5506), ('재수술', 5507), ('돌잔치', 5508), ('파탄', 5509), ('아픈게', 5510), ('학급비', 5511), ('어두운', 5512), ('시행', 5513), ('일러서', 5514), ('공로', 5515), ('벌였', 5516), ('민첩', 5517), ('빚보증', 5518), ('올까', 5519), ('와줘서', 5520), ('서배', 5521), ('주관', 5522), ('벅찬데', 5523), ('만져', 5524), ('활용', 5525), ('쳐다봤', 5526), ('피웠으면', 5527), ('가뿐', 5528), ('맑', 5529), ('골인', 5530), ('제남편이', 5531), ('깨워', 5532), ('괴팍', 5533), ('양수', 5534), ('열려', 5535), ('내편일', 5536), ('머물', 5537), ('슈퍼마켓', 5538), ('지점장', 5539), ('고요', 5540), ('도장', 5541), ('미더워', 5542), ('뿌', 5543), ('술병', 5544), ('난폭', 5545), ('원장', 5546), ('또우', 5547), ('촉박', 5548), ('이기업', 5549), ('허우적거리', 5550), ('숨겨왔', 5551), ('초년생', 5552), ('토요일', 5553), ('안타까운', 5554), ('삭제', 5555), ('셨을까', 5556), ('전액', 5557), ('감독', 5558), ('편안히', 5559), ('바른', 5560), ('아닐', 5561), ('구네', 5562), ('덜컥', 5563), ('모호', 5564), ('황혼', 5565), ('법원', 5566), ('입양아', 5567), ('미납', 5568), ('샘', 5569), ('그룹', 5570), ('약건', 5571), ('친해져서', 5572), ('성심성의껏', 5573), ('테스트', 5574), ('유언장', 5575), ('이성애자', 5576), ('더라구', 5577), ('연락도', 5578), ('투덜대', 5579), ('나눠서', 5580), ('학가', 5581), ('고령자', 5582), ('뒤집어씌워서', 5583), ('향수', 5584), ('공방', 5585), ('따름', 5586), ('금식', 5587), ('제압', 5588), ('그땐', 5589), ('저럴까', 5590), ('장기간', 5591), ('매수', 5592), ('다기', 5593), ('옮겨야', 5594), ('웬일', 5595), ('여행지', 5596), ('학예회', 5597), ('도자기', 5598), ('비관', 5599), ('아들내미', 5600), ('다닐까', 5601), ('진실', 5602), ('범죄자', 5603), ('급급', 5604), ('친화력', 5605), ('내서', 5606), ('미경', 5607), ('해해서', 5608), ('틀어져서', 5609), ('베껴', 5610), ('살려서', 5611), ('떤다고', 5612), ('도창', 5613), ('미쳤', 5614), ('적당', 5615), ('욕심내', 5616), ('분통', 5617), ('참무', 5618), ('어지러워', 5619), ('말려도', 5620), ('압박감', 5621), ('열사병', 5622), ('늘어난', 5623), ('집어던졌', 5624), ('날신경', 5625), ('쫓겨나', 5626), ('막무가내', 5627), ('값비싼', 5628), ('징', 5629), ('도구', 5630), ('일세', 5631), ('마른', 5632), ('빠른', 5633), ('뱀술', 5634), ('매입', 5635), ('무대', 5636), ('세워', 5637), ('살아남', 5638), ('이른', 5639), ('와버렸', 5640), ('파업', 5641), ('맞선', 5642), ('기다려줄', 5643), ('본받', 5644), ('역겨운', 5645), ('나타난', 5646), ('수저', 5647), ('팀플레이', 5648), ('지나쳐', 5649), ('고깃집', 5650), ('각이', 5651), ('동참', 5652), ('계약서', 5653), ('생각없이', 5654), ('진술', 5655), ('부러워해', 5656), ('장마', 5657), ('척추', 5658), ('새내기', 5659), ('휴진', 5660), ('익명', 5661), ('붉', 5662), ('들으니까', 5663), ('재정난', 5664), ('진대', 5665), ('분주', 5666), ('보호', 5667), ('따라했', 5668), ('권했', 5669), ('성분', 5670), ('야채', 5671), ('기러', 5672), ('교묘', 5673), ('오만원', 5674), ('더치페이', 5675), ('풀려', 5676), ('쓰리', 5677), ('신분', 5678), ('상승', 5679), ('반병', 5680), ('가져갈', 5681), ('변해서', 5682), ('오답', 5683), ('윗사람', 5684), ('전폭', 5685), ('부조', 5686), ('얹혀', 5687), ('안전', 5688), ('삼주', 5689), ('회관', 5690), ('독단', 5691), ('학연', 5692), ('천하태평', 5693), ('사이트', 5694), ('곱', 5695), ('예뻐서', 5696), ('선천', 5697), ('체지방', 5698), ('빛', 5699), ('불안해할', 5700), ('모진', 5701), ('번거', 5702), ('륜', 5703), ('연로', 5704), ('의학', 5705), ('잉여', 5706), ('빈약', 5707), ('처해', 5708), ('허위', 5709), ('검증', 5710), ('양반', 5711), ('트랜스젠더', 5712), ('외딴섬', 5713), ('아까워', 5714), ('복직', 5715), ('삭막', 5716), ('안서', 5717), ('질색', 5718), ('교통', 5719), ('피크', 5720), ('추워져서', 5721), ('도서관', 5722), ('희생양', 5723), ('증권', 5724), ('바이어', 5725), ('서두르', 5726), ('진못했', 5727), ('앞가림', 5728), ('재수생', 5729), ('놓아주', 5730), ('일로', 5731), ('큰소리쳤', 5732), ('뚝', 5733), ('원통', 5734), ('떠맡', 5735), ('속였', 5736), ('고개', 5737), ('밥값', 5738), ('뒤치다꺼리', 5739), ('온천', 5740), ('결핍', 5741), ('만류', 5742), ('가려먹', 5743), ('목걸이', 5744), ('제시간', 5745), ('위하', 5746), ('동문', 5747), ('교대', 5748), ('일과', 5749), ('달라붙', 5750), ('잉꼬부부', 5751), ('안쓰럽', 5752), ('축내', 5753), ('저주', 5754), ('느', 5755), ('배고파서', 5756), ('웬만', 5757), ('궁리', 5758), ('보일까', 5759), ('무너져', 5760), ('출세', 5761), ('난하', 5762), ('요점', 5763), ('패키지여행', 5764), ('일어난다고', 5765), ('눈초리', 5766), ('오리엔테이션', 5767), ('노화', 5768), ('기형', 5769), ('태어날지', 5770), ('건의', 5771), ('돌변', 5772), ('취약점', 5773), ('몰라라', 5774), ('먹여살려야', 5775), ('논다', 5776), ('본부', 5777), ('내남', 5778), ('지대', 5779), ('서툴러', 5780), ('패턴', 5781), ('솟', 5782), ('나진', 5783), ('깊이', 5784), ('한눈판', 5785), ('종이', 5786), ('던졌', 5787), ('장기근속', 5788), ('욕할', 5789), ('골라야', 5790), ('가습기', 5791), ('훈수', 5792), ('아팠었', 5793), ('자세히', 5794), ('회피', 5795), ('피시방', 5796), ('따라오', 5797), ('버릇없', 5798), ('들킬', 5799), ('지난날', 5800), ('뇌척수막염', 5801), ('발음', 5802), ('승급', 5803), ('검소', 5804), ('주변인', 5805), ('붓', 5806), ('수명', 5807), ('신호', 5808), ('장점', 5809), ('사경', 5810), ('헤매', 5811), ('양심', 5812), ('키워서', 5813), ('통지서', 5814), ('계층', 5815), ('수단', 5816), ('의구심', 5817), ('들러붙', 5818), ('꿈꿔온', 5819), ('인터뷰', 5820), ('수군', 5821), ('주번', 5822), ('만난다는', 5823), ('나와야', 5824), ('병수', 5825), ('유치원생', 5826), ('썩인', 5827), ('비로', 5828), ('질지', 5829), ('저렴', 5830), ('형식', 5831), ('노숙', 5832), ('슬퍼할', 5833), ('맛집', 5834), ('총', 5835), ('알츠하이머', 5836), ('지체', 5837), ('정착', 5838), ('무사', 5839), ('탄탄', 5840), ('오십견', 5841), ('저지른', 5842), ('작업복', 5843), ('요리사', 5844), ('열린', 5845), ('병드', 5846), ('댄스', 5847), ('실행', 5848), ('이나마', 5849), ('무서워졌', 5850), ('교', 5851), ('였으면', 5852), ('달려와서', 5853), ('싱글', 5854), ('줬었', 5855), ('에서부터', 5856), ('전업주부', 5857), ('행운', 5858), ('증진', 5859), ('도망갈', 5860), ('엎', 5861), ('밀쳤', 5862), ('험악', 5863), ('힘써', 5864), ('셔야', 5865), ('교차', 5866), ('역겨웠', 5867), ('금지', 5868), ('협력', 5869), ('귀기울여', 5870), ('대리점', 5871), ('기적', 5872), ('철렁', 5873), ('칠판', 5874), ('라지', 5875), ('스포츠', 5876), ('만날까', 5877), ('오일', 5878), ('영원', 5879), ('라더라', 5880), ('들어서', 5881), ('레', 5882), ('위해선', 5883), ('쑥스러워', 5884), ('풍요', 5885), ('한국어', 5886), ('서툰', 5887), ('로일', 5888), ('숨겨진', 5889), ('가중', 5890), ('였을', 5891), ('시즌', 5892), ('누웠', 5893), ('체념', 5894), ('인문', 5895), ('정돈', 5896), ('지가', 5897), ('거칠', 5898), ('그지없', 5899), ('약장수', 5900), ('버려졌', 5901), ('탐탁', 5902), ('전시', 5903), ('계란', 5904), ('느냐며', 5905), ('어린이', 5906), ('워킹', 5907), ('현황', 5908), ('내발', 5909), ('나섰', 5910), ('라던', 5911), ('참고', 5912), ('사태', 5913), ('간지', 5914), ('잊어먹', 5915), ('무좀', 5916), ('말년', 5917), ('부드럽', 5918), ('보일', 5919), ('게임기', 5920), ('해왔', 5921), ('환상', 5922), ('가증', 5923), ('부반장', 5924), ('요금제', 5925), ('성한', 5926), ('착오', 5927), ('됐었', 5928), ('쫓아냈', 5929), ('해제', 5930), ('감상', 5931), ('꼼꼼히', 5932), ('살펴보', 5933), ('해할', 5934), ('분장', 5935), ('전한', 5936), ('팍팍', 5937), ('조심히', 5938), ('해오', 5939), ('약초', 5940), ('집구석', 5941), ('수시로', 5942), ('바쁜지', 5943), ('공들여', 5944), ('구멍', 5945), ('채식', 5946), ('얇', 5947), ('이차도', 5948), ('청력', 5949), ('저애', 5950), ('꿈꿨', 5951), ('차서', 5952), ('소리쳤', 5953), ('불쑥', 5954), ('간부', 5955), ('챙겨준', 5956), ('우산', 5957), ('빠져나가', 5958), ('청', 5959), ('명퇴', 5960), ('뒷받침', 5961), ('게을러서', 5962), ('들통나', 5963), ('쳐', 5964), ('변명', 5965), ('특기', 5966), ('이력', 5967), ('덤벙대', 5968), ('단순히', 5969), ('뛰어가', 5970), ('쭉', 5971), ('뜨거워', 5972), ('박사', 5973), ('축의금', 5974), ('미식', 5975), ('버텨야', 5976), ('어수선', 5977), ('석차', 5978), ('과체', 5979), ('헐뜯', 5980), ('산대', 5981), ('망가져서', 5982), ('낙인', 5983), ('이러면', 5984), ('이장', 5985), ('서병', 5986), ('처우', 5987), ('못생긴', 5988), ('휴대', 5989), ('분만실', 5990), ('책임져야', 5991), ('빌', 5992), ('비중', 5993), ('계셨', 5994), ('운동회', 5995), ('고선', 5996), ('철저', 5997), ('바쁠', 5998), ('기장', 5999), ('수군대', 6000), ('고장났', 6001), ('씌웠', 6002), ('효도', 6003), ('추구', 6004), ('호통', 6005), ('기대감', 6006), ('뒤숭숭', 6007), ('소설', 6008), ('원치', 6009), ('야지', 6010), ('써도', 6011), ('드나', 6012), ('영입', 6013), ('화기애애', 6014), ('퉁명', 6015), ('피아니스트', 6016), ('뵙', 6017), ('들어와도', 6018), ('몰아가', 6019), ('비워', 6020), ('산악회', 6021), ('령기', 6022), ('묻힌', 6023), ('감흥', 6024), ('구분', 6025), ('옆방', 6026), ('기승', 6027), ('접대', 6028), ('수련', 6029), ('일관', 6030), ('잡혀서', 6031), ('지끈지끈', 6032), ('방탄소년단', 6033), ('선산', 6034), ('울컥', 6035), ('적절', 6036), ('무지', 6037), ('최우선', 6038), ('친할머니', 6039), ('가로', 6040), ('번번이', 6041), ('보호사', 6042), ('내게도', 6043), ('성폭행', 6044), ('수감', 6045), ('갑상샘', 6046), ('는데두', 6047), ('달치', 6048), ('손녀딸', 6049), ('공책', 6050), ('진땀', 6051), ('파손', 6052), ('얄미워서', 6053), ('해지지', 6054), ('서분', 6055), ('음반', 6056), ('남용', 6057), ('터질', 6058), ('와연', 6059), ('세미나', 6060), ('간경변', 6061), ('글씨', 6062), ('트릴', 6063), ('찢어지', 6064), ('외워', 6065), ('수집', 6066), ('자상', 6067), ('지걱', 6068), ('기댈', 6069), ('서영', 6070), ('환갑잔치', 6071), ('몰려서', 6072), ('초췌', 6073), ('반성', 6074), ('염증', 6075), ('조상', 6076), ('휴가비', 6077), ('돼버렸', 6078), ('미뤄졌', 6079), ('밀릴', 6080), ('미뤘', 6081), ('도달', 6082), ('으니깐', 6083), ('할래', 6084), ('인나', 6085), ('곳곳', 6086), ('술김', 6087), ('까말까', 6088), ('음주', 6089), ('증인', 6090), ('안주', 6091), ('팔팔', 6092), ('기반', 6093), ('개학', 6094), ('발했', 6095), ('강인', 6096), ('고당', 6097), ('악', 6098), ('달려서', 6099), ('버섯', 6100), ('체형', 6101), ('배제', 6102), ('둥', 6103), ('본의', 6104), ('성품', 6105), ('형성', 6106), ('구단', 6107), ('참신', 6108), ('내버려뒀', 6109), ('두드러기', 6110), ('작용', 6111), ('그쪽', 6112), ('원수', 6113), ('양쪽', 6114), ('젠더', 6115), ('회중', 6116), ('생활고', 6117), ('얽매이', 6118), ('일로나', 6119), ('쓸까봐', 6120), ('해서일', 6121), ('소꿉친구', 6122), ('서러운', 6123), ('문의', 6124), ('인물', 6125), ('미워져', 6126), ('밤늦', 6127), ('큰일나', 6128), ('무의미', 6129), ('비추', 6130), ('구인', 6131), ('그제야', 6132), ('면은', 6133), ('고프', 6134), ('침뱉', 6135), ('가구', 6136), ('정해야할지', 6137), ('깎였', 6138), ('식후', 6139), ('그만둬', 6140), ('유통', 6141), ('부러져', 6142), ('본다', 6143), ('혈액형', 6144), ('계열사', 6145), ('행패', 6146), ('유복', 6147), ('부딪치', 6148), ('잊어버린', 6149), ('셋집', 6150), ('한귀', 6151), ('헛웃음', 6152), ('잔인', 6153), ('안정제', 6154), ('다운', 6155), ('설문지', 6156), ('회사원', 6157), ('궤양', 6158), ('다가와서', 6159), ('여가', 6160), ('킬로그램', 6161), ('부녀', 6162), ('예감', 6163), ('차안', 6164), ('살피', 6165), ('모함', 6166), ('셈', 6167), ('앱', 6168), ('가신', 6169), ('비속어', 6170), ('혈육', 6171), ('그래서인지', 6172), ('영찬', 6173), ('피시', 6174), ('억지', 6175), ('섹스', 6176), ('고가', 6177), ('부담감', 6178), ('쓸데없이', 6179), ('쫄쫄', 6180), ('주삿바늘', 6181), ('복학생', 6182), ('따졌', 6183), ('어떨까', 6184), ('빈자리', 6185), ('쪄', 6186), ('대청소', 6187), ('술잔', 6188), ('벌어먹', 6189), ('추천서', 6190), ('이쁘', 6191), ('고기반찬', 6192), ('따랐', 6193), ('공금', 6194), ('잘라야', 6195), ('집장', 6196), ('살빼', 6197), ('예체능', 6198), ('하군', 6199), ('너그럽', 6200), ('예뻐해', 6201), ('섞이', 6202), ('분리', 6203), ('해자', 6204), ('가까워져', 6205), ('강남', 6206), ('골라', 6207), ('줄였', 6208), ('신부전', 6209), ('피운다는', 6210), ('적용', 6211), ('시점', 6212), ('계정', 6213), ('위안', 6214), ('선호', 6215), ('패딩', 6216), ('나아졌', 6217), ('퇴전', 6218), ('빌려야', 6219), ('지친다', 6220), ('버텼', 6221), ('다더라고', 6222), ('공공', 6223), ('수평', 6224), ('의사소통', 6225), ('유치원', 6226), ('비정규직', 6227), ('내보', 6228), ('깨어났', 6229), ('진통', 6230), ('걸치', 6231), ('차가운', 6232), ('파트너', 6233), ('싱숭생숭', 6234), ('배운', 6235), ('대응', 6236), ('스런', 6237), ('속옷', 6238), ('지우', 6239), ('밀어내', 6240), ('깨져', 6241), ('알선', 6242), ('날간', 6243), ('북받쳐', 6244), ('서회', 6245), ('일본', 6246), ('주치의', 6247), ('쌩쌩', 6248), ('둬', 6249), ('행실', 6250), ('내인생의', 6251), ('피울', 6252), ('엉망진창', 6253), ('들으면서', 6254), ('라던데', 6255), ('가정사', 6256), ('세뱃돈', 6257), ('빤히', 6258), ('인사말', 6259), ('잊힐', 6260), ('줄까봐', 6261), ('약재', 6262), ('나쁜데', 6263), ('싱글벙글', 6264), ('가치', 6265), ('산골', 6266), ('얄밉', 6267), ('흐릿', 6268), ('힘쓰', 6269), ('노조', 6270), ('내암', 6271), ('어려', 6272), ('골골대', 6273), ('묵살', 6274), ('무너진', 6275), ('슬쩍', 6276), ('흉흉', 6277), ('야할', 6278), ('무량', 6279), ('뒤집어엎', 6280), ('두근거려', 6281), ('애매', 6282), ('맡겨야', 6283), ('피나', 6284), ('자야', 6285), ('고스란히', 6286), ('로화', 6287), ('처했', 6288), ('부풀', 6289), ('코피', 6290), ('달려갔', 6291), ('끝낸', 6292), ('춤추', 6293), ('전아', 6294), ('일원', 6295), ('달이', 6296), ('방안', 6297), ('로비', 6298), ('복통', 6299), ('애사', 6300), ('동조', 6301), ('갈아입', 6302), ('기록', 6303), ('놀릴', 6304), ('우대', 6305), ('귀국', 6306), ('뻔해', 6307), ('내우', 6308), ('직위', 6309), ('불경기', 6310), ('끼칠까봐', 6311), ('어처구니없', 6312), ('숫자', 6313), ('왼쪽', 6314), ('수발', 6315), ('백신', 6316), ('컵라면', 6317), ('상담소', 6318), ('연기자', 6319), ('마주칠', 6320), ('양호', 6321), ('흑자', 6322), ('계모', 6323), ('좌천', 6324), ('지표', 6325), ('붙이', 6326), ('어울려서', 6327), ('계좌', 6328), ('염좌', 6329), ('야구장', 6330), ('질타', 6331), ('밀려와', 6332), ('뒤집어썼', 6333), ('건축', 6334), ('필', 6335), ('했어야', 6336), ('눌러서', 6337), ('데려온', 6338), ('여럿', 6339), ('애타', 6340), ('애통', 6341), ('융통', 6342), ('그저께', 6343), ('넋', 6344), ('아만', 6345), ('스승', 6346), ('가져와', 6347), ('물놀이', 6348), ('떠내려갔', 6349), ('구성', 6350), ('커져', 6351), ('모른대', 6352), ('놀러', 6353), ('특성', 6354), ('집들이', 6355), ('부품', 6356), ('성대', 6357), ('문구점', 6358), ('당수', 6359), ('졸였', 6360), ('인형', 6361), ('콜', 6362), ('점잖', 6363), ('지켜봐', 6364), ('일러', 6365), ('관광', 6366), ('떠안', 6367), ('부적', 6368), ('믿음직스럽', 6369), ('화만', 6370), ('했잖아', 6371), ('온화', 6372), ('사방', 6373), ('부사장', 6374), ('찍혀서', 6375), ('들이', 6376), ('줘야지', 6377), ('취할', 6378), ('아야지', 6379), ('알려야', 6380), ('조문', 6381), ('음료', 6382), ('신물', 6383), ('장인어른', 6384), ('혈관', 6385), ('더워', 6386), ('드려', 6387), ('벌려야', 6388), ('몰랐었', 6389), ('정해져', 6390), ('쑤셔서', 6391), ('해대서', 6392), ('환절기', 6393), ('다연', 6394), ('허덕이', 6395), ('치솟', 6396), ('변변찮', 6397), ('질렸', 6398), ('나눈', 6399), ('하반신', 6400), ('쪼잔', 6401), ('감싸', 6402), ('가치관', 6403), ('바가지', 6404), ('왕래', 6405), ('본지', 6406), ('지진', 6407), ('끝났으면', 6408), ('파스', 6409), ('변비', 6410), ('매너', 6411), ('각오', 6412), ('영심', 6413), ('흔적', 6414), ('안다고', 6415), ('형수', 6416), ('진료비', 6417), ('매장', 6418), ('으셨는데', 6419), ('나참', 6420), ('팔씨름', 6421), ('건드리', 6422), ('청했', 6423), ('어린아이', 6424), ('영화배우', 6425), ('제법', 6426), ('스러운데', 6427), ('쌓', 6428), ('절단', 6429), ('팬', 6430), ('보인', 6431), ('쫓아내', 6432), ('책임감', 6433), ('숙소', 6434), ('벌렁', 6435), ('마중', 6436), ('드는데', 6437), ('시끄러운데', 6438), ('들어갈까봐', 6439), ('불러내', 6440), ('관둬', 6441), ('지망', 6442), ('망설임', 6443), ('돼버린', 6444), ('수칙', 6445), ('줘도', 6446), ('야하', 6447), ('한의사', 6448), ('빼돌리', 6449), ('캐비닛', 6450), ('하한가', 6451), ('차려줘도', 6452), ('뒷돈', 6453), ('예습', 6454), ('지통', 6455), ('어저께', 6456), ('줄여', 6457), ('골프장', 6458), ('에스컬레이터', 6459), ('곤혹', 6460), ('뒤처리', 6461), ('바뀔', 6462), ('황급히', 6463), ('내게서', 6464), ('단호', 6465), ('과잉', 6466), ('한다더니', 6467), ('외워서', 6468), ('사귄다고', 6469), ('줄어든다는', 6470), ('애쓴', 6471), ('다독여', 6472), ('팔목', 6473), ('전면', 6474), ('접본', 6475), ('시청', 6476), ('끊겨', 6477), ('으', 6478), ('나아야', 6479), ('뇌리', 6480), ('찐', 6481), ('뽑혀', 6482), ('연녀', 6483), ('꼬리', 6484), ('니스', 6485), ('달라질', 6486), ('보직', 6487), ('청각', 6488), ('따로따로', 6489), ('우물쭈물거리', 6490), ('글렀', 6491), ('걸어왔', 6492), ('부딪혀서', 6493), ('졸여서', 6494), ('띵', 6495), ('소주', 6496), ('세트', 6497), ('붙여', 6498), ('떠넘긴', 6499), ('나쁜가', 6500), ('돈타령', 6501), ('갑작스런', 6502), ('활짝', 6503), ('슬퍼했', 6504), ('증가', 6505), ('싹', 6506), ('풀렸', 6507), ('보양', 6508), ('사법', 6509), ('치렀', 6510), ('금일', 6511), ('아름다워', 6512), ('실효', 6513), ('살얼음판', 6514), ('내말', 6515), ('길일', 6516), ('다크서클', 6517), ('겼는데친구가나보고비아냥거려서너무화가나', 6518), ('치사', 6519), ('스트레칭', 6520), ('돌볼', 6521), ('사이클', 6522), ('측은', 6523), ('보일까봐', 6524), ('완벽주의', 6525), ('냉정', 6526), ('변심', 6527), ('가면', 6528), ('전생', 6529), ('으라며', 6530), ('마녀', 6531), ('사냥', 6532), ('대야', 6533), ('시아버님', 6534), ('주어져서', 6535), ('관문', 6536), ('이메일', 6537), ('발송', 6538), ('떨떠름', 6539), ('올림피아드', 6540), ('헛되', 6541), ('최대', 6542), ('약해진', 6543), ('리모컨', 6544), ('내서성', 6545), ('늘어져서', 6546), ('작전', 6547), ('미워서', 6548), ('특이', 6549), ('치려', 6550), ('야단맞', 6551), ('벌칙', 6552), ('만행', 6553), ('밝혀져', 6554), ('열불', 6555), ('연일', 6556), ('멍해', 6557), ('일용직', 6558), ('겠다는', 6559), ('장터', 6560), ('으쓱', 6561), ('타령', 6562), ('부숴', 6563), ('들여', 6564), ('도임', 6565), ('싸구려', 6566), ('책임져', 6567), ('뒤따라갔', 6568), ('활기', 6569), ('믿겨', 6570), ('맞출', 6571), ('스카이', 6572), ('오만', 6573), ('상착', 6574), ('발등', 6575), ('급사', 6576), ('코스', 6577), ('드물', 6578), ('금수', 6579), ('여야', 6580), ('물려줘서', 6581), ('차려입', 6582), ('기억나', 6583), ('지른', 6584), ('눈치챈', 6585), ('영양', 6586), ('잠갔', 6587), ('테스', 6588), ('실물', 6589), ('해변', 6590), ('롤', 6591), ('피부색', 6592), ('놓치', 6593), ('지름길', 6594), ('뺏긴', 6595), ('건강식', 6596), ('친아들', 6597), ('예시', 6598), ('모유', 6599), ('똑바로', 6600), ('낙오자', 6601), ('주책', 6602), ('식판', 6603), ('새총', 6604), ('눈가', 6605), ('들들', 6606), ('잊어버릴까', 6607), ('쪽발', 6608), ('기껏', 6609), ('과시', 6610), ('에너지', 6611), ('한없이', 6612), ('구석', 6613), ('숫기', 6614), ('치지는', 6615), ('대성공', 6616), ('터져서', 6617), ('플', 6618), ('꼬치꼬치', 6619), ('보잘것없이', 6620), ('업계', 6621), ('시말서', 6622), ('리포트', 6623), ('기만', 6624), ('삐뚤어질', 6625), ('임원직', 6626), ('합창', 6627), ('휘둘리', 6628), ('특목고', 6629), ('말지', 6630), ('휴게소', 6631), ('벌어진', 6632), ('골탕먹이', 6633), ('확률', 6634), ('취객', 6635), ('육체', 6636), ('서걱', 6637), ('제육볶음', 6638), ('나잘', 6639), ('빨개져서', 6640), ('다그쳤', 6641), ('마누', 6642), ('슬퍼할까', 6643), ('내고', 6644), ('정황', 6645), ('재학', 6646), ('골프채', 6647), ('비겁', 6648), ('흔쾌', 6649), ('플래너', 6650), ('샌드위치', 6651), ('상팔자', 6652), ('찌지', 6653), ('기독교', 6654), ('포교', 6655), ('쥐어짜', 6656), ('근교', 6657), ('옹알이', 6658), ('일급비밀', 6659), ('두기', 6660), ('애기', 6661), ('대머리', 6662), ('잖', 6663), ('생애', 6664), ('부임', 6665), ('끌어오', 6666), ('서술', 6667), ('금반지', 6668), ('훔친', 6669), ('떠오를', 6670), ('앙상', 6671), ('편가르', 6672), ('멎', 6673), ('운동화', 6674), ('들어간다는', 6675), ('비꼬', 6676), ('자린데', 6677), ('호소', 6678), ('화냈', 6679), ('상금', 6680), ('노출', 6681), ('욕한', 6682), ('흐려', 6683), ('본사', 6684), ('설맞이', 6685), ('오피스텔', 6686), ('관리인', 6687), ('여한', 6688), ('보일러', 6689), ('무리지', 6690), ('검정', 6691), ('담근', 6692), ('소집', 6693), ('정수기', 6694), ('지겨워하', 6695), ('떠밀', 6696), ('급해서', 6697), ('돌아올까봐', 6698), ('졸라', 6699), ('데려다줄', 6700), ('들일', 6701), ('수백', 6702), ('셔도', 6703), ('이제서야', 6704), ('무거워서', 6705), ('아랑곳', 6706), ('바라지', 6707), ('지능', 6708), ('달팽이관', 6709), ('수빈', 6710), ('지안', 6711), ('명상', 6712), ('생존', 6713), ('부러워할', 6714), ('내짐', 6715), ('지날수록', 6716), ('등지', 6717), ('클레임', 6718), ('이내', 6719), ('힐끔힐끔', 6720), ('커준', 6721), ('뱀', 6722), ('물려서', 6723), ('찜질', 6724), ('옆구리', 6725), ('용지', 6726), ('기선', 6727), ('아무거', 6728), ('데려올', 6729), ('스물', 6730), ('터뜨린', 6731), ('거린', 6732), ('깰', 6733), ('돌려보내', 6734), ('상조', 6735), ('인공지능', 6736), ('끌어들인', 6737), ('가누', 6738), ('말려', 6739), ('의성', 6740), ('서먹서먹', 6741), ('돌침대', 6742), ('제공', 6743), ('감원', 6744), ('고용주', 6745), ('껴안', 6746), ('햇살', 6747), ('나마', 6748), ('회수', 6749), ('일거', 6750), ('빨라서', 6751), ('든가', 6752), ('망쳐놨', 6753), ('작업장', 6754), ('니난', 6755), ('가까웠', 6756), ('뜻밖', 6757), ('잊어버려서', 6758), ('자처', 6759), ('추', 6760), ('삐끗', 6761), ('우애', 6762), ('분기', 6763), ('편집장', 6764), ('대부', 6765), ('엑', 6766), ('토지', 6767), ('벼슬', 6768), ('한껏', 6769), ('컨설팅', 6770), ('줄일', 6771), ('댄다고', 6772), ('알아볼까', 6773), ('랑산', 6774), ('난망', 6775), ('흉측', 6776), ('예쁠', 6777), ('주연', 6778), ('오락', 6779), ('망가졌', 6780), ('손발', 6781), ('시야', 6782), ('축축', 6783), ('토로', 6784), ('실버타운', 6785), ('오죽', 6786), ('나으라고', 6787), ('싱거운', 6788), ('인내', 6789), ('정식', 6790), ('야반도주', 6791), ('엎어졌', 6792), ('떨렸', 6793), ('쇠퇴', 6794), ('마당', 6795), ('몰골', 6796), ('과묵', 6797), ('내뱉', 6798), ('도문', 6799), ('옷맵시', 6800), ('퍼트', 6801), ('자반', 6802), ('칭얼대', 6803), ('아려', 6804), ('버린지', 6805), ('자꾸나', 6806), ('중증', 6807), ('허구', 6808), ('종료', 6809), ('출처', 6810), ('후세', 6811), ('양육권', 6812), ('밀려오', 6813), ('저염식', 6814), ('손대', 6815), ('건만', 6816), ('괴물', 6817), ('곤경', 6818), ('빠', 6819), ('재킷', 6820), ('바늘', 6821), ('궂', 6822), ('강조', 6823), ('수술대', 6824), ('해낼지', 6825), ('노심초사', 6826), ('번복', 6827), ('설렜', 6828), ('매몰차', 6829), ('힘겹', 6830), ('시니어', 6831), ('깎이', 6832), ('환영회', 6833), ('산골짜기', 6834), ('나타날', 6835), ('만끽', 6836), ('떠난다고', 6837), ('개인사', 6838), ('붉어져서', 6839), ('돈다고', 6840), ('무효', 6841), ('음란물', 6842), ('탐', 6843), ('차려서', 6844), ('타일러', 6845), ('끼쳐', 6846), ('준지', 6847), ('나빠질', 6848), ('달려오', 6849), ('회감', 6850), ('조처', 6851), ('내려졌', 6852), ('치료사', 6853), ('들으라고', 6854), ('처한', 6855), ('발달', 6856), ('혐의', 6857), ('대도', 6858), ('청년회', 6859), ('소여물', 6860), ('어중간', 6861), ('진전', 6862), ('받아쓰', 6863), ('내집을', 6864), ('휘둘렀', 6865), ('난다는', 6866), ('특근', 6867), ('갇힌', 6868), ('위절제술', 6869), ('근로', 6870), ('장학생', 6871), ('동고동락', 6872), ('학우', 6873), ('녹즙', 6874), ('내몸에', 6875), ('등바', 6876), ('하나같이', 6877), ('욕먹', 6878), ('고조', 6879), ('역부족', 6880), ('쓸쓸히', 6881), ('작은형', 6882), ('말라버렸', 6883), ('임원진', 6884), ('뜯', 6885), ('살인', 6886), ('역겹', 6887), ('프린터', 6888), ('출력', 6889), ('전연', 6890), ('공로상', 6891), ('심한지', 6892), ('심해질까봐', 6893), ('고된', 6894), ('태어났으면', 6895), ('돌아올', 6896), ('화면', 6897), ('애꿎', 6898), ('불러도', 6899), ('폭', 6900), ('예절', 6901), ('수위', 6902), ('날카롭', 6903), ('대수', 6904), ('무너졌', 6905), ('도로', 6906), ('보조금', 6907), ('붙여서', 6908), ('모회사', 6909), ('사연', 6910), ('창출', 6911), ('틀어졌', 6912), ('놓친', 6913), ('단골집', 6914), ('생선', 6915), ('상해서', 6916), ('가르쳤', 6917), ('도집', 6918), ('다달이', 6919), ('도와줘도', 6920), ('짠', 6921), ('사직', 6922), ('상습', 6923), ('따져서', 6924), ('엄한데', 6925), ('소비력', 6926), ('둘러', 6927), ('주체', 6928), ('지다', 6929), ('빙판길', 6930), ('도용', 6931), ('소문났', 6932), ('민지', 6933), ('헛된', 6934), ('커피믹스', 6935), ('과음', 6936), ('산내', 6937), ('성적순', 6938), ('사물함', 6939), ('아랫사람', 6940), ('극진히', 6941), ('라식', 6942), ('붕대', 6943), ('주주', 6944), ('개천', 6945), ('되레', 6946), ('넘어진', 6947), ('감쌌', 6948), ('자각', 6949), ('선선', 6950), ('박스', 6951), ('갇혀', 6952), ('교외', 6953), ('타격', 6954), ('삼수', 6955), ('가목', 6956), ('누런', 6957), ('가래', 6958), ('서슬', 6959), ('퍼', 6960), ('냈으면', 6961), ('나취', 6962), ('흐리', 6963), ('중도금', 6964), ('투덜거리', 6965), ('즐겼', 6966), ('비율', 6967), ('살돈', 6968), ('약했', 6969), ('챙긴다고', 6970), ('봐야지', 6971), ('돌릴', 6972), ('되돌려', 6973), ('골목길', 6974), ('갈라지', 6975), ('나물', 6976), ('빈곤층', 6977), ('멈칫', 6978), ('걸어다니', 6979), ('도실', 6980), ('안내', 6981), ('소유물', 6982), ('난이', 6983), ('내자', 6984), ('짐짝', 6985), ('라질', 6986), ('투도', 6987), ('고파', 6988), ('점문', 6989), ('어지럼증', 6990), ('도살', 6991), ('내이', 6992), ('하얘', 6993), ('담긴', 6994), ('가까워진', 6995), ('매진', 6996), ('한글', 6997), ('중간중간', 6998), ('부러워하', 6999), ('즘', 7000), ('팔다리', 7001), ('번식', 7002), ('인큐베이터', 7003), ('흡족', 7004), ('라인', 7005), ('람', 7006), ('달려와', 7007), ('생전', 7008), ('최저가', 7009), ('부적절', 7010), ('알릴', 7011), ('싹싹', 7012), ('사인', 7013), ('어가', 7014), ('래도', 7015), ('벌어졌', 7016), ('되돌아보', 7017), ('낙찰', 7018), ('한단', 7019), ('어눌', 7020), ('데수', 7021), ('그만한', 7022), ('여사원', 7023), ('야다', 7024), ('호되', 7025), ('아꼈', 7026), ('한바탕', 7027), ('이주민', 7028), ('큰며느리', 7029), ('따라간다고', 7030), ('해버릴', 7031), ('놀린다', 7032), ('피부병', 7033), ('참대', 7034), ('드러내', 7035), ('꾹', 7036), ('아껴써야', 7037), ('부질', 7038), ('변함없이', 7039), ('뭉치', 7040), ('독사', 7041), ('내옆을', 7042), ('산소', 7043), ('흘려', 7044), ('억압', 7045), ('눈곱', 7046), ('거처', 7047), ('반신', 7048), ('친다', 7049), ('풍경', 7050), ('뒷수습', 7051), ('지나간', 7052), ('변해', 7053), ('느려서', 7054), ('실업자', 7055), ('타깃', 7056), ('근육통', 7057), ('탑승', 7058), ('내속', 7059), ('내려갈', 7060), ('입술', 7061), ('자일', 7062), ('본격', 7063), ('떨어졌으면', 7064), ('물으시는데', 7065), ('만화책', 7066), ('조종사', 7067), ('간자', 7068), ('어젠', 7069), ('수전증', 7070), ('외동딸', 7071), ('집중력', 7072), ('더러워', 7073), ('우겨서', 7074), ('생색내', 7075), ('무서워서가', 7076), ('부끄러울까', 7077), ('비결', 7078), ('일요일', 7079), ('진솔', 7080), ('아이아버지', 7081), ('뻘쭘', 7082), ('돌아온다고', 7083), ('토했', 7084), ('빈둥대', 7085), ('입김', 7086), ('추악', 7087), ('바뻐서', 7088), ('알콩달콩', 7089), ('사귄다는', 7090), ('고단', 7091), ('섣불리', 7092), ('난다니까', 7093), ('슬그머니', 7094), ('보건소', 7095), ('머뭇', 7096), ('벌떡', 7097), ('근중', 7098), ('울음', 7099), ('들렸', 7100), ('대속', 7101), ('사탕', 7102), ('찮은', 7103), ('가격표', 7104), ('창밖', 7105), ('동행', 7106), ('밴드', 7107), ('사라진', 7108), ('떠난다는', 7109), ('막힐', 7110), ('어마어마', 7111), ('돌아간', 7112), ('꼬여서', 7113), ('쏠려서', 7114), ('댄', 7115), ('비대증', 7116), ('바빠도', 7117), ('청하', 7118), ('휴게실', 7119), ('데걱', 7120), ('비명', 7121), ('역류', 7122), ('식도염', 7123), ('보잘것없', 7124), ('무서워해서', 7125), ('나산', 7126), ('걸어와서', 7127), ('철회', 7128), ('올케', 7129), ('쫓겨날지', 7130), ('병명', 7131), ('빠질까', 7132), ('측', 7133), ('일절', 7134), ('디자이너', 7135), ('떠올려도', 7136), ('나셔', 7137), ('설날', 7138), ('노름판', 7139), ('야해서', 7140), ('품질', 7141), ('가까워졌', 7142), ('앤', 7143), ('몰두', 7144), ('현상', 7145), ('논다고', 7146), ('가불', 7147), ('딱딱', 7148), ('서프라이즈', 7149), ('정규', 7150), ('산거', 7151), ('모셨', 7152), ('모셔', 7153), ('아라', 7154), ('소방관', 7155), ('전신', 7156), ('충실하', 7157), ('뽑히', 7158), ('복부비만', 7159), ('퇴설', 7160), ('멘토', 7161), ('정당방위', 7162), ('와줄', 7163), ('교우', 7164), ('전화기', 7165), ('남루', 7166), ('산비', 7167), ('중퇴', 7168), ('공연', 7169), ('스팸', 7170), ('쾌적', 7171), ('랍시고', 7172), ('태워', 7173), ('일어났었', 7174), ('피부염', 7175), ('내다보', 7176), ('역정', 7177), ('모셔왔', 7178), ('가엾', 7179), ('엎어져서', 7180), ('울화통', 7181), ('치울', 7182), ('아이폰', 7183), ('동산', 7184), ('쌀농사', 7185), ('떡볶이', 7186), ('세내', 7187), ('그려', 7188), ('문전', 7189), ('박대', 7190), ('트렌드', 7191), ('쳐도', 7192), ('급작', 7193), ('훌쩍', 7194), ('고역', 7195), ('선약', 7196), ('겠다며', 7197), ('투덜거렸', 7198), ('에요', 7199), ('치지', 7200), ('나쁠', 7201), ('이끈다는', 7202), ('히터', 7203), ('하한', 7204), ('가야고', 7205), ('빨라졌', 7206), ('글자', 7207), ('엿들', 7208), ('밤낮없이', 7209), ('뒷골목', 7210), ('만날까봐', 7211), ('박탈감', 7212), ('차려져', 7213), ('스러운지', 7214), ('궁상맞', 7215), ('반쪽', 7216), ('뜯어내', 7217), ('구시대', 7218), ('결산', 7219), ('준다네', 7220), ('혼인', 7221), ('그렸', 7222), ('때우', 7223), ('싱겁', 7224), ('격해', 7225), ('받아들여야', 7226), ('솟아날', 7227), ('예외', 7228), ('버렸었', 7229), ('나오늘', 7230), ('잡곡밥', 7231), ('소리야', 7232), ('물려줘야', 7233), ('분가', 7234), ('자격', 7235), ('제목', 7236), ('도연', 7237), ('게이머', 7238), ('고산', 7239), ('허비', 7240), ('차올라', 7241), ('농사일', 7242), ('내려다', 7243), ('자더군', 7244), ('괴', 7245), ('얼떨떨', 7246), ('밝혀졌', 7247), ('떼먹', 7248), ('그리워서', 7249), ('팔자', 7250), ('주요', 7251), ('올라갔', 7252), ('고마워할', 7253), ('꼰대', 7254), ('들려오', 7255), ('조작', 7256), ('예뻐했', 7257), ('예민해', 7258), ('이해력', 7259), ('번관', 7260), ('절염', 7261), ('교장', 7262), ('친밀', 7263), ('고갈', 7264), ('찬밥', 7265), ('집요', 7266), ('침묵', 7267), ('흙', 7268), ('초래', 7269), ('레스토랑', 7270), ('인테리어', 7271), ('찔러', 7272), ('짖', 7273), ('규제', 7274), ('해졌으면', 7275), ('알려져서', 7276), ('넘어와서', 7277), ('친근', 7278), ('사용법', 7279), ('되묻', 7280), ('구타', 7281), ('나아진', 7282), ('금메달', 7283), ('불러오', 7284), ('늘려', 7285), ('부어서', 7286), ('이주식', 7287), ('하락세', 7288), ('드릴까', 7289), ('구제', 7290), ('불능', 7291), ('큰아버지', 7292), ('일치', 7293), ('묘', 7294), ('달랐', 7295), ('개봉', 7296), ('참으', 7297), ('속상해할', 7298), ('남겨졌', 7299), ('한강', 7300), ('이득', 7301), ('들떠', 7302), ('했으나', 7303), ('주재원', 7304), ('만참', 7305), ('내역', 7306), ('안다면', 7307), ('주최', 7308), ('내달', 7309), ('어지러움', 7310), ('모조리', 7311), ('화상', 7312), ('재처리', 7313), ('화난', 7314), ('찾아온', 7315), ('캠퍼스', 7316), ('손떨림증', 7317), ('위조', 7318), ('몸살감기', 7319), ('나돌', 7320), ('생긴다', 7321), ('원액', 7322), ('줌', 7323), ('봉양', 7324), ('된통', 7325), ('줄줄이', 7326), ('못썼', 7327), ('월말', 7328), ('뒤져서', 7329), ('죗값', 7330), ('태희', 7331), ('천재', 7332), ('기뻐했', 7333), ('아셨', 7334), ('코웃음', 7335), ('한때', 7336), ('피임약', 7337), ('될수록', 7338), ('목욕', 7339), ('헤드헌터', 7340), ('논리', 7341), ('바꾼', 7342), ('영점', 7343), ('겹쳐서', 7344), ('절대음감', 7345), ('뿌리', 7346), ('조울증', 7347), ('연명', 7348), ('을래', 7349), ('서둘러야', 7350), ('단독', 7351), ('더러운', 7352), ('걸레', 7353), ('드린다', 7354), ('느껴질까', 7355), ('굉장', 7356), ('상실감', 7357), ('뛰어오', 7358), ('어째', 7359), ('돌봄', 7360), ('신다니', 7361), ('자산관리', 7362), ('사상', 7363), ('담도', 7364), ('만안', 7365), ('의존', 7366), ('서나', 7367), ('공과', 7368), ('등갈비', 7369), ('못마땅히', 7370), ('주무르', 7371), ('지나칠', 7372), ('부여', 7373), ('냄새나', 7374), ('빨개져', 7375), ('연극배우', 7376), ('배역', 7377), ('환호', 7378), ('쫄딱', 7379), ('맨', 7380), ('로움', 7381), ('자매', 7382), ('지소', 7383), ('커뮤니티', 7384), ('제작', 7385), ('내려버렸', 7386), ('지감', 7387), ('간다던', 7388), ('평상시', 7389), ('소금', 7390), ('빅', 7391), ('히트', 7392), ('게끔', 7393), ('헤어질까', 7394), ('나갈지', 7395), ('와이셔츠', 7396), ('어두우', 7397), ('미끄러지', 7398), ('서슴', 7399), ('과제물', 7400), ('시원찮', 7401), ('짓궂', 7402), ('서기', 7403), ('연주', 7404), ('야자', 7405), ('메꿀', 7406), ('우시', 7407), ('끄떡', 7408), ('새우', 7409), ('비걱', 7410), ('올라올', 7411), ('살아났', 7412), ('마찬가지', 7413), ('숨겨버렸', 7414), ('경품', 7415), ('분다', 7416), ('쌈짓돈', 7417), ('고달프', 7418), ('뛰어놀', 7419), ('당했었', 7420), ('법인', 7421), ('더운데', 7422), ('더더욱', 7423), ('됐으니', 7424), ('관해선', 7425), ('당해왔', 7426), ('치수', 7427), ('달랑', 7428), ('으냐고', 7429), ('자면서', 7430), ('툴툴거리', 7431), ('사귈까', 7432), ('발리', 7433), ('배고파도', 7434), ('여보', 7435), ('신세지', 7436), ('자립', 7437), ('여건', 7438), ('막소리', 7439), ('뛰쳐나왔', 7440), ('중학', 7441), ('미숙', 7442), ('선가', 7443), ('들사람', 7444), ('얼', 7445), ('근래', 7446), ('쪘었', 7447), ('새삼', 7448), ('누더기', 7449), ('격식', 7450), ('차려야', 7451), ('논하', 7452), ('꾸려', 7453), ('농구', 7454), ('주인공', 7455), ('인구', 7456), ('벌려', 7457), ('채워', 7458), ('고마워하', 7459), ('첫인상', 7460), ('넘쳤', 7461), ('보살피', 7462), ('지냈었', 7463), ('개미', 7464), ('코치', 7465), ('이빨', 7466), ('어려워진', 7467), ('돌이킬', 7468), ('이억', 7469), ('손댈', 7470), ('분란', 7471), ('유동', 7472), ('임하', 7473), ('취했', 7474), ('점심때', 7475), ('체대', 7476), ('도노후', 7477), ('미끄러졌', 7478), ('몰리', 7479), ('소매치기', 7480), ('까칠', 7481), ('퍼진', 7482), ('전셋집', 7483), ('굳기', 7484), ('마쳐야', 7485), ('파토', 7486), ('뭘로', 7487), ('척안', 7488), ('열통', 7489), ('안사람', 7490), ('발걸음', 7491), ('사고방식', 7492), ('말벗', 7493), ('흘렀', 7494), ('경영인', 7495), ('별걱정', 7496), ('신선', 7497), ('가져다줄', 7498), ('미칠까', 7499), ('꽂', 7500), ('효능', 7501), ('교조', 7502), ('재산세', 7503), ('민감', 7504), ('불어나', 7505), ('언젠간', 7506), ('웃겨', 7507), ('블로그', 7508), ('좋아한', 7509), ('플러스', 7510), ('더위', 7511), ('우러러', 7512), ('향후', 7513), ('약부', 7514), ('덥', 7515), ('지배', 7516), ('들렀', 7517), ('그립', 7518), ('쏟아지', 7519), ('놔라', 7520), ('여도', 7521), ('외로워졌', 7522), ('끈질기', 7523), ('처하', 7524), ('늘그막', 7525), ('둬야', 7526), ('거액', 7527), ('건드려', 7528), ('재작년', 7529), ('이동한', 7530), ('식도암', 7531), ('귀여워', 7532), ('오르내리', 7533), ('징그러운', 7534), ('꾀', 7535), ('부패', 7536), ('겼어계속빚만쌓일까봐걱정돼', 7537), ('당해온', 7538), ('헷갈려서', 7539), ('따가운', 7540), ('가벼워진', 7541), ('음악가', 7542), ('영효', 7543), ('면역력', 7544), ('부전', 7545), ('지위', 7546), ('뜨개', 7547), ('앞장섰', 7548), ('속여서', 7549), ('오피스', 7550), ('견이', 7551), ('싫어해서', 7552), ('소아마비', 7553), ('쩔뚝이', 7554), ('연체', 7555), ('희생자', 7556), ('졌었', 7557), ('지킬', 7558), ('제기', 7559), ('일거수일투족', 7560), ('느린데', 7561), ('야속', 7562), ('내려갈까', 7563), ('엎드려', 7564), ('아웃', 7565), ('시려', 7566), ('쏠쏠', 7567), ('예뻐졌', 7568), ('건드려서', 7569), ('물어볼까', 7570), ('장승진', 7571), ('아우', 7572), ('까다롭', 7573), ('제이', 7574), ('부린', 7575), ('던진', 7576), ('철없이', 7577), ('운용', 7578), ('그런가보다', 7579), ('마르', 7580), ('보여줘', 7581), ('유흥', 7582), ('지켜줄', 7583), ('팔찌', 7584), ('착용', 7585), ('무난히', 7586), ('스러워졌', 7587), ('인감도장', 7588), ('피임', 7589), ('화환', 7590), ('다쳤으나', 7591), ('감사패', 7592), ('도입', 7593), ('마친', 7594), ('나친', 7595), ('실천', 7596), ('흔들', 7597), ('엄마야', 7598), ('사과드리', 7599), ('오더', 7600), ('운동복', 7601), ('남잔데', 7602), ('고군분투', 7603), ('공통', 7604), ('으셔야', 7605), ('장담', 7606), ('상향', 7607), ('미심쩍', 7608), ('시원섭섭', 7609), ('으라', 7610), ('무인', 7611), ('공백기', 7612), ('제정신', 7613), ('단풍', 7614), ('영웅', 7615), ('감돌', 7616), ('과생', 7617), ('만하', 7618), ('청소부', 7619), ('끙끙대', 7620), ('신음', 7621), ('누리', 7622), ('빌빌거리', 7623), ('세요', 7624), ('날릴까', 7625), ('추진', 7626), ('고구마', 7627), ('셋째', 7628), ('마려워', 7629), ('정전', 7630), ('계속성', 7631), ('즐거움', 7632), ('학습지', 7633), ('해역', 7634), ('사신대', 7635), ('술값', 7636), ('폐경기', 7637), ('물마', 7638), ('영성', 7639), ('무안', 7640), ('안쓰러운', 7641), ('혼전', 7642), ('불평불만', 7643), ('무서움', 7644), ('화끈거려', 7645), ('의무', 7646), ('인서', 7647), ('지해', 7648), ('베껴서', 7649), ('댓글', 7650), ('조짐', 7651), ('알려줘야', 7652), ('방광암', 7653), ('문제아', 7654), ('빵점', 7655), ('염치없', 7656), ('기말', 7657), ('고사성', 7658), ('자판기', 7659), ('무역', 7660), ('잠자리', 7661), ('빠져드', 7662), ('세운', 7663), ('협조', 7664), ('랄까', 7665), ('손재주', 7666), ('무식', 7667), ('우쭐대', 7668), ('이뤘', 7669), ('이래저래', 7670), ('돋', 7671), ('쉬웠', 7672), ('대중목욕탕', 7673), ('밖이', 7674), ('지간', 7675), ('엇나가', 7676), ('이복', 7677), ('발가락', 7678), ('붉어져', 7679), ('신뢰감', 7680), ('습득', 7681), ('지날', 7682), ('피자', 7683), ('곤욕', 7684), ('하루빨리', 7685), ('앞길', 7686), ('약통', 7687), ('수용', 7688), ('아낄', 7689), ('저절로', 7690), ('피라미드', 7691), ('유입', 7692), ('복장', 7693), ('마칠', 7694), ('사적', 7695), ('처져', 7696), ('넘어간', 7697), ('세라', 7698), ('팔짱', 7699), ('궁핍', 7700), ('히스테리', 7701), ('페이퍼', 7702), ('등졌', 7703), ('강', 7704), ('집고양이', 7705), ('대외', 7706), ('협회', 7707), ('연결', 7708), ('실속', 7709), ('저게', 7710), ('미영', 7711), ('하락', 7712), ('이바지', 7713), ('밀가루', 7714), ('끼쳤', 7715), ('잊혀질까', 7716), ('야화', 7717), ('남매', 7718), ('지켜줬', 7719), ('서토', 7720), ('사래', 7721), ('아비규환', 7722), ('재롱', 7723), ('일어서', 7724), ('푼돈', 7725), ('공단', 7726), ('호언장담', 7727), ('냉담', 7728), ('경사', 7729), ('싸운다', 7730), ('부끄러운지', 7731), ('해진다', 7732), ('서퇴', 7733), ('찢어졌', 7734), ('토하', 7735), ('고함', 7736), ('분해서', 7737), ('이천식', 7738), ('꿈꿔', 7739), ('갓난', 7740), ('생일상', 7741), ('표창장', 7742), ('봉사자', 7743), ('리스트', 7744), ('동일', 7745), ('문대', 7746), ('떼이', 7747), ('상습범', 7748), ('더구만', 7749), ('그런다고', 7750), ('랑화', 7751), ('멈춘', 7752), ('숙이', 7753), ('나날이', 7754), ('놀릴까', 7755), ('솔로', 7756), ('바쳐', 7757), ('심술', 7758), ('잡무', 7759), ('모멸감', 7760), ('통합', 7761), ('식비', 7762), ('석사', 7763), ('여겼', 7764), ('녹초', 7765), ('흔들려', 7766), ('지퍼', 7767), ('진저리', 7768), ('초음파', 7769), ('아까운', 7770), ('내맘대로', 7771), ('사전', 7772), ('점장', 7773), ('가만', 7774), ('설교', 7775), ('야구팀', 7776), ('대립', 7777), ('챙긴다는', 7778), ('근소', 7779), ('흔들리', 7780), ('정해진', 7781), ('이랬다저랬다', 7782), ('줄인다고', 7783), ('등진', 7784), ('승소', 7785), ('어지러운', 7786), ('홍보', 7787), ('토해냈', 7788), ('임대료', 7789), ('제진', 7790), ('속상할', 7791), ('일로스', 7792), ('명목', 7793), ('처녀', 7794), ('달걀말이', 7795), ('중간시험', 7796), ('웃어넘기', 7797), ('컵', 7798), ('잡혔', 7799), ('관심사', 7800), ('편협', 7801), ('건드렸', 7802), ('탈퇴', 7803), ('막차', 7804), ('졌어', 7805), ('고려', 7806), ('내려야', 7807), ('번돈을', 7808), ('두근두근', 7809), ('떨림', 7810), ('일시금', 7811), ('바라봐', 7812), ('깎아내리', 7813), ('소서', 7814), ('어려워질', 7815), ('실려가', 7816), ('불참', 7817), ('떠맡기', 7818), ('커리어', 7819), ('지려', 7820), ('나온다는', 7821), ('풍성', 7822), ('는대서', 7823), ('전무', 7824), ('일터', 7825), ('포토샵', 7826), ('제조', 7827), ('복사기', 7828), ('별도', 7829), ('약혼', 7830), ('전선', 7831), ('드셨', 7832), ('면내', 7833), ('망해', 7834), ('현수막', 7835), ('한구석', 7836), ('용종', 7837), ('생소', 7838), ('천성', 7839), ('인재', 7840), ('약관', 7841), ('천불', 7842), ('산만', 7843), ('일차', 7844), ('내백', 7845), ('바꿔야', 7846), ('익사', 7847), ('노예', 7848), ('금주', 7849), ('저놈', 7850), ('지으려고', 7851), ('간다면', 7852), ('머리채', 7853), ('고질병', 7854), ('무얼', 7855), ('못내', 7856), ('국물', 7857), ('뷔페', 7858), ('배워서', 7859), ('으신가', 7860), ('부러진', 7861), ('캐물', 7862), ('중이염', 7863), ('위주', 7864), ('부쳐', 7865), ('물리치료', 7866), ('나비', 7867), ('정신병자', 7868), ('어린이집', 7869), ('풍기', 7870), ('공직', 7871), ('보낸다고', 7872), ('약혼자', 7873), ('자습', 7874), ('추워서', 7875), ('장치', 7876), ('갈구', 7877), ('즐거울', 7878), ('매매', 7879), ('희귀', 7880), ('껄끄러워', 7881), ('뒤떨어진', 7882), ('개수', 7883), ('비뇨기과', 7884), ('세낼', 7885), ('벌벌', 7886), ('훔쳐서', 7887), ('이래야', 7888), ('주차장', 7889), ('행위', 7890), ('이런지', 7891), ('자금난', 7892), ('현관문', 7893), ('진통제', 7894), ('발병', 7895), ('균', 7896), ('찔', 7897), ('공문', 7898), ('척도', 7899), ('아쉬운', 7900), ('내후년', 7901), ('실현', 7902), ('폴더', 7903), ('주스', 7904), ('다나', 7905), ('낮잠', 7906), ('독박', 7907), ('징징대', 7908), ('김장', 7909), ('나정', 7910), ('어따', 7911), ('겨', 7912), ('환경미화원', 7913), ('비행', 7914), ('청소년', 7915), ('내정자', 7916), ('시댄', 7917), ('일으켰', 7918), ('러닝', 7919), ('머신', 7920), ('맞은편', 7921), ('반일', 7922), ('물려', 7923), ('바꿀까', 7924), ('까마득', 7925), ('치워야', 7926), ('문고', 7927), ('소지품', 7928), ('물어봐야', 7929), ('모레', 7930), ('캐스팅', 7931), ('수건', 7932), ('사도', 7933), ('노산', 7934), ('협업', 7935), ('단정지', 7936), ('무전취식', 7937), ('노랗', 7938), ('가물가물', 7939), ('비상', 7940), ('주무시', 7941), ('받아들였', 7942), ('오늘나', 7943), ('패션', 7944), ('메뚜기', 7945), ('사흘', 7946), ('증이', 7947), ('저거', 7948), ('에어로빅', 7949), ('빌라', 7950), ('왈칵', 7951), ('스킨', 7952), ('들어섰', 7953), ('저버리', 7954), ('사채업자', 7955), ('월세방', 7956), ('걷기', 7957), ('스크린', 7958), ('남겨져', 7959), ('나파', 7960), ('욕실', 7961), ('현명', 7962), ('지질', 7963), ('저질러서', 7964), ('사모님', 7965), ('친분', 7966), ('걸쳤', 7967), ('신다는', 7968), ('하차', 7969), ('뒷골', 7970), ('퍼뜨려', 7971), ('퍼져', 7972), ('들먹이', 7973), ('삼겹살', 7974), ('하향', 7975), ('늘어놔', 7976), ('숙연', 7977), ('축농증', 7978), ('과신', 7979), ('가회', 7980), ('서글픈데', 7981), ('못생겼', 7982), ('삐져', 7983), ('박혀', 7984), ('성가실', 7985), ('파리', 7986), ('다쳤었', 7987), ('횡단보도', 7988), ('올릴까', 7989), ('후두염', 7990), ('간밤', 7991), ('들여다', 7992), ('돌덩이', 7993), ('뜨거운', 7994), ('두터운', 7995), ('짝짝', 7996), ('고마운지', 7997), ('낙오', 7998), ('못지않', 7999), ('통계', 8000), ('술주정', 8001), ('지니', 8002), ('보러', 8003), ('우연', 8004), ('지겨운', 8005), ('듯하고', 8006), ('으신지', 8007), ('부사수', 8008), ('주어지', 8009), ('설렌다', 8010), ('독촉장', 8011), ('확산', 8012), ('화고', 8013), ('립', 8014), ('흘러도', 8015), ('론', 8016), ('맹세코', 8017), ('뺏겨서', 8018), ('물을까', 8019), ('약해져', 8020), ('무직', 8021), ('가차없이', 8022), ('혹사', 8023), ('잠든', 8024), ('끓이', 8025), ('깰까', 8026), ('시큰둥', 8027), ('곰팡이', 8028), ('타입', 8029), ('라더군', 8030), ('씌워', 8031), ('금산사', 8032), ('도태', 8033), ('다가올수록', 8034), ('즉석식품', 8035), ('억장', 8036), ('엇갈린', 8037), ('는다는데', 8038), ('나잇값', 8039), ('전국', 8040), ('아프리카', 8041), ('치일', 8042), ('고아원', 8043), ('오래간만', 8044), ('백세', 8045), ('횡단', 8046), ('던가', 8047), ('치러야', 8048), ('서글픈', 8049), ('사비', 8050), ('밤낮', 8051), ('줄넘기', 8052), ('기다려져', 8053), ('으름장', 8054), ('나수', 8055), ('건조', 8056), ('생리대', 8057), ('둘지', 8058), ('외투', 8059), ('건전지', 8060), ('관사람', 8061), ('키워놨', 8062), ('액정', 8063), ('나올까', 8064), ('기르', 8065), ('팔려', 8066), ('궁금해하', 8067), ('신종', 8068), ('서날', 8069), ('놨던', 8070), ('합류', 8071), ('시집살이', 8072), ('다화', 8073), ('만자', 8074), ('섞인', 8075), ('모자랄', 8076), ('비내', 8077), ('기원', 8078), ('때렸었', 8079), ('설쳤', 8080), ('느낄까봐', 8081), ('뒤떨어져', 8082), ('부정행위', 8083), ('남겨져서', 8084), ('민수', 8085), ('챙겼으면', 8086), ('권해서', 8087), ('당번', 8088), ('태어난지', 8089), ('한문', 8090), ('사니', 8091), ('환영', 8092), ('이암', 8093), ('해봐야', 8094), ('흉터', 8095), ('환승', 8096), ('비우', 8097), ('다솜', 8098), ('여윳돈', 8099), ('갖은', 8100), ('속하', 8101), ('다녀와야', 8102), ('기라', 8103), ('사나', 8104), ('한층', 8105), ('땡볕', 8106), ('치인', 8107), ('사체', 8108), ('분비', 8109), ('남녀', 8110), ('성비', 8111), ('을걸', 8112), ('부실', 8113), ('까불', 8114), ('양호실', 8115), ('밤중', 8116), ('다툴', 8117), ('윗몸', 8118), ('패가망신', 8119), ('번달', 8120), ('내딴에', 8121), ('맛보', 8122), ('움직여도', 8123), ('바뀐다고', 8124), ('컸었', 8125), ('빼돌렸', 8126), ('시집갈', 8127), ('호강', 8128), ('내자랑을', 8129), ('중천', 8130), ('밥상머리', 8131), ('나간다는', 8132), ('하녀', 8133), ('이학년', 8134), ('움직여', 8135), ('발끝', 8136), ('연골', 8137), ('사달', 8138), ('물질', 8139), ('고쳐야', 8140), ('독일', 8141), ('다녀온다고', 8142), ('유연', 8143), ('대상포진', 8144), ('저택', 8145), ('신다는데', 8146), ('이따', 8147), ('금폐', 8148), ('망쳐버려', 8149), ('치도', 8150), ('길바닥', 8151), ('유서', 8152), ('친해졌', 8153), ('녀', 8154), ('오니', 8155), ('할인', 8156), ('번거롭', 8157), ('남친', 8158), ('우정', 8159), ('나다니', 8160), ('속해', 8161), ('쑥스럽', 8162), ('친부모', 8163), ('세탁', 8164), ('불평없이', 8165), ('시킬까봐', 8166), ('감출', 8167), ('법률', 8168), ('내칠', 8169), ('사교성', 8170), ('치명', 8171), ('당해도', 8172), ('더럽혀', 8173), ('정액', 8174), ('유형', 8175), ('살아간다는', 8176), ('옥자', 8177), ('선다', 8178), ('쩝쩝', 8179), ('아실까', 8180), ('다물', 8181), ('테이블', 8182), ('나아가', 8183), ('진다', 8184), ('적어도', 8185), ('명성', 8186), ('혜인', 8187), ('넉넉히', 8188), ('목발', 8189), ('사이좋', 8190), ('맘먹', 8191), ('한데도', 8192), ('삐쳤', 8193), ('찬바람', 8194), ('끝자락', 8195), ('기당', 8196), ('변덕', 8197), ('지사', 8198), ('숨겨둔', 8199), ('호출', 8200), ('걸어오', 8201), ('나을까', 8202), ('구했었', 8203), ('구실', 8204), ('신가', 8205), ('기어다니', 8206), ('강박', 8207), ('발표회', 8208), ('깨뜨려서', 8209), ('기친', 8210), ('눈병', 8211), ('날일', 8212), ('남부럽', 8213), ('멀뚱히', 8214), ('오래가', 8215), ('부러움', 8216), ('자신감', 8217), ('이상태', 8218), ('심할', 8219), ('모발', 8220), ('이루어진다는', 8221), ('겹치', 8222), ('대남', 8223), ('위반', 8224), ('개교기념일', 8225), ('걸기', 8226), ('줄게', 8227), ('깨진', 8228), ('비친', 8229), ('멤버', 8230), ('배탈', 8231), ('비운', 8232), ('아빠딸', 8233), ('일부분', 8234), ('저녁때', 8235), ('밥풀', 8236), ('나와도', 8237), ('부딪쳐', 8238), ('마셔버렸', 8239), ('내려앉', 8240), ('박탈', 8241), ('었잖', 8242), ('뒷산', 8243), ('다병', 8244), ('간다는데', 8245), ('광택', 8246), ('청렴', 8247), ('이불', 8248), ('무너질', 8249), ('백두산', 8250), ('산가', 8251), ('이뤄서', 8252), ('만든다고', 8253), ('침착', 8254), ('강해', 8255), ('근거', 8256), ('지구', 8257), ('교활', 8258), ('순진', 8259), ('아사코', 8260), ('별장', 8261), ('월급쟁이', 8262), ('스페인', 8263), ('전염', 8264), ('샘나', 8265), ('공들였', 8266), ('데이터', 8267), ('친형', 8268), ('기숙', 8269), ('협착증', 8270), ('경미', 8271), ('통째', 8272), ('별세', 8273), ('다살', 8274), ('만업', 8275), ('문책', 8276), ('인기투표', 8277), ('열배', 8278), ('섬', 8279), ('상손님', 8280), ('집단', 8281), ('기관', 8282), ('내력', 8283), ('즈', 8284), ('입력', 8285), ('느낀다', 8286), ('해야겠어', 8287), ('내목', 8288), ('활기차', 8289), ('관대', 8290), ('내나', 8291), ('둘러댔', 8292), ('평범', 8293), ('치욕', 8294), ('깨트렸', 8295), ('슬플', 8296), ('내린', 8297), ('드린', 8298), ('부주의', 8299), ('투여', 8300), ('퍼뜨린', 8301), ('온다는', 8302), ('왕년', 8303), ('따분', 8304), ('깜빡했', 8305), ('집어던져', 8306), ('이병은', 8307), ('소형차', 8308), ('잔기침', 8309), ('아주버님', 8310), ('전전', 8311), ('과약', 8312), ('가벼워졌', 8313), ('키워야', 8314), ('구조대', 8315), ('섣부른', 8316), ('가영', 8317), ('노여운', 8318), ('순수', 8319), ('되돌릴', 8320), ('일솜씨', 8321), ('알바', 8322), ('무게', 8323), ('닳', 8324), ('농촌', 8325), ('편치', 8326), ('군고구마', 8327), ('밀린다는', 8328), ('염색', 8329), ('어지르', 8330), ('고마운데', 8331), ('애프터', 8332), ('처가댁', 8333), ('울려서', 8334), ('아첨', 8335), ('출시', 8336), ('떠날지', 8337), ('돌아서', 8338), ('이회식', 8339), ('놔뒀', 8340), ('난데없이', 8341), ('철석', 8342), ('착실히', 8343), ('토라져서', 8344), ('아름다운', 8345), ('올지', 8346), ('도난', 8347), ('열중', 8348), ('틀린다', 8349), ('서글퍼져', 8350), ('헤', 8351), ('말끝', 8352), ('짠돌이', 8353), ('맥', 8354), ('디지털', 8355), ('접어든', 8356), ('질린다', 8357), ('사병', 8358), ('열악', 8359), ('밭일', 8360), ('주거비', 8361), ('그려지', 8362), ('상종', 8363), ('감량', 8364), ('거뒀', 8365), ('병환', 8366), ('스킬', 8367), ('상실', 8368), ('대기발령', 8369), ('이상주', 8370), ('퍼마시', 8371), ('클래스', 8372), ('날밥', 8373), ('매달려서', 8374), ('끌어모아', 8375), ('가해', 8376), ('엠알', 8377), ('출금', 8378), ('기지개', 8379), ('외할아버지', 8380), ('감회', 8381), ('씌', 8382), ('꼬락서니', 8383), ('자소', 8384), ('거들', 8385), ('애경사', 8386), ('넘보', 8387), ('콩알', 8388), ('섭취', 8389), ('창작력', 8390), ('분량', 8391), ('마침', 8392), ('소소', 8393), ('구체', 8394), ('대암', 8395), ('극', 8396), ('요금', 8397), ('무마', 8398), ('스페인어', 8399), ('없애', 8400), ('토악질', 8401), ('면회', 8402), ('할까요', 8403), ('키운다고', 8404), ('무심코', 8405), ('녹용', 8406), ('털모자', 8407), ('보인대', 8408), ('열심', 8409), ('차단', 8410), ('내품', 8411), ('과격', 8412), ('내간', 8413), ('어지간', 8414), ('핀', 8415), ('갑상선암', 8416), ('책임자', 8417), ('장가갔', 8418), ('껴도', 8419), ('젖', 8420), ('유언비어', 8421), ('느냐', 8422), ('독하', 8423), ('인식', 8424), ('신대서', 8425), ('져버렸으면', 8426), ('작아지', 8427), ('낼까', 8428), ('진후', 8429), ('까맣', 8430), ('스쳐', 8431), ('고교', 8432), ('빼앗기', 8433), ('꽁초', 8434), ('벌금', 8435), ('서남', 8436), ('참속', 8437), ('라기에', 8438), ('후임자', 8439), ('참고서', 8440), ('하네', 8441), ('마인드', 8442), ('떳떳', 8443), ('불의', 8444), ('수포', 8445), ('관리도', 8446), ('배구', 8447), ('고일', 8448), ('놀라운', 8449), ('꼬르륵', 8450), ('카네이션', 8451), ('적정', 8452), ('가속', 8453), ('애완견', 8454), ('한결같이', 8455), ('게시판', 8456), ('일어', 8457), ('어버이', 8458), ('첫제사', 8459), ('변동', 8460), ('찬스', 8461), ('눕', 8462), ('숨쉬', 8463), ('파난', 8464), ('얽혀', 8465), ('투덜거려', 8466), ('수납', 8467), ('떠돌', 8468), ('균형', 8469), ('진행할', 8470), ('적합', 8471), ('티끌', 8472), ('사슴벌레', 8473), ('삐', 8474), ('새해', 8475), ('전근', 8476), ('튀어나와', 8477), ('짜릿', 8478), ('진동', 8479), ('해놔서', 8480), ('소고기', 8481), ('액세서리', 8482), ('빨간', 8483), ('띄엄띄엄', 8484), ('잘생겼', 8485), ('체험학습', 8486), ('비달', 8487), ('그런대로', 8488), ('장난삼', 8489), ('산책로', 8490), ('풀릴', 8491), ('거뜬히', 8492), ('간단히', 8493), ('휘트', 8494), ('배운다고', 8495), ('켰', 8496), ('한입', 8497), ('클라우드', 8498), ('예술', 8499), ('급식비', 8500), ('낸다고', 8501), ('몰아세웠', 8502), ('새아버지', 8503), ('그치만', 8504), ('짊어지', 8505), ('술맛', 8506), ('고비', 8507), ('넘어서', 8508), ('닫히', 8509), ('주소', 8510), ('뒷머리', 8511), ('앓아눕', 8512), ('내키', 8513), ('찍힌', 8514), ('느낀다고', 8515), ('몰려가', 8516), ('의하', 8517), ('뛸', 8518), ('참혹', 8519), ('야단친', 8520), ('울상', 8521), ('여우', 8522), ('옮긴다고', 8523), ('유도', 8524), ('해준다', 8525), ('몰렸', 8526), ('서약', 8527), ('야무지', 8528), ('멋', 8529), ('근배', 8530), ('아래층', 8531), ('연신', 8532), ('굽신거리', 8533), ('이름표', 8534), ('털털', 8535), ('호프집', 8536), ('혹여', 8537), ('본대', 8538), ('부러울', 8539), ('어울림', 8540), ('열각', 8541), ('모피', 8542), ('나갈까', 8543), ('속없', 8544), ('아닌데다', 8545), ('일비', 8546), ('려는가', 8547), ('매니아', 8548), ('쪽팔려서', 8549), ('티켓', 8550), ('생태', 8551), ('파괴', 8552), ('모를까', 8553), ('몰아치', 8554), ('신호등', 8555), ('스마트', 8556), ('올가미', 8557), ('점집', 8558), ('살려줘', 8559), ('한주', 8560), ('덤벼', 8561), ('영업직', 8562), ('들러리', 8563), ('키워드', 8564), ('중고', 8565), ('걸쳐', 8566), ('췄', 8567), ('저지를', 8568), ('감염자', 8569), ('끄떡없', 8570), ('겠다', 8571), ('오른팔', 8572), ('친숙', 8573), ('세력', 8574), ('기록부', 8575), ('어김없이', 8576), ('귀감', 8577), ('성찰', 8578), ('곤해', 8579), ('한게임', 8580), ('그려진', 8581), ('함흥차사', 8582), ('현미', 8583), ('백미', 8584), ('메시', 8585), ('사그라지', 8586), ('침울', 8587), ('주니', 8588), ('능숙', 8589), ('해결책', 8590), ('먼일', 8591), ('납입', 8592), ('한다한들', 8593), ('내려줄', 8594), ('틈틈이', 8595), ('나연', 8596), ('노환', 8597), ('킥', 8598), ('보드', 8599), ('마침내', 8600), ('저질러도', 8601), ('반항심', 8602), ('따라올', 8603), ('경지', 8604), ('렀다자부해', 8605), ('달려왔', 8606), ('반가운', 8607), ('가채점', 8608), ('사택', 8609), ('뒤섞여', 8610), ('이송', 8611), ('강점', 8612), ('볕', 8613), ('른길로접어들어건망증이생긴건아닐까걱정이돼', 8614), ('합석', 8615), ('살래', 8616), ('반딧불이', 8617), ('자유분방', 8618), ('근무지', 8619), ('홀대', 8620), ('어려진', 8621), ('무자비', 8622), ('바래다주', 8623), ('일기장', 8624), ('싸운다는', 8625), ('트기', 8626), ('나란히', 8627), ('조문객', 8628), ('진즉', 8629), ('알아차릴', 8630), ('몰아갔', 8631), ('잡아달', 8632), ('과할', 8633), ('열려도', 8634), ('빨리빨리', 8635), ('환장', 8636), ('게정', 8637), ('송두리', 8638), ('잠잠', 8639), ('부으면', 8640), ('수유', 8641), ('시끌시끌', 8642), ('나가족', 8643), ('입학식', 8644), ('수천만', 8645), ('치장', 8646), ('걸림돌', 8647), ('뭉클', 8648), ('몸집', 8649), ('예지', 8650), ('몽', 8651), ('펼쳐놔', 8652), ('그래야지', 8653), ('진영', 8654), ('그래그래', 8655), ('이끈', 8656), ('루', 8657), ('언서', 8658), ('옛일', 8659), ('귀티', 8660), ('어려웠을', 8661), ('두르', 8662), ('위조품', 8663), ('관철', 8664), ('무감각', 8665), ('니기', 8666), ('증후', 8667), ('군전', 8668), ('그친', 8669), ('구랑', 8670), ('이생', 8671), ('다가온', 8672), ('영역', 8673), ('모바일게임', 8674), ('무서웠어', 8675), ('독학', 8676), ('친언니', 8677), ('때려왔', 8678), ('응시', 8679), ('찬다', 8680), ('압도', 8681), ('산불', 8682), ('끄러', 8683), ('뭔데', 8684), ('깎일', 8685), ('활약', 8686), ('징징', 8687), ('유용', 8688), ('저렸', 8689), ('날아다니', 8690), ('아비', 8691), ('법석이', 8692), ('어면', 8693), ('세워놨', 8694), ('선택지', 8695), ('매몰', 8696), ('위시', 8697), ('누이', 8698), ('휘둘려', 8699), ('대해선', 8700), ('화이트', 8701), ('칠칠', 8702), ('천년만년', 8703), ('체격', 8704), ('수거', 8705), ('기워', 8706), ('당사자', 8707), ('관여', 8708), ('추슬러', 8709), ('민나', 8710), ('올래', 8711), ('졌어요', 8712), ('못났', 8713), ('시큰', 8714), ('다그쳐', 8715), ('무자식', 8716), ('아낀다', 8717), ('고싸움', 8718), ('자야반', 8719), ('무종교', 8720), ('내가면', 8721), ('용납', 8722), ('받자', 8723), ('쪽팔리', 8724), ('잡혀가', 8725), ('옹호', 8726), ('싸웠었', 8727), ('뿌렸', 8728), ('머', 8729), ('이뻐서', 8730), ('내평', 8731), ('생모', 8732), ('건사', 8733), ('미화', 8734), ('장어', 8735), ('싸울까', 8736), ('씻겨', 8737), ('흔들렸', 8738), ('굽히', 8739), ('제각각', 8740), ('차고', 8741), ('솔루션', 8742), ('소리쳐도', 8743), ('넘네', 8744), ('서더스', 8745), ('진금', 8746), ('볼수록', 8747), ('리라고', 8748), ('경위', 8749), ('과한', 8750), ('정해졌', 8751), ('간다니', 8752), ('증원', 8753), ('휩싸여', 8754), ('미역', 8755), ('완도', 8756), ('가져다주', 8757), ('바꿔치기', 8758), ('얼음', 8759), ('장가간', 8760), ('부득이', 8761), ('에오', 8762), ('타가', 8763), ('생이', 8764), ('해좌', 8765), ('줄여도', 8766), ('도병', 8767), ('울분', 8768), ('영양사', 8769), ('자강도', 8770), ('움직여서', 8771), ('쉬우', 8772), ('심화', 8773), ('봤었', 8774), ('바랄', 8775), ('일수', 8776), ('물으', 8777), ('역겨울', 8778), ('삼총사', 8779), ('방속', 8780), ('소아비', 8781), ('스케이트', 8782), ('들러', 8783), ('체결', 8784), ('떠난다면', 8785), ('세방', 8786), ('들어온대', 8787), ('상대편', 8788), ('쳐다', 8789), ('낙상', 8790), ('바람나', 8791), ('전최', 8792), ('뿌리쳤', 8793), ('엉성', 8794), ('요로', 8795), ('헉헉거리', 8796), ('혼담', 8797), ('프린트', 8798), ('추모', 8799), ('신지', 8800), ('바닷가', 8801), ('나화', 8802), ('정오', 8803), ('온댔', 8804), ('입권', 8805), ('유한', 8806), ('일찍이', 8807), ('기절초풍', 8808), ('사업장', 8809), ('공감대', 8810), ('박한', 8811), ('치켜세우', 8812), ('해괴', 8813), ('가아', 8814), ('전애', 8815), ('똑부러지', 8816), ('정신병', 8817), ('재난', 8818), ('탐방', 8819), ('취조', 8820), ('풀릴지', 8821), ('광주', 8822), ('혼잣말', 8823), ('막심', 8824), ('더워도', 8825), ('푹신', 8826), ('더럽혔', 8827), ('토가', 8828), ('기필코', 8829), ('야미', 8830), ('도미', 8831), ('뒤쳐진', 8832), ('메우', 8833), ('대패', 8834), ('와서야', 8835), ('래유', 8836), ('전적', 8837), ('부케', 8838), ('거뜬', 8839), ('사형수', 8840), ('중계', 8841), ('성가신데', 8842), ('고황', 8843), ('사량', 8844), ('떨어진대', 8845), ('쬐', 8846), ('테니스', 8847), ('고나서', 8848), ('오프라인', 8849), ('때려치', 8850), ('살만', 8851), ('고달파', 8852), ('후신경', 8853), ('새로움', 8854), ('어쩐', 8855), ('준다더니', 8856), ('연고지', 8857), ('아이스크림', 8858), ('야겠단', 8859), ('나아', 8860), ('입소문', 8861), ('빚더미', 8862), ('기껏해야', 8863), ('꼽', 8864), ('들떴', 8865), ('언어', 8866), ('메이커', 8867), ('피트', 8868), ('출판', 8869), ('공인', 8870), ('중개사', 8871), ('중개', 8872), ('답례', 8873), ('구수', 8874), ('고르기', 8875), ('빗길', 8876), ('미끄러져서', 8877), ('이원수', 8878), ('다원수', 8879), ('뇌사자', 8880), ('사레', 8881), ('그리워할', 8882), ('성전', 8883), ('골골', 8884), ('자빠져', 8885), ('물러져', 8886), ('서취', 8887), ('차익', 8888), ('거창', 8889), ('폭풍우', 8890), ('순환', 8891), ('찌릿찌릿', 8892), ('간헐', 8893), ('배송', 8894), ('베개', 8895), ('나암', 8896), ('빠뜨리', 8897), ('안치', 8898), ('약수터', 8899), ('싸워본', 8900), ('으슬으슬', 8901), ('스러울까', 8902), ('독', 8903), ('방사선', 8904), ('으실', 8905), ('사네', 8906), ('복세', 8907), ('뽐내', 8908), ('위함', 8909), ('리스크', 8910), ('전립선암', 8911), ('교정', 8912), ('배움터', 8913), ('향했', 8914), ('시판', 8915), ('제보자', 8916), ('발랐', 8917), ('딸려', 8918), ('콘테스트', 8919), ('개최', 8920), ('황혼기', 8921), ('치러서', 8922), ('풀코스', 8923), ('급식소', 8924), ('서성거렸', 8925), ('모일', 8926), ('비축', 8927), ('신사업', 8928), ('건설업', 8929), ('가만있', 8930), ('탈없이', 8931), ('유무', 8932), ('좌석', 8933), ('시트', 8934), ('데기', 8935), ('괴롭혔으면', 8936), ('산다기', 8937), ('날카로우', 8938), ('맥빠지', 8939), ('꿰', 8940), ('전했', 8941), ('차가워서', 8942), ('이층집', 8943), ('되도록', 8944), ('참치', 8945), ('사해', 8946), ('우등상', 8947), ('아트', 8948), ('루테인', 8949), ('서바이벌', 8950), ('멘붕', 8951), ('형사', 8952), ('고쳤', 8953), ('틀어지', 8954), ('빈틈', 8955), ('천사', 8956), ('연구실', 8957), ('벌겋', 8958), ('중책', 8959), ('지킴이', 8960), ('가본적', 8961), ('로라', 8962), ('호형호제', 8963), ('붉어지', 8964), ('퇴소', 8965), ('돌본다는', 8966), ('처치', 8967), ('갈려고', 8968), ('요일', 8969), ('오킬', 8970), ('근질근질', 8971), ('함량', 8972), ('구할까봐', 8973), ('저세상', 8974), ('간다더니', 8975), ('편견', 8976), ('유니세프', 8977), ('방면', 8978), ('처진', 8979), ('완성도', 8980), ('망설였', 8981), ('얹혀사', 8982), ('불로', 8983), ('지일', 8984), ('접했', 8985), ('방조', 8986), ('아사', 8987), ('해진다고', 8988), ('기침약', 8989), ('과학고', 8990), ('코빼기', 8991), ('은연중', 8992), ('취업률', 8993), ('역대', 8994), ('서너', 8995), ('무화', 8996), ('스테이크', 8997), ('쳐지', 8998), ('성깔', 8999), ('사나워서', 9000), ('니끼니', 9001), ('걸어온', 9002), ('이대론', 9003), ('골고루', 9004), ('난생', 9005), ('각도', 9006), ('국수', 9007), ('들락날락', 9008), ('철인', 9009), ('최고령', 9010), ('플래카드', 9011), ('비출', 9012), ('밝혀', 9013), ('길렀', 9014), ('임만', 9015), ('윗', 9016), ('배낭여행', 9017), ('무너져내릴', 9018), ('정의', 9019), ('시샘', 9020), ('내눈엔', 9021), ('콱', 9022), ('명세서', 9023), ('전산', 9024), ('인기척', 9025), ('제보', 9026), ('장난친', 9027), ('헛소리', 9028), ('퇴자', 9029), ('멍한', 9030), ('안들', 9031), ('구시렁거리', 9032), ('삐쩍', 9033), ('원성', 9034), ('추행', 9035), ('소모품', 9036), ('온지', 9037), ('행운아', 9038), ('맘놓', 9039), ('매스컴', 9040), ('친족', 9041), ('늦췄', 9042), ('는다더니', 9043), ('세상일', 9044), ('야겠다', 9045), ('옮겨서', 9046), ('연세대', 9047), ('도둑년', 9048), ('암산', 9049), ('꼬였', 9050), ('곧장', 9051), ('띄웠', 9052), ('뭐였을까', 9053), ('성당', 9054), ('쫓겨났', 9055), ('큰애', 9056), ('파스타', 9057), ('결혼관', 9058), ('알람', 9059), ('도벌', 9060), ('폐섬유증', 9061), ('용접공', 9062), ('서적', 9063), ('으려니까', 9064), ('시달렸', 9065), ('매회', 9066), ('정류장', 9067), ('줄서', 9068), ('새치기', 9069), ('항암제', 9070), ('어학', 9071), ('터진', 9072), ('기름지', 9073), ('부사', 9074), ('걸어야', 9075), ('한방', 9076), ('치미', 9077), ('권력', 9078), ('떨어진다며', 9079), ('저질', 9080), ('책살', 9081), ('미뤄질', 9082), ('얕잡아보', 9083), ('싱거워', 9084), ('쳇바퀴', 9085), ('다람쥐', 9086), ('내안', 9087), ('남지', 9088), ('민정', 9089), ('명령', 9090), ('의예과', 9091), ('따돌린다고', 9092), ('서머리', 9093), ('나잠', 9094), ('들뜬', 9095), ('돌발', 9096), ('알아볼', 9097), ('누르', 9098), ('우니', 9099), ('들신경', 9100), ('잡음', 9101), ('개강', 9102), ('꼿꼿', 9103), ('묵묵부답', 9104), ('웃겨서', 9105), ('낄낄거리', 9106), ('용날', 9107), ('과금', 9108), ('부자간', 9109), ('안쓰러워서', 9110), ('야잠', 9111), ('깎인', 9112), ('빗자루', 9113), ('찌르', 9114), ('이뤄낸', 9115), ('척한', 9116), ('지옥', 9117), ('야등', 9118), ('매니지먼트', 9119), ('금도', 9120), ('뺀다', 9121), ('지역할당제', 9122), ('챙겨올', 9123), ('시킨다는', 9124), ('시리', 9125), ('스카웃', 9126), ('결함', 9127), ('양파', 9128), ('고른', 9129), ('가공', 9130), ('바람난', 9131), ('숨겨뒀', 9132), ('직서', 9133), ('수리', 9134), ('차량', 9135), ('사라진다고', 9136), ('택해야', 9137), ('써왔', 9138), ('데당', 9139), ('겁쟁이', 9140), ('배고픔', 9141), ('일교차', 9142), ('랜덤', 9143), ('근종', 9144), ('쿵쿵대', 9145), ('서돌', 9146), ('무려', 9147), ('지약', 9148), ('습처', 9149), ('금고', 9150), ('키를', 9151), ('대졸자', 9152), ('닫힘', 9153), ('닥달', 9154), ('댄다', 9155), ('꽃단장', 9156), ('날린', 9157), ('봐줘', 9158), ('어산', 9159), ('소호', 9160), ('흡기', 9161), ('고약', 9162), ('아배', 9163), ('논과', 9164), ('기여', 9165), ('고야', 9166), ('비틀', 9167), ('여든여덟', 9168), ('도탕', 9169), ('들출', 9170), ('름기억도깜빡깜빡해치매초기인걸까불안해', 9171), ('돈다발', 9172), ('유령', 9173), ('급락', 9174), ('마그네슘', 9175), ('슬며시', 9176), ('살펴봤', 9177), ('의과', 9178), ('육군사관학교', 9179), ('서신', 9180), ('깨우쳤', 9181), ('야참', 9182), ('조장', 9183), ('리더십', 9184), ('은퇴자', 9185), ('색', 9186), ('만보', 9187), ('깎아내렸', 9188), ('앞뒤', 9189), ('통한다고', 9190), ('걸린지', 9191), ('세균', 9192), ('른사람이끼어들면왜그런지짜증나고화가치밀어', 9193), ('옥탑방', 9194), ('매니큐어', 9195), ('게이', 9196), ('차근차근', 9197), ('유치장', 9198), ('올라도', 9199), ('시끄러운', 9200), ('내팽개쳐', 9201), ('드실', 9202), ('민중', 9203), ('치민', 9204), ('상대측', 9205), ('이주동', 9206), ('안자', 9207), ('목적지', 9208), ('내뒤', 9209), ('에운', 9210), ('수출', 9211), ('만드셔', 9212), ('근무력증', 9213), ('드세', 9214), ('이동발', 9215), ('투찰', 9216), ('공사건', 9217), ('인아', 9218), ('세포', 9219), ('높여서', 9220), ('번창', 9221), ('풀린', 9222), ('해한', 9223), ('선후배', 9224), ('관객', 9225), ('계속비', 9226), ('교당', 9227), ('땜', 9228), ('어안', 9229), ('벙벙', 9230), ('통역사', 9231), ('원활', 9232), ('묵묵히', 9233), ('고만', 9234), ('베테랑', 9235), ('태평', 9236), ('드려서', 9237), ('야해', 9238), ('영심이', 9239), ('투약', 9240), ('못한다면', 9241), ('증여', 9242), ('도우며', 9243), ('성찬', 9244), ('두들겨패', 9245), ('고의로', 9246), ('리더', 9247), ('언질', 9248), ('구순', 9249), ('태교', 9250), ('일확천금', 9251), ('입실', 9252), ('어만', 9253), ('간다네', 9254), ('선나', 9255), ('드려야할지', 9256), ('쇠약', 9257), ('신중히', 9258), ('차비', 9259), ('대가족', 9260), ('자본주의', 9261), ('카레', 9262), ('안쓰러웠', 9263), ('윤', 9264), ('바퀴벌레', 9265), ('흘겨보', 9266), ('지칠', 9267), ('움츠려드', 9268), ('산다면', 9269), ('한가요', 9270), ('사이비', 9271), ('끌려갈', 9272), ('오목', 9273), ('해짐', 9274), ('헛구역', 9275), ('욕구', 9276), ('요추', 9277), ('협', 9278), ('착', 9279), ('군걱정', 9280), ('밤샌', 9281), ('내보내', 9282), ('변성기', 9283), ('아인데', 9284), ('먹일', 9285), ('유기농', 9286), ('곡물', 9287), ('검색', 9288), ('위한다고', 9289), ('꿀꿀', 9290), ('한건', 9291), ('원문', 9292), ('얄미운', 9293), ('근무처', 9294), ('궃', 9295), ('기억났', 9296), ('의보', 9297), ('권할', 9298), ('기둥', 9299), ('없앨', 9300), ('저장', 9301), ('부둥켜안', 9302), ('아이디', 9303), ('항공', 9304), ('증명사진', 9305), ('쇼윈도', 9306), ('집도', 9307), ('일삼', 9308), ('재건', 9309), ('염치', 9310), ('원채', 9311), ('꼬마', 9312), ('핼쑥', 9313), ('설쳐서', 9314), ('몸보신', 9315), ('웃음바다', 9316), ('마마보이', 9317), ('대착', 9318), ('올려야', 9319), ('서주', 9320), ('불장난', 9321), ('오판', 9322), ('권투', 9323), ('래미네이트', 9324), ('불어날', 9325), ('하룻밤', 9326), ('망고', 9327), ('단정', 9328), ('별말', 9329), ('깬다', 9330), ('심성', 9331), ('가착', 9332), ('그리멀', 9333), ('소지', 9334), ('군상', 9335), ('이지정', 9336), ('나미', 9337), ('와요', 9338), ('청결', 9339), ('감사히', 9340), ('치주염', 9341), ('부추기', 9342), ('판단력', 9343), ('추워져', 9344), ('냉소', 9345), ('된대서', 9346), ('본능', 9347), ('천장', 9348), ('무너져서', 9349), ('자칫', 9350), ('우속', 9351), ('안식처', 9352), ('노년층', 9353), ('회서', 9354), ('리철', 9355), ('뻔질나게', 9356), ('비흡연자', 9357), ('정할까', 9358), ('지낸다고', 9359), ('세계일', 9360), ('개고기', 9361), ('이긴', 9362), ('환호성', 9363), ('합심', 9364), ('처절', 9365), ('쓰려서', 9366), ('지주식', 9367), ('이맘때', 9368), ('혈중', 9369), ('사신다', 9370), ('어여', 9371), ('달해', 9372), ('어겼', 9373), ('후성', 9374), ('질는지', 9375), ('넘어간다는', 9376), ('해심', 9377), ('통제', 9378), ('가르침', 9379), ('눈여겨보', 9380), ('친목회', 9381), ('도맡', 9382), ('뽀삐', 9383), ('물렸', 9384), ('견주', 9385), ('쌍방', 9386), ('내려올', 9387), ('귓속말', 9388), ('차야', 9389), ('재활용품', 9390), ('독수공방', 9391), ('원천', 9392), ('리니', 9393), ('바라봤', 9394), ('교통비', 9395), ('삭히', 9396), ('아픈가', 9397), ('내죽', 9398), ('짤렸', 9399), ('약혼녀', 9400), ('하얗', 9401), ('도약', 9402), ('뽐냈', 9403), ('생필품', 9404), ('오른쪽', 9405), ('비문증', 9406), ('못했으니', 9407), ('혼사', 9408), ('십수', 9409), ('관둬야', 9410), ('더만', 9411), ('반등', 9412), ('흔들려서', 9413), ('꿔', 9414), ('견뎌야', 9415), ('나도', 9416), ('표출', 9417), ('허하', 9418), ('주재료', 9419), ('순직', 9420), ('꾸며서', 9421), ('서하', 9422), ('소연', 9423), ('이상형', 9424), ('힘센', 9425), ('뒤집어쓴', 9426), ('심해질', 9427), ('수로', 9428), ('따돌릴지', 9429), ('복무', 9430), ('아쉬워서', 9431), ('가로등', 9432), ('들이받', 9433), ('변한', 9434), ('괴리', 9435), ('벌게', 9436), ('당한대도', 9437), ('대피', 9438), ('천식약', 9439), ('고스톱', 9440), ('모실', 9441), ('고관절', 9442), ('발짝', 9443), ('다가간', 9444), ('갇혔', 9445), ('뒤바뀌', 9446), ('사례금', 9447), ('수락', 9448), ('풋살', 9449), ('지낸다는', 9450), ('주빈', 9451), ('판촉', 9452), ('차출', 9453), ('숙면', 9454), ('코드', 9455), ('고픈데', 9456), ('지독', 9457), ('꺼림칙', 9458), ('국채', 9459), ('창자', 9460), ('편의', 9461), ('어그러지', 9462), ('곽', 9463), ('이상조', 9464), ('까닥', 9465), ('기획부', 9466), ('카풀', 9467), ('보안', 9468), ('영진', 9469), ('지지부진', 9470), ('달월', 9471), ('약올리', 9472), ('아까워서', 9473), ('해석', 9474), ('깨나', 9475), ('귀중', 9476), ('창회', 9477), ('콜로라도주', 9478), ('자연스레', 9479), ('살폈', 9480), ('사돈어른', 9481), ('날판', 9482), ('발톱', 9483), ('으리라', 9484), ('장년', 9485), ('사교육', 9486), ('늘리', 9487), ('조례', 9488), ('거명', 9489), ('되갚', 9490), ('이믿음', 9491), ('밑바닥', 9492), ('버릴까', 9493), ('팔아먹', 9494), ('남남', 9495), ('지세', 9496), ('기해', 9497), ('강압', 9498), ('콜록콜록', 9499), ('빠진다고', 9500), ('재물', 9501), ('복이', 9502), ('게서', 9503), ('처가살이', 9504), ('맞서', 9505), ('계신데', 9506), ('난방', 9507), ('억대', 9508), ('입혀서', 9509), ('둔지', 9510), ('까탈', 9511), ('비내야', 9512), ('지원자', 9513), ('최소', 9514), ('가토', 9515), ('익성', 9516), ('사준', 9517), ('도토', 9518), ('바닥난', 9519), ('똥차', 9520), ('무진', 9521), ('파란', 9522), ('대문', 9523), ('조였', 9524), ('가품', 9525), ('옥살이', 9526), ('무서울', 9527), ('비상근무', 9528), ('체제', 9529), ('돌입', 9530), ('기성', 9531), ('네반', 9532), ('배정이', 9533), ('곰곰이', 9534), ('행각', 9535), ('인격', 9536), ('모자람', 9537), ('중화', 9538), ('약내', 9539), ('동물원', 9540), ('클지', 9541), ('나문', 9542), ('침해', 9543), ('룸', 9544), ('라이드', 9545), ('오르락내리락', 9546), ('무너진다', 9547), ('정해져서', 9548), ('파격', 9549), ('얻어맞', 9550), ('낙태', 9551), ('나들이', 9552), ('무서워했', 9553), ('배워도', 9554), ('비비', 9555), ('근절', 9556), ('만무', 9557), ('걸피', 9558), ('뽑혀서', 9559), ('계획안', 9560), ('끌어내렸', 9561), ('솟구쳐', 9562), ('물정', 9563), ('도검', 9564), ('진결', 9565), ('네이버', 9566), ('내제', 9567), ('크릴', 9568), ('중금속', 9569), ('안하무인', 9570), ('이프랑', 9571), ('학회', 9572), ('도련', 9573), ('몸뚱어리', 9574), ('빈다고', 9575), ('개방', 9576), ('재상', 9577), ('도우려고', 9578), ('서러울', 9579), ('헛바람', 9580), ('나아질까', 9581), ('난평', 9582), ('돌연', 9583), ('알려서', 9584), ('해원', 9585), ('최상', 9586), ('로운가', 9587), ('멍해졌', 9588), ('은혜', 9589), ('업신여겨', 9590), ('옆자리', 9591), ('먹구름', 9592), ('화창', 9593), ('조폭', 9594), ('들어간다는데', 9595), ('주야장천', 9596), ('반가우', 9597), ('올꺼', 9598), ('영화관', 9599), ('내건', 9600), ('들여놓', 9601), ('녹차', 9602), ('어쨌', 9603), ('격리실', 9604), ('쓴다며', 9605), ('꾸린', 9606), ('처방전', 9607), ('꺾', 9608), ('친의', 9609), ('핸드백', 9610), ('예치', 9611), ('스러움', 9612), ('마을버스', 9613), ('위스키', 9614), ('뜸했', 9615), ('막다른', 9616), ('넘어뜨렸', 9617), ('환우', 9618), ('두려운지', 9619), ('난장판', 9620), ('해킹', 9621), ('대리운전', 9622), ('약용식물', 9623), ('지낼까', 9624), ('기금', 9625), ('가까워질', 9626), ('뒤보', 9627), ('분할', 9628), ('건재', 9629), ('하청', 9630), ('중점', 9631), ('타고나', 9632), ('끝마쳐야', 9633), ('들볶', 9634), ('아려와', 9635), ('온전', 9636), ('가하', 9637), ('멍하니', 9638), ('욕구불만', 9639), ('문헌', 9640), ('정보과', 9641), ('싱거워서', 9642), ('헛딛', 9643), ('월간지', 9644), ('자식이', 9645), ('인적', 9646), ('올림픽', 9647), ('임했', 9648), ('모전', 9649), ('였잖', 9650), ('체한', 9651), ('대만', 9652), ('혈기', 9653), ('큰다고', 9654), ('달가워하', 9655), ('몸뚱아리', 9656), ('질서', 9657), ('나질', 9658), ('싸워도', 9659), ('외양', 9660), ('서래', 9661), ('입찰', 9662), ('뿌린', 9663), ('궁금해했', 9664), ('집장가', 9665), ('나갔었', 9666), ('만료일', 9667), ('빈껍데기', 9668), ('며늘아기', 9669), ('겨울철', 9670), ('두꺼운', 9671), ('신경증', 9672), ('휘말려서', 9673), ('경직', 9674), ('느껴진다', 9675), ('일손', 9676), ('괄시', 9677), ('미천', 9678), ('나간다고', 9679), ('살린다고', 9680), ('예쁜데', 9681), ('더라나', 9682), ('찌기', 9683), ('막냇동생', 9684), ('거슬리', 9685), ('처참히', 9686), ('활동가', 9687), ('응할', 9688), ('렇게일처리속도가느릴까늘하는일인데도손에익지가않아', 9689), ('줘버렸', 9690), ('삼인', 9691), ('공중', 9692), ('뚜껑', 9693), ('닫혀', 9694), ('내림', 9695), ('아이템', 9696), ('사내정치', 9697), ('티오', 9698), ('들러야', 9699), ('고래', 9700), ('새우등', 9701), ('도리', 9702), ('토박이', 9703), ('른직원들은퇴근하고나혼자서일하려니쓸쓸한생각이드네', 9704), ('속내', 9705), ('설까', 9706), ('두아', 9707), ('면실', 9708), ('염두', 9709), ('볼래', 9710), ('엄한', 9711), ('인사불성', 9712), ('먹였', 9713), ('휴무일', 9714), ('내것이', 9715), ('물병', 9716), ('떨어뜨릴', 9717), ('넘어올', 9718), ('찔러보', 9719), ('평안', 9720), ('셰', 9721), ('폐병', 9722), ('염', 9723), ('영지', 9724), ('상철', 9725), ('이쁨', 9726), ('심해질까', 9727), ('생각났', 9728), ('조그마', 9729), ('처자식', 9730), ('시킬까', 9731), ('찢어져', 9732), ('찢긴', 9733), ('머무', 9734), ('이여', 9735), ('럿이한꺼번에덤벼서아무것도할수없어무기력해져슬퍼', 9736), ('반도체', 9737), ('바치', 9738), ('나몰라라', 9739), ('이승진', 9740), ('내려왔', 9741), ('행세', 9742), ('내공', 9743), ('산물', 9744), ('들어머리', 9745), ('되려', 9746), ('베이비붐', 9747), ('미투', 9748), ('내취', 9749), ('예기', 9750), ('이가', 9751), ('박수', 9752), ('노약자', 9753), ('제친', 9754), ('들오', 9755), ('줏대', 9756), ('까다로워', 9757), ('세워야', 9758), ('쓰린', 9759), ('동정심', 9760), ('안건', 9761), ('표했', 9762), ('원제', 9763), ('뺀', 9764), ('삐쳐', 9765), ('다쳤으면', 9766), ('잔반', 9767), ('헤어나올', 9768), ('축소', 9769), ('들어올리기', 9770), ('코코아', 9771), ('음미', 9772), ('스쳐도', 9773), ('따가워서', 9774), ('치웠', 9775), ('망할', 9776), ('열장', 9777), ('특수', 9778), ('부대', 9779), ('만난다니', 9780), ('제장', 9781), ('경운기', 9782), ('바친', 9783), ('키로', 9784), ('부룩', 9785), ('도외', 9786), ('들려주', 9787), ('작심삼일', 9788), ('사시사철', 9789), ('내배', 9790), ('거둬들여', 9791), ('기저', 9792), ('뻗', 9793), ('궁색', 9794), ('미옥', 9795), ('올바르', 9796), ('입찰가', 9797), ('알아맞혀서', 9798), ('더라는', 9799), ('와선', 9800), ('기역', 9801), ('파와', 9802), ('설탕', 9803), ('충동', 9804), ('들러서', 9805), ('묻혀', 9806), ('큰처남', 9807), ('사죄', 9808), ('편한지', 9809), ('발주', 9810), ('곗거리는제일많은게정말구역질나', 9811), ('중압감', 9812), ('나을지', 9813), ('설문', 9814), ('냉혹', 9815), ('지켜준', 9816), ('연달', 9817), ('당해야', 9818), ('행가', 9819), ('페인트칠', 9820), ('유력', 9821), ('들여가', 9822), ('유라', 9823), ('다쓰지', 9824), ('쯕가져다놨는데너무화가난다', 9825), ('적초', 9826), ('라잖아', 9827), ('떵떵', 9828), ('드러날까', 9829), ('오르간', 9830), ('반주자', 9831), ('패거리', 9832), ('쫄면', 9833), ('고달플', 9834), ('내려온다', 9835), ('의취', 9836), ('업축', 9837), ('념으로가족끼리외식을했는데난정말버려진느낌이었어', 9838), ('못했을까', 9839), ('창립', 9840), ('마마', 9841), ('무가', 9842), ('다닌다면서', 9843), ('데려', 9844), ('배당', 9845), ('정할', 9846), ('꿋꿋', 9847), ('견뎌낼', 9848), ('베트남', 9849), ('꾸려왔', 9850), ('입국', 9851), ('송년회', 9852), ('예보', 9853), ('군암', 9854), ('놀랐었', 9855), ('나노', 9856), ('인파', 9857), ('지킨다는', 9858), ('암민', 9859), ('간요', 9860), ('휘말렸', 9861), ('어깨치기', 9862), ('창창', 9863), ('떠미', 9864), ('서역', 9865), ('겨워', 9866), ('클', 9867), ('번졌', 9868), ('내세울', 9869), ('가공지', 9870), ('제쳐', 9871), ('반신불수', 9872), ('기다려도', 9873), ('젤', 9874), ('국비', 9875), ('치료법', 9876), ('헤드셋', 9877), ('콩쿠르', 9878), ('거북', 9879), ('해져야', 9880), ('얌전히', 9881), ('결코', 9882), ('오질', 9883), ('학용품', 9884), ('늘상', 9885), ('황천길', 9886), ('컨설턴트', 9887), ('용의자', 9888), ('설렁설렁', 9889), ('자자', 9890), ('지워', 9891), ('덧없', 9892), ('진탕', 9893), ('못한데', 9894), ('목격자', 9895), ('곯아떨어지', 9896), ('장우', 9897), ('냉랭', 9898), ('당첨자', 9899), ('티나', 9900), ('명함', 9901), ('덕담', 9902), ('수요일', 9903), ('해할까봐', 9904), ('치근덕거려서', 9905), ('개편', 9906), ('정든', 9907), ('신생', 9908), ('구석진', 9909), ('대각선', 9910), ('연학', 9911), ('아용', 9912), ('내보냈', 9913), ('수분', 9914), ('잠그', 9915), ('두드리', 9916), ('동락', 9917), ('보낸다는', 9918), ('세상사', 9919), ('목구멍', 9920), ('대해줘', 9921), ('수치심', 9922), ('몰려왔', 9923), ('지와', 9924), ('힘써야', 9925), ('버럭대', 9926), ('소리쳐서', 9927), ('지칭', 9928), ('용어', 9929), ('채식주의', 9930), ('고수', 9931), ('다아', 9932), ('픈', 9933), ('간호인', 9934), ('후두암', 9935), ('금세', 9936), ('불명확', 9937), ('후비', 9938), ('유리창', 9939), ('칫솔', 9940), ('내야', 9941), ('생겨나', 9942), ('만져서', 9943), ('밝힌다고', 9944), ('놀래', 9945), ('로다', 9946), ('헤어졌으면', 9947), ('입꼬리', 9948), ('지민', 9949), ('가꾸', 9950), ('일주', 9951), ('편한데', 9952), ('가당', 9953), ('려다', 9954), ('식상', 9955), ('일으킬까', 9956), ('키가', 9957), ('센티미터', 9958), ('캄캄하', 9959), ('배다른', 9960), ('느낀다는', 9961), ('쑥스러워서', 9962), ('껐', 9963), ('페이스', 9964), ('밝아지', 9965), ('예견', 9966), ('굴려', 9967), ('충만', 9968), ('영업부', 9969), ('공포증', 9970), ('감안', 9971), ('면제', 9972), ('취', 9973), ('총괄', 9974), ('구성원', 9975), ('억만금', 9976), ('하와이', 9977), ('먼지', 9978), ('메마르', 9979), ('엄연히', 9980), ('아신', 9981), ('지하', 9982), ('유골', 9983), ('소실', 9984), ('차사', 9985), ('차키', 9986), ('머쓱', 9987), ('베낀', 9988), ('방출', 9989), ('공돈', 9990), ('보탬', 9991), ('여름날', 9992), ('논', 9993), ('시집가', 9994), ('스톡옵션', 9995), ('무작정', 9996), ('괴로움', 9997), ('끊어졌', 9998), ('장마철', 9999), ('장대', 10000), ('인데다', 10001), ('겹쳤', 10002), ('전가', 10003), ('주어질', 10004), ('나복', 10005), ('돋친', 10006), ('순대', 10007), ('스러운가', 10008), ('훼손', 10009), ('날도', 10010), ('주다', 10011), ('해약', 10012), ('기로', 10013), ('탑', 10014), ('쫓아다녀', 10015), ('꺼진', 10016), ('손쓸', 10017), ('짱', 10018), ('웅덩이', 10019), ('달목', 10020), ('곤충', 10021), ('숨찬', 10022), ('줄여야', 10023), ('응모', 10024), ('애틋', 10025), ('과다', 10026), ('지어다', 10027), ('갈팡질팡', 10028), ('굴레', 10029), ('쪼들리', 10030), ('승률', 10031), ('눈길', 10032), ('예사', 10033), ('전자레인지', 10034), ('못한단', 10035), ('국제', 10036), ('재결합', 10037), ('생물학자', 10038), ('대난', 10039), ('만병통치약', 10040), ('어치', 10041), ('들춰내', 10042), ('알콜', 10043), ('스토커', 10044), ('사족', 10045), ('허벅', 10046), ('이인삼각', 10047), ('가버리', 10048), ('웠는데너무화가나고짜증나', 10049), ('우지', 10050), ('알아본다고', 10051), ('대범', 10052), ('푸대접', 10053), ('군무원', 10054), ('다룬다', 10055), ('표시', 10056), ('친정아버지', 10057), ('천국', 10058), ('선친', 10059), ('넌', 10060), ('할려고', 10061), ('부풀려서', 10062), ('감상문', 10063), ('한가득', 10064), ('보미', 10065), ('아웃백', 10066), ('지킨', 10067), ('희망차', 10068), ('자래', 10069), ('경희대', 10070), ('장인', 10071), ('문중', 10072), ('심문', 10073), ('패했', 10074), ('걷힐', 10075), ('부도났', 10076), ('확답', 10077), ('담담', 10078), ('소', 10079), ('의외로', 10080), ('바람맞', 10081), ('내려간다고', 10082), ('힐', 10083), ('퉜는데그후로다들날피해서학교생활이너무외로워', 10084), ('도래', 10085), ('오점', 10086), ('수완', 10087), ('소형', 10088), ('카메라', 10089), ('고하', 10090), ('술버릇', 10091), ('늘씬', 10092), ('영화제', 10093), ('관람', 10094), ('영향력', 10095), ('토론', 10096), ('이웃사촌', 10097), ('새하얘지', 10098), ('티날까', 10099), ('차원', 10100), ('지잠', 10101), ('연악', 10102), ('보상금', 10103), ('없앴', 10104), ('내년도', 10105), ('수립', 10106), ('벤처', 10107), ('예뻐질', 10108), ('농담삼', 10109), ('신변', 10110), ('난할', 10111), ('해몽', 10112), ('앞당겨져', 10113), ('비상사태', 10114), ('번다면', 10115), ('알림', 10116), ('기전', 10117), ('봉지', 10118), ('고친다고', 10119), ('내려진', 10120), ('부쳐져', 10121), ('쫓겨날까봐', 10122), ('귀한', 10123), ('냉면', 10124), ('느껴져온', 10125), ('어리광', 10126), ('노궁', 10127), ('전조', 10128), ('가까운데', 10129), ('주점', 10130), ('급증', 10131), ('적격', 10132), ('비형', 10133), ('수만', 10134), ('장집', 10135), ('감추', 10136), ('미련없이', 10137), ('알린다고', 10138), ('기부금', 10139), ('고학력자', 10140), ('애달픈', 10141), ('도한', 10142), ('어회', 10143), ('에프', 10144), ('눈독', 10145), ('미션', 10146), ('쑥스러웠', 10147), ('묻히', 10148), ('기혼자', 10149), ('장가보내', 10150), ('무언', 10151), ('떨어뜨렸', 10152), ('뜩사오는데짜증나', 10153), ('배분', 10154), ('가스레인지', 10155), ('끈', 10156), ('민', 10157), ('착착', 10158), ('화제', 10159), ('건다고', 10160), ('다이아', 10161), ('글짓기', 10162), ('벌여서', 10163), ('내근', 10164), ('육량', 10165), ('자궁암', 10166), ('썼을까', 10167), ('대든', 10168), ('목록', 10169), ('준일', 10170), ('병도', 10171), ('가운데', 10172), ('홍', 10173), ('머릿결', 10174), ('심신', 10175), ('인차', 10176), ('흘려들', 10177), ('미룰', 10178), ('이제병', 10179), ('선보', 10180), ('쇠', 10181), ('대거', 10182), ('반수', 10183), ('사나워져서', 10184), ('은국', 10185), ('나병원', 10186), ('뒤통수치', 10187), ('갓난아기', 10188), ('멱살잡이', 10189), ('영불', 10190), ('평수', 10191), ('졸려', 10192), ('꿔서', 10193), ('고모부', 10194), ('이학교', 10195), ('살맛나', 10196), ('항공업', 10197), ('시체', 10198), ('잔다고', 10199), ('두골', 10200), ('오묘', 10201), ('품안', 10202), ('갈길', 10203), ('사유', 10204), ('수년전', 10205), ('노름빚', 10206), ('명시', 10207), ('으라네', 10208), ('목사', 10209), ('전갑', 10210), ('가눌', 10211), ('이오', 10212), ('설경', 10213), ('산행', 10214), ('야집', 10215), ('억누르', 10216), ('가했', 10217), ('골라달', 10218), ('깬', 10219), ('말벌', 10220), ('이어가기', 10221), ('레인', 10222), ('홍콩', 10223), ('돌아다녀도', 10224), ('충실', 10225), ('화끈거려서', 10226), ('근가', 10227), ('청소기', 10228), ('들으시고', 10229), ('귓등', 10230), ('머리띠', 10231), ('천근만근', 10232), ('모른다는데', 10233), ('얼만데', 10234), ('온찜질', 10235), ('얕보', 10236), ('컨', 10237), ('닝', 10238), ('하지', 10239), ('일러바쳤', 10240), ('중재', 10241), ('부들부들', 10242), ('순수익', 10243), ('백조', 10244), ('식충', 10245), ('옥이', 10246), ('야금', 10247), ('키워온', 10248), ('반면', 10249), ('납작', 10250), ('예뻐진', 10251), ('집살이', 10252), ('번휴', 10253), ('대전', 10254), ('떠든다고', 10255), ('선한', 10256), ('국사', 10257), ('수강', 10258), ('췌장', 10259), ('보육', 10260), ('바람직', 10261), ('세세', 10262), ('따온', 10263), ('미터', 10264), ('쾅', 10265), ('아쉬우', 10266), ('선조', 10267), ('리스', 10268), ('착해', 10269), ('차인', 10270), ('넘어뜨려서', 10271), ('대반', 10272), ('여드름', 10273), ('징그러웠', 10274), ('식한', 10275), ('폐가', 10276), ('합동', 10277), ('얼렁뚱땅', 10278), ('백수인', 10279), ('야자유', 10280), ('물회', 10281), ('미세', 10282), ('모아놨', 10283), ('이를까', 10284), ('맞아떨어져서', 10285), ('거역', 10286), ('비롯', 10287), ('번연', 10288), ('간아', 10289), ('뜩먹고들어와선술주정만부리니그렇게꼴보기싫더라', 10290), ('보험중개인', 10291), ('하얘지', 10292), ('일본어', 10293), ('세제', 10294), ('갈망', 10295), ('내화', 10296), ('알려져', 10297), ('준다지', 10298), ('펜션', 10299), ('편치가', 10300), ('흉한', 10301), ('만족감', 10302), ('육류', 10303), ('겠는데', 10304), ('먹여서', 10305), ('운비', 10306), ('딴짓', 10307), ('법안', 10308), ('번지', 10309), ('형편없이', 10310), ('바빠졌', 10311), ('샤프', 10312), ('얼버무려서', 10313), ('냉장', 10314), ('고문', 10315), ('알츠하이머병', 10316), ('기척', 10317), ('독점', 10318), ('장차', 10319), ('유망', 10320), ('한발', 10321), ('맹장', 10322), ('고부간', 10323), ('상위권', 10324), ('보니', 10325), ('비법', 10326), ('에피소드', 10327), ('경제학자', 10328), ('괴롭혀왔', 10329), ('크루즈', 10330), ('더머리', 10331), ('유방', 10332), ('도학', 10333), ('바비큐', 10334), ('텃새', 10335), ('공업', 10336), ('내미', 10337), ('멈췄으면', 10338), ('밥걱정', 10339), ('올려다보', 10340), ('아낀다고', 10341), ('이학', 10342), ('둑', 10343), ('상내', 10344), ('선천성', 10345), ('후조', 10346), ('심히', 10347), ('늦깎이', 10348), ('황새', 10349), ('뱁새', 10350), ('연대', 10351), ('떠보', 10352), ('울렁증', 10353), ('세울', 10354), ('손해나', 10355), ('수백만', 10356), ('뒤져', 10357), ('발레', 10358), ('역해서', 10359), ('감퇴', 10360), ('궁한', 10361), ('성형수술', 10362), ('줄려고', 10363), ('승객', 10364), ('파마', 10365), ('씸', 10366), ('는구만', 10367), ('저하', 10368), ('블라인드', 10369), ('다문화가정', 10370), ('한국말', 10371), ('마셔야', 10372), ('난입', 10373), ('먹지', 10374), ('고지서', 10375), ('찌들', 10376), ('온다더니', 10377), ('가라앉히', 10378), ('블', 10379), ('이어져서', 10380), ('갈아엎', 10381), ('퍼져서', 10382), ('수요', 10383), ('금실', 10384), ('구린', 10385), ('주워', 10386), ('야생', 10387), ('내참', 10388), ('대한민국', 10389), ('밟혀서', 10390), ('백일', 10391), ('미숙아', 10392), ('호기심', 10393), ('웅얼거리', 10394), ('밀도', 10395), ('피디', 10396), ('보살펴준', 10397), ('조산', 10398), ('두려워졌', 10399), ('고시원', 10400), ('다남', 10401), ('다녀가', 10402), ('소독', 10403), ('철썩', 10404), ('막바지', 10405), ('한도', 10406), ('코트', 10407), ('저녁밥', 10408), ('따른다면', 10409), ('동요', 10410), ('이주만', 10411), ('까막눈', 10412), ('가통', 10413), ('보드게임', 10414), ('경찰관', 10415), ('도모', 10416), ('올려져', 10417), ('밑천', 10418), ('그새', 10419), ('든다면서', 10420), ('물어뜯', 10421), ('도다', 10422), ('표기', 10423), ('제자리걸음', 10424), ('무알코올', 10425), ('개입', 10426), ('른애가발로차서넘어져다쳤어화나고속상해', 10427), ('무서워져', 10428), ('취직자리', 10429), ('도망쳐야', 10430), ('서류철', 10431), ('얕', 10432), ('필까', 10433), ('입소', 10434), ('뒤척', 10435), ('자궁경부암', 10436), ('피울까', 10437), ('경청', 10438), ('혈', 10439), ('번짼데', 10440), ('파도', 10441), ('휩쓸려', 10442), ('수군거려서', 10443), ('시가', 10444), ('불러들이', 10445), ('상투', 10446), ('날라', 10447), ('쉼터', 10448), ('어딨', 10449), ('쇼핑가', 10450), ('고마우', 10451), ('뒤돌아보', 10452), ('하나님', 10453), ('필리핀', 10454), ('데인', 10455), ('까다로워서', 10456), ('근전', 10457), ('뇌야', 10458), ('일안', 10459), ('쉬쉬', 10460), ('성의', 10461), ('폐기', 10462), ('역무원', 10463), ('질러도', 10464), ('벗어났', 10465), ('콘돔', 10466), ('마주칠까봐', 10467), ('바란', 10468), ('지리산', 10469), ('풀이', 10470), ('군입', 10471), ('대후', 10472), ('다재다능', 10473), ('부녀간', 10474), ('배움', 10475), ('작동', 10476), ('동떨어져', 10477), ('농사지', 10478), ('건축비', 10479), ('기쁜지', 10480), ('담소', 10481), ('넘어온', 10482), ('흔들거려', 10483), ('한단다', 10484), ('도력', 10485), ('버킷', 10486), ('복합', 10487), ('어울린다고', 10488), ('취해야', 10489), ('된단다', 10490), ('날만큼', 10491), ('인지라', 10492), ('메세지', 10493), ('색안경', 10494), ('곤두세우', 10495), ('나몰라', 10496), ('등산화', 10497), ('서명', 10498), ('틀림없이', 10499), ('맞장구쳐', 10500), ('건드릴까', 10501), ('집문서', 10502), ('비웃음', 10503), ('건치', 10504), ('발끈하', 10505), ('살수록', 10506), ('들어온다니', 10507), ('이명문', 10508), ('이해도', 10509), ('헤쳐나갈', 10510), ('발길', 10511), ('째려봤', 10512), ('양아치', 10513), ('보인다', 10514), ('터치', 10515), ('몰릴까봐', 10516), ('비싼지', 10517), ('고와서', 10518), ('다행이', 10519), ('뒷조사', 10520), ('아니꼽', 10521), ('보고대회', 10522), ('천직', 10523), ('정형', 10524), ('외과', 10525), ('슬퍼해', 10526), ('별명', 10527), ('짠순이', 10528), ('찰', 10529), ('이보', 10530), ('골병', 10531), ('정형외과', 10532), ('두껍', 10533), ('바람둥이', 10534), ('세침', 10535), ('뜯길', 10536), ('건축주', 10537), ('벽돌', 10538), ('이끼', 10539), ('번본', 10540), ('한골', 10541), ('부릴까봐', 10542), ('쫓아오', 10543), ('마리', 10544), ('뚫어지', 10545), ('육촌', 10546), ('도와줄지', 10547), ('시신', 10548), ('나볼', 10549), ('아껴둔', 10550), ('붙들려', 10551), ('수동', 10552), ('깨어날지', 10553), ('해질까봐', 10554), ('이겨서', 10555), ('성능', 10556), ('대관절', 10557), ('상대자', 10558), ('장다', 10559), ('닌지', 10560), ('오징어', 10561), ('고전', 10562), ('위원장', 10563), ('전전긍긍', 10564), ('호기', 10565), ('어쩔지', 10566), ('어떻하', 10567), ('서담', 10568), ('물으면', 10569), ('알려준다고', 10570), ('간학', 10571), ('교반', 10572), ('갑상샘암', 10573), ('영양가', 10574), ('어찌하', 10575), ('안색', 10576), ('한고비', 10577), ('빼돌려', 10578), ('넷플릭스', 10579), ('획득', 10580), ('수소문', 10581), ('진형', 10582), ('체했', 10583), ('이관', 10584), ('스', 10585), ('트레', 10586), ('조미료', 10587), ('잉크', 10588), ('기회주의자', 10589), ('올라갈', 10590), ('야적', 10591), ('따라줘', 10592), ('베란다', 10593), ('가전제품', 10594), ('어겨서', 10595), ('넘겨서', 10596), ('특유', 10597), ('비자', 10598), ('밉보였', 10599), ('부인과', 10600), ('들끊', 10601), ('가동', 10602), ('밀려나', 10603), ('방송사', 10604), ('여비서', 10605), ('간다며', 10606), ('추잡', 10607), ('악기', 10608), ('담가', 10609), ('장래희망', 10610), ('다혈질', 10611), ('당당히', 10612), ('한적', 10613), ('반지하', 10614), ('꾸렸', 10615), ('가계약', 10616), ('제산', 10617), ('종용', 10618), ('들어와야', 10619), ('뜻깊', 10620), ('판사', 10621), ('외진', 10622), ('포트폴리오', 10623), ('노나', 10624), ('장이지', 10625), ('좌지우지', 10626), ('롯데월드', 10627), ('건넨', 10628), ('오르내릴', 10629), ('상다', 10630), ('벨', 10631), ('눌러', 10632), ('어떤지', 10633), ('적아', 10634), ('연애편지', 10635), ('출결', 10636), ('첨부', 10637), ('입주민', 10638), ('초밥', 10639), ('주병', 10640), ('별나', 10641), ('인공수정', 10642), ('이제동', 10643), ('주입식', 10644), ('절뚝거리', 10645), ('하금', 10646), ('다큐', 10647), ('큰올케', 10648), ('백해무익', 10649), ('물난리', 10650), ('잠겨', 10651), ('살살', 10652), ('큰소리치', 10653), ('자랑거리', 10654), ('찾아내', 10655), ('따가워', 10656), ('피력', 10657), ('사안', 10658), ('괴롭힌다는', 10659), ('홀어머니', 10660), ('가로막', 10661), ('개인위생', 10662), ('빠진다', 10663), ('선행', 10664), ('난문', 10665), ('가적', 10666), ('살찔', 10667), ('겁난다', 10668), ('잔살', 10669), ('둥지', 10670), ('참새', 10671), ('계산서', 10672), ('발행', 10673), ('깨보', 10674), ('이현실', 10675), ('잔디', 10676), ('돗자리', 10677), ('갑자', 10678), ('아십니까', 10679), ('주시', 10680), ('한우리', 10681), ('순하', 10682), ('대주', 10683), ('산길', 10684), ('단골', 10685), ('식약청', 10686), ('검문', 10687), ('지나왔', 10688), ('이뤄진다는', 10689), ('적잖이', 10690), ('전한다면', 10691), ('이남', 10692), ('동나', 10693), ('이점수', 10694), ('속앓이', 10695), ('서민', 10696), ('일업', 10697), ('제일심', 10698), ('경멸', 10699), ('알아차리', 10700), ('단게', 10701), ('당겨서', 10702), ('다년간', 10703), ('유머러스', 10704), ('마쳐서', 10705), ('데려다준다고', 10706), ('지겨운지', 10707), ('넋두리', 10708), ('휘청', 10709), ('설렘', 10710), ('오월', 10711), ('용약', 10712), ('영구', 10713), ('싸돌아다니', 10714), ('흉하', 10715), ('서예', 10716), ('호적', 10717), ('나무랐', 10718), ('뭣하러', 10719), ('뉴저지', 10720), ('은행원', 10721), ('헛구역질', 10722), ('명확히', 10723), ('생겼었', 10724), ('밤사이', 10725), ('종이봉투', 10726), ('째째', 10727), ('친자', 10728), ('주래', 10729), ('스텐', 10730), ('삽', 10731), ('죄인', 10732), ('갈아주', 10733), ('관람권', 10734), ('서소', 10735), ('외감', 10736), ('배웠으면', 10737), ('격투기', 10738), ('몰아주', 10739), ('두서없이', 10740), ('엎질렀', 10741), ('데면데면', 10742), ('구두쇠', 10743), ('얼추', 10744), ('쇼크', 10745), ('고마워해서', 10746), ('인과', 10747), ('깔보', 10748), ('헤르페스', 10749), ('유흥업소', 10750), ('다그치', 10751), ('트레이닝', 10752), ('능장', 10753), ('도남', 10754), ('지으면', 10755), ('파선', 10756), ('삐걱거리', 10757), ('두세', 10758), ('아나운서', 10759), ('호우', 10760), ('귀여운지', 10761), ('캠핑카', 10762), ('일어설', 10763), ('스카프', 10764), ('도망갈까봐', 10765), ('원근처', 10766), ('면치', 10767), ('삐뚤어지', 10768), ('난고', 10769), ('하원', 10770), ('포근', 10771), ('깐', 10772), ('족대', 10773), ('미룬다는', 10774), ('인솔자', 10775), ('피부암', 10776), ('시름', 10777), ('들킬까', 10778), ('험하', 10779), ('척척', 10780), ('봇', 10781), ('수부족', 10782), ('따져', 10783), ('꾸릴', 10784), ('성취감', 10785), ('서통', 10786), ('증자', 10787), ('혼미', 10788), ('쿵쿵', 10789), ('오래도록', 10790), ('연연', 10791), ('흠', 10792), ('하자', 10793), ('이만', 10794), ('내려질', 10795), ('무회', 10796), ('물어도', 10797), ('불운', 10798), ('아이콘', 10799), ('주봉', 10800), ('가재', 10801), ('식기세척기', 10802), ('팔렸', 10803), ('동한', 10804), ('작당', 10805), ('튼', 10806), ('최저임금', 10807), ('게으른지', 10808), ('뛰어다니', 10809), ('크나큰', 10810), ('전략', 10811), ('급격', 10812), ('뒀었', 10813), ('강원랜드', 10814), ('태권도', 10815), ('우스꽝', 10816), ('약본', 10817), ('일일', 10818), ('꺼야', 10819), ('는둥', 10820), ('물불', 10821), ('서조', 10822), ('역', 10823), ('선돈', 10824), ('권장', 10825), ('막연히', 10826), ('제빵', 10827), ('깜깜무소식', 10828), ('망언', 10829), ('낼지', 10830), ('쟀', 10831), ('서죽', 10832), ('뻔했', 10833), ('삿대', 10834), ('저조', 10835), ('혁신안', 10836), ('남겨줄까', 10837), ('내인', 10838), ('언', 10839), ('로우', 10840), ('투표', 10841), ('붙잡혀', 10842), ('임직원', 10843), ('태워서', 10844), ('화끈거렸', 10845), ('유산소', 10846), ('벌기', 10847), ('놓였', 10848), ('뒷자리', 10849), ('무표정', 10850), ('유발', 10851), ('이러나저러나', 10852), ('인고', 10853), ('쫓겨서', 10854), ('고주망태', 10855), ('가정일', 10856), ('겁먹', 10857), ('든다며', 10858), ('식지', 10859), ('이동결', 10860), ('내처', 10861), ('풍경사진', 10862), ('빈집', 10863), ('후난', 10864), ('업그레이드', 10865), ('앞당겨졌', 10866), ('민낯', 10867), ('교습', 10868), ('어둡', 10869), ('모의', 10870), ('자아', 10871), ('들어선', 10872), ('계산대', 10873), ('공모', 10874), ('비처', 10875), ('영숙', 10876), ('나우리', 10877), ('싸워볼', 10878), ('현역', 10879), ('소유', 10880), ('리어', 10881), ('죽여서', 10882), ('후송', 10883), ('빌린다면', 10884), ('아셔도', 10885), ('아파하', 10886), ('반성문', 10887), ('뉘', 10888), ('정원수', 10889), ('번설', 10890), ('노선', 10891), ('부추긴', 10892), ('단말', 10893), ('찾아다녀야', 10894), ('내경험', 10895), ('편파', 10896), ('는데도', 10897), ('무서워서도', 10898), ('일러바친', 10899), ('무뎌진', 10900), ('저승', 10901), ('사자', 10902), ('후제', 10903), ('맹세', 10904), ('쟁', 10905), ('치유', 10906), ('달아보', 10907), ('데마', 10908), ('면상', 10909), ('가술', 10910), ('미뤄서', 10911), ('가손', 10912), ('큰상', 10913), ('훨훨', 10914), ('사무소', 10915), ('탁해졌', 10916), ('갈비뼈', 10917), ('브로마이드', 10918), ('잇속', 10919), ('종말', 10920), ('상상도', 10921), ('난병', 10922), ('독자', 10923), ('서산', 10924), ('일환', 10925), ('웃옷', 10926), ('계열', 10927), ('상복', 10928), ('긴급', 10929), ('애원', 10930), ('박살내', 10931), ('양성애자', 10932), ('촌스러운', 10933), ('파마머리', 10934), ('잖은', 10935), ('돌아온', 10936), ('중병', 10937), ('박동수', 10938), ('아역', 10939), ('인내심', 10940), ('기독교도', 10941), ('레고', 10942), ('혼낼', 10943), ('뒤처져서', 10944), ('처갓집', 10945), ('장보', 10946), ('주거', 10947), ('짓누르', 10948), ('여념', 10949), ('화투', 10950), ('빡빡', 10951), ('상장', 10952), ('얼싸안', 10953), ('순순히', 10954), ('공백', 10955), ('땅문서', 10956), ('올린다고', 10957), ('깨웠', 10958), ('쁨받는게질투나고미운마음이들어당황스러워', 10959), ('가르칠', 10960), ('모니터', 10961), ('포옹', 10962), ('폭삭', 10963), ('자질', 10964), ('행정', 10965), ('다시금', 10966), ('삔', 10967), ('늘어지', 10968), ('통풍', 10969), ('막걸리', 10970), ('튀어나오', 10971), ('해줄지', 10972), ('택할', 10973), ('고마움', 10974), ('중추', 10975), ('장암', 10976), ('한달', 10977), ('개국', 10978), ('부끄러움', 10979), ('무덤덤', 10980), ('튀어나올', 10981), ('쫓겨', 10982), ('그래선', 10983), ('음악회', 10984), ('쥐어박', 10985), ('메모', 10986), ('안방', 10987), ('간모', 10988), ('챌까봐', 10989), ('밟혀', 10990), ('관리직', 10991), ('돈대', 10992), ('적반하장', 10993), ('사과문', 10994), ('병균', 10995), ('몸싸움', 10996), ('표절', 10997), ('서발', 10998), ('이인일', 10999), ('전과범', 11000), ('할는지', 11001), ('널', 11002), ('그런다더라', 11003), ('짜장면', 11004), ('군만두', 11005), ('수일', 11006), ('애니메이션', 11007), ('상당', 11008), ('삭인', 11009), ('늘어날', 11010), ('밤새워', 11011), ('카바레', 11012), ('땡기', 11013), ('상이병', 11014), ('거니', 11015), ('구축', 11016), ('빌려준다', 11017), ('군기', 11018), ('우회', 11019), ('통원', 11020), ('부턴', 11021), ('으셔도', 11022), ('지오', 11023), ('래야', 11024), ('간판', 11025), ('안겨서', 11026), ('해졌었', 11027), ('세척', 11028), ('이런가', 11029), ('서술형', 11030), ('복약', 11031), ('부닥치', 11032), ('바람기', 11033), ('체면', 11034), ('심한데', 11035), ('배상금', 11036), ('험준', 11037), ('됬', 11038), ('주진', 11039), ('가나', 11040), ('나출', 11041), ('흘러서', 11042), ('완고', 11043), ('댈', 11044), ('근후', 11045), ('겁박', 11046), ('직렬', 11047), ('싸워왔', 11048), ('중지', 11049), ('대병', 11050), ('대대', 11051), ('친우', 11052), ('밤하늘', 11053), ('셌', 11054), ('무관', 11055), ('집어넣', 11056), ('결백', 11057), ('퍼지', 11058), ('사돈집', 11059), ('저래', 11060), ('홀수', 11061), ('비거', 11062), ('습기', 11063), ('살균제', 11064), ('점포', 11065), ('좌불안석', 11066), ('새워야', 11067), ('노동력', 11068), ('자해', 11069), ('클수록', 11070), ('매달릴', 11071), ('직임', 11072), ('약그릇', 11073), ('걸린대', 11074), ('만졌', 11075), ('후물리', 11076), ('선입견', 11077), ('더러웠', 11078), ('생생', 11079), ('직분', 11080), ('심정지', 11081), ('이탈', 11082), ('계곡물', 11083), ('종약', 11084), ('우기', 11085), ('결판', 11086), ('친자검사', 11087), ('늦출', 11088), ('생길지', 11089), ('위약금', 11090), ('뻣뻣', 11091), ('다뤄', 11092), ('놓쳤', 11093), ('줄기세포', 11094), ('다녀올까', 11095), ('중년층', 11096), ('아쉬울', 11097), ('서점', 11098), ('멈출', 11099), ('자긴', 11100), ('남탕', 11101), ('배달원', 11102), ('계부', 11103), ('정비', 11104), ('차남', 11105), ('날아와', 11106), ('목장', 11107), ('피티', 11108), ('돌부리', 11109), ('겹쳐', 11110), ('그리울', 11111), ('서질', 11112), ('주물러', 11113), ('알차', 11114), ('새웠', 11115), ('견대', 11116), ('쭈글쭈글', 11117), ('헤아려', 11118), ('패싸움', 11119), ('주름살', 11120), ('천하', 11121), ('몹쓸', 11122), ('안테', 11123), ('지외', 11124), ('벅찰', 11125), ('밸런스', 11126), ('게으름', 11127), ('삼계탕', 11128), ('장진영', 11129), ('고저', 11130), ('녁에는육아로잠을제대로못자무기력과함께우울증이왔어', 11131), ('횡재', 11132), ('교생', 11133), ('절해고도', 11134), ('놔두었', 11135), ('살아간다', 11136), ('용일', 11137), ('구애', 11138), ('건너편', 11139), ('주민회', 11140), ('흩어지', 11141), ('업무상', 11142), ('나말', 11143), ('별생각', 11144), ('작업자', 11145), ('느려졌', 11146), ('오한', 11147), ('이른바', 11148), ('하늘나라', 11149), ('들안', 11150), ('물밀', 11151), ('투자처', 11152), ('이상야릇', 11153), ('내팽개치', 11154), ('거당', 11155), ('돌아와도', 11156), ('프라', 11157), ('푸치노', 11158), ('인심', 11159), ('내치', 11160), ('부딪힐', 11161), ('월차', 11162), ('지나친', 11163), ('밤샘', 11164), ('가까워져서', 11165), ('즌인데내직속상관이나를자꾸피해서스트레스받아', 11166), ('가암', 11167), ('별후', 11168), ('배지', 11169), ('단합', 11170), ('일방통행', 11171), ('콜라', 11172), ('올라야', 11173), ('증권사', 11174), ('애착', 11175), ('피부과', 11176), ('른하고자꾸짜증이나고매사가귀찮을때가많아', 11177), ('당', 11178), ('근데도', 11179), ('하루살이', 11180), ('뒤로하', 11181), ('어림', 11182), ('낮추', 11183), ('힘겨워', 11184), ('불문', 11185), ('늦추', 11186), ('장비', 11187), ('다닐수록', 11188), ('괴롭힌다고', 11189), ('헛일', 11190), ('집회', 11191), ('빵빵거리', 11192), ('마신다고', 11193), ('가축', 11194), ('질투감', 11195), ('올려달라', 11196), ('제잠', 11197), ('뒷덜미', 11198), ('쁜애들날때리고괴롭히는데난아무것도할수없었어', 11199), ('교정기', 11200), ('참선', 11201), ('심중', 11202), ('세태', 11203), ('난방법', 11204), ('예요', 11205), ('끈기', 11206), ('떠난대', 11207), ('걸까요', 11208), ('앞섰', 11209), ('찍혔', 11210), ('튀김', 11211), ('꺼낼', 11212), ('이운', 11213), ('애썼', 11214), ('만난다', 11215), ('자금대', 11216), ('메달', 11217), ('내게만', 11218), ('불려갈', 11219), ('되돌아왔', 11220), ('호칭', 11221), ('억제', 11222), ('여지껏', 11223), ('방전', 11224), ('떨굴', 11225), ('종', 11226), ('무서운데', 11227), ('미향', 11228), ('엎드린', 11229), ('잔업', 11230), ('어미', 11231), ('아픈지', 11232), ('녔더니오히려무릎이예전보다더시큰거려너무억울해', 11233), ('잠꼬대', 11234), ('강탈', 11235), ('가죄', 11236), ('케어', 11237), ('브리핑', 11238), ('중복', 11239), ('정문', 11240), ('도욕', 11241), ('자치', 11242), ('결론', 11243), ('자작극', 11244), ('오를지', 11245), ('마무리지', 11246), ('묘하', 11247), ('모은다고', 11248), ('곧잘', 11249), ('옮길', 11250), ('첫아이', 11251), ('저려', 11252), ('저녁상', 11253), ('친오빠', 11254), ('바로잡', 11255), ('녁에너무빨리문을닫아헛걸음하게되어짜증나', 11256), ('존대', 11257), ('관시', 11258), ('젋었을때보단편안하고좋아', 11259), ('초콜릿', 11260), ('한눈', 11261), ('빈혈증', 11262), ('휴양', 11263), ('자다', 11264), ('그럴듯해', 11265), ('연습생', 11266), ('전돈', 11267), ('표준', 11268), ('다가갈', 11269), ('붙들', 11270), ('벼락치기', 11271), ('념일날명품백도사준다는데짜증나네', 11272), ('냈으나', 11273), ('치여', 11274), ('군것질', 11275), ('구내식당', 11276), ('재워서', 11277), ('조심스레', 11278), ('눕혔', 11279), ('변함없', 11280), ('간별', 11281), ('잡아가', 11282), ('집고', 11283), ('출연', 11284), ('터야', 11285), ('흘릴', 11286), ('그다지', 11287), ('걸음마', 11288), ('이형수', 11289), ('불순', 11290), ('였었', 11291), ('타일러도', 11292), ('쌓일', 11293), ('무임승차', 11294), ('다야', 11295), ('이병원', 11296), ('졸지', 11297), ('비자금', 11298), ('공복', 11299), ('상할', 11300), ('연관', 11301), ('일쑤', 11302), ('메말랐', 11303), ('내노', 11304), ('운전대', 11305), ('실험대', 11306), ('상자', 11307), ('개통', 11308), ('원해왔', 11309), ('꾸린다', 11310), ('각안', 11311), ('다급', 11312), ('가상', 11313), ('화폐', 11314), ('떠맡긴', 11315), ('애초', 11316), ('인증', 11317), ('유혹', 11318), ('주범', 11319), ('아셔서', 11320), ('돌머리', 11321), ('나타날까', 11322), ('성관', 11323), ('사용인', 11324), ('휴양지', 11325), ('밥투정', 11326), ('대몸', 11327), ('서양화', 11328), ('주만', 11329), ('닫혔', 11330), ('매달려야', 11331), ('꼭지', 11332), ('교양', 11333), ('빈둥거리', 11334), ('나만', 11335), ('안한나', 11336), ('신날', 11337), ('소설책', 11338), ('좋아한다는데', 11339), ('곤두박질쳐서', 11340), ('적기', 11341), ('취한다', 11342), ('내놨', 11343), ('성교육', 11344), ('수금', 11345), ('카트', 11346), ('프로그래머', 11347), ('창작', 11348), ('천근', 11349), ('이포', 11350), ('놓쳐버렸', 11351), ('두어', 11352), ('미관상', 11353), ('라미', 11354), ('네이트', 11355), ('머물러서', 11356), ('태생', 11357), ('소중히', 11358), ('액자', 11359), ('빨개', 11360), ('힘든가', 11361), ('바래', 11362), ('조부모', 11363), ('어머나', 11364), ('금자', 11365), ('소희', 11366), ('예상외', 11367), ('색시', 11368), ('골랐', 11369), ('굴하', 11370), ('동아', 11371), ('리방', 11372), ('쏟아져', 11373), ('탄산', 11374), ('부끄러워져', 11375), ('스러워했', 11376), ('사례', 11377), ('떄문', 11378), ('폐활량', 11379), ('들었었는데', 11380), ('도감', 11381), ('름휴가도못갔는데병원간다고반차내니까상사가눈치줘', 11382), ('동맥', 11383), ('경화', 11384), ('해전', 11385), ('접하', 11386), ('허리띠', 11387), ('졸라매', 11388), ('일보', 11389), ('운전자', 11390), ('통혼', 11391), ('무신경', 11392), ('해준다면', 11393), ('사양', 11394), ('범주', 11395), ('암말', 11396), ('선출', 11397), ('백지', 11398), ('마음가짐', 11399), ('마땅찮', 11400), ('당부', 11401), ('웃간', 11402), ('넌지시', 11403), ('먹을거리', 11404), ('장성', 11405), ('아랫배', 11406), ('뒤떨어져서', 11407), ('속고', 11408), ('외동', 11409), ('돌팔이', 11410), ('참마음', 11411), ('쉬워졌', 11412), ('채울', 11413), ('깨달으니', 11414), ('자서', 11415), ('금지법', 11416), ('나왔었', 11417), ('당기', 11418), ('고등', 11419), ('까망', 11420), ('자중', 11421), ('과세', 11422), ('공시', 11423), ('급등', 11424), ('화학', 11425), ('반대편', 11426), ('실패자', 11427), ('전송', 11428), ('참내', 11429), ('무분별', 11430), ('생사', 11431), ('화장대', 11432), ('설움', 11433), ('호응', 11434), ('봤으면', 11435), ('내과', 11436), ('운동부', 11437), ('새끼', 11438), ('견만', 11439), ('경시', 11440), ('미워해서', 11441), ('앉을자리', 11442), ('자화', 11443), ('조사지', 11444), ('응답', 11445), ('지상', 11446), ('간나', 11447), ('부끄러우', 11448), ('신가봐', 11449), ('나밤', 11450), ('고와', 11451), ('대성통곡', 11452), ('무소식', 11453), ('명문대가', 11454), ('꼴불견', 11455), ('구독자', 11456), ('흐려서', 11457), ('폐수', 11458), ('방류', 11459), ('물고기', 11460), ('높였', 11461), ('훈련소', 11462), ('갈비찜', 11463), ('남김없이', 11464), ('해져버려서', 11465), ('피폐', 11466), ('때웠', 11467), ('찍소리', 11468), ('키워도', 11469), ('그래야', 11470), ('경계', 11471), ('멘', 11472), ('상한가', 11473), ('새외', 11474), ('제차', 11475), ('쉬울', 11476), ('룰루랄라', 11477), ('공세', 11478), ('죽여', 11479), ('라길래', 11480), ('프라모델', 11481), ('곤두박질친', 11482), ('쁜데손수데리러온다네신이나', 11483), ('손수건', 11484), ('최소한', 11485), ('딴청', 11486), ('바람둥인', 11487), ('뛰어올라서', 11488), ('용도', 11489), ('맺혀', 11490), ('찾아봐', 11491), ('외로운가', 11492), ('사직원', 11493), ('콕', 11494), ('장이', 11495), ('헛디뎌', 11496), ('하혈', 11497), ('시시콜콜', 11498), ('껴야', 11499), ('다락방', 11500), ('쌍꺼풀', 11501), ('대생', 11502), ('들락거리', 11503), ('어설프', 11504), ('서한', 11505), ('명동', 11506), ('장시간', 11507), ('맨발', 11508), ('곈가', 11509), ('차감', 11510), ('가이드', 11511), ('시디', 11512), ('빌려줘', 11513), ('부풀려', 11514), ('차기', 11515), ('식자재', 11516), ('비벌', 11517), ('겠다고', 11518), ('좋아했', 11519), ('끓였', 11520), ('가설', 11521), ('몰입', 11522), ('도정', 11523), ('막혔', 11524), ('만취', 11525), ('쩌', 11526), ('한날한시', 11527), ('관광지', 11528), ('북적', 11529), ('자습실', 11530), ('부스럭', 11531), ('일으켜세워', 11532), ('끝날까', 11533), ('활기찬', 11534), ('병약', 11535), ('식물', 11536), ('한탕', 11537), ('여사', 11538), ('온다며', 11539), ('허례허식', 11540), ('생략', 11541), ('결제금', 11542), ('집철', 11543), ('나앉', 11544), ('간다면서', 11545), ('애완', 11546), ('기혼', 11547), ('녹음', 11548), ('친밀감', 11549), ('내생', 11550), ('번갈', 11551), ('남부끄러워', 11552), ('영민', 11553), ('조심조심', 11554), ('몰래카메라', 11555), ('여론', 11556), ('들쑥날쑥', 11557), ('친전', 11558), ('고계', 11559), ('단단히', 11560), ('독해', 11561), ('메슥거려', 11562), ('증서', 11563), ('나이라', 11564), ('딴죽', 11565), ('조교', 11566), ('월액', 11567), ('생계비', 11568), ('끊인', 11569), ('해물탕', 11570), ('과잉보호', 11571), ('서제일', 11572), ('가서한', 11573), ('라산', 11574), ('고를', 11575), ('외로울까', 11576), ('분양', 11577), ('쏘아붙이', 11578), ('묶음', 11579), ('온다는데', 11580), ('들락날락거리', 11581), ('만변', 11582), ('인생무상', 11583), ('빌려다', 11584), ('시름시름', 11585), ('하직', 11586), ('남겨질', 11587), ('애서', 11588), ('적혀', 11589), ('참화', 11590), ('관장', 11591), ('잃어버릴까', 11592), ('가희', 11593), ('뒷얘기', 11594), ('분풀이', 11595), ('데려와', 11596), ('부러워했', 11597), ('떡먹', 11598), ('올라온', 11599), ('구공', 11600), ('나공', 11601), ('부왜', 11602), ('가실', 11603), ('떨어진다는', 11604), ('날릴', 11605), ('꺼버렸', 11606), ('올라간', 11607), ('큰가', 11608), ('도최', 11609), ('짼데', 11610), ('전쟁터', 11611), ('익스트림', 11612), ('쓰러질까', 11613), ('풀칠', 11614), ('맞물려', 11615), ('전과', 11616), ('사라진다', 11617), ('거참', 11618), ('왜지', 11619), ('쑥떡', 11620), ('무호흡', 11621), ('투성인', 11622), ('적립', 11623), ('바짓가랑이', 11624), ('둔대', 11625), ('한다던', 11626), ('잡힐까봐', 11627), ('놓쳐', 11628), ('끽하', 11629), ('오라고', 11630), ('써야할지', 11631), ('발버둥', 11632), ('치는', 11633), ('학교비', 11634), ('멘탈', 11635), ('붕괴', 11636), ('괴로워했', 11637), ('다룰', 11638), ('치근덕대', 11639), ('난사람', 11640), ('지던', 11641), ('외무', 11642), ('외교관', 11643), ('막연', 11644), ('학문', 11645), ('부침개', 11646), ('들벌', 11647), ('깨우쳤으면', 11648), ('통잠', 11649), ('만회', 11650), ('담그', 11651), ('런닝맨', 11652), ('아날', 11653), ('모일수록', 11654), ('토닥이', 11655), ('반사', 11656), ('산산조각', 11657), ('넘어갈까', 11658), ('생일잔치', 11659), ('준댔', 11660), ('구강', 11661), ('새아가', 11662), ('외우', 11663), ('쩔쩔매', 11664), ('부친상', 11665), ('만날지', 11666), ('내비게이션', 11667), ('코로나다', 11668), ('건너간', 11669), ('조의금', 11670), ('제사', 11671), ('양육', 11672), ('뒤섞여서', 11673), ('알려도', 11674), ('가네', 11675), ('역겨워서', 11676), ('원덕', 11677), ('웃기', 11678), ('사투리', 11679), ('표준어', 11680), ('허벅지', 11681), ('시한폭탄', 11682), ('존심', 11683), ('들어', 11684), ('바빠질', 11685), ('모여들', 11686), ('변할', 11687), ('박부', 11688), ('꺼져서', 11689), ('난소', 11690), ('두들겨맞', 11691), ('고려장', 11692), ('이긴다고', 11693), ('후살이', 11694), ('나사', 11695), ('맞춰야', 11696), ('비아냥거리', 11697), ('나고', 11698), ('오매불망', 11699), ('교대근무', 11700), ('증조할아버지', 11701), ('치열', 11702), ('해선', 11703), ('옥', 11704), ('직책', 11705), ('대비책', 11706), ('묏자리', 11707), ('러진', 11708), ('퇴한', 11709), ('멈춰서', 11710), ('도답', 11711), ('오에이', 11712), ('탁월', 11713), ('빼앗겨', 11714), ('요강', 11715), ('향한', 11716), ('맞닥뜨렸', 11717), ('도와야', 11718), ('잘린', 11719), ('퀴즈쇼', 11720), ('당차', 11721), ('작물', 11722), ('수확', 11723), ('분업화', 11724), ('준이', 11725), ('외딴', 11726), ('목덜미', 11727), ('찾아볼까', 11728), ('난한', 11729), ('다녀봐야', 11730), ('따라갔', 11731), ('식사비', 11732), ('거쳐서', 11733), ('동문회', 11734), ('철민', 11735), ('시들', 11736), ('뜸들이', 11737), ('주워도', 11738), ('실체', 11739), ('한약재', 11740), ('뻐', 11741), ('가물치', 11742), ('이파리', 11743), ('공존', 11744), ('할껄', 11745), ('윗분', 11746), ('시리얼', 11747), ('서둘러', 11748), ('렀는데지인이도와줘서고비를넘겼어', 11749), ('대졸', 11750), ('쪼', 11751), ('들릴', 11752), ('머문', 11753), ('부류', 11754), ('함정', 11755), ('빠뜨렸', 11756), ('돌려줬', 11757), ('내말만', 11758), ('지급금', 11759), ('거리가', 11760), ('쉬운데', 11761), ('뛰쳐나가', 11762), ('시련', 11763), ('휘감', 11764), ('업적', 11765), ('코딩', 11766), ('혁명', 11767), ('그만둔다는', 11768), ('쓸데', 11769), ('꽃향기', 11770), ('식겁', 11771), ('기울어질', 11772), ('울리', 11773), ('지난지', 11774), ('제김', 11775), ('서고', 11776), ('객사', 11777), ('컴', 11778), ('플레인', 11779), ('뒤떨어지', 11780), ('줄인', 11781), ('지우개', 11782), ('제물', 11783), ('시달릴', 11784), ('장식장', 11785), ('트로피', 11786), ('받아들여서', 11787), ('야시', 11788), ('달린', 11789), ('틀어진', 11790), ('만도', 11791), ('제빵사', 11792), ('만진', 11793), ('떨어질까', 11794), ('골증', 11795), ('간소', 11796), ('스몰', 11797), ('오픈', 11798), ('장편', 11799), ('눈치챘', 11800), ('보육원', 11801), ('교도소', 11802), ('놨지만', 11803), ('잠겼', 11804), ('맞대응', 11805), ('계서', 11806), ('전형수', 11807), ('부조리', 11808), ('빈도', 11809), ('외려', 11810), ('판명', 11811), ('는다며', 11812), ('에다가', 11813), ('간담', 11814), ('해체', 11815), ('공학', 11816), ('터진다', 11817), ('분실', 11818), ('열차', 11819), ('탈선', 11820), ('가려서', 11821), ('간장', 11822), ('게장', 11823), ('떨린다', 11824), ('휘두른', 11825), ('복도지', 11826), ('사라졌으면', 11827), ('느껴본', 11828), ('인계', 11829), ('부업', 11830), ('미울', 11831), ('이사장', 11832), ('다지만', 11833), ('어분', 11834), ('끊어진', 11835), ('금괴', 11836), ('모성애', 11837), ('굽실거리', 11838), ('들손', 11839), ('자볼', 11840), ('아야하나', 11841), ('준순', 11842), ('물려줬', 11843), ('다닐지', 11844), ('운도', 11845), ('신념', 11846), ('와전', 11847), ('실용음악', 11848), ('결절', 11849), ('해임', 11850), ('름한빌라로이사왔거든사춘기라더그런가봐', 11851), ('순탄', 11852), ('라야', 11853), ('도로는', 11854), ('새치', 11855), ('양처', 11856), ('탯줄', 11857), ('머뭇거렸', 11858), ('알뜰', 11859), ('관점', 11860), ('날카로워져서', 11861), ('가져줄까', 11862), ('윗선', 11863), ('광부', 11864), ('빠져버릴', 11865), ('질리', 11866), ('터널', 11867), ('굴착', 11868), ('덤벼들', 11869), ('벼르', 11870), ('리원', 11871), ('어떤지에', 11872), ('권한', 11873), ('공과금', 11874), ('척구', 11875), ('엉덩이', 11876), ('직일', 11877), ('답했', 11878), ('올린다', 11879), ('은월', 11880), ('칠지', 11881), ('아드', 11882), ('여지', 11883), ('내보낼', 11884), ('숨길', 11885), ('그중', 11886), ('앉혀', 11887), ('변기통', 11888), ('빠트려', 11889), ('여중생', 11890), ('퇴상', 11891), ('생중', 11892), ('횟감', 11893), ('커밍아웃', 11894), ('다름없', 11895), ('돌아봐', 11896), ('초혼', 11897), ('내비치', 11898), ('가변비', 11899), ('헬기', 11900), ('아찔', 11901), ('김여사', 11902), ('땅콩', 11903), ('나토', 11904), ('끔뻑', 11905), ('방황', 11906), ('염외', 11907), ('주우', 11908), ('공통점', 11909), ('자수성가', 11910), ('섬겨', 11911), ('눌리', 11912), ('쪼그라드', 11913), ('가져온', 11914), ('우신', 11915), ('체불', 11916), ('어물쩍', 11917), ('구지', 11918), ('알아봐야', 11919), ('사나다', 11920), ('도둑놈', 11921), ('유지비', 11922), ('끌려와', 11923), ('개성', 11924), ('때론', 11925), ('지석', 11926), ('코로', 11927), ('측면', 11928), ('경연', 11929), ('내릴까', 11930), ('바퀴', 11931), ('과부하', 11932), ('바랄지', 11933), ('꿈꿔왔', 11934), ('여길', 11935), ('닌', 11936), ('주워먹', 11937), ('흐름', 11938), ('노하우', 11939), ('제급', 11940), ('표해', 11941), ('스케줄', 11942), ('말주변', 11943), ('한줌', 11944), ('불러낼까', 11945), ('제명', 11946), ('매부', 11947), ('진여', 11948), ('속보', 11949), ('찢어져서', 11950), ('고되', 11951), ('심심풀이', 11952), ('스위스', 11953), ('수줍', 11954), ('부재중', 11955), ('위중', 11956), ('친할아버지', 11957), ('배고파', 11958), ('서급', 11959), ('아복', 11960), ('냬', 11961), ('연희', 11962), ('삼포세대', 11963), ('칭하', 11964), ('다정다감', 11965), ('왔을까봐', 11966), ('라이', 11967), ('딩', 11968), ('탄탄대로', 11969), ('놀림감', 11970), ('십상', 11971), ('대원', 11972), ('들고날', 11973), ('초초', 11974), ('슬리퍼', 11975), ('모기지', 11976), ('퉁퉁', 11977), ('다툰다고', 11978), ('얌전', 11979), ('사이즈', 11980), ('떠넘겼', 11981), ('횟수', 11982), ('다해야', 11983), ('테니', 11984), ('구려', 11985), ('악명', 11986), ('으레', 11987), ('위경련', 11988), ('재고', 11989), ('대드', 11990), ('정석', 11991), ('끊이', 11992), ('사발', 11993), ('통신문', 11994), ('드려도', 11995), ('호구', 11996), ('아네', 11997), ('집구', 11998), ('나원참', 11999), ('전등', 12000), ('임상', 12001), ('어수룩', 12002), ('미더웠', 12003), ('이일로', 12004), ('나지', 12005), ('하인', 12006), ('학식', 12007), ('일자', 12008), ('인중', 12009), ('허수아비', 12010), ('가셔', 12011), ('우두커니', 12012), ('일그러졌', 12013), ('외손주', 12014), ('중진', 12015), ('울화', 12016), ('할머님', 12017), ('개장', 12018), ('호주', 12019), ('딴지', 12020), ('위임장', 12021), ('아이스', 12022), ('내낙', 12023), ('들옷', 12024), ('부른다고', 12025), ('이삿짐', 12026), ('친다며', 12027), ('굿', 12028), ('워크', 12029), ('인흉', 12030), ('집개', 12031), ('살아와서', 12032), ('오래된', 12033), ('진수성찬', 12034), ('흑', 12035), ('남학생', 12036), ('개별', 12037), ('원고', 12038), ('위생', 12039), ('후월', 12040), ('내결', 12041), ('핵', 12042), ('초고', 12043), ('빨랐', 12044), ('가벼워져', 12045), ('굴릴', 12046), ('앞지르', 12047), ('애칭', 12048), ('떨릴', 12049), ('예뻐할', 12050), ('들피', 12051), ('열세', 12052), ('나상', 12053), ('다고요', 12054), ('버거운데', 12055), ('궁해서', 12056), ('쑥스러운', 12057), ('입지', 12058), ('어종', 12059), ('종전', 12060), ('위계질서', 12061), ('친절히', 12062), ('휴업', 12063), ('해이', 12064), ('금슬', 12065), ('편리', 12066), ('공양', 12067), ('입주', 12068), ('충치', 12069), ('만복', 12070), ('근원', 12071), ('정맥류', 12072), ('사나워진', 12073), ('나무래', 12074), ('큰돈', 12075), ('차려져도', 12076), ('내켜', 12077), ('불고기', 12078), ('천지', 12079), ('동전', 12080), ('깡통', 12081), ('놓칠', 12082), ('이기주의', 12083), ('노령', 12084), ('영란', 12085), ('챙겨온', 12086), ('태어났을까', 12087), ('장근이', 12088), ('떠올려', 12089), ('경황', 12090), ('응급차', 12091), ('물컵', 12092), ('최저치', 12093), ('경신', 12094), ('우리나라', 12095), ('무너질까봐', 12096), ('민우', 12097), ('알려진다면', 12098), ('손길', 12099), ('심소', 12100), ('다이아몬드', 12101), ('험해', 12102), ('그른', 12103), ('야남', 12104), ('남다른', 12105), ('놀려댔', 12106), ('뒤쳐져', 12107), ('나아질지', 12108), ('사라진다는', 12109), ('으셨던', 12110), ('유할', 12111), ('더러워졌', 12112), ('원가', 12113), ('바이크', 12114), ('밤바다', 12115), ('살아난', 12116), ('가라', 12117), ('꾸물거리', 12118), ('잡혀버렸', 12119), ('한카', 12120), ('말귀', 12121), ('가위', 12122), ('형제자매', 12123), ('미묘', 12124), ('뭉쳤', 12125), ('못한지', 12126), ('도합', 12127), ('격하', 12128), ('물으니', 12129), ('종친회', 12130), ('착상', 12131), ('선남선녀', 12132), ('업소', 12133), ('된다면서', 12134), ('가트', 12135), ('렌스', 12136), ('내려놓', 12137), ('그림자', 12138), ('박봉', 12139), ('인공호흡기', 12140), ('부착', 12141), ('큰데', 12142), ('몰아세우', 12143), ('떠내려가', 12144), ('요지경', 12145), ('노자', 12146), ('소방', 12147), ('꺼려졌', 12148), ('살렸', 12149), ('한담', 12150), ('분칠', 12151), ('서자', 12152), ('꿇리', 12153), ('들으러', 12154), ('경로석', 12155), ('요금소', 12156), ('기자', 12157), ('결과지', 12158), ('넘길까', 12159), ('이적', 12160), ('러브', 12161), ('개시', 12162), ('개업', 12163), ('킬로', 12164), ('무르', 12165), ('부러워했었', 12166), ('신중', 12167), ('세쌍둥이', 12168), ('접장', 12169), ('도귀', 12170), ('부에아', 12171), ('움직였', 12172), ('삭신', 12173), ('사무직', 12174), ('미워져서', 12175), ('받쳐', 12176), ('말려야', 12177), ('건너뛰', 12178), ('이우리', 12179), ('그따위', 12180), ('은인', 12181), ('농작물', 12182), ('외고', 12183), ('가까워진다는', 12184), ('저지를까', 12185), ('신감', 12186), ('골수', 12187), ('내면', 12188), ('네일', 12189), ('미비', 12190), ('떠났으며', 12191), ('김대', 12192), ('참괴', 12193), ('몰라보', 12194), ('나성', 12195), ('거뭇거뭇', 12196), ('베스트', 12197), ('프랜', 12198), ('드가', 12199), ('동정', 12200), ('수군거렸', 12201), ('오늘날', 12202), ('차분', 12203), ('게걸', 12204), ('냈으니', 12205), ('안녕', 12206), ('물속', 12207), ('모른다더니', 12208), ('독극물', 12209), ('씨름', 12210), ('군적', 12211), ('노동부', 12212), ('중독자', 12213), ('부속품', 12214), ('아파와서', 12215), ('물어본', 12216), ('수입원', 12217), ('남겨둔', 12218), ('댄서', 12219), ('놔도', 12220), ('미용', 12221), ('서서', 12222), ('하프마라톤', 12223), ('목표달성', 12224), ('보충', 12225), ('바른길', 12226), ('간혹', 12227), ('양제', 12228), ('지겨웠', 12229), ('화날', 12230), ('버럭버럭', 12231), ('사실상', 12232), ('뇌사', 12233), ('투입', 12234), ('이토록', 12235), ('호화', 12236), ('유람선', 12237), ('드림', 12238), ('카', 12239), ('수업료', 12240), ('허무맹랑', 12241), ('다정리', 12242), ('야윈', 12243), ('도망쳐서', 12244), ('기다려왔', 12245), ('뺏겨', 12246), ('이분', 12247), ('앞당겨질', 12248), ('돈만', 12249), ('월경', 12250), ('이묘', 12251), ('코노', 12252), ('일만', 12253), ('아서라도', 12254), ('폭탄', 12255), ('별뜻', 12256), ('맞춤', 12257), ('대뇌', 12258), ('아아', 12259), ('윳', 12260), ('분과', 12261), ('멋쟁이', 12262), ('효정', 12263), ('고얼', 12264), ('들인', 12265), ('뭔', 12266), ('맥박', 12267), ('허니문', 12268), ('베이비', 12269), ('페이', 12270), ('자기계', 12271), ('받으', 12272), ('박카스', 12273), ('다일', 12274), ('베', 12275), ('도코로', 12276), ('손버릇', 12277), ('전해야', 12278), ('노여', 12279), ('웠', 12280), ('포대', 12281), ('위절', 12282), ('탕수육', 12283), ('반주', 12284), ('여길까', 12285), ('토라지', 12286), ('책장', 12287), ('숟가락', 12288), ('호', 12289), ('놨다고', 12290), ('어리바리', 12291), ('주워서', 12292), ('간신히', 12293), ('실무자', 12294), ('짠하', 12295), ('뇌혈관', 12296), ('동맥류', 12297), ('방석집', 12298), ('산속', 12299), ('화도', 12300), ('드린다고', 12301), ('쓰레기봉투', 12302), ('건병', 12303), ('서조원', 12304), ('연애결혼', 12305), ('경위서', 12306), ('몸조심', 12307), ('시어른', 12308), ('조야', 12309), ('봉급', 12310), ('번거로운', 12311), ('요구르트', 12312), ('놨더니', 12313), ('이뤄낼', 12314), ('오랬', 12315), ('지면', 12316), ('근로계약서', 12317), ('후근', 12318), ('무중', 12319), ('처신', 12320), ('찌그리', 12321), ('탄탄히', 12322), ('훤칠', 12323), ('뿌려서', 12324), ('감염병', 12325), ('아날로그', 12326), ('조율', 12327), ('고물', 12328), ('주우러', 12329), ('주후', 12330), ('손놓', 12331), ('차곡히', 12332), ('보증서', 12333), ('줬단', 12334), ('삼기', 12335), ('불러냈', 12336), ('추근', 12337), ('화요일', 12338), ('났거든', 12339), ('장거', 12340), ('리연', 12341), ('신용도', 12342), ('들린', 12343), ('나온다는데', 12344), ('실무', 12345), ('주례', 12346), ('서계', 12347), ('추하', 12348), ('한군데', 12349), ('작은아버지', 12350), ('항생제', 12351), ('참구', 12352), ('초경', 12353), ('방심', 12354), ('부셨', 12355), ('그룹웨어', 12356), ('제사장', 12357), ('명쾌히', 12358), ('가겟세', 12359), ('유머', 12360), ('대물려', 12361), ('학벌주의', 12362), ('조수석', 12363), ('치맥', 12364), ('들여온', 12365), ('망가', 12366), ('대학가', 12367), ('따윈', 12368), ('안후', 12369), ('덮어쓰', 12370), ('생생히', 12371), ('이씨', 12372), ('새겨듣', 12373), ('이동신', 12374), ('피말리', 12375), ('어제정', 12376), ('비굴', 12377), ('동반자', 12378), ('유로', 12379), ('건방져', 12380), ('익히', 12381), ('흘러', 12382), ('떠올라온', 12383), ('기색', 12384), ('서치', 12385), ('한탄스럽', 12386), ('영혼', 12387), ('통학', 12388), ('난백수', 12389), ('덤볐', 12390), ('아깐', 12391), ('더러워져', 12392), ('유명세', 12393), ('나으면', 12394), ('론가', 12395), ('휘둘러', 12396), ('어두워', 12397), ('호음', 12398), ('산재', 12399), ('디저트', 12400), ('전상', 12401), ('소수', 12402), ('미어져', 12403), ('엄습', 12404), ('고막', 12405), ('달일', 12406), ('학번', 12407), ('저소득층', 12408), ('늘어난다', 12409), ('병시중', 12410), ('친자식', 12411), ('이랬', 12412), ('저랬', 12413), ('유행병', 12414), ('자더니', 12415), ('미쳤었', 12416), ('가전', 12417), ('낸다', 12418), ('도배', 12419), ('진담', 12420), ('구별', 12421), ('의한', 12422), ('아껴야', 12423), ('차일', 12424), ('비판', 12425), ('탐색', 12426), ('이어진', 12427), ('자업자득', 12428), ('승진도', 12429), ('꼿꼿이', 12430), ('빼돌려서', 12431), ('무병장수', 12432), ('더구먼', 12433), ('훈육', 12434), ('곤두박질치', 12435), ('전사', 12436), ('자그마', 12437), ('바라볼', 12438), ('못마땅하', 12439), ('어떡할까', 12440), ('국장', 12441), ('애먹', 12442), ('립식', 12443), ('골반', 12444), ('착했', 12445), ('느슨', 12446), ('잔잔히', 12447), ('흉볼', 12448), ('콩나물', 12449), ('덤', 12450), ('영시', 12451), ('얼떨결', 12452), ('편집자', 12453), ('빗', 12454), ('모만', 12455), ('수도세', 12456), ('시집간', 12457), ('소녀', 12458), ('려도', 12459), ('앨범', 12460), ('떨어졌었', 12461), ('속임수', 12462), ('웃어대', 12463), ('논지', 12464), ('마크', 12465), ('만타', 12466), ('강의실', 12467), ('시끄러울', 12468), ('금값', 12469), ('서금', 12470), ('논밭', 12471), ('나지원', 12472), ('한기업', 12473), ('쁜데혹시떨어지면어떡하나조심스러운마음도드네', 12474), ('긴팔', 12475), ('추웠', 12476), ('업고', 12477), ('떠나간', 12478), ('소인배', 12479), ('다오', 12480), ('절실히', 12481), ('햄스터', 12482), ('이견', 12483), ('좁혀', 12484), ('전속', 12485), ('환전', 12486), ('와상', 12487), ('멈췄', 12488), ('빼내', 12489), ('직무랑', 12490), ('눈여겨본', 12491), ('영신', 12492), ('통치', 12493), ('김치찌개', 12494), ('흐를수록', 12495), ('간담회', 12496), ('별식', 12497), ('떠드', 12498), ('답문', 12499), ('기뻐해', 12500), ('냐는데', 12501), ('격렬', 12502), ('떨어져나간', 12503), ('길한', 12504), ('복판', 12505), ('낀', 12506), ('찌든', 12507), ('머니', 12508), ('우아', 12509), ('참관', 12510), ('덩치', 12511), ('하여간', 12512), ('지모', 12513), ('른다더니친구놈이먼저하직할까걱정이라기도중이네', 12514), ('차일피일', 12515), ('논의', 12516), ('문건', 12517), ('번뜩', 12518), ('순이익', 12519), ('시신기증', 12520), ('동의서', 12521), ('도진', 12522), ('종신', 12523), ('빙판', 12524), ('나랑', 12525), ('준다면', 12526), ('전철역', 12527), ('전단지', 12528), ('슬픈데', 12529), ('돌아다녀서', 12530), ('소액결제', 12531), ('어겨', 12532), ('오빠생각', 12533), ('녁값한번내라니까엄청나게툴툴대더라고', 12534), ('공신', 12535), ('해롭', 12536), ('실언', 12537), ('희소', 12538), ('개발제한구역', 12539), ('부동산업', 12540), ('서일', 12541), ('이리도', 12542), ('어약', 12543), ('발버둥치', 12544), ('담요', 12545), ('얼룩', 12546), ('이우', 12547), ('오주', 12548), ('안뒤', 12549), ('아늘', 12550), ('어아', 12551), ('면회실', 12552), ('어고', 12553), ('안다는', 12554), ('회계', 12555), ('사담', 12556), ('외벌', 12557), ('라돈', 12558), ('신장결석', 12559), ('격차', 12560), ('기울였', 12561), ('감소', 12562), ('파릇파릇', 12563), ('환송회', 12564), ('현직', 12565), ('앞세우', 12566), ('지덕', 12567), ('트리', 12568), ('다름', 12569), ('복날', 12570), ('술술', 12571), ('간적', 12572), ('들보', 12573), ('너스', 12574), ('난죽', 12575), ('반반', 12576), ('지철', 12577), ('군림', 12578), ('회신', 12579), ('정서', 12580), ('내학', 12581), ('힘드신데', 12582), ('도식', 12583), ('기뻐도', 12584), ('덤덤', 12585), ('한식', 12586), ('조리사', 12587), ('냉동실', 12588), ('처박', 12589), ('교과', 12590), ('더뎌서', 12591), ('안해', 12592), ('구해도', 12593), ('매달렸', 12594), ('조애', 12595), ('팬클럽', 12596), ('유가족', 12597), ('지남', 12598), ('다다를', 12599), ('화이트데이', 12600), ('월단', 12601), ('회원권', 12602), ('타이', 12603), ('마사지', 12604), ('일생', 12605), ('홱', 12606), ('가져볼까', 12607), ('놀라워', 12608), ('들것', 12609), ('한다기', 12610), ('인사과', 12611), ('불만족', 12612), ('다줄', 12613), ('초인종', 12614), ('첨삭', 12615), ('탐해서', 12616), ('거리감', 12617), ('부른', 12618), ('버릇없이', 12619), ('걸친', 12620), ('앰뷸런스', 12621), ('껴', 12622), ('키워왔', 12623), ('난산', 12624), ('무궁무진', 12625), ('당겼', 12626), ('라말로', 12627), ('는걸', 12628), ('어때서', 12629), ('학술', 12630), ('흐느끼', 12631), ('따라다녀서', 12632), ('이재수', 12633), ('이율', 12634), ('더라니', 12635), ('화끈', 12636), ('까치발', 12637), ('무너져도', 12638), ('문제삼', 12639), ('견뎌', 12640), ('어영부영', 12641), ('안경점', 12642), ('우스꽝스러워', 12643), ('찬물', 12644), ('따끈', 12645), ('랬', 12646), ('분별', 12647), ('구구절절', 12648), ('기다려서', 12649), ('대귀', 12650), ('찮아', 12651), ('무지막지', 12652), ('인대', 12653), ('시큰거리', 12654), ('가져다준', 12655), ('김치전', 12656), ('부스스', 12657), ('반담', 12658), ('호명', 12659), ('쫓아가', 12660), ('내줄', 12661), ('반가워하', 12662), ('오대리', 12663), ('백발', 12664), ('쳐져', 12665), ('악습', 12666), ('경영자', 12667), ('쾌변', 12668), ('못미덥', 12669), ('벼룩', 12670), ('무기', 12671), ('문외한', 12672), ('본체만체', 12673), ('기수', 12674), ('할당', 12675), ('난자질', 12676), ('보기신경', 12677), ('낼모레', 12678), ('이박', 12679), ('드셔', 12680), ('갈거라', 12681), ('퍼부', 12682), ('증상만', 12683), ('불어야', 12684), ('악순환', 12685), ('브런치', 12686), ('전임자', 12687), ('벌서', 12688), ('돌려보냈', 12689), ('시집와서', 12690), ('느껴진다고', 12691), ('낮춰서', 12692), ('연체료', 12693), ('잉어', 12694), ('드신', 12695), ('힘드실', 12696), ('망가지', 12697), ('고자기', 12698), ('무서워해', 12699), ('무릅쓰', 12700), ('서천식', 12701), ('놔둔', 12702), ('기합', 12703), ('기물', 12704), ('이수학', 12705), ('끝장', 12706), ('주치', 12707), ('인사장', 12708), ('이뤄졌', 12709), ('신다', 12710), ('시동생', 12711), ('체법', 12712), ('동원', 12713), ('짤릴', 12714), ('아슬아슬', 12715), ('라디오', 12716), ('적보', 12717), ('고리타분', 12718), ('보인다면', 12719), ('귀담아듣', 12720), ('어학연수', 12721), ('껄', 12722), ('회한', 12723), ('대시', 12724), ('검수', 12725), ('동심', 12726), ('경식', 12727), ('온거', 12728), ('아무짝', 12729), ('아물', 12730), ('어질러진', 12731), ('끝냈으니', 12732), ('구독', 12733), ('모나', 12734), ('갖다두', 12735), ('덧나', 12736), ('출동', 12737), ('멍청이', 12738), ('의리', 12739), ('홈페이지', 12740), ('게재', 12741), ('니비', 12742), ('동갑내기', 12743), ('축구공', 12744), ('렵사리연락됐어이민간다고한이후로연락이뚝끊겼거든', 12745), ('뿌려', 12746), ('꼬셔', 12747), ('적집', 12748), ('드셔서', 12749), ('이면지', 12750), ('들이닥쳐서', 12751), ('눈코', 12752), ('뜰', 12753), ('듬직', 12754), ('회복기', 12755), ('타고난', 12756), ('다져온', 12757), ('쌀밥', 12758), ('을까요', 12759), ('미어지', 12760), ('보험계약', 12761), ('게라도', 12762), ('동사무소', 12763), ('체감', 12764), ('뭐야', 12765), ('산악자전거', 12766), ('채워줄', 12767), ('뒤처졌', 12768), ('문제점', 12769), ('건무', 12770), ('부정취', 12771), ('찾아다니', 12772), ('뻑뻑', 12773), ('심경', 12774), ('폐쇄', 12775), ('자택', 12776), ('격려금', 12777), ('빠른데', 12778), ('가렸', 12779), ('총명', 12780), ('못함', 12781), ('망가뜨리', 12782), ('일렀', 12783), ('거름', 12784), ('서막', 12785), ('의젓', 12786), ('체력장', 12787), ('위기감', 12788), ('불상사', 12789), ('건실', 12790), ('해질는지', 12791), ('면형', 12792), ('정에', 12793), ('본때', 12794), ('생각난다', 12795), ('펄펄', 12796), ('초보', 12797), ('키운다는', 12798), ('들려왔', 12799), ('뒤늦게야', 12800), ('기대치', 12801), ('끼칠까', 12802), ('암흑', 12803), ('일면식', 12804), ('변치', 12805), ('줄줄', 12806), ('설치', 12807), ('굳은살', 12808), ('갑과', 12809), ('당해낼', 12810), ('검버섯', 12811), ('끔직', 12812), ('도서실', 12813), ('통했', 12814), ('난형', 12815), ('제조원', 12816), ('미룬', 12817), ('보일지', 12818), ('안쓰러워하', 12819), ('전립선염', 12820), ('바득바득', 12821), ('우겨', 12822), ('일수록', 12823), ('부딪쳐도', 12824), ('맞이해', 12825), ('풀려났', 12826), ('항복', 12827), ('햇빛', 12828), ('멈춰진', 12829), ('노인네', 12830), ('특채', 12831), ('뇌물', 12832), ('제치', 12833), ('컴컴', 12834), ('썰렁', 12835), ('희진', 12836), ('기획력', 12837), ('건데기', 12838), ('지낸다면', 12839), ('금지옥엽', 12840), ('채근', 12841), ('대면', 12842), ('넘겨야', 12843), ('웹툰', 12844), ('영문', 12845), ('개조', 12846), ('한정판', 12847), ('유흥비', 12848), ('과분', 12849), ('손익', 12850), ('난다며', 12851), ('육남매', 12852), ('꺼낸', 12853), ('천대', 12854), ('맞혀', 12855), ('구두창', 12856), ('붉어졌', 12857), ('가라앉혀', 12858), ('노려볼', 12859), ('열살', 12860), ('나넘', 12861), ('정력', 12862), ('암판', 12863), ('매래', 12864), ('광경', 12865), ('잡힌', 12866), ('내만', 12867), ('농기계', 12868), ('신분증', 12869), ('괴롭힌대', 12870), ('떻게살아야후회없는삶이될까하고잠이잘안오네', 12871), ('덴', 12872), ('질질', 12873), ('뜨끔', 12874), ('하위', 12875), ('버려질', 12876), ('원산지', 12877), ('둔갑', 12878), ('사주', 12879), ('차래', 12880), ('상해일', 12881), ('입버릇', 12882), ('나타난다는', 12883), ('뜬금없', 12884), ('군소리', 12885), ('지분', 12886), ('못산다고', 12887), ('내어주', 12888), ('구만', 12889), ('썩이', 12890), ('통탄', 12891), ('외숙모', 12892), ('켜진', 12893), ('배꼽', 12894), ('난지', 12895), ('저탄고', 12896), ('무죄', 12897), ('끝마치', 12898), ('까다로웠', 12899), ('다는구나', 12900), ('술난리', 12901), ('사기죄', 12902), ('무서운가', 12903), ('지열', 12904), ('등감', 12905), ('개망신', 12906), ('일주년', 12907), ('증오감', 12908), ('챙겨오', 12909), ('단식', 12910), ('해로워', 12911), ('과민', 12912), ('서외', 12913), ('대짝', 12914), ('두통약', 12915), ('둘러봐도', 12916), ('입수', 12917), ('밑지', 12918), ('본전', 12919), ('떨어뜨린', 12920), ('산부', 12921), ('기검', 12922), ('호상', 12923), ('가압류', 12924), ('얘긴데', 12925), ('북새통', 12926), ('죽인', 12927), ('마야', 12928), ('식중독', 12929), ('갓', 12930), ('한다지만', 12931), ('노부모', 12932), ('바램', 12933), ('시안', 12934), ('거릴', 12935), ('만감', 12936), ('레슨', 12937), ('이채용', 12938), ('건방지', 12939), ('하염없이', 12940), ('신통', 12941), ('이유로', 12942), ('지겁', 12943), ('우편물', 12944), ('펴도', 12945), ('포상', 12946), ('손수레', 12947), ('부딪혔', 12948), ('손상', 12949), ('팸플릿', 12950), ('복구', 12951), ('만든다니까', 12952), ('구천', 12953), ('추진력', 12954), ('보인다면서', 12955), ('면식', 12956), ('스토킹', 12957), ('내려온다고', 12958), ('술대', 12959), ('역서', 12960), ('휜', 12961), ('쳤으면', 12962), ('계약금', 12963), ('심혈', 12964), ('러시아', 12965), ('달아났', 12966), ('여잔데', 12967), ('결원', 12968), ('인일', 12969), ('지끈거리', 12970), ('실실', 12971), ('부아', 12972), ('감기약', 12973), ('아동', 12974), ('서가', 12975), ('기량', 12976), ('출품', 12977), ('여전', 12978), ('미워해', 12979), ('잡티', 12980), ('여권', 12981), ('권해', 12982), ('고심', 12983), ('물배', 12984), ('만장', 12985), ('견조', 12986), ('감정싸움', 12987), ('정일', 12988), ('잃어버릴', 12989), ('돌아다녀', 12990), ('맘껏', 12991), ('고왔', 12992), ('종식', 12993), ('장려상', 12994), ('기나긴', 12995), ('분홍색', 12996), ('다달', 12997), ('난계', 12998), ('낮춰야', 12999), ('애석', 13000), ('리란', 13001), ('일위', 13002), ('흘러가', 13003), ('중매', 13004), ('졸려서', 13005), ('갔었잖', 13006), ('신비', 13007), ('인출', 13008), ('부자지간', 13009), ('가져볼', 13010), ('귀금속', 13011), ('멍멍', 13012), ('떻게알아는지다들돈빌려달래서성가셔죽겠어', 13013), ('맹구', 13014), ('고불', 13015), ('현지', 13016), ('추수', 13017), ('보람찬', 13018), ('후막', 13019), ('살린', 13020), ('아파질', 13021), ('서전', 13022), ('로워졌', 13023), ('슬픈지', 13024), ('대금', 13025), ('역해', 13026), ('합치', 13027), ('언젠지', 13028), ('옮길까', 13029), ('빌미', 13030), ('원만히', 13031), ('나아져', 13032), ('단기간', 13033), ('둘러싸인', 13034), ('자문', 13035), ('장롱', 13036), ('차릴까', 13037), ('커트라인', 13038), ('대여', 13039), ('고쳐서', 13040), ('흐른', 13041), ('대폭', 13042), ('자기소개', 13043), ('사무', 13044), ('할꺼', 13045), ('든든히', 13046), ('차릴', 13047), ('릎이영예전같지않아젊었을때많이다녀볼걸후회가되네', 13048), ('제학', 13049), ('힘세', 13050), ('먹잇감', 13051), ('창구', 13052), ('술친구', 13053), ('업종', 13054), ('팬티', 13055), ('쿠키', 13056), ('워다', 13057), ('제다', 13058), ('변이', 13059), ('나이세', 13060), ('말아먹', 13061), ('끈끈', 13062), ('혹평', 13063), ('높인', 13064), ('마다매', 13065), ('른이넘었는데언제취업하고언제돈벌어서결혼할수있을까', 13066), ('헛헛', 13067), ('된다더니', 13068), ('판매자', 13069), ('산차', 13070), ('잡혀갔', 13071), ('까내', 13072), ('정안', 13073), ('오성', 13074), ('급호', 13075), ('텔', 13076), ('접해서', 13077), ('톤', 13078), ('트럭', 13079), ('서과', 13080), ('형부', 13081), ('항공기', 13082), ('덩그러', 13083), ('싸고돌', 13084), ('단정히', 13085), ('의료비', 13086), ('공정', 13087), ('친군데', 13088), ('프', 13089), ('렌', 13090), ('외주', 13091), ('판다고', 13092), ('비안', 13093), ('맴도', 13094), ('먹여살릴', 13095), ('움직임', 13096), ('무심결', 13097), ('쓰다듬', 13098), ('외아들', 13099), ('두근거려서', 13100), ('이직률', 13101), ('근엄', 13102), ('상임', 13103), ('난대', 13104), ('요구사항', 13105), ('이라고', 13106), ('콤플렉스', 13107), ('소싯적', 13108), ('널려', 13109), ('막노동', 13110), ('였을까', 13111), ('수속', 13112), ('틀릴까', 13113), ('께나', 13114), ('아유', 13115), ('일전', 13116), ('할려면', 13117), ('꾸려서', 13118), ('도둑맞', 13119), ('아주비', 13120), ('하트', 13121), ('당근', 13122), ('울타리', 13123), ('될래', 13124), ('음담패설', 13125), ('던져서', 13126), ('어선지', 13127), ('확충', 13128), ('들어올까', 13129), ('알아채', 13130), ('부수', 13131), ('채워서', 13132), ('성황리', 13133), ('모형', 13134), ('긴축', 13135), ('빌려서', 13136), ('복사', 13137), ('체구', 13138), ('막강', 13139), ('고배', 13140), ('고속도로', 13141), ('뚫리', 13142), ('난운', 13143), ('도의심', 13144), ('헛먹', 13145), ('현성', 13146), ('중성', 13147), ('요사이', 13148), ('서문', 13149), ('태권', 13150), ('나갈수록', 13151), ('안기', 13152), ('볼링', 13153), ('두피', 13154), ('폐교', 13155), ('경리', 13156), ('하우스', 13157), ('한척', 13158), ('탐욕', 13159), ('내막', 13160), ('염이', 13161), ('이심', 13162), ('인삼', 13163), ('가져온다고', 13164), ('장신구', 13165), ('줄여서', 13166), ('실시', 13167), ('서글펐', 13168), ('이단', 13169), ('과업', 13170), ('반회장', 13171), ('가라앉힐', 13172), ('부글부글', 13173), ('끓', 13174), ('뜯어낼', 13175), ('나나이', 13176), ('딸아', 13177), ('한스럽', 13178), ('흩어져', 13179), ('귀여웠', 13180), ('굵', 13181), ('못한다', 13182), ('부도난', 13183), ('무지하', 13184), ('막힌', 13185), ('버거워서', 13186), ('도왔', 13187), ('불이익', 13188), ('왕성', 13189), ('가미', 13190), ('페스티벌', 13191), ('술잔치', 13192), ('상할까', 13193), ('수목장', 13194), ('한량', 13195), ('담합', 13196), ('유비무환', 13197), ('사자성어', 13198), ('아녔', 13199), ('변', 13200), ('버려야', 13201), ('동떨어졌', 13202), ('예정출', 13203), ('산일', 13204), ('내수', 13205), ('시킨다고', 13206), ('국회의원', 13207), ('숨소리', 13208), ('희미', 13209), ('연구원', 13210), ('경악', 13211), ('금치', 13212), ('급변', 13213), ('한데다', 13214), ('황달기', 13215), ('덜할', 13216), ('친해졌으면', 13217), ('염소', 13218), ('이러실', 13219), ('운증', 13220), ('후군', 13221), ('뱄', 13222), ('서등', 13223), ('걸려온', 13224), ('검정고시', 13225), ('전지', 13226), ('얌체', 13227), ('입혔', 13228), ('두드렸', 13229), ('회일', 13230), ('목감기', 13231), ('내려온', 13232), ('마신다는', 13233), ('새된', 13234), ('나스', 13235), ('공용', 13236), ('미뤄볼', 13237), ('호실', 13238), ('그만둔다고', 13239), ('내려지', 13240), ('점퍼', 13241), ('거용', 13242), ('집세', 13243), ('불길', 13244), ('외침', 13245), ('지울', 13246), ('상여', 13247), ('떡값', 13248), ('면전', 13249), ('쥐어뜯', 13250), ('말린다고', 13251), ('현미밥', 13252), ('체조', 13253), ('회사부', 13254), ('우릴', 13255), ('백내장', 13256), ('풍년', 13257), ('수확량', 13258), ('따른', 13259), ('결벽증', 13260), ('생긴다면', 13261), ('강하', 13262), ('의탁', 13263), ('쌓았', 13264), ('모자르', 13265), ('안동', 13266), ('업자', 13267), ('나다녀', 13268), ('우셔', 13269), ('달랬', 13270), ('냉기', 13271), ('다간', 13272), ('풀어놓', 13273), ('싫증', 13274), ('양옆', 13275), ('비워져', 13276), ('야사', 13277), ('내민', 13278), ('지게', 13279), ('품위', 13280), ('걸러', 13281), ('엎드렸', 13282), ('숙지', 13283), ('문상', 13284), ('해줄까', 13285), ('체류', 13286), ('데스크', 13287), ('전어머니', 13288), ('가려워서', 13289), ('딸리', 13290), ('혈연', 13291), ('김숙', 13292), ('반값', 13293), ('인명', 13294), ('재천', 13295), ('순리', 13296), ('주군', 13297), ('친부', 13298), ('캥거루', 13299), ('밀릴까봐', 13300), ('환승역', 13301), ('단층', 13302), ('비싼데', 13303), ('무당', 13304), ('격', 13305), ('밝혀질', 13306), ('누님', 13307), ('못생기', 13308), ('날카로워져', 13309), ('혐오감', 13310), ('버네', 13311), ('뭐한', 13312), ('외랑', 13313), ('기울었', 13314), ('어려운가', 13315), ('구분지', 13316), ('서자녀', 13317), ('일궈왔', 13318), ('어려울지', 13319), ('는다던데', 13320), ('라다', 13321), ('강력', 13322), ('계비', 13323), ('대대로', 13324), ('온벽', 13325), ('벽지', 13326), ('마음고생', 13327), ('차이점', 13328), ('멀다하고', 13329), ('영재', 13330), ('원출', 13331), ('신인', 13332), ('어두워져', 13333), ('시잠', 13334), ('뿌옇', 13335), ('란다', 13336), ('른약이랑섞일까봐불안해그래서따로거실에빼뒀어', 13337), ('갈옷', 13338), ('저럴', 13339), ('이럴바엔', 13340), ('부결', 13341), ('허겁지겁', 13342), ('달릴', 13343), ('지겨워서', 13344), ('걸아', 13345), ('오형', 13346), ('난단', 13347), ('산날', 13348), ('헛디뎠', 13349), ('내팽개쳐진', 13350), ('이구동', 13351), ('성추', 13352), ('천한', 13353), ('모녀', 13354), ('갔다올', 13355), ('투고', 13356), ('법정', 13357), ('슬럼프', 13358), ('빠졌었', 13359), ('눈살', 13360), ('찌푸려', 13361), ('마약', 13362), ('간직', 13363), ('패물', 13364), ('악감', 13365), ('정이', 13366), ('차가워진', 13367), ('쳐다본다고', 13368), ('제회', 13369), ('옮긴다', 13370), ('비키', 13371), ('북한산', 13372), ('커뮤니케이션', 13373), ('자장면', 13374), ('사귈지', 13375), ('일양', 13376), ('빠져나왔', 13377), ('이콜', 13378), ('골라서', 13379), ('길길이', 13380), ('날뛰', 13381), ('혹여나', 13382), ('효심', 13383), ('지극', 13384), ('빠른지', 13385), ('내놔도', 13386), ('후회막심', 13387), ('다죄', 13388), ('일당', 13389), ('구청', 13390), ('이일', 13391), ('월드컵', 13392), ('사강', 13393), ('클래식', 13394), ('초연', 13395), ('손목관', 13396), ('당구장', 13397), ('이판사판', 13398), ('의임', 13399), ('밝혔', 13400), ('유대감', 13401), ('고위', 13402), ('공직자', 13403), ('그림일기', 13404), ('그려져', 13405), ('무뎌', 13406), ('둘러싸여서', 13407), ('사가노', 13408), ('느닷없이', 13409), ('들이닥치', 13410), ('덤벼서', 13411), ('으므로', 13412), ('쓰러졌었', 13413), ('사셔야', 13414), ('여차저차', 13415), ('덮어씌우', 13416), ('물러날', 13417), ('벼랑', 13418), ('몰린', 13419), ('만파', 13420), ('낯빛', 13421), ('연쇄', 13422), ('살인범', 13423), ('면했', 13424), ('서빙', 13425), ('경로', 13426), ('베푸', 13427)])"
            ]
          },
          "metadata": {
            "tags": []
          },
          "execution_count": 60
        }
      ]
    },
    {
      "cell_type": "code",
      "metadata": {
        "colab": {
          "base_uri": "https://localhost:8080/"
        },
        "id": "Yn3m4I6ErIDo",
        "outputId": "54926ff6-7d24-44fc-8d6f-ac8b09c33fee"
      },
      "source": [
        "np.unique(y_test)"
      ],
      "execution_count": 61,
      "outputs": [
        {
          "output_type": "execute_result",
          "data": {
            "text/plain": [
              "array([0, 1, 2, 3, 4, 5])"
            ]
          },
          "metadata": {
            "tags": []
          },
          "execution_count": 61
        }
      ]
    },
    {
      "cell_type": "code",
      "metadata": {
        "id": "682UO8tU9Xah"
      },
      "source": [
        "# Recall, Precision, F1 Score\n",
        "from keras import backend as K\n",
        "\n",
        "def recall_m(y_true, y_pred):\n",
        "    true_positives = K.sum(K.round(K.clip(y_true * y_pred, 0, 1)))\n",
        "    possible_positives = K.sum(K.round(K.clip(y_true, 0, 1)))\n",
        "    recall = true_positives / (possible_positives + K.epsilon())\n",
        "    return recall\n",
        "\n",
        "def precision_m(y_true, y_pred):\n",
        "    true_positives = K.sum(K.round(K.clip(y_true * y_pred, 0, 1)))\n",
        "    predicted_positives = K.sum(K.round(K.clip(y_pred, 0, 1)))\n",
        "    precision = true_positives / (predicted_positives + K.epsilon())\n",
        "    return precision\n",
        "\n",
        "def f1_m(y_true, y_pred):\n",
        "    precision = precision_m(y_true, y_pred)\n",
        "    recall = recall_m(y_true, y_pred)\n",
        "    return 2*((precision*recall)/(precision+recall+K.epsilon()))"
      ],
      "execution_count": 62,
      "outputs": []
    },
    {
      "cell_type": "code",
      "metadata": {
        "colab": {
          "base_uri": "https://localhost:8080/"
        },
        "id": "ZQdITZLa_uFh",
        "outputId": "dfedfcbc-35d6-4f48-9aae-f6eefcb03e7c"
      },
      "source": [
        "# 모델 저장시 HDF5 Format으로 저장\n",
        "!pip install pyyaml h5py"
      ],
      "execution_count": 108,
      "outputs": [
        {
          "output_type": "stream",
          "text": [
            "Requirement already satisfied: pyyaml in /usr/local/lib/python3.7/dist-packages (3.13)\n",
            "Requirement already satisfied: h5py in /usr/local/lib/python3.7/dist-packages (3.1.0)\n",
            "Requirement already satisfied: numpy>=1.14.5; python_version == \"3.7\" in /usr/local/lib/python3.7/dist-packages (from h5py) (1.19.5)\n",
            "Requirement already satisfied: cached-property; python_version < \"3.8\" in /usr/local/lib/python3.7/dist-packages (from h5py) (1.5.2)\n"
          ],
          "name": "stdout"
        }
      ]
    },
    {
      "cell_type": "markdown",
      "metadata": {
        "id": "FzVKj_5Pnkc0"
      },
      "source": [
        "### LSTM(Word2Vec)\n"
      ]
    },
    {
      "cell_type": "code",
      "metadata": {
        "id": "pF0BYI24ndGo"
      },
      "source": [
        "# embedding vectors (Word2Vec)\n",
        "vocab_size, embedding_size = w2v_model.wv.vectors.shape\n",
        "w2v_weights = w2v_model.wv.vectors\n",
        "\n",
        "model_w2v = Sequential()\n",
        "model_w2v.add(Embedding(input_dim = vocab_size,\n",
        "                    output_dim = embedding_size,\n",
        "                    weights = [w2v_weights], # w2v weights\n",
        "                    input_length = 200,\n",
        "                    trainable = False))\n",
        "model_w2v.add(LSTM(128, dropout = 0.2, recurrent_dropout=0.2, activation='relu')) # LSTM\n",
        "model_w2v.add(Dense(6, activation='softmax'))"
      ],
      "execution_count": 63,
      "outputs": []
    },
    {
      "cell_type": "code",
      "metadata": {
        "colab": {
          "base_uri": "https://localhost:8080/"
        },
        "id": "SCh5fPty1QPH",
        "outputId": "3a04a033-1d66-4657-c333-20e19a41d939"
      },
      "source": [
        "model_w2v.summary()"
      ],
      "execution_count": 94,
      "outputs": [
        {
          "output_type": "stream",
          "text": [
            "Model: \"sequential\"\n",
            "_________________________________________________________________\n",
            "Layer (type)                 Output Shape              Param #   \n",
            "=================================================================\n",
            "embedding (Embedding)        (None, 200, 100)          100100    \n",
            "_________________________________________________________________\n",
            "lstm (LSTM)                  (None, 128)               117248    \n",
            "_________________________________________________________________\n",
            "dense (Dense)                (None, 6)                 774       \n",
            "=================================================================\n",
            "Total params: 218,122\n",
            "Trainable params: 118,022\n",
            "Non-trainable params: 100,100\n",
            "_________________________________________________________________\n"
          ],
          "name": "stdout"
        }
      ]
    },
    {
      "cell_type": "code",
      "metadata": {
        "colab": {
          "base_uri": "https://localhost:8080/"
        },
        "id": "2C-5ub854sW0",
        "outputId": "d178dbc5-e8fc-4a4d-8b0b-133046f4b7d5"
      },
      "source": [
        "import os\n",
        "\n",
        "import tensorflow as tf\n",
        "from tensorflow import keras\n",
        "\n",
        "print(tf.version.VERSION)"
      ],
      "execution_count": 100,
      "outputs": [
        {
          "output_type": "stream",
          "text": [
            "2.5.0\n"
          ],
          "name": "stdout"
        }
      ]
    },
    {
      "cell_type": "code",
      "metadata": {
        "id": "KEZXBRnw35Hw"
      },
      "source": [
        "# Include the epoch in the file name (uses `str.format`)\n",
        "checkpoint_path_w2v = \"Word2Vec/cp-{epoch:04d}.ckpt\"\n",
        "checkpoint_dir_w2v = os.path.dirname(checkpoint_path_w2v)\n",
        "\n",
        "# Save the weights using the `checkpoint_path` format\n",
        "model_w2v.save_weights(checkpoint_path_w2v.format(epoch=0))\n",
        "\n",
        "# Create a callback that saves the model's weights\n",
        "cp_callback = tf.keras.callbacks.ModelCheckpoint(filepath=checkpoint_path_w2v,\n",
        "                                                 save_weights_only=True,\n",
        "                                                 verbose=1)"
      ],
      "execution_count": 105,
      "outputs": []
    },
    {
      "cell_type": "code",
      "metadata": {
        "colab": {
          "base_uri": "https://localhost:8080/"
        },
        "id": "0XyMyyr8oK1H",
        "outputId": "85d53368-f633-4541-f802-5c3fcb1c1626"
      },
      "source": [
        "model_w2v.compile(loss = 'sparse_categorical_crossentropy', optimizer='adam', metrics = ['acc', f1_m])\n",
        "history_w2v = model_w2v.fit(X_train_sequence, y_train, batch_size=64, epochs=10, validation_split=0.1, \n",
        "                    callbacks=[EarlyStopping(monitor='val_loss',min_delta=0.0001, patience=2),\n",
        "                               cp_callback] )"
      ],
      "execution_count": 64,
      "outputs": [
        {
          "output_type": "stream",
          "text": [
            "Epoch 1/10\n",
            "WARNING:tensorflow:Model was constructed with shape (None, 200) for input KerasTensor(type_spec=TensorSpec(shape=(None, 200), dtype=tf.float32, name='embedding_input'), name='embedding_input', description=\"created by layer 'embedding_input'\"), but it was called on an input with incompatible shape (None, 400).\n",
            "WARNING:tensorflow:Model was constructed with shape (None, 200) for input KerasTensor(type_spec=TensorSpec(shape=(None, 200), dtype=tf.float32, name='embedding_input'), name='embedding_input', description=\"created by layer 'embedding_input'\"), but it was called on an input with incompatible shape (None, 400).\n",
            "460/460 [==============================] - ETA: 0s - loss: 1.7931 - acc: 0.1743 - f1_m: 5.9066WARNING:tensorflow:Model was constructed with shape (None, 200) for input KerasTensor(type_spec=TensorSpec(shape=(None, 200), dtype=tf.float32, name='embedding_input'), name='embedding_input', description=\"created by layer 'embedding_input'\"), but it was called on an input with incompatible shape (None, 400).\n",
            "460/460 [==============================] - 662s 1s/step - loss: 1.7931 - acc: 0.1743 - f1_m: 5.9067 - val_loss: 1.7904 - val_acc: 0.1675 - val_f1_m: 6.4020\n",
            "Epoch 2/10\n",
            "460/460 [==============================] - 632s 1s/step - loss: 1.7913 - acc: 0.1725 - f1_m: 6.1173 - val_loss: 1.7902 - val_acc: 0.1785 - val_f1_m: 5.9719\n",
            "Epoch 3/10\n",
            "460/460 [==============================] - 645s 1s/step - loss: 1.7912 - acc: 0.1790 - f1_m: 5.9700 - val_loss: 1.7904 - val_acc: 0.1785 - val_f1_m: 5.9719\n",
            "Epoch 4/10\n",
            "460/460 [==============================] - 646s 1s/step - loss: 1.7910 - acc: 0.1756 - f1_m: 5.9153 - val_loss: 1.7905 - val_acc: 0.1785 - val_f1_m: 5.9719\n"
          ],
          "name": "stdout"
        }
      ]
    },
    {
      "cell_type": "code",
      "metadata": {
        "colab": {
          "base_uri": "https://localhost:8080/"
        },
        "id": "wcro84Qpong8",
        "outputId": "f630aaaa-78c3-40f4-dfa3-5d86377a3608"
      },
      "source": [
        "pred_w2v = model_w2v.predict_classes(X_test_sequence)\n",
        "np.unique(pred_w2v)"
      ],
      "execution_count": 65,
      "outputs": [
        {
          "output_type": "stream",
          "text": [
            "/usr/local/lib/python3.7/dist-packages/keras/engine/sequential.py:450: UserWarning: `model.predict_classes()` is deprecated and will be removed after 2021-01-01. Please use instead:* `np.argmax(model.predict(x), axis=-1)`,   if your model does multi-class classification   (e.g. if it uses a `softmax` last-layer activation).* `(model.predict(x) > 0.5).astype(\"int32\")`,   if your model does binary classification   (e.g. if it uses a `sigmoid` last-layer activation).\n",
            "  warnings.warn('`model.predict_classes()` is deprecated and '\n"
          ],
          "name": "stderr"
        },
        {
          "output_type": "stream",
          "text": [
            "WARNING:tensorflow:Model was constructed with shape (None, 200) for input KerasTensor(type_spec=TensorSpec(shape=(None, 200), dtype=tf.float32, name='embedding_input'), name='embedding_input', description=\"created by layer 'embedding_input'\"), but it was called on an input with incompatible shape (None, 400).\n"
          ],
          "name": "stdout"
        },
        {
          "output_type": "execute_result",
          "data": {
            "text/plain": [
              "array([3])"
            ]
          },
          "metadata": {
            "tags": []
          },
          "execution_count": 65
        }
      ]
    },
    {
      "cell_type": "code",
      "metadata": {
        "colab": {
          "base_uri": "https://localhost:8080/"
        },
        "id": "txEOcjvP0AfT",
        "outputId": "4a69d2b4-9967-4215-edb2-89e909b03d17"
      },
      "source": [
        "accr_w2v = model_w2v.evaluate(X_test_sequence, y_test)\n",
        "accr_w2v"
      ],
      "execution_count": 66,
      "outputs": [
        {
          "output_type": "stream",
          "text": [
            "256/256 [==============================] - 30s 116ms/step - loss: 1.7908 - acc: 0.1794 - f1_m: 6.0956\n"
          ],
          "name": "stdout"
        },
        {
          "output_type": "execute_result",
          "data": {
            "text/plain": [
              "[1.7907899618148804, 0.1794275939464569, 6.095646858215332]"
            ]
          },
          "metadata": {
            "tags": []
          },
          "execution_count": 66
        }
      ]
    },
    {
      "cell_type": "code",
      "metadata": {
        "colab": {
          "base_uri": "https://localhost:8080/",
          "height": 296
        },
        "id": "6xvwF0dXBHSr",
        "outputId": "29066d72-f963-4fda-8322-68280c9a7a58"
      },
      "source": [
        "plt.title('Loss(LSTM - Word2Vec)')\n",
        "plt.plot(history_w2v.history['loss'], label='train')\n",
        "plt.plot(history_w2v.history['val_loss'], label='test')\n",
        "plt.legend()\n",
        "plt.show();"
      ],
      "execution_count": 67,
      "outputs": [
        {
          "output_type": "display_data",
          "data": {
            "image/png": "[encoded data removed]",
            "text/plain": [
              "<Figure size 432x288 with 1 Axes>"
            ]
          },
          "metadata": {
            "tags": [],
            "needs_background": "light"
          }
        }
      ]
    },
    {
      "cell_type": "code",
      "metadata": {
        "colab": {
          "base_uri": "https://localhost:8080/",
          "height": 296
        },
        "id": "Mun8hp7dBso6",
        "outputId": "dc645f75-e579-45bd-8f5b-7fea414792f0"
      },
      "source": [
        "plt.title('Accuracy(LSTM - Word2Vec)')\n",
        "plt.plot(history_w2v.history['acc'], label='train')\n",
        "plt.plot(history_w2v.history['val_acc'], label='test')\n",
        "plt.legend()\n",
        "plt.show();"
      ],
      "execution_count": 68,
      "outputs": [
        {
          "output_type": "display_data",
          "data": {
            "image/png": "[encoded data removed]",
            "text/plain": [
              "<Figure size 432x288 with 1 Axes>"
            ]
          },
          "metadata": {
            "tags": [],
            "needs_background": "light"
          }
        }
      ]
    },
    {
      "cell_type": "code",
      "metadata": {
        "colab": {
          "base_uri": "https://localhost:8080/"
        },
        "id": "-ctFCKT2Bu0g",
        "outputId": "a477208a-1a33-4293-89e5-45b866e09d2a"
      },
      "source": [
        "new_complaint = ['어제 칭찬받아서 엄청 행복해']\n",
        "seq = tokenizer.texts_to_sequences(new_complaint)\n",
        "padded = pad_sequences(seq, maxlen=400)\n",
        "pred = model_w2v.predict(padded)\n",
        "labels = ['기쁨', '당황', '분노', '불안', '상처', '슬픔']\n",
        "print(labels[np.argmax(pred)])"
      ],
      "execution_count": 69,
      "outputs": [
        {
          "output_type": "stream",
          "text": [
            "불안\n"
          ],
          "name": "stdout"
        }
      ]
    },
    {
      "cell_type": "markdown",
      "metadata": {
        "id": "7BFwBFfClSNl"
      },
      "source": [
        "### LSTM(FastText)\n"
      ]
    },
    {
      "cell_type": "code",
      "metadata": {
        "id": "gkJ4yKjkSeO9"
      },
      "source": [
        "# embedding vectors (FastText)\n",
        "vocab_size, embedding_size = saved_fasttext.wv.vectors.shape\n",
        "fasttext_weights = saved_fasttext.wv.vectors\n",
        "\n",
        "model_ft = Sequential()\n",
        "model_ft.add(Embedding(input_dim = vocab_size,\n",
        "                    output_dim = embedding_size,\n",
        "                    weights = [fasttext_weights], # w2v weights\n",
        "                    input_length = 200,\n",
        "                    trainable = False))\n",
        "model_ft.add(LSTM(128, dropout = 0.2, recurrent_dropout=0.2, activation='relu')) # LSTM\n",
        "model_ft.add(Dense(6, activation='softmax'))"
      ],
      "execution_count": 70,
      "outputs": []
    },
    {
      "cell_type": "code",
      "metadata": {
        "colab": {
          "base_uri": "https://localhost:8080/"
        },
        "id": "Hl4Uj_Pb1VKF",
        "outputId": "5ff867af-bb44-44cf-bd1b-8fad7f60a0a5"
      },
      "source": [
        "model_ft.summary()"
      ],
      "execution_count": 95,
      "outputs": [
        {
          "output_type": "stream",
          "text": [
            "Model: \"sequential_1\"\n",
            "_________________________________________________________________\n",
            "Layer (type)                 Output Shape              Param #   \n",
            "=================================================================\n",
            "embedding_1 (Embedding)      (None, 200, 100)          468400    \n",
            "_________________________________________________________________\n",
            "lstm_1 (LSTM)                (None, 128)               117248    \n",
            "_________________________________________________________________\n",
            "dense_1 (Dense)              (None, 6)                 774       \n",
            "=================================================================\n",
            "Total params: 586,422\n",
            "Trainable params: 118,022\n",
            "Non-trainable params: 468,400\n",
            "_________________________________________________________________\n"
          ],
          "name": "stdout"
        }
      ]
    },
    {
      "cell_type": "code",
      "metadata": {
        "id": "MvDSuj9s45F2"
      },
      "source": [
        "# Include the epoch in the file name (uses `str.format`)\n",
        "checkpoint_path_ft = \"FastText/cp-{epoch:04d}.ckpt\"\n",
        "checkpoint_dir_ft = os.path.dirname(checkpoint_path_ft)\n",
        "\n",
        "# Save the weights using the `checkpoint_path` format\n",
        "model_ft.save_weights(checkpoint_path_ft.format(epoch=0))\n",
        "\n",
        "# Create a callback that saves the model's weights\n",
        "cp_callback = tf.keras.callbacks.ModelCheckpoint(filepath=checkpoint_path_ft,\n",
        "                                                 save_weights_only=True,\n",
        "                                                 verbose=1)"
      ],
      "execution_count": 106,
      "outputs": []
    },
    {
      "cell_type": "code",
      "metadata": {
        "colab": {
          "base_uri": "https://localhost:8080/"
        },
        "id": "XcAomcVkneRk",
        "outputId": "929af835-9010-4f09-89c6-514a722b570c"
      },
      "source": [
        "model_ft.compile(loss = 'sparse_categorical_crossentropy', optimizer='adam', metrics = ['acc', f1_m])\n",
        "history_fasttext = model_ft.fit(X_train_sequence, y_train, batch_size=64, epochs=10, validation_split=0.1, \n",
        "                    callbacks=[EarlyStopping(monitor='val_loss',min_delta=0.0001, patience=2),\n",
        "                               cp_callback] )"
      ],
      "execution_count": 71,
      "outputs": [
        {
          "output_type": "stream",
          "text": [
            "Epoch 1/10\n",
            "WARNING:tensorflow:Model was constructed with shape (None, 200) for input KerasTensor(type_spec=TensorSpec(shape=(None, 200), dtype=tf.float32, name='embedding_1_input'), name='embedding_1_input', description=\"created by layer 'embedding_1_input'\"), but it was called on an input with incompatible shape (None, 400).\n",
            "WARNING:tensorflow:Model was constructed with shape (None, 200) for input KerasTensor(type_spec=TensorSpec(shape=(None, 200), dtype=tf.float32, name='embedding_1_input'), name='embedding_1_input', description=\"created by layer 'embedding_1_input'\"), but it was called on an input with incompatible shape (None, 400).\n",
            "460/460 [==============================] - ETA: 0s - loss: 1.7931 - acc: 0.1733 - f1_m: 5.8618WARNING:tensorflow:Model was constructed with shape (None, 200) for input KerasTensor(type_spec=TensorSpec(shape=(None, 200), dtype=tf.float32, name='embedding_1_input'), name='embedding_1_input', description=\"created by layer 'embedding_1_input'\"), but it was called on an input with incompatible shape (None, 400).\n",
            "460/460 [==============================] - 654s 1s/step - loss: 1.7931 - acc: 0.1733 - f1_m: 5.8619 - val_loss: 1.7907 - val_acc: 0.1626 - val_f1_m: 6.8321\n",
            "Epoch 2/10\n",
            "460/460 [==============================] - 651s 1s/step - loss: 1.7913 - acc: 0.1740 - f1_m: 6.0728 - val_loss: 1.7904 - val_acc: 0.1785 - val_f1_m: 5.9719\n",
            "Epoch 3/10\n",
            "460/460 [==============================] - 651s 1s/step - loss: 1.7912 - acc: 0.1789 - f1_m: 5.8784 - val_loss: 1.7905 - val_acc: 0.1785 - val_f1_m: 5.9719\n",
            "Epoch 4/10\n",
            "460/460 [==============================] - 650s 1s/step - loss: 1.7910 - acc: 0.1792 - f1_m: 5.9761 - val_loss: 1.7904 - val_acc: 0.1785 - val_f1_m: 5.5419\n"
          ],
          "name": "stdout"
        }
      ]
    },
    {
      "cell_type": "code",
      "metadata": {
        "colab": {
          "base_uri": "https://localhost:8080/"
        },
        "id": "23uteXUDoY3K",
        "outputId": "6d6ea84f-bea0-4435-d931-c38f6c97f4f8"
      },
      "source": [
        "pred_ft = model_ft.predict_classes(X_test_sequence)\n",
        "np.unique(pred_ft)"
      ],
      "execution_count": 72,
      "outputs": [
        {
          "output_type": "stream",
          "text": [
            "WARNING:tensorflow:Model was constructed with shape (None, 200) for input KerasTensor(type_spec=TensorSpec(shape=(None, 200), dtype=tf.float32, name='embedding_1_input'), name='embedding_1_input', description=\"created by layer 'embedding_1_input'\"), but it was called on an input with incompatible shape (None, 400).\n"
          ],
          "name": "stdout"
        },
        {
          "output_type": "stream",
          "text": [
            "/usr/local/lib/python3.7/dist-packages/keras/engine/sequential.py:450: UserWarning: `model.predict_classes()` is deprecated and will be removed after 2021-01-01. Please use instead:* `np.argmax(model.predict(x), axis=-1)`,   if your model does multi-class classification   (e.g. if it uses a `softmax` last-layer activation).* `(model.predict(x) > 0.5).astype(\"int32\")`,   if your model does binary classification   (e.g. if it uses a `sigmoid` last-layer activation).\n",
            "  warnings.warn('`model.predict_classes()` is deprecated and '\n"
          ],
          "name": "stderr"
        },
        {
          "output_type": "execute_result",
          "data": {
            "text/plain": [
              "array([3])"
            ]
          },
          "metadata": {
            "tags": []
          },
          "execution_count": 72
        }
      ]
    },
    {
      "cell_type": "code",
      "metadata": {
        "colab": {
          "base_uri": "https://localhost:8080/"
        },
        "id": "iViwK4XloY3L",
        "outputId": "9e40f81e-b701-4d13-c3a4-c7dfbbcffd77"
      },
      "source": [
        "accr_ft = model_ft.evaluate(X_test_sequence, y_test)\n",
        "accr_ft"
      ],
      "execution_count": 73,
      "outputs": [
        {
          "output_type": "stream",
          "text": [
            "256/256 [==============================] - 30s 116ms/step - loss: 1.7907 - acc: 0.1794 - f1_m: 5.6648\n"
          ],
          "name": "stdout"
        },
        {
          "output_type": "execute_result",
          "data": {
            "text/plain": [
              "[1.790725588798523, 0.1794275939464569, 5.664775371551514]"
            ]
          },
          "metadata": {
            "tags": []
          },
          "execution_count": 73
        }
      ]
    },
    {
      "cell_type": "code",
      "metadata": {
        "id": "Eby6xnK3oY3L",
        "colab": {
          "base_uri": "https://localhost:8080/",
          "height": 296
        },
        "outputId": "185510d3-dfc9-461d-cd65-bde0b24562a1"
      },
      "source": [
        "plt.title('Loss(LSTM - FastText)')\n",
        "plt.plot(history_fasttext.history['loss'], label='train')\n",
        "plt.plot(history_fasttext.history['val_loss'], label='test')\n",
        "plt.legend()\n",
        "plt.show();"
      ],
      "execution_count": 75,
      "outputs": [
        {
          "output_type": "display_data",
          "data": {
            "image/png": "[encoded data removed]",
            "text/plain": [
              "<Figure size 432x288 with 1 Axes>"
            ]
          },
          "metadata": {
            "tags": [],
            "needs_background": "light"
          }
        }
      ]
    },
    {
      "cell_type": "code",
      "metadata": {
        "colab": {
          "base_uri": "https://localhost:8080/",
          "height": 296
        },
        "id": "xjBeSAxyoY3L",
        "outputId": "7e318ae1-9206-4408-9de8-6c20e4a52472"
      },
      "source": [
        "plt.title('Accuracy(LSTM - FastText')\n",
        "plt.plot(history_fasttext.history['acc'], label='train')\n",
        "plt.plot(history_fasttext.history['val_acc'], label='test')\n",
        "plt.legend()\n",
        "plt.show();"
      ],
      "execution_count": 77,
      "outputs": [
        {
          "output_type": "display_data",
          "data": {
            "image/png": "[encoded data removed]",
            "text/plain": [
              "<Figure size 432x288 with 1 Axes>"
            ]
          },
          "metadata": {
            "tags": [],
            "needs_background": "light"
          }
        }
      ]
    },
    {
      "cell_type": "code",
      "metadata": {
        "id": "KtvWmjumoY3L",
        "colab": {
          "base_uri": "https://localhost:8080/"
        },
        "outputId": "83310076-b51f-4347-f4c4-8bb79840151c"
      },
      "source": [
        "new_complaint = ['어제 칭찬받아서 엄청 행복해']\n",
        "seq = tokenizer.texts_to_sequences(new_complaint)\n",
        "padded = pad_sequences(seq, maxlen=400)\n",
        "pred = model_ft.predict(padded)\n",
        "labels = ['기쁨', '당황', '분노', '불안', '상처', '슬픔']\n",
        "print(labels[np.argmax(pred)])"
      ],
      "execution_count": 78,
      "outputs": [
        {
          "output_type": "stream",
          "text": [
            "불안\n"
          ],
          "name": "stdout"
        }
      ]
    },
    {
      "cell_type": "markdown",
      "metadata": {
        "id": "94JwoGsTuCmk"
      },
      "source": [
        "### LSTM(FastText) with Attention NN\n"
      ]
    },
    {
      "cell_type": "code",
      "metadata": {
        "id": "0NL94k4EuCml"
      },
      "source": [
        "# embedding vectors (FastText)\n",
        "vocab_size, embedding_size = saved_fasttext.wv.vectors.shape\n",
        "fasttext_weights = saved_fasttext.wv.vectors\n",
        "\n",
        "model_att = Sequential()\n",
        "model_att.add(Embedding(input_dim = vocab_size,\n",
        "                    output_dim = embedding_size,\n",
        "                    weights = [fasttext_weights], # w2v weights\n",
        "                    input_length = 200,\n",
        "                    trainable = False))\n",
        "model_att.add(LSTM(256, dropout = 0.1, recurrent_dropout=0.1, activation='relu')) # LSTM\n",
        "model_att.add(Dropout(0.25))\n",
        "# model_att.add(Attention(max_len))\n",
        "model_att.add(Dense(128, activation = 'relu'))\n",
        "model_att.add(Dropout(0.1))\n",
        "model_att.add(BatchNormalization())\n",
        "model_att.add(Dense(64, activation='relu'))\n",
        "model_att.add(Dropout(0.1))\n",
        "model_att.add(BatchNormalization())\n",
        "model_att.add(Dense(6, activation='softmax'))"
      ],
      "execution_count": 81,
      "outputs": []
    },
    {
      "cell_type": "code",
      "metadata": {
        "id": "Jy6zAcSv3Nqg"
      },
      "source": [
        "# Include the epoch in the file name (uses `str.format`)\n",
        "checkpoint_path_att = \"FastText_with_Attention/cp-{epoch:04d}.ckpt\"\n",
        "checkpoint_dir_att = os.path.dirname(checkpoint_path_att)\n",
        "\n",
        "# Save the weights using the `checkpoint_path` format\n",
        "model_att.save_weights(checkpoint_path_att.format(epoch=0))\n",
        "\n",
        "# Create a callback that saves the model's weights\n",
        "cp_callback = tf.keras.callbacks.ModelCheckpoint(filepath=checkpoint_path_att,\n",
        "                                                 save_weights_only=True,\n",
        "                                                 verbose=1)"
      ],
      "execution_count": 107,
      "outputs": []
    },
    {
      "cell_type": "code",
      "metadata": {
        "id": "wgs2ljrX1Ydp"
      },
      "source": [
        "model_att.summary()"
      ],
      "execution_count": null,
      "outputs": []
    },
    {
      "cell_type": "code",
      "metadata": {
        "id": "ZgaLN7vyuCml",
        "colab": {
          "base_uri": "https://localhost:8080/"
        },
        "outputId": "5402090f-2c25-4209-a812-7ab51c4adf89"
      },
      "source": [
        "model_att.compile(loss = 'sparse_categorical_crossentropy', optimizer='adam', metrics = ['acc', f1_m])\n",
        "history_att = model_att.fit(X_train_sequence, y_train, batch_size=64, epochs=10, validation_split=0.1, \n",
        "                    callbacks=[EarlyStopping(monitor='val_loss',min_delta=0.0001, patience=2),\n",
        "                               cp_callback] )"
      ],
      "execution_count": 82,
      "outputs": [
        {
          "output_type": "stream",
          "text": [
            "Epoch 1/10\n",
            "WARNING:tensorflow:Model was constructed with shape (None, 200) for input KerasTensor(type_spec=TensorSpec(shape=(None, 200), dtype=tf.float32, name='embedding_3_input'), name='embedding_3_input', description=\"created by layer 'embedding_3_input'\"), but it was called on an input with incompatible shape (None, 400).\n",
            "WARNING:tensorflow:Model was constructed with shape (None, 200) for input KerasTensor(type_spec=TensorSpec(shape=(None, 200), dtype=tf.float32, name='embedding_3_input'), name='embedding_3_input', description=\"created by layer 'embedding_3_input'\"), but it was called on an input with incompatible shape (None, 400).\n",
            "460/460 [==============================] - ETA: 0s - loss: nan - acc: 0.1679 - f1_m: nanWARNING:tensorflow:Model was constructed with shape (None, 200) for input KerasTensor(type_spec=TensorSpec(shape=(None, 200), dtype=tf.float32, name='embedding_3_input'), name='embedding_3_input', description=\"created by layer 'embedding_3_input'\"), but it was called on an input with incompatible shape (None, 400).\n",
            "460/460 [==============================] - 1886s 4s/step - loss: nan - acc: 0.1679 - f1_m: nan - val_loss: nan - val_acc: 0.1620 - val_f1_m: nan\n",
            "Epoch 2/10\n",
            "460/460 [==============================] - 1860s 4s/step - loss: nan - acc: 0.1669 - f1_m: nan - val_loss: nan - val_acc: 0.1620 - val_f1_m: nan\n"
          ],
          "name": "stdout"
        }
      ]
    },
    {
      "cell_type": "code",
      "metadata": {
        "id": "kbUvalmeuCml",
        "colab": {
          "base_uri": "https://localhost:8080/"
        },
        "outputId": "3b8eff82-5036-44c6-97a2-a1d697daf2a9"
      },
      "source": [
        "pred_att = model_att.predict_classes(X_test_sequence)\n",
        "np.unique(pred_att)"
      ],
      "execution_count": 83,
      "outputs": [
        {
          "output_type": "stream",
          "text": [
            "/usr/local/lib/python3.7/dist-packages/keras/engine/sequential.py:450: UserWarning: `model.predict_classes()` is deprecated and will be removed after 2021-01-01. Please use instead:* `np.argmax(model.predict(x), axis=-1)`,   if your model does multi-class classification   (e.g. if it uses a `softmax` last-layer activation).* `(model.predict(x) > 0.5).astype(\"int32\")`,   if your model does binary classification   (e.g. if it uses a `sigmoid` last-layer activation).\n",
            "  warnings.warn('`model.predict_classes()` is deprecated and '\n"
          ],
          "name": "stderr"
        },
        {
          "output_type": "stream",
          "text": [
            "WARNING:tensorflow:Model was constructed with shape (None, 200) for input KerasTensor(type_spec=TensorSpec(shape=(None, 200), dtype=tf.float32, name='embedding_3_input'), name='embedding_3_input', description=\"created by layer 'embedding_3_input'\"), but it was called on an input with incompatible shape (None, 400).\n"
          ],
          "name": "stdout"
        },
        {
          "output_type": "execute_result",
          "data": {
            "text/plain": [
              "array([0])"
            ]
          },
          "metadata": {
            "tags": []
          },
          "execution_count": 83
        }
      ]
    },
    {
      "cell_type": "code",
      "metadata": {
        "id": "zFFdLK46uCml",
        "colab": {
          "base_uri": "https://localhost:8080/"
        },
        "outputId": "f89b8c21-e22d-4dbc-90df-9f8a9ad05741"
      },
      "source": [
        "accr_att = model_att.evaluate(X_test_sequence, y_test)\n",
        "accr_att"
      ],
      "execution_count": 84,
      "outputs": [
        {
          "output_type": "stream",
          "text": [
            "256/256 [==============================] - 90s 352ms/step - loss: nan - acc: 0.1660 - f1_m: nan\n"
          ],
          "name": "stdout"
        },
        {
          "output_type": "execute_result",
          "data": {
            "text/plain": [
              "[nan, 0.16597357392311096, nan]"
            ]
          },
          "metadata": {
            "tags": []
          },
          "execution_count": 84
        }
      ]
    },
    {
      "cell_type": "code",
      "metadata": {
        "id": "InXQLdtouCmm",
        "colab": {
          "base_uri": "https://localhost:8080/",
          "height": 296
        },
        "outputId": "5f81302b-6efc-491b-ca9b-a444e573cf5e"
      },
      "source": [
        "plt.title('Loss(LSTM - FastText with Attention)')\n",
        "plt.plot(history_att.history['loss'], label='train')\n",
        "plt.plot(history_att.history['val_loss'], label='test')\n",
        "plt.legend()\n",
        "plt.show();"
      ],
      "execution_count": 88,
      "outputs": [
        {
          "output_type": "display_data",
          "data": {
            "image/png": "[encoded data removed]",
            "text/plain": [
              "<Figure size 432x288 with 1 Axes>"
            ]
          },
          "metadata": {
            "tags": [],
            "needs_background": "light"
          }
        }
      ]
    },
    {
      "cell_type": "code",
      "metadata": {
        "id": "Z0R4krRBuCmm",
        "colab": {
          "base_uri": "https://localhost:8080/",
          "height": 296
        },
        "outputId": "664a5be0-02f6-4385-d695-f618e1857fe7"
      },
      "source": [
        "plt.title('Accuracy(LSTM - FastText with Attention)')\n",
        "plt.plot(history_att.history['acc'], label='train')\n",
        "plt.plot(history_att.history['val_acc'], label='test')\n",
        "plt.legend()\n",
        "plt.show();"
      ],
      "execution_count": 89,
      "outputs": [
        {
          "output_type": "display_data",
          "data": {
            "image/png": "[encoded data removed]",
            "text/plain": [
              "<Figure size 432x288 with 1 Axes>"
            ]
          },
          "metadata": {
            "tags": [],
            "needs_background": "light"
          }
        }
      ]
    },
    {
      "cell_type": "code",
      "metadata": {
        "id": "ppA5Kl6JuCmm",
        "colab": {
          "base_uri": "https://localhost:8080/"
        },
        "outputId": "c87ec7f2-fffb-46cc-935f-46cbad262d47"
      },
      "source": [
        "new_complaint = ['어제 칭찬받아서 엄청 행복해']\n",
        "seq = tokenizer.texts_to_sequences(new_complaint)\n",
        "padded = pad_sequences(seq, maxlen=400)\n",
        "pred = model_att.predict(padded)\n",
        "labels = ['기쁨', '당황', '분노', '불안', '상처', '슬픔']\n",
        "print(labels[np.argmax(pred)])"
      ],
      "execution_count": 90,
      "outputs": [
        {
          "output_type": "stream",
          "text": [
            "기쁨\n"
          ],
          "name": "stdout"
        }
      ]
    },
    {
      "cell_type": "markdown",
      "metadata": {
        "id": "L0z9uXcYRAfW"
      },
      "source": [
        "## 결과비교"
      ]
    },
    {
      "cell_type": "code",
      "metadata": {
        "id": "i1yTN1W5qzHD",
        "colab": {
          "base_uri": "https://localhost:8080/",
          "height": 142
        },
        "outputId": "919a54fc-5caa-4ad7-9c37-aeb83b52af6c"
      },
      "source": [
        " eval_result = [accr_w2v, accr_ft, accr_att]\n",
        "eval_df = pd.DataFrame(eval_result, \n",
        "                       columns = ['Loss', 'Accuracy', 'F1_score'], \n",
        "                       index = ['Word2Vec', 'FastText', 'FastText with attention'])\n",
        "eval_df"
      ],
      "execution_count": 92,
      "outputs": [
        {
          "output_type": "execute_result",
          "data": {
            "text/html": [
              "<div>\n",
              "<style scoped>\n",
              "    .dataframe tbody tr th:only-of-type {\n",
              "        vertical-align: middle;\n",
              "    }\n",
              "\n",
              "    .dataframe tbody tr th {\n",
              "        vertical-align: top;\n",
              "    }\n",
              "\n",
              "    .dataframe thead th {\n",
              "        text-align: right;\n",
              "    }\n",
              "</style>\n",
              "<table border=\"1\" class=\"dataframe\">\n",
              "  <thead>\n",
              "    <tr style=\"text-align: right;\">\n",
              "      <th></th>\n",
              "      <th>Loss</th>\n",
              "      <th>Accuracy</th>\n",
              "      <th>F1_score</th>\n",
              "    </tr>\n",
              "  </thead>\n",
              "  <tbody>\n",
              "    <tr>\n",
              "      <th>Word2Vec</th>\n",
              "      <td>1.790790</td>\n",
              "      <td>0.179428</td>\n",
              "      <td>6.095647</td>\n",
              "    </tr>\n",
              "    <tr>\n",
              "      <th>FastText</th>\n",
              "      <td>1.790726</td>\n",
              "      <td>0.179428</td>\n",
              "      <td>5.664775</td>\n",
              "    </tr>\n",
              "    <tr>\n",
              "      <th>FastText with attention</th>\n",
              "      <td>NaN</td>\n",
              "      <td>0.165974</td>\n",
              "      <td>NaN</td>\n",
              "    </tr>\n",
              "  </tbody>\n",
              "</table>\n",
              "</div>"
            ],
            "text/plain": [
              "                             Loss  Accuracy  F1_score\n",
              "Word2Vec                 1.790790  0.179428  6.095647\n",
              "FastText                 1.790726  0.179428  5.664775\n",
              "FastText with attention       NaN  0.165974       NaN"
            ]
          },
          "metadata": {
            "tags": []
          },
          "execution_count": 92
        }
      ]
    },
    {
      "cell_type": "markdown",
      "metadata": {
        "id": "2jF0bBTKMpTZ"
      },
      "source": [
        "# 한계점 및 개선방향\n",
        "\n",
        "1. Word2Vec과 FastText를 적용한 LSTM모델들은 모든 데이터에 '기쁨'으로 분류하여 모델의 성능이 현저히 떨어짐\n",
        "\n",
        "2. FastText와 Attention메소드를 적용한 모델에는 Loss가 계산이 안되는 문제점 발생 \n",
        "\n",
        "  - 전처리를 다시 적용\n",
        "  - Dropout 비율을 낮추기\n",
        "  - 6개의 클래스를 다 쓰기 보다 선정하여 재모델링\n",
        "\n",
        "3. 다중분류와 관련된 모델에 대한 적용이 필요\n",
        "\n",
        "4. Pre-trained 모델을 사용하지 못함\n",
        "\n",
        "  - FastText, Konlp 등\n",
        "\n",
        "5. 감성대화 전체를 늘려 데이터의 양을 늘려서 모델링\n",
        "  \n",
        "  - 사람문장1~4를 개별적으로 적용\n",
        "\n",
        "6. 연령별 및 상황키워드에 따른 세그먼트에 다른 모델링적용\n",
        "\n",
        "\n",
        "\n"
      ]
    },
    {
      "cell_type": "code",
      "metadata": {
        "id": "qi-jaslKUL7O"
      },
      "source": [
        "# Requirement.txt 생성\n",
        "!pip3 freeze > requirements.txt"
      ],
      "execution_count": 1,
      "outputs": []
    },
    {
      "cell_type": "markdown",
      "metadata": {
        "id": "25IXPiXlUUC_"
      },
      "source": [
        "# Reference\n",
        "\n",
        "- FastText 공식문서\n",
        "\n",
        "https://fasttext.cc/docs/en/crawl-vectors.html\n",
        "\n",
        "- Pre-trained FastText 활용방법:\n",
        "\n",
        "https://inahjeon.github.io/fasttext/\n",
        "\n",
        "- 한국어 자연어처리 방법들\n",
        "\n",
        "https://wikidocs.net/50739\n",
        "\n",
        "- 불용어\n",
        "\n",
        "\n",
        "https://wikidocs.net/22530\n",
        "\n",
        "https://www.ranks.nl/stopwords/korean\n",
        "\n",
        "- KoNLPy 형태소 분석 라이브러리\n",
        "  - Hannanum: 한나눔. KAIST Semantic Web Research Center 개발.\n",
        "    http://semanticweb.kaist.ac.kr/hannanum/\n",
        "\n",
        "  * Kkma: 꼬꼬마. 서울대학교 IDS(Intelligent Data Systems) 연구실 개발.\n",
        "    http://kkma.snu.ac.kr/\n",
        "\n",
        "  * Komoran: 코모란. Shineware에서 개발.\n",
        "    https://github.com/shin285/KOMORAN\n",
        "\n",
        "  * Mecab: 메카브. 일본어용 형태소 분석기를 한국어를 사용할 수 있도록 수정.\n",
        "    https://bitbucket.org/eunjeon/mecab-ko\n",
        "    \n",
        "  * Open Korean Text: 오픈 소스 한국어 분석기. 과거 트위터 형태소 분석기.\n",
        "    https://github.com/open-korean-text/open-korean-text\n",
        "\n",
        "\n",
        "\n"
      ]
    }
  ]
}