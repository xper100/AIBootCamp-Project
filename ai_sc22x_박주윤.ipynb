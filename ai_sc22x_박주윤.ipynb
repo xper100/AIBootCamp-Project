{
  "nbformat": 4,
  "nbformat_minor": 0,
  "metadata": {
    "colab": {
      "name": "ai-sc22x-박주윤.ipynb",
      "provenance": [],
      "collapsed_sections": [],
      "include_colab_link": true
    },
    "kernelspec": {
      "display_name": "Python 3",
      "language": "python",
      "name": "python3"
    },
    "language_info": {
      "codemirror_mode": {
        "name": "ipython",
        "version": 3
      },
      "file_extension": ".py",
      "mimetype": "text/x-python",
      "name": "python",
      "nbconvert_exporter": "python",
      "pygments_lexer": "ipython3",
      "version": "3.8.2"
    }
  },
  "cells": [
    {
      "cell_type": "markdown",
      "metadata": {
        "id": "view-in-github",
        "colab_type": "text"
      },
      "source": [
        "<a href=\"https://colab.research.google.com/github/xper100/AIBootCamp-Project/blob/main/ai_sc22x_%EB%B0%95%EC%A3%BC%EC%9C%A4.ipynb\" target=\"_parent\"><img src=\"https://colab.research.google.com/assets/colab-badge.svg\" alt=\"Open In Colab\"/></a>"
      ]
    },
    {
      "cell_type": "markdown",
      "metadata": {
        "id": "M3XH_XLsy_Bn"
      },
      "source": [
        "# SC22x\n",
        " \n",
        "### 코비 브라이언트의 슛 성공 여부 예측해보기\n",
        "\n",
        "이번 스프린트 챌린지에서는 故 코비 브라이언트 선수의 NBA 필드 골 시도들이 담긴 데이터셋을 다룹니다 (1996년 11월 3일부터 2016년 4월 13일까지의 정규 시즌과 플레이오프 시즌 기록).\n",
        "\n",
        "여러분은 각 슛의 성공 여부를 슈팅의 대한 정보, 게임에 대한 정보를 통해서 예측해야 합니다. 이것은 상당히 어려운 예측입니다. 해당 데이터셋은 [NBA API]((https://github.com/swar/nba_api) 파이썬 라이브러리를 통해 수집 됐습니다. "
      ]
    },
    {
      "cell_type": "code",
      "metadata": {
        "id": "Nw3CL7TE7tNq"
      },
      "source": [
        "# Google Colab으로 수행한다면 이 셀을 먼저 실행해주세요\n",
        "%%capture\n",
        "import warnings\n",
        "warnings.filterwarnings(action='ignore')\n",
        "\n",
        "import sys\n",
        "\n",
        "if 'google.colab' in sys.modules:\n",
        "    # Install packages in Colab\n",
        "    !pip install category_encoders==2.*\n",
        "    !pip install pandas-profiling==2.*"
      ],
      "execution_count": null,
      "outputs": []
    },
    {
      "cell_type": "code",
      "metadata": {
        "id": "-Nm24pCHy_Bo"
      },
      "source": [
        "# 데이터셋을 불러옵니다\n",
        "import pandas as pd\n",
        "import matplotlib.pyplot as plt\n",
        "from sklearn.model_selection import train_test_split\n",
        "\n",
        "from category_encoders import OneHotEncoder, OrdinalEncoder, TargetEncoder\n",
        "from sklearn.ensemble import RandomForestClassifier\n",
        "from sklearn.pipeline import make_pipeline\n",
        "from sklearn.impute import SimpleImputer\n",
        "from sklearn.metrics import f1_score\n",
        "from sklearn.model_selection import GridSearchCV, RandomizedSearchCV\n",
        "from sklearn.metrics import roc_auc_score, roc_curve, accuracy_score\n",
        "\n",
        "from scipy.stats import randint, uniform\n",
        "\n",
        "url = 'https://ds-lecture-data.s3.ap-northeast-2.amazonaws.com/nba/nba_kobe_bryant.csv'\n",
        "df = pd.read_csv(url)\n",
        "\n",
        "# 데이터셋이 잘 불러졌는지 확인합니다\n",
        "assert df.shape == (30697, 19)"
      ],
      "execution_count": null,
      "outputs": []
    },
    {
      "cell_type": "markdown",
      "metadata": {
        "id": "AQg7MiVj_Uhj"
      },
      "source": [
        "# Part 1 - Data Preprocessing"
      ]
    },
    {
      "cell_type": "markdown",
      "metadata": {
        "id": "t6Jt3qjQ-zig"
      },
      "source": [
        "## 1.1 분류를 위한 베이스라인 정확도를 계산하세요\n",
        ">예측 해야하는 target은 `shot_made_flag` 입니다. 전체 데이터를 써서 baseline **accuracy score**를 계산하세요."
      ]
    },
    {
      "cell_type": "code",
      "metadata": {
        "colab": {
          "base_uri": "https://localhost:8080/",
          "height": 305
        },
        "id": "I0BDeNFG_Kee",
        "outputId": "0cbcb0f7-c3c5-498a-d70b-650f58db4b60"
      },
      "source": [
        "target =['shot_made_flag']\n",
        "df.head()"
      ],
      "execution_count": null,
      "outputs": [
        {
          "output_type": "execute_result",
          "data": {
            "text/html": [
              "<div>\n",
              "<style scoped>\n",
              "    .dataframe tbody tr th:only-of-type {\n",
              "        vertical-align: middle;\n",
              "    }\n",
              "\n",
              "    .dataframe tbody tr th {\n",
              "        vertical-align: top;\n",
              "    }\n",
              "\n",
              "    .dataframe thead th {\n",
              "        text-align: right;\n",
              "    }\n",
              "</style>\n",
              "<table border=\"1\" class=\"dataframe\">\n",
              "  <thead>\n",
              "    <tr style=\"text-align: right;\">\n",
              "      <th></th>\n",
              "      <th>game_id</th>\n",
              "      <th>game_event_id</th>\n",
              "      <th>player_name</th>\n",
              "      <th>period</th>\n",
              "      <th>minutes_remaining</th>\n",
              "      <th>seconds_remaining</th>\n",
              "      <th>action_type</th>\n",
              "      <th>shot_type</th>\n",
              "      <th>shot_zone_basic</th>\n",
              "      <th>shot_zone_area</th>\n",
              "      <th>shot_zone_range</th>\n",
              "      <th>shot_distance</th>\n",
              "      <th>loc_x</th>\n",
              "      <th>loc_y</th>\n",
              "      <th>shot_made_flag</th>\n",
              "      <th>game_date</th>\n",
              "      <th>htm</th>\n",
              "      <th>vtm</th>\n",
              "      <th>season_type</th>\n",
              "    </tr>\n",
              "  </thead>\n",
              "  <tbody>\n",
              "    <tr>\n",
              "      <th>0</th>\n",
              "      <td>29600027</td>\n",
              "      <td>102</td>\n",
              "      <td>Kobe Bryant</td>\n",
              "      <td>1</td>\n",
              "      <td>0</td>\n",
              "      <td>42</td>\n",
              "      <td>Jump Shot</td>\n",
              "      <td>2PT Field Goal</td>\n",
              "      <td>Mid-Range</td>\n",
              "      <td>Left Side Center(LC)</td>\n",
              "      <td>16-24 ft.</td>\n",
              "      <td>18</td>\n",
              "      <td>-140</td>\n",
              "      <td>116</td>\n",
              "      <td>0</td>\n",
              "      <td>1996-11-03</td>\n",
              "      <td>LAL</td>\n",
              "      <td>MIN</td>\n",
              "      <td>Regular Season</td>\n",
              "    </tr>\n",
              "    <tr>\n",
              "      <th>1</th>\n",
              "      <td>29600031</td>\n",
              "      <td>127</td>\n",
              "      <td>Kobe Bryant</td>\n",
              "      <td>2</td>\n",
              "      <td>10</td>\n",
              "      <td>8</td>\n",
              "      <td>Jump Shot</td>\n",
              "      <td>2PT Field Goal</td>\n",
              "      <td>Mid-Range</td>\n",
              "      <td>Left Side Center(LC)</td>\n",
              "      <td>16-24 ft.</td>\n",
              "      <td>16</td>\n",
              "      <td>-131</td>\n",
              "      <td>97</td>\n",
              "      <td>0</td>\n",
              "      <td>1996-11-05</td>\n",
              "      <td>NYK</td>\n",
              "      <td>LAL</td>\n",
              "      <td>Regular Season</td>\n",
              "    </tr>\n",
              "    <tr>\n",
              "      <th>2</th>\n",
              "      <td>29600044</td>\n",
              "      <td>124</td>\n",
              "      <td>Kobe Bryant</td>\n",
              "      <td>2</td>\n",
              "      <td>8</td>\n",
              "      <td>37</td>\n",
              "      <td>Jump Shot</td>\n",
              "      <td>3PT Field Goal</td>\n",
              "      <td>Mid-Range</td>\n",
              "      <td>Left Side Center(LC)</td>\n",
              "      <td>16-24 ft.</td>\n",
              "      <td>23</td>\n",
              "      <td>-142</td>\n",
              "      <td>181</td>\n",
              "      <td>1</td>\n",
              "      <td>1996-11-06</td>\n",
              "      <td>CHH</td>\n",
              "      <td>LAL</td>\n",
              "      <td>Regular Season</td>\n",
              "    </tr>\n",
              "    <tr>\n",
              "      <th>3</th>\n",
              "      <td>29600044</td>\n",
              "      <td>144</td>\n",
              "      <td>Kobe Bryant</td>\n",
              "      <td>2</td>\n",
              "      <td>6</td>\n",
              "      <td>34</td>\n",
              "      <td>Jump Shot</td>\n",
              "      <td>3PT Field Goal</td>\n",
              "      <td>Restricted Area</td>\n",
              "      <td>Center(C)</td>\n",
              "      <td>Less Than 8 ft.</td>\n",
              "      <td>0</td>\n",
              "      <td>0</td>\n",
              "      <td>0</td>\n",
              "      <td>0</td>\n",
              "      <td>1996-11-06</td>\n",
              "      <td>CHH</td>\n",
              "      <td>LAL</td>\n",
              "      <td>Regular Season</td>\n",
              "    </tr>\n",
              "    <tr>\n",
              "      <th>4</th>\n",
              "      <td>29600044</td>\n",
              "      <td>151</td>\n",
              "      <td>Kobe Bryant</td>\n",
              "      <td>2</td>\n",
              "      <td>5</td>\n",
              "      <td>27</td>\n",
              "      <td>Jump Shot</td>\n",
              "      <td>2PT Field Goal</td>\n",
              "      <td>In The Paint (Non-RA)</td>\n",
              "      <td>Center(C)</td>\n",
              "      <td>8-16 ft.</td>\n",
              "      <td>13</td>\n",
              "      <td>-10</td>\n",
              "      <td>138</td>\n",
              "      <td>1</td>\n",
              "      <td>1996-11-06</td>\n",
              "      <td>CHH</td>\n",
              "      <td>LAL</td>\n",
              "      <td>Regular Season</td>\n",
              "    </tr>\n",
              "  </tbody>\n",
              "</table>\n",
              "</div>"
            ],
            "text/plain": [
              "    game_id  game_event_id  player_name  ...  htm  vtm     season_type\n",
              "0  29600027            102  Kobe Bryant  ...  LAL  MIN  Regular Season\n",
              "1  29600031            127  Kobe Bryant  ...  NYK  LAL  Regular Season\n",
              "2  29600044            124  Kobe Bryant  ...  CHH  LAL  Regular Season\n",
              "3  29600044            144  Kobe Bryant  ...  CHH  LAL  Regular Season\n",
              "4  29600044            151  Kobe Bryant  ...  CHH  LAL  Regular Season\n",
              "\n",
              "[5 rows x 19 columns]"
            ]
          },
          "metadata": {
            "tags": []
          },
          "execution_count": 25
        }
      ]
    },
    {
      "cell_type": "code",
      "metadata": {
        "colab": {
          "base_uri": "https://localhost:8080/"
        },
        "id": "Y2YgaV-LBbKb",
        "outputId": "7b6336e1-d845-4ed4-b3bb-568d634f11fd"
      },
      "source": [
        "df.isnull().sum() # 결측치 없음"
      ],
      "execution_count": null,
      "outputs": [
        {
          "output_type": "execute_result",
          "data": {
            "text/plain": [
              "game_id              0\n",
              "game_event_id        0\n",
              "player_name          0\n",
              "period               0\n",
              "minutes_remaining    0\n",
              "seconds_remaining    0\n",
              "action_type          0\n",
              "shot_type            0\n",
              "shot_zone_basic      0\n",
              "shot_zone_area       0\n",
              "shot_zone_range      0\n",
              "shot_distance        0\n",
              "loc_x                0\n",
              "loc_y                0\n",
              "shot_made_flag       0\n",
              "game_date            0\n",
              "htm                  0\n",
              "vtm                  0\n",
              "season_type          0\n",
              "dtype: int64"
            ]
          },
          "metadata": {
            "tags": []
          },
          "execution_count": 26
        }
      ]
    },
    {
      "cell_type": "code",
      "metadata": {
        "colab": {
          "base_uri": "https://localhost:8080/"
        },
        "id": "Xlt75W7jDwj4",
        "outputId": "af15712f-83d8-498f-9ed7-9febc9d9273f"
      },
      "source": [
        "df.info()"
      ],
      "execution_count": null,
      "outputs": [
        {
          "output_type": "stream",
          "text": [
            "<class 'pandas.core.frame.DataFrame'>\n",
            "RangeIndex: 30697 entries, 0 to 30696\n",
            "Data columns (total 19 columns):\n",
            " #   Column             Non-Null Count  Dtype \n",
            "---  ------             --------------  ----- \n",
            " 0   game_id            30697 non-null  int64 \n",
            " 1   game_event_id      30697 non-null  int64 \n",
            " 2   player_name        30697 non-null  object\n",
            " 3   period             30697 non-null  int64 \n",
            " 4   minutes_remaining  30697 non-null  int64 \n",
            " 5   seconds_remaining  30697 non-null  int64 \n",
            " 6   action_type        30697 non-null  object\n",
            " 7   shot_type          30697 non-null  object\n",
            " 8   shot_zone_basic    30697 non-null  object\n",
            " 9   shot_zone_area     30697 non-null  object\n",
            " 10  shot_zone_range    30697 non-null  object\n",
            " 11  shot_distance      30697 non-null  int64 \n",
            " 12  loc_x              30697 non-null  int64 \n",
            " 13  loc_y              30697 non-null  int64 \n",
            " 14  shot_made_flag     30697 non-null  int64 \n",
            " 15  game_date          30697 non-null  object\n",
            " 16  htm                30697 non-null  object\n",
            " 17  vtm                30697 non-null  object\n",
            " 18  season_type        30697 non-null  object\n",
            "dtypes: int64(9), object(10)\n",
            "memory usage: 4.4+ MB\n"
          ],
          "name": "stdout"
        }
      ]
    },
    {
      "cell_type": "code",
      "metadata": {
        "colab": {
          "base_uri": "https://localhost:8080/"
        },
        "id": "Wfxco_MPBegl",
        "outputId": "be3c6fdd-50d5-404b-e1ba-4adb523f2396"
      },
      "source": [
        "df[target].value_counts(normalize = True)\n",
        "# 대체적으로 잘 분포됨"
      ],
      "execution_count": null,
      "outputs": [
        {
          "output_type": "execute_result",
          "data": {
            "text/plain": [
              "shot_made_flag\n",
              "0                 0.552692\n",
              "1                 0.447308\n",
              "dtype: float64"
            ]
          },
          "metadata": {
            "tags": []
          },
          "execution_count": 28
        }
      ]
    },
    {
      "cell_type": "code",
      "metadata": {
        "colab": {
          "base_uri": "https://localhost:8080/",
          "height": 78
        },
        "id": "r_oaKJ8VFYPZ",
        "outputId": "d3345945-4515-4603-9d3d-5b3d1f96b311"
      },
      "source": [
        "# Base line은 0 (Fail to make a goal)\n",
        "df[target].mode()"
      ],
      "execution_count": null,
      "outputs": [
        {
          "output_type": "execute_result",
          "data": {
            "text/html": [
              "<div>\n",
              "<style scoped>\n",
              "    .dataframe tbody tr th:only-of-type {\n",
              "        vertical-align: middle;\n",
              "    }\n",
              "\n",
              "    .dataframe tbody tr th {\n",
              "        vertical-align: top;\n",
              "    }\n",
              "\n",
              "    .dataframe thead th {\n",
              "        text-align: right;\n",
              "    }\n",
              "</style>\n",
              "<table border=\"1\" class=\"dataframe\">\n",
              "  <thead>\n",
              "    <tr style=\"text-align: right;\">\n",
              "      <th></th>\n",
              "      <th>shot_made_flag</th>\n",
              "    </tr>\n",
              "  </thead>\n",
              "  <tbody>\n",
              "    <tr>\n",
              "      <th>0</th>\n",
              "      <td>0</td>\n",
              "    </tr>\n",
              "  </tbody>\n",
              "</table>\n",
              "</div>"
            ],
            "text/plain": [
              "   shot_made_flag\n",
              "0               0"
            ]
          },
          "metadata": {
            "tags": []
          },
          "execution_count": 29
        }
      ]
    },
    {
      "cell_type": "code",
      "metadata": {
        "colab": {
          "base_uri": "https://localhost:8080/"
        },
        "id": "9NWHsJODCw3K",
        "outputId": "f93a3dde-3baa-46bd-bda7-ed4210cf7779"
      },
      "source": [
        "base_line = 0\n",
        "base_accuracy = df[target].value_counts(normalize = True)[base_line].values\n",
        "print(\"Baseline:\",base_line)\n",
        "print(\"The baseline accuracy score: \", base_accuracy)"
      ],
      "execution_count": null,
      "outputs": [
        {
          "output_type": "stream",
          "text": [
            "Baseline: 0\n",
            "The baseline accuracy score:  [0.55269245]\n"
          ],
          "name": "stdout"
        }
      ]
    },
    {
      "cell_type": "markdown",
      "metadata": {
        "id": "Dz2QHBiVy_Br"
      },
      "source": [
        "## 1.2 모델의 예측 정확도를 시험하기 위한 test set을 만드세요.\n",
        "\n",
        "> 예측 모델 시험을 위해 **2014-15** ~ **2015-16** 시즌을 `test set`으로 만듭니다. NBA 시즌은 **10월**에 시작해서 **6월**에 종료합니다. 테스트셋에 **1826개**의 데이터가 있다면 알맞게 분할한 것입니다."
      ]
    },
    {
      "cell_type": "code",
      "metadata": {
        "colab": {
          "base_uri": "https://localhost:8080/"
        },
        "id": "OPod6lBG_wTT",
        "outputId": "3f185491-2ae2-4d15-95a6-6add92b7fe83"
      },
      "source": [
        "df['game_date'] = pd.to_datetime(df['game_date'])\n",
        "\n",
        "cond_test = ( (df['game_date'] >= '2014-10-01') & (df['game_date'] <= '2016-06-30') ) \n",
        "\n",
        "test = df[cond_test]\n",
        "train = df[~cond_test]\n",
        "\n",
        "train.shape, test.shape"
      ],
      "execution_count": null,
      "outputs": [
        {
          "output_type": "execute_result",
          "data": {
            "text/plain": [
              "((28871, 19), (1826, 19))"
            ]
          },
          "metadata": {
            "tags": []
          },
          "execution_count": 31
        }
      ]
    },
    {
      "cell_type": "markdown",
      "metadata": {
        "id": "P9Nihzk6y_CF"
      },
      "source": [
        "## 1.3 새로운 feature를 만드세요\n",
        "\n",
        "> 최소 1개 이상의 새로운 feature를 만드세요. 아래의 리스트를 사용하셔도 되고 스스로의 아이디어로 만들어 주셔도 괜찮습니다.\n",
        ">- **Homecourt Advantage**: 홈 팀(`htm`)이 Los Angeles Lakers (`LAL`)인지 여부\n",
        ">- **Opponent**: LA Lakers를 상대하는 팀을 나타내는 feature\n",
        ">- **Seconds remaining in the period**: 피리어드에 남은 총 시간 (분과 초를 합칩니다)\n",
        ">- **Seconds remaining in the game**: 게임에 남은 총 시간 (피리어드와 초를 합칩니다). 농구에서 게임은 총 4개의 피리어드로 이루어져 있습니다 (각 12분)\n",
        ">- **Made previous shot**: 코비 브라이언트의 예전 슛이 성공했는지 여부\n",
        "    "
      ]
    },
    {
      "cell_type": "code",
      "metadata": {
        "id": "A0pxdFtWy_Bz"
      },
      "source": [
        "def new_feature_engineering(df):\n",
        "  # 홈 어드벤티지 여부(LAL)\n",
        "  df['Homecourt_Advantage'] = df['htm'].apply(lambda x: 1 if x == 'LAL' else 0)\n",
        "\n",
        "  # 상대팀명\n",
        "  df['Opponent'] = (df['htm'] + df['vtm']).str.replace('LAL','')\n",
        "\n",
        "  # 남은 시간(초)\n",
        "  df['Seconds_remaining_in_the_period'] = (df['minutes_remaining']/60) + df['seconds_remaining']\n",
        "  df['Seconds_remaining_in_the_game'] = ( df['period']*(12/60) ) + (df['minutes_remaining']/60) + df['seconds_remaining']\n",
        "\n",
        "  # 예전 슛 성공여부\n",
        "  df['Made_previous_shot'] = None\n",
        "  for i in range(len(df)):\n",
        "    if i == 0:\n",
        "      df['Made_previous_shot'].loc[i] = df[target].iloc[i,0]\n",
        "    else:\n",
        "      df['Made_previous_shot'].loc[i] = df[target].iloc[i-1,0]\n",
        "\n",
        "  # 불필요한 컬럼 제거\n",
        "  delet_col = ['game_date' ,'game_event_id', 'player_name','period','minutes_remaining', 'seconds_remaining', 'htm', 'vtm']\n",
        "  df.drop(delet_col, axis = 1, inplace = True)\n",
        "  return df\n",
        "\n",
        "train = pd.DataFrame(feature_engineering(train))\n",
        "test = pd.DataFrame(feature_engineering(test))"
      ],
      "execution_count": null,
      "outputs": []
    },
    {
      "cell_type": "markdown",
      "metadata": {
        "id": "eLs7pt7NFJLF"
      },
      "source": [
        "## 1.4 모델을 어떻게 검증할지 결정한 후에 데이터셋을 분할하세요. \n",
        "\n",
        ">아래의 검증 방법 중 하나를 선택한 후 목적에 맞게 데이터를 분할 하세요. 어떤 방법을 선택하는지 여부로 채점되지 않습니다 (두 방법 모두 좋은 방법입니다).\n",
        ">\n",
        ">- **Train/validate/test split을 통한 검증 (Hold-out Validation): 무작위로 80/20% 비율로 나누기**\n",
        ">- **독립적인 test set으로 Cross-validation을 통한 검증**. scikit-learn에 있는 모든 cross-validation 방법을 활용하셔도 됩니다."
      ]
    },
    {
      "cell_type": "code",
      "metadata": {
        "colab": {
          "base_uri": "https://localhost:8080/"
        },
        "id": "LJ58CceDISXR",
        "outputId": "97cb82cc-6fdd-44bb-e7a7-9fdf201596b7"
      },
      "source": [
        "X_test, y_test = test.drop(target, axis = 1), test[target]\n",
        "X_train, X_val, y_train, y_val = train_test_split(train.drop(target, axis = 1), train[target], train_size = 0.8, test_size = 0.2, random_state = 42)\n",
        "\n",
        "X_train.shape, X_val.shape, X_test.shape"
      ],
      "execution_count": null,
      "outputs": [
        {
          "output_type": "execute_result",
          "data": {
            "text/plain": [
              "((23096, 18), (5775, 18), (1826, 18))"
            ]
          },
          "metadata": {
            "tags": []
          },
          "execution_count": 33
        }
      ]
    },
    {
      "cell_type": "markdown",
      "metadata": {
        "id": "zsE82I2Z_Uhl"
      },
      "source": [
        "# Part 2 - Modeling & Evaluation"
      ]
    },
    {
      "cell_type": "markdown",
      "metadata": {
        "id": "oQ2lWlu7JPRt"
      },
      "source": [
        "## 2.1 범주형 feature를 인코딩하고 DecisionTree 혹은 RandomForest를 이용한 학습까지 완료하는 파이프라인을 구축하세요\n",
        ">Scikit-learn의 `pipeline`을 활용합니다."
      ]
    },
    {
      "cell_type": "code",
      "metadata": {
        "colab": {
          "base_uri": "https://localhost:8080/"
        },
        "id": "X2S8mUuJy_CB",
        "outputId": "7e842bff-7275-413a-dddd-abdbbb58423f"
      },
      "source": [
        "pipe = make_pipeline(\n",
        "                      TargetEncoder(smoothing = 2),\n",
        "                      RandomForestClassifier(n_estimators = 100, max_depth = 10, criterion= 'gini', n_jobs = -1)\n",
        "                      )\n",
        "\n",
        "pipe.fit(X_train, y_train)\n",
        "print(\"F1 Score:\",pipe.score(X_train, y_train) )"
      ],
      "execution_count": null,
      "outputs": [
        {
          "output_type": "stream",
          "text": [
            "F1 Score: 0.702632490474541\n"
          ],
          "name": "stdout"
        }
      ]
    },
    {
      "cell_type": "markdown",
      "metadata": {
        "id": "8kJXxFpty_CH"
      },
      "source": [
        "## 2.2 검증셋을 사용해서 모델의 예측 정확도(accuracy score)를 계산하세요.\n",
        ">1.4에서 Cross-validation으로 진행한 경우는 그냥 cv score를 작성하세요."
      ]
    },
    {
      "cell_type": "code",
      "metadata": {
        "colab": {
          "base_uri": "https://localhost:8080/"
        },
        "id": "7560JKvxy_CJ",
        "outputId": "fa5197aa-28cb-418a-cd81-4686370596cf"
      },
      "source": [
        "y_pred_val = pipe.predict(X_val)\n",
        "print(\"Accuracy Score (Validation):\",accuracy_score(y_pred_val, y_val))"
      ],
      "execution_count": null,
      "outputs": [
        {
          "output_type": "stream",
          "text": [
            "Accuracy Score (Validation): 0.6938528138528138\n"
          ],
          "name": "stdout"
        }
      ]
    },
    {
      "cell_type": "markdown",
      "metadata": {
        "id": "YvyYY9tfy_CL"
      },
      "source": [
        "## 2.3 테스트셋을 사용해서 모델의 예측 정확도(accuracy score)를 계산하세요"
      ]
    },
    {
      "cell_type": "code",
      "metadata": {
        "colab": {
          "base_uri": "https://localhost:8080/"
        },
        "id": "wjV2dfl6y_CL",
        "outputId": "5c2f6767-0794-4919-9c80-669f6b51ac76"
      },
      "source": [
        "y_pred_test = pipe.predict(X_test)\n",
        "print(\"Accuracy Score (Validation):\",accuracy_score(y_pred_test, y_test))"
      ],
      "execution_count": null,
      "outputs": [
        {
          "output_type": "stream",
          "text": [
            "Accuracy Score (Validation): 0.6746987951807228\n"
          ],
          "name": "stdout"
        }
      ]
    },
    {
      "cell_type": "markdown",
      "metadata": {
        "id": "xGL5stLvJCn1"
      },
      "source": [
        "# Part 3 - Confusion Matrix\n",
        "### 다음 confusion matrix를 사용해서 accuracy, precision, recall을 계산하세요. 아래의 테이블이 이진분류 모델의 confusion matrix라고 생각하고 계산하세요.\n",
        "\n",
        "<table>\n",
        "  <tr>\n",
        "    <td colspan=\"2\" rowspan=\"2\"></td>\n",
        "    <td colspan=\"2\" align='center'><b>Predicted</b></td>\n",
        "  </tr>\n",
        "  <tr>\n",
        "    <td>Negative</td>\n",
        "    <td>Positive</td>\n",
        "  </tr>\n",
        "  <tr>\n",
        "      <td rowspan=\"2\"><b>Actual</b></td>\n",
        "    <td>Negative</td>\n",
        "    <td style=\"border: solid\" align='center'>85</td>\n",
        "    <td style=\"border: solid\" align='center'>58</td>\n",
        "  </tr>\n",
        "  <tr>\n",
        "    <td>Positive</td>\n",
        "    <td style=\"border: solid\" align='center'>8</td>\n",
        "    <td style=\"border: solid\" align='center'> 36</td>\n",
        "  </tr>\n",
        "</table>"
      ]
    },
    {
      "cell_type": "markdown",
      "metadata": {
        "id": "nEvt7NkUJNao"
      },
      "source": [
        "### a) Accuracy score를 계산하세요"
      ]
    },
    {
      "cell_type": "code",
      "metadata": {
        "colab": {
          "base_uri": "https://localhost:8080/"
        },
        "id": "FFszS2A5JJmv",
        "outputId": "f2df6b6e-22a3-4646-a6a5-dd2dced9e38a"
      },
      "source": [
        "tn = 85\n",
        "tp = 36\n",
        "fn = 8\n",
        "fp = 58 \n",
        "total = (tn+tp+fn+fp)\n",
        "accuracy = (tp+tn)/total\n",
        "round(accuracy,4)"
      ],
      "execution_count": null,
      "outputs": [
        {
          "output_type": "execute_result",
          "data": {
            "text/plain": [
              "0.6471"
            ]
          },
          "metadata": {
            "tags": []
          },
          "execution_count": 37
        }
      ]
    },
    {
      "cell_type": "markdown",
      "metadata": {
        "id": "XjHTmk8sJO4v"
      },
      "source": [
        "### b) Precision score를 계산하세요 "
      ]
    },
    {
      "cell_type": "code",
      "metadata": {
        "colab": {
          "base_uri": "https://localhost:8080/"
        },
        "id": "7qX1gbcMJQS_",
        "outputId": "1af16b30-7863-4d73-fa6d-9774aa6af29c"
      },
      "source": [
        "predicted_positive  = tp + fp\n",
        "precision = tp/predicted_positive\n",
        "round(precision,4)"
      ],
      "execution_count": null,
      "outputs": [
        {
          "output_type": "execute_result",
          "data": {
            "text/plain": [
              "0.383"
            ]
          },
          "metadata": {
            "tags": []
          },
          "execution_count": 38
        }
      ]
    },
    {
      "cell_type": "markdown",
      "metadata": {
        "id": "pFug3ZKaJQ7A"
      },
      "source": [
        "### c) Recall score를 계산하세요"
      ]
    },
    {
      "cell_type": "code",
      "metadata": {
        "colab": {
          "base_uri": "https://localhost:8080/"
        },
        "id": "yihaxU_a_Uho",
        "outputId": "e15b2418-49fe-4707-d15a-343ceaf80dc0"
      },
      "source": [
        "real_positive = tp + fn\n",
        "recall = tp / real_positive\n",
        "round(recall,4)"
      ],
      "execution_count": null,
      "outputs": [
        {
          "output_type": "execute_result",
          "data": {
            "text/plain": [
              "0.8182"
            ]
          },
          "metadata": {
            "tags": []
          },
          "execution_count": 39
        }
      ]
    },
    {
      "cell_type": "markdown",
      "metadata": {
        "id": "Azt55g3aCqMj"
      },
      "source": [
        "# Advanced Goals\n",
        ">**3점**을 획득하기 위해선 아래 주어진 **모든 조건**을 만족해야합니다. \n",
        "- **4개** 이상의 새로운 feature들을 만드세요. 1.3에 있는 feature들을 포함해서 만드셔도 괜찮습니다.\n",
        "- `feature들`과 `target`의 관계를 보여주는 시각화를 **2개** 이상 해주세요.\n",
        "- 최소 **3개**의 하이퍼 파라미터를 사용해서 가능한 조합이 10개 이상이 되도록해서 최적화 하세요.`RandomizedSearchCV`나 `GridSearchCV`를 사용하거나 임의로 조합을 만들어도 상관 없습니다.\n",
        "- `feature importance`를 계산하고 시각화 해주세요."
      ]
    },
    {
      "cell_type": "markdown",
      "metadata": {
        "id": "4Ht3he1QbSno"
      },
      "source": [
        "* 특성공학"
      ]
    },
    {
      "cell_type": "code",
      "metadata": {
        "id": "2vl6nvij_Uho"
      },
      "source": [
        "df_new = pd.read_csv(url)\n",
        "\n",
        "def new_feature_engineering(df):\n",
        "  # 홈 어드벤티지 여부(LAL)\n",
        "  df['Homecourt_Advantage'] = df['htm'].apply(lambda x: 1 if x == 'LAL' else 0)\n",
        "\n",
        "  # 상대팀명\n",
        "  df['Opponent'] = (df['htm'] + df['vtm']).str.replace('LAL','')\n",
        "\n",
        "  # 남은 시간(초)\n",
        "  df['Seconds_remaining_in_the_period'] = (df['minutes_remaining']/60) + df['seconds_remaining']\n",
        "  df['Seconds_remaining_in_the_game'] = ( df['period']*(12/60) ) + (df['minutes_remaining']/60) + df['seconds_remaining']\n",
        "\n",
        "  # 예전 슛 성공여부\n",
        "  df['Made_previous_shot'] = None\n",
        "  for i in range(len(df)):\n",
        "    if i == 0:\n",
        "      df['Made_previous_shot'].loc[i] = df[target].iloc[i,0]\n",
        "    else:\n",
        "      df['Made_previous_shot'].loc[i] = df[target].iloc[i-1,0]\n",
        "\n",
        "  # 불필요한 컬럼 제거\n",
        "  delet_col = ['game_date', 'game_id', 'game_event_id', 'player_name','period','minutes_remaining', 'seconds_remaining', 'htm', 'vtm']\n",
        "  df.drop(delet_col, axis = 1, inplace = True)\n",
        "  return df\n",
        "\n"
      ],
      "execution_count": null,
      "outputs": []
    },
    {
      "cell_type": "code",
      "metadata": {
        "id": "x_tpK8_XcjXp"
      },
      "source": [
        "df_new['game_date'] = pd.to_datetime(df_new['game_date'])\n",
        "\n",
        "cond_test = ( (df_new['game_date'] >= '2014-10-01') & (df_new['game_date'] <= '2016-06-30') ) \n",
        "\n",
        "test = df_new[cond_test]\n",
        "train = df_new[~cond_test]"
      ],
      "execution_count": null,
      "outputs": []
    },
    {
      "cell_type": "code",
      "metadata": {
        "colab": {
          "base_uri": "https://localhost:8080/"
        },
        "id": "jWAXIr5pcj7D",
        "outputId": "9082e76a-0f14-44e2-869f-f46d18eac9fc"
      },
      "source": [
        "train = new_feature_engineering(train)\n",
        "test = new_feature_engineering(test)\n",
        "\n",
        "train.shape, test.shape"
      ],
      "execution_count": null,
      "outputs": [
        {
          "output_type": "execute_result",
          "data": {
            "text/plain": [
              "((28871, 15), (1826, 15))"
            ]
          },
          "metadata": {
            "tags": []
          },
          "execution_count": 67
        }
      ]
    },
    {
      "cell_type": "code",
      "metadata": {
        "colab": {
          "base_uri": "https://localhost:8080/",
          "height": 305
        },
        "id": "lqPk7mgfhAuZ",
        "outputId": "a0c7a0a4-00e5-4a0d-bd1e-159f1c01a277"
      },
      "source": [
        "train.head()"
      ],
      "execution_count": null,
      "outputs": [
        {
          "output_type": "execute_result",
          "data": {
            "text/html": [
              "<div>\n",
              "<style scoped>\n",
              "    .dataframe tbody tr th:only-of-type {\n",
              "        vertical-align: middle;\n",
              "    }\n",
              "\n",
              "    .dataframe tbody tr th {\n",
              "        vertical-align: top;\n",
              "    }\n",
              "\n",
              "    .dataframe thead th {\n",
              "        text-align: right;\n",
              "    }\n",
              "</style>\n",
              "<table border=\"1\" class=\"dataframe\">\n",
              "  <thead>\n",
              "    <tr style=\"text-align: right;\">\n",
              "      <th></th>\n",
              "      <th>action_type</th>\n",
              "      <th>shot_type</th>\n",
              "      <th>shot_zone_basic</th>\n",
              "      <th>shot_zone_area</th>\n",
              "      <th>shot_zone_range</th>\n",
              "      <th>shot_distance</th>\n",
              "      <th>loc_x</th>\n",
              "      <th>loc_y</th>\n",
              "      <th>shot_made_flag</th>\n",
              "      <th>season_type</th>\n",
              "      <th>Homecourt_Advantage</th>\n",
              "      <th>Opponent</th>\n",
              "      <th>Seconds_remaining_in_the_period</th>\n",
              "      <th>Seconds_remaining_in_the_game</th>\n",
              "      <th>Made_previous_shot</th>\n",
              "    </tr>\n",
              "  </thead>\n",
              "  <tbody>\n",
              "    <tr>\n",
              "      <th>0</th>\n",
              "      <td>Jump Shot</td>\n",
              "      <td>2PT Field Goal</td>\n",
              "      <td>Mid-Range</td>\n",
              "      <td>Left Side Center(LC)</td>\n",
              "      <td>16-24 ft.</td>\n",
              "      <td>18</td>\n",
              "      <td>-140</td>\n",
              "      <td>116</td>\n",
              "      <td>0</td>\n",
              "      <td>Regular Season</td>\n",
              "      <td>1</td>\n",
              "      <td>MIN</td>\n",
              "      <td>42.000000</td>\n",
              "      <td>42.200000</td>\n",
              "      <td>0</td>\n",
              "    </tr>\n",
              "    <tr>\n",
              "      <th>1</th>\n",
              "      <td>Jump Shot</td>\n",
              "      <td>2PT Field Goal</td>\n",
              "      <td>Mid-Range</td>\n",
              "      <td>Left Side Center(LC)</td>\n",
              "      <td>16-24 ft.</td>\n",
              "      <td>16</td>\n",
              "      <td>-131</td>\n",
              "      <td>97</td>\n",
              "      <td>0</td>\n",
              "      <td>Regular Season</td>\n",
              "      <td>0</td>\n",
              "      <td>NYK</td>\n",
              "      <td>8.166667</td>\n",
              "      <td>8.566667</td>\n",
              "      <td>0</td>\n",
              "    </tr>\n",
              "    <tr>\n",
              "      <th>2</th>\n",
              "      <td>Jump Shot</td>\n",
              "      <td>3PT Field Goal</td>\n",
              "      <td>Mid-Range</td>\n",
              "      <td>Left Side Center(LC)</td>\n",
              "      <td>16-24 ft.</td>\n",
              "      <td>23</td>\n",
              "      <td>-142</td>\n",
              "      <td>181</td>\n",
              "      <td>1</td>\n",
              "      <td>Regular Season</td>\n",
              "      <td>0</td>\n",
              "      <td>CHH</td>\n",
              "      <td>37.133333</td>\n",
              "      <td>37.533333</td>\n",
              "      <td>0</td>\n",
              "    </tr>\n",
              "    <tr>\n",
              "      <th>3</th>\n",
              "      <td>Jump Shot</td>\n",
              "      <td>3PT Field Goal</td>\n",
              "      <td>Restricted Area</td>\n",
              "      <td>Center(C)</td>\n",
              "      <td>Less Than 8 ft.</td>\n",
              "      <td>0</td>\n",
              "      <td>0</td>\n",
              "      <td>0</td>\n",
              "      <td>0</td>\n",
              "      <td>Regular Season</td>\n",
              "      <td>0</td>\n",
              "      <td>CHH</td>\n",
              "      <td>34.100000</td>\n",
              "      <td>34.500000</td>\n",
              "      <td>1</td>\n",
              "    </tr>\n",
              "    <tr>\n",
              "      <th>4</th>\n",
              "      <td>Jump Shot</td>\n",
              "      <td>2PT Field Goal</td>\n",
              "      <td>In The Paint (Non-RA)</td>\n",
              "      <td>Center(C)</td>\n",
              "      <td>8-16 ft.</td>\n",
              "      <td>13</td>\n",
              "      <td>-10</td>\n",
              "      <td>138</td>\n",
              "      <td>1</td>\n",
              "      <td>Regular Season</td>\n",
              "      <td>0</td>\n",
              "      <td>CHH</td>\n",
              "      <td>27.083333</td>\n",
              "      <td>27.483333</td>\n",
              "      <td>0</td>\n",
              "    </tr>\n",
              "  </tbody>\n",
              "</table>\n",
              "</div>"
            ],
            "text/plain": [
              "  action_type       shot_type  ... Seconds_remaining_in_the_game Made_previous_shot\n",
              "0   Jump Shot  2PT Field Goal  ...                     42.200000                  0\n",
              "1   Jump Shot  2PT Field Goal  ...                      8.566667                  0\n",
              "2   Jump Shot  3PT Field Goal  ...                     37.533333                  0\n",
              "3   Jump Shot  3PT Field Goal  ...                     34.500000                  1\n",
              "4   Jump Shot  2PT Field Goal  ...                     27.483333                  0\n",
              "\n",
              "[5 rows x 15 columns]"
            ]
          },
          "metadata": {
            "tags": []
          },
          "execution_count": 90
        }
      ]
    },
    {
      "cell_type": "markdown",
      "metadata": {
        "id": "dS_lp8-BcWuW"
      },
      "source": [
        "* 시각화"
      ]
    },
    {
      "cell_type": "code",
      "metadata": {
        "colab": {
          "base_uri": "https://localhost:8080/",
          "height": 600
        },
        "id": "X54HvsJag2kF",
        "outputId": "ada70c63-82e4-4161-f484-73d54539d0aa"
      },
      "source": [
        "import seaborn as sns\n",
        "fig, axes = plt.subplots(2,1, figsize = (12,8))\n",
        "\n",
        "sns.histplot(data=train, x=\"Seconds_remaining_in_the_game\", y=\"shot_zone_range\", hue = 'shot_made_flag', ax = axes[0])\n",
        "axes[0].set_title(\"Shot Distance vs Shot Zone Range\")\n",
        "fig.tight_layout()\n",
        "\n",
        "sns.histplot(data=train, x=\"shot_zone_basic\", y=\"season_type\", hue = 'shot_made_flag', ax = axes[1])\n",
        "axes[1].set_title(\"Shot Zone Basic vs Season Type\")\n",
        "plt.show()"
      ],
      "execution_count": null,
      "outputs": [
        {
          "output_type": "display_data",
          "data": {
            "image/png": "[encoded data removed]",
            "text/plain": [
              "<Figure size 864x576 with 2 Axes>"
            ]
          },
          "metadata": {
            "tags": [],
            "needs_background": "light"
          }
        }
      ]
    },
    {
      "cell_type": "code",
      "metadata": {
        "colab": {
          "base_uri": "https://localhost:8080/",
          "height": 565
        },
        "id": "hc96if7flJTN",
        "outputId": "2cc27e9a-4253-4e6a-e9e7-e456c356253f"
      },
      "source": [
        "col = ['Seconds_remaining_in_the_game', 'shot_distance', 'Seconds_remaining_in_the_period', 'shot_made_flag']\n",
        "sns.pairplot(train[col], hue=\"shot_made_flag\")"
      ],
      "execution_count": null,
      "outputs": [
        {
          "output_type": "execute_result",
          "data": {
            "text/plain": [
              "<seaborn.axisgrid.PairGrid at 0x7f0e4c18ab50>"
            ]
          },
          "metadata": {
            "tags": []
          },
          "execution_count": 120
        },
        {
          "output_type": "display_data",
          "data": {
            "image/png": "[encoded data removed]",
            "text/plain": [
              "<Figure size 626.75x540 with 12 Axes>"
            ]
          },
          "metadata": {
            "tags": [],
            "needs_background": "light"
          }
        }
      ]
    },
    {
      "cell_type": "markdown",
      "metadata": {
        "id": "NjUVDEVKbNy8"
      },
      "source": [
        "* 데이터 나누기"
      ]
    },
    {
      "cell_type": "code",
      "metadata": {
        "colab": {
          "base_uri": "https://localhost:8080/"
        },
        "id": "7T59cEd1a_WG",
        "outputId": "82b27eaa-f1cd-4542-8565-7cb3f669ff96"
      },
      "source": [
        "X_test, y_test = test.drop(target, axis = 1), test[target]\n",
        "X_train, X_val, y_train, y_val = train_test_split(train.drop(target, axis = 1), train[target], train_size = 0.8, test_size = 0.2, random_state = 42)\n",
        "\n",
        "X_train.shape, X_val.shape, X_test.shape"
      ],
      "execution_count": null,
      "outputs": [
        {
          "output_type": "execute_result",
          "data": {
            "text/plain": [
              "((23096, 14), (5775, 14), (1826, 14))"
            ]
          },
          "metadata": {
            "tags": []
          },
          "execution_count": 75
        }
      ]
    },
    {
      "cell_type": "markdown",
      "metadata": {
        "id": "0psIhkQtbQD7"
      },
      "source": [
        "* 모델링"
      ]
    },
    {
      "cell_type": "code",
      "metadata": {
        "colab": {
          "base_uri": "https://localhost:8080/"
        },
        "id": "wJzQBUwXa_ma",
        "outputId": "9b18c7ce-7170-414f-de43-831fe451e462"
      },
      "source": [
        "pipe_rf = make_pipeline(TargetEncoder(smoothing = 2),\n",
        "\n",
        "                     RandomForestClassifier(n_estimators = 100, n_jobs = -1, random_state=42)\n",
        "                     )\n",
        "param_dist = {\n",
        "              \"randomforestclassifier__max_depth\": randint(10,40),\n",
        "              'randomforestclassifier__max_features': uniform(0,1),\n",
        "              # Sample갯수의 [0.001%, 0.1%]\n",
        "              'randomforestclassifier__min_samples_split': randint(int(len(X_train)*0.0001),int(len(X_train)*0.001)),\n",
        "              # Sample갯수의 [0.001%, 0.1%]\n",
        "              'randomforestclassifier__min_samples_leaf': randint(int(len(X_train)*0.0001), int(len(X_train)*0.001)),\n",
        "\n",
        "              }\n",
        "              \n",
        "random_grid = RandomizedSearchCV(pipe_rf,\n",
        "                                 param_distributions = param_dist,\n",
        "                                 n_iter = 5,\n",
        "                                 scoring = 'f1',\n",
        "                                 cv = 3,\n",
        "                                 verbose = 1,\n",
        "                                 n_jobs = -1\n",
        "                                 )\n",
        "\n",
        "random_grid.fit(X_train, y_train)\n",
        "print(\"Best parameter:\",random_grid.best_params_)\n",
        "print('f1 score:: ', random_grid.best_score_)"
      ],
      "execution_count": null,
      "outputs": [
        {
          "output_type": "stream",
          "text": [
            "Fitting 3 folds for each of 5 candidates, totalling 15 fits\n"
          ],
          "name": "stdout"
        },
        {
          "output_type": "stream",
          "text": [
            "[Parallel(n_jobs=-1)]: Using backend LokyBackend with 2 concurrent workers.\n",
            "[Parallel(n_jobs=-1)]: Done  15 out of  15 | elapsed:   33.8s finished\n"
          ],
          "name": "stderr"
        },
        {
          "output_type": "stream",
          "text": [
            "Best parameter: {'randomforestclassifier__max_depth': 31, 'randomforestclassifier__max_features': 0.46806069226334823, 'randomforestclassifier__min_samples_leaf': 21, 'randomforestclassifier__min_samples_split': 3}\n",
            "f1 score::  0.5603328951973577\n"
          ],
          "name": "stdout"
        }
      ]
    },
    {
      "cell_type": "code",
      "metadata": {
        "colab": {
          "base_uri": "https://localhost:8080/",
          "height": 472
        },
        "id": "OR2rfwNjc2gg",
        "outputId": "81e7fb55-8c89-43f7-9bcc-5d04856b46d8"
      },
      "source": [
        "import matplotlib.pyplot as plt\n",
        "# Set the model with the best parameters obatined by Grid Search\n",
        "best_rf_mod = random_grid.best_estimator_\n",
        "# importance score\n",
        "rf_mod = best_rf_mod.named_steps['randomforestclassifier']\n",
        "importances = pd.Series(rf_mod.feature_importances_, X_train.columns)\n",
        "\n",
        "n = 15\n",
        "plt.figure(figsize=(10,n/2))\n",
        "plt.title(f'Top {n} features with Target Encoder')\n",
        "importances.sort_values()[-n:].plot.barh();"
      ],
      "execution_count": null,
      "outputs": [
        {
          "output_type": "display_data",
          "data": {
            "image/png": "[encoded data removed]",
            "text/plain": [
              "<Figure size 720x540 with 1 Axes>"
            ]
          },
          "metadata": {
            "tags": [],
            "needs_background": "light"
          }
        }
      ]
    }
  ]
}